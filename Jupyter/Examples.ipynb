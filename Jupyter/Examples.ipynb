{
 "cells": [
  {
   "cell_type": "code",
   "execution_count": 133,
   "metadata": {},
   "outputs": [],
   "source": [
    "import handcalcs.render\n",
    "from math import tan, sqrt, sin, radians\n",
    "from scipy.integrate import quad"
   ]
  },
  {
   "cell_type": "code",
   "execution_count": 134,
   "metadata": {},
   "outputs": [],
   "source": [
    "a = 6\n",
    "b = 7\n",
    "c = -8"
   ]
  },
  {
   "cell_type": "code",
   "execution_count": 135,
   "metadata": {},
   "outputs": [
    {
     "data": {
      "text/latex": [
       "\\[\n",
       "\\begin{aligned}\n",
       "r &= \\frac{ \\left( - b \\right) + \\sqrt { \\left( b \\right) ^{ 2 } - 4 \\cdot a \\cdot c } }{ 2 \\cdot a }  = \\frac{ \\left( - 7 \\right) + \\sqrt { \\left( 7 \\right) ^{ 2 } - 4 \\cdot 6 \\cdot -8 } }{ 2 \\cdot 6 } &= 7.103 \\times 10 ^ {-1 }  \n",
       "\\end{aligned}\n",
       "\\]"
      ],
      "text/plain": [
       "<IPython.core.display.Latex object>"
      ]
     },
     "metadata": {},
     "output_type": "display_data"
    }
   ],
   "source": [
    "%%render \n",
    "r = (-b + sqrt(b ** 2 - 4 * a * c)) / (2 * a)"
   ]
  },
  {
   "cell_type": "code",
   "execution_count": 157,
   "metadata": {},
   "outputs": [
    {
     "data": {
      "text/latex": [
       "\\[\n",
       "\\begin{aligned}\n",
       "a &= 6 \\; \n",
       " &b &= 7 \\; \n",
       " &c &= -8 \\; \n",
       "\\\\[10pt]\n",
       " m &= 0 \\; \n",
       " &p_{v_{a_{d_{F}}}} &= 54 \\; \n",
       " &q &= 4 \\; \n",
       "\\\\[10pt]\n",
       " r &= 3 \\; \n",
       " &s &= 2 \\; \n",
       " &t &= 1 \\; \n",
       "\\\\[10pt]\\end{aligned}\n",
       "\\]"
      ],
      "text/plain": [
       "<IPython.core.display.Latex object>"
      ]
     },
     "metadata": {},
     "output_type": "display_data"
    }
   ],
   "source": [
    "%%render param\n",
    "a = 6\n",
    "b = 7\n",
    "c = -8\n",
    "m=0\n",
    "p_v_a_d_F= 54\n",
    "q = 4\n",
    "r = 3\n",
    "s = 2\n",
    "t = 1"
   ]
  },
  {
   "cell_type": "code",
   "execution_count": 163,
   "metadata": {},
   "outputs": [
    {
     "data": {
      "text/latex": [
       "\\[\n",
       "\\begin{aligned}\n",
       "\\mathrm{mc} &= 0 \\; \n",
       "\\\\[10pt]\n",
       "e &= \\left( \\mathrm{mc} \\right) ^{ 2 } \\; \n",
       "\\end{aligned}\n",
       "\\]"
      ],
      "text/plain": [
       "<IPython.core.display.Latex object>"
      ]
     },
     "metadata": {},
     "output_type": "display_data"
    }
   ],
   "source": [
    "%%render symbolic\n",
    "mc=0\n",
    "e= mc**2"
   ]
  },
  {
   "cell_type": "code",
   "execution_count": 137,
   "metadata": {},
   "outputs": [
    {
     "data": {
      "text/latex": [
       "\\[\n",
       "\\begin{aligned}\n",
       "x &= \\left( b \\right) ^{ 2 } - 4 \\cdot a \\cdot c  = \\left( 7 \\right) ^{ 2 } - 4 \\cdot 6 \\cdot -8 &= 241  \n",
       "\\\\[10pt]\n",
       "d &= \\sqrt { x }  = \\sqrt { 241 } &= 15.524  \n",
       "\\\\[10pt]\n",
       "\\mathrm{r1} &= \\frac{ \\left( - b \\right) + d }{ 2 \\cdot a }  = \\frac{ \\left( - 7 \\right) + 15.524 }{ 2 \\cdot 6 } &= 7.103 \\times 10 ^ {-1 }  \n",
       "\\\\[10pt]\n",
       "\\mathrm{r2} &= \\frac{ \\left( - b \\right) - d }{ 2 \\cdot a }  = \\frac{ \\left( - 7 \\right) - 15.524 }{ 2 \\cdot 6 } &= -1.877  \n",
       "\\end{aligned}\n",
       "\\]"
      ],
      "text/plain": [
       "<IPython.core.display.Latex object>"
      ]
     },
     "metadata": {},
     "output_type": "display_data"
    }
   ],
   "source": [
    "%%render short\n",
    "\n",
    "x = b ** 2 - 4 * a * c \n",
    "d = sqrt(x) \n",
    "r1 = (-b + d) / (2 * a)  \n",
    "r2 = (-b - d) / (2 * a)"
   ]
  },
  {
   "cell_type": "code",
   "execution_count": 138,
   "metadata": {},
   "outputs": [
    {
     "data": {
      "text/latex": [
       "\\[\n",
       "\\begin{aligned}\n",
       "x &= \\left( b \\right) ^{ 2 } - 4 \\cdot a \\cdot c \\\\&= \\left( 7 \\right) ^{ 2 } - 4 \\cdot 6 \\cdot -8 \\\\&= 241  \\\\\n",
       "\\\\[10pt]\n",
       "d &= \\sqrt { x } \\\\&= \\sqrt { 241 } \\\\&= 15.524  \\\\\n",
       "\\\\[10pt]\n",
       "\\mathrm{r1} &= \\frac{ \\left( - b \\right) + d }{ 2 \\cdot a } \\\\&= \\frac{ \\left( - 7 \\right) + 15.524 }{ 2 \\cdot 6 } \\\\&= 7.103 \\times 10 ^ {-1 }  \\\\\n",
       "\\\\[10pt]\n",
       "\\mathrm{r2} &= \\frac{ \\left( - b \\right) - d }{ 2 \\cdot a } \\\\&= \\frac{ \\left( - 7 \\right) - 15.524 }{ 2 \\cdot 6 } \\\\&= -1.877  \\\\\n",
       "\\\\[10pt]\n",
       "\\mathrm{r3} &= \\left( \\frac{ \\left( - b \\right) - d }{ 2 \\cdot a } \\right) \\\\&= \\left( \\frac{ \\left( - 7 \\right) - 15.524 }{ 2 \\cdot 6 } \\right) \\\\&= -1.877  \\\\\n",
       "\\end{aligned}\n",
       "\\]"
      ],
      "text/plain": [
       "<IPython.core.display.Latex object>"
      ]
     },
     "metadata": {},
     "output_type": "display_data"
    }
   ],
   "source": [
    "%%render long\n",
    "\n",
    "x = b ** 2 - 4 * a * c \n",
    "d = sqrt(x) \n",
    "r1 = (-b + d) / (2 * a)  \n",
    "r2 = (-b - d) / (2 * a)\n",
    "r3 = ((-b - d) / (2 * a))"
   ]
  },
  {
   "cell_type": "code",
   "execution_count": 142,
   "metadata": {},
   "outputs": [],
   "source": [
    "def f(x):\n",
    "    return x**3/2+5*x**2+3*x"
   ]
  },
  {
   "cell_type": "code",
   "execution_count": 149,
   "metadata": {},
   "outputs": [
    {
     "data": {
      "text/latex": [
       "\\[\n",
       "\\begin{aligned}\n",
       "a &= 2 \\; \n",
       "\\\\[10pt]\n",
       "b &= 6 \\; \n",
       "\\\\[10pt]\n",
       "z &= \\int_{ a } ^ { b } \\frac{ \\left( x \\right) ^{ 3 } }{ 2 } + 5 \\cdot \\left( x \\right) ^{ 2 } + 3 \\cdot x \\; dx  = \\int_{ 2 } ^ { 6 } \\frac{ \\left( 241 \\right) ^{ 3 } }{ 2 } + 5 \\cdot \\left( 241 \\right) ^{ 2 } + 3 \\cdot 241 \\; dx &= [554.667,\\ 0.0]  \n",
       "\\\\[10pt]\n",
       "z &= [554.667,\\ 0.0] \\; \n",
       "\\end{aligned}\n",
       "\\]"
      ],
      "text/plain": [
       "<IPython.core.display.Latex object>"
      ]
     },
     "metadata": {},
     "output_type": "display_data"
    }
   ],
   "source": [
    "%%render\n",
    "a=2\n",
    "b=6\n",
    "z=quad(f, a, b)\n",
    "z=quad(f,a,b)"
   ]
  },
  {
   "cell_type": "code",
   "execution_count": 150,
   "metadata": {},
   "outputs": [
    {
     "data": {
      "text/latex": [
       "\\[\n",
       "\\begin{aligned}\n",
       "a &= 0.001 \\; \n",
       "\\\\[10pt]\n",
       "b &= 345 \\; \n",
       "\\end{aligned}\n",
       "\\]"
      ],
      "text/plain": [
       "<IPython.core.display.Latex object>"
      ]
     },
     "metadata": {},
     "output_type": "display_data"
    }
   ],
   "source": [
    "%%render\n",
    "a = 1e-3\n",
    "b = 345"
   ]
  },
  {
   "cell_type": "code",
   "execution_count": 153,
   "metadata": {},
   "outputs": [
    {
     "data": {
      "text/latex": [
       "\\[\n",
       "\\begin{aligned}\n",
       "d'_{c} &= a \\cdot \\frac{ b }{ 2 }  = 0.001 \\cdot \\frac{ 345 }{ 2 } &= 1.725 \\times 10 ^ {-1 }  \n",
       "\\\\[10pt]\n",
       "f'''_{k} &= \\left( d'_{c} \\right) ^{ 2 }  = \\left( 1.725 \\times 10 ^ {-1 } \\right) ^{ 2 } &= 2.976 \\times 10 ^ {-2 }  \n",
       "\\end{aligned}\n",
       "\\]"
      ],
      "text/plain": [
       "<IPython.core.display.Latex object>"
      ]
     },
     "metadata": {},
     "output_type": "display_data"
    }
   ],
   "source": [
    "%%render\n",
    "d_prime_c = a * b / 2\n",
    "f_prime_prime_prime_k = d_prime_c **2"
   ]
  },
  {
   "cell_type": "code",
   "execution_count": null,
   "metadata": {},
   "outputs": [],
   "source": []
  },
  {
   "cell_type": "code",
   "execution_count": null,
   "metadata": {},
   "outputs": [],
   "source": []
  }
 ],
 "metadata": {
  "kernelspec": {
   "display_name": "Python 3",
   "language": "python",
   "name": "python3"
  },
  "language_info": {
   "codemirror_mode": {
    "name": "ipython",
    "version": 3
   },
   "file_extension": ".py",
   "mimetype": "text/x-python",
   "name": "python",
   "nbconvert_exporter": "python",
   "pygments_lexer": "ipython3",
   "version": "3.8.8"
  }
 },
 "nbformat": 4,
 "nbformat_minor": 4
}
