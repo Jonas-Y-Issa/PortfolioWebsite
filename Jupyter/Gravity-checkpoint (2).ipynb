{
 "cells": [
  {
   "cell_type": "code",
   "execution_count": 1,
   "metadata": {
    "jupyter": {
     "source_hidden": true
    }
   },
   "outputs": [],
   "source": [
    "#import chart_studio.plotly as py\n",
    "#import plotly.graph_objects as go\n",
    "#import plotly.io as pio\n",
    "#from plotly.graph_objs import *\n",
    "#from plotly.offline import download_plotlyjs, init_notebook_mode, plot, iplot\n",
    "\n",
    "#import matplotlib.pyplot as plt\n",
    "\n",
    "from IPython.display import display, HTML\n",
    "from IPython.core.magic import register_cell_magic\n",
    "from ipywidgets import interact, interactive, Layout\n",
    "import ipywidgets as widgets\n",
    "\n",
    "import handcalcs.render\n",
    "from handcalcs.decorator import handcalc\n",
    "\n",
    "from math import sqrt, sin, tan, cos, radians\n",
    "#from scipy.integrate import quad\n",
    "#import numpy as np\n",
    "#import pandas as pd\n",
    "\n",
    "import sympy as sp\n",
    "import time\n",
    "import pylab as pl\n",
    "\n",
    "import forallpeople as si\n",
    "si.environment('structural', top_level=True)"
   ]
  },
  {
   "cell_type": "code",
   "execution_count": 2,
   "metadata": {
    "jupyter": {
     "source_hidden": true
    }
   },
   "outputs": [
    {
     "data": {
      "text/html": [
       "<style>\n",
       ".widget-vbox {\n",
       "    flex-direction: row;\n",
       "    display: block;\n",
       "}\n",
       "\n",
       ".widget-inline-hbox {\n",
       "    display: initial;\n",
       "}\n",
       "\n",
       ".jp-OutputArea-output.jp-RenderedLatex .MathJax_Display {\n",
       "    text-align: center !important;\n",
       "}\n",
       "\n",
       ".jp-OutputArea-output {\n",
       "    overflow: visible !important;\n",
       "}\n",
       "</style>"
      ],
      "text/plain": [
       "<IPython.core.display.HTML object>"
      ]
     },
     "execution_count": 2,
     "metadata": {},
     "output_type": "execute_result"
    }
   ],
   "source": [
    "CSS = \"\"\"\n",
    ".widget-vbox {\n",
    "    flex-direction: row;\n",
    "    display: block;\n",
    "}\n",
    "\n",
    ".widget-inline-hbox {\n",
    "    display: initial;\n",
    "}\n",
    "\n",
    ".jp-OutputArea-output.jp-RenderedLatex .MathJax_Display {\n",
    "    text-align: center !important;\n",
    "}\n",
    "\n",
    ".jp-OutputArea-output {\n",
    "    overflow: visible !important;\n",
    "}\n",
    "\"\"\"\n",
    "\n",
    "HTML('<style>{}</style>'.format(CSS))"
   ]
  },
  {
   "cell_type": "code",
   "execution_count": 3,
   "metadata": {},
   "outputs": [],
   "source": [
    "@register_cell_magic('handle')\n",
    "def handle(line, cell):\n",
    "    try:\n",
    "        exec(cell)\n",
    "    except Exception as e:\n",
    "        display(\"failed\")\n",
    "        #raise # if you want the full trace-back in the notebook"
   ]
  },
  {
   "cell_type": "code",
   "execution_count": 4,
   "metadata": {},
   "outputs": [],
   "source": [
    "@handcalc(jupyter_display=True)\n",
    "def my_calc(a: float, b: float, c: float):\n",
    "    r = (-b+sqrt(b**7-4*a*c))/(2*a)\n",
    "    return r"
   ]
  },
  {
   "cell_type": "code",
   "execution_count": 5,
   "metadata": {},
   "outputs": [],
   "source": [
    "box_layout = Layout(width='200px',\n",
    "                    height='',\n",
    "                    flex_flow='row',\n",
    "                    display='vertical-align')"
   ]
  },
  {
   "cell_type": "code",
   "execution_count": 6,
   "metadata": {},
   "outputs": [],
   "source": [
    "def fltxt():\n",
    "    fWidg = widgets.FloatText(100, layout=box_layout)\n",
    "    return fWidg"
   ]
  },
  {
   "cell_type": "code",
   "execution_count": 7,
   "metadata": {},
   "outputs": [
    {
     "data": {
      "application/vnd.jupyter.widget-view+json": {
       "model_id": "d855e41043f2469292617b4791462739",
       "version_major": 2,
       "version_minor": 0
      },
      "text/plain": [
       "interactive(children=(FloatText(value=100.0, description='a', layout=Layout(display='vertical-align', flex_flo…"
      ]
     },
     "metadata": {},
     "output_type": "display_data"
    }
   ],
   "source": [
    "%%handle\n",
    "\n",
    "@interact(a = fltxt(), b = fltxt(), c = fltxt())\n",
    "def h(a: float, b: float, c: float):\n",
    "    my_calc(a, b, c)"
   ]
  },
  {
   "cell_type": "code",
   "execution_count": 8,
   "metadata": {
    "jupyter": {
     "source_hidden": true
    }
   },
   "outputs": [
    {
     "data": {
      "application/vnd.jupyter.widget-view+json": {
       "model_id": "7cd82628dc574253b8eb5066c49150f4",
       "version_major": 2,
       "version_minor": 0
      },
      "text/plain": [
       "interactive(children=(FloatText(value=100.0, description='a', layout=Layout(display='vertical-align', flex_flo…"
      ]
     },
     "metadata": {},
     "output_type": "display_data"
    }
   ],
   "source": [
    "x = interactive(my_calc, a=fltxt(), b=fltxt(), c=fltxt())\n",
    "display(x)"
   ]
  },
  {
   "cell_type": "code",
   "execution_count": 9,
   "metadata": {
    "jupyter": {
     "source_hidden": true
    }
   },
   "outputs": [
    {
     "data": {
      "application/vnd.jupyter.widget-view+json": {
       "model_id": "a25f1c17f5fe473686314d817b7b0606",
       "version_major": 2,
       "version_minor": 0
      },
      "text/plain": [
       "HBox(children=(Label(value='The $m$ in $E$=$mc^2$:'), Button(description='aa', style=ButtonStyle())))"
      ]
     },
     "metadata": {},
     "output_type": "display_data"
    }
   ],
   "source": [
    "assa=\"The $m$ in $E$=$mc^2$:\"\n",
    "widgets.HBox([widgets.Label(value=assa), widgets.Button(description=\"aa\")])"
   ]
  },
  {
   "cell_type": "code",
   "execution_count": 10,
   "metadata": {},
   "outputs": [
    {
     "data": {
      "text/latex": [
       "\\[\n",
       "\\begin{aligned}\n",
       "F &= G \\cdot \\left( \\frac{ M + m }{ \\left( R \\right) ^{ M } + \\left( R \\right) ^{ m } + \\left( R \\right) ^{ d } } \\right) \\; \n",
       "\\end{aligned}\n",
       "\\]"
      ],
      "text/plain": [
       "<IPython.core.display.Latex object>"
      ]
     },
     "metadata": {},
     "output_type": "display_data"
    }
   ],
   "source": [
    "G, M, m, r, R, m1, m2, d = sp.symbols(\"G M m r R m1 m2 d\")\n",
    "@handcalc(jupyter_display = \"false\",override='symbolic')\n",
    "def fG():\n",
    "    F = G*((M+m)/(R**M+R**m+R**d))\n",
    "\n",
    "fG()"
   ]
  },
  {
   "cell_type": "code",
   "execution_count": 11,
   "metadata": {},
   "outputs": [
    {
     "data": {
      "text/latex": [
       "$\\displaystyle \\frac{a^{3}}{3} + \\frac{a^{2} b}{2}$"
      ],
      "text/plain": [
       "a**3/3 + a**2*b/2"
      ]
     },
     "execution_count": 11,
     "metadata": {},
     "output_type": "execute_result"
    }
   ],
   "source": [
    "a, b, c = sp.symbols(\"a b c\")\n",
    "da = a**2 + b*a\n",
    "f = sp.integrate(da, a)\n",
    "f"
   ]
  },
  {
   "cell_type": "code",
   "execution_count": null,
   "metadata": {
    "jupyter": {
     "source_hidden": true
    }
   },
   "outputs": [],
   "source": []
  },
  {
   "cell_type": "code",
   "execution_count": null,
   "metadata": {
    "jupyter": {
     "source_hidden": true
    }
   },
   "outputs": [],
   "source": []
  },
  {
   "cell_type": "code",
   "execution_count": null,
   "metadata": {
    "jupyter": {
     "source_hidden": true
    }
   },
   "outputs": [],
   "source": []
  }
 ],
 "metadata": {
  "autoplay": {
   "autoRun": true,
   "hideCodeCells": true
  },
  "kernelspec": {
   "display_name": "Python 3",
   "language": "python",
   "name": "python3"
  },
  "language_info": {
   "codemirror_mode": {
    "name": "ipython",
    "version": 3
   },
   "file_extension": ".py",
   "mimetype": "text/x-python",
   "name": "python",
   "nbconvert_exporter": "python",
   "pygments_lexer": "ipython3",
   "version": "3.9.1"
  },
  "widgets": {
   "application/vnd.jupyter.widget-state+json": {
    "state": {
     "02bd5df989af4675abb9d5166778d5ae": {
      "model_module": "@jupyter-widgets/base",
      "model_module_version": "1.2.0",
      "model_name": "LayoutModel",
      "state": {}
     },
     "28ef4a3db7e842cbb259bf81756c2622": {
      "model_module": "@jupyter-widgets/controls",
      "model_module_version": "1.5.0",
      "model_name": "ButtonModel",
      "state": {
       "description": "aa",
       "layout": "IPY_MODEL_02bd5df989af4675abb9d5166778d5ae",
       "style": "IPY_MODEL_abe81264b304426e85013c71ff883f55"
      }
     },
     "2b4a71737fd243a9ae33af3be2c7d3be": {
      "model_module": "@jupyter-widgets/controls",
      "model_module_version": "1.5.0",
      "model_name": "DescriptionStyleModel",
      "state": {
       "description_width": ""
      }
     },
     "33b08ac21bc3462c85bc7b434df317d3": {
      "model_module": "@jupyter-widgets/base",
      "model_module_version": "1.2.0",
      "model_name": "LayoutModel",
      "state": {}
     },
     "36d07992f27948adac9e17c7fd8a7ccd": {
      "model_module": "@jupyter-widgets/controls",
      "model_module_version": "1.5.0",
      "model_name": "DescriptionStyleModel",
      "state": {
       "description_width": ""
      }
     },
     "38ae2e46f7fc46b6b5c3f8b35bed27d7": {
      "model_module": "@jupyter-widgets/base",
      "model_module_version": "1.2.0",
      "model_name": "LayoutModel",
      "state": {
       "display": "vertical-align",
       "flex_flow": "row",
       "height": "",
       "width": "200px"
      }
     },
     "3ade8a93b6a14586a1489cf2e4924d37": {
      "model_module": "@jupyter-widgets/base",
      "model_module_version": "1.2.0",
      "model_name": "LayoutModel",
      "state": {}
     },
     "3e5e3f3d234748ed9b83afced333df3d": {
      "model_module": "@jupyter-widgets/controls",
      "model_module_version": "1.5.0",
      "model_name": "FloatTextModel",
      "state": {
       "description": "b",
       "layout": "IPY_MODEL_38ae2e46f7fc46b6b5c3f8b35bed27d7",
       "step": null,
       "style": "IPY_MODEL_7a8b3fb079dd4e1d9784fed7d6f5c66a",
       "value": 100
      }
     },
     "51c5f2ea57894061b823962d8b440e6a": {
      "model_module": "@jupyter-widgets/controls",
      "model_module_version": "1.5.0",
      "model_name": "FloatTextModel",
      "state": {
       "description": "c",
       "layout": "IPY_MODEL_38ae2e46f7fc46b6b5c3f8b35bed27d7",
       "step": null,
       "style": "IPY_MODEL_d7c1f0813fa24c4ba8f5d5c950fafdee",
       "value": 100
      }
     },
     "587498a8203d479d9bddde100327dca7": {
      "model_module": "@jupyter-widgets/base",
      "model_module_version": "1.2.0",
      "model_name": "LayoutModel",
      "state": {}
     },
     "6850968c3f8c44b0a5fbe13837be7dd2": {
      "model_module": "@jupyter-widgets/controls",
      "model_module_version": "1.5.0",
      "model_name": "FloatTextModel",
      "state": {
       "description": "c",
       "layout": "IPY_MODEL_38ae2e46f7fc46b6b5c3f8b35bed27d7",
       "step": null,
       "style": "IPY_MODEL_36d07992f27948adac9e17c7fd8a7ccd",
       "value": 100
      }
     },
     "6a2e08c1495e4ec89d3f33a137b82dc3": {
      "model_module": "@jupyter-widgets/base",
      "model_module_version": "1.2.0",
      "model_name": "LayoutModel",
      "state": {}
     },
     "6b4f83f513a04b17b6531acb3ed75690": {
      "model_module": "@jupyter-widgets/controls",
      "model_module_version": "1.5.0",
      "model_name": "FloatTextModel",
      "state": {
       "description": "a",
       "layout": "IPY_MODEL_38ae2e46f7fc46b6b5c3f8b35bed27d7",
       "step": null,
       "style": "IPY_MODEL_aea9b2f014bd4943a08c8824fdce301b",
       "value": 100
      }
     },
     "71c7f8ed2cef4c62aa892f2593285c03": {
      "model_module": "@jupyter-widgets/base",
      "model_module_version": "1.2.0",
      "model_name": "LayoutModel",
      "state": {}
     },
     "7a8b3fb079dd4e1d9784fed7d6f5c66a": {
      "model_module": "@jupyter-widgets/controls",
      "model_module_version": "1.5.0",
      "model_name": "DescriptionStyleModel",
      "state": {
       "description_width": ""
      }
     },
     "7cd82628dc574253b8eb5066c49150f4": {
      "model_module": "@jupyter-widgets/controls",
      "model_module_version": "1.5.0",
      "model_name": "VBoxModel",
      "state": {
       "_dom_classes": [
        "widget-interact"
       ],
       "children": [
        "IPY_MODEL_6b4f83f513a04b17b6531acb3ed75690",
        "IPY_MODEL_c15e207a4400458b9b22159b22c52861",
        "IPY_MODEL_6850968c3f8c44b0a5fbe13837be7dd2",
        "IPY_MODEL_a6b24043e7f5428181a1fa12890b172c"
       ],
       "layout": "IPY_MODEL_587498a8203d479d9bddde100327dca7"
      }
     },
     "88f6e64b422648fa8907a6bcf7352a6f": {
      "model_module": "@jupyter-widgets/output",
      "model_module_version": "1.0.0",
      "model_name": "OutputModel",
      "state": {
       "layout": "IPY_MODEL_33b08ac21bc3462c85bc7b434df317d3",
       "outputs": [
        {
         "data": {
          "text/latex": "\\[\n\\begin{aligned}\nr &= \\frac{ \\left( - b \\right) + \\sqrt { \\left( b \\right) ^{ 7 } - 4 \\cdot a \\cdot c } }{ 2 \\cdot a }  = \\frac{ \\left( - 100.0 \\right) + \\sqrt { \\left( 100.0 \\right) ^{ 7 } - 4 \\cdot 100.0 \\cdot 100.0 } }{ 2 \\cdot 100.0 } &= 49999.5  \n\\end{aligned}\n\\]",
          "text/plain": "<IPython.core.display.Latex object>"
         },
         "metadata": {},
         "output_type": "display_data"
        }
       ]
      }
     },
     "8d5c71b59c1740fab660dca84f17b620": {
      "model_module": "@jupyter-widgets/controls",
      "model_module_version": "1.5.0",
      "model_name": "FloatTextModel",
      "state": {
       "description": "a",
       "layout": "IPY_MODEL_38ae2e46f7fc46b6b5c3f8b35bed27d7",
       "step": null,
       "style": "IPY_MODEL_2b4a71737fd243a9ae33af3be2c7d3be",
       "value": 100
      }
     },
     "99a986f6098c4cae98402b1a16af74e8": {
      "model_module": "@jupyter-widgets/base",
      "model_module_version": "1.2.0",
      "model_name": "LayoutModel",
      "state": {}
     },
     "a25f1c17f5fe473686314d817b7b0606": {
      "model_module": "@jupyter-widgets/controls",
      "model_module_version": "1.5.0",
      "model_name": "HBoxModel",
      "state": {
       "children": [
        "IPY_MODEL_dec7797eaa3f49dbaa731cf32cd2228d",
        "IPY_MODEL_28ef4a3db7e842cbb259bf81756c2622"
       ],
       "layout": "IPY_MODEL_6a2e08c1495e4ec89d3f33a137b82dc3"
      }
     },
     "a6b24043e7f5428181a1fa12890b172c": {
      "model_module": "@jupyter-widgets/output",
      "model_module_version": "1.0.0",
      "model_name": "OutputModel",
      "state": {
       "layout": "IPY_MODEL_3ade8a93b6a14586a1489cf2e4924d37",
       "outputs": [
        {
         "data": {
          "text/latex": "\\[\n\\begin{aligned}\nr &= \\frac{ \\left( - b \\right) + \\sqrt { \\left( b \\right) ^{ 7 } - 4 \\cdot a \\cdot c } }{ 2 \\cdot a }  = \\frac{ \\left( - 100.0 \\right) + \\sqrt { \\left( 100.0 \\right) ^{ 7 } - 4 \\cdot 100.0 \\cdot 100.0 } }{ 2 \\cdot 100.0 } &= 49999.5  \n\\end{aligned}\n\\]",
          "text/plain": "<IPython.core.display.Latex object>"
         },
         "metadata": {},
         "output_type": "display_data"
        }
       ]
      }
     },
     "a974fbf9c701496f9ca7047092d9315c": {
      "model_module": "@jupyter-widgets/controls",
      "model_module_version": "1.5.0",
      "model_name": "DescriptionStyleModel",
      "state": {
       "description_width": ""
      }
     },
     "abe81264b304426e85013c71ff883f55": {
      "model_module": "@jupyter-widgets/controls",
      "model_module_version": "1.5.0",
      "model_name": "ButtonStyleModel",
      "state": {}
     },
     "aea9b2f014bd4943a08c8824fdce301b": {
      "model_module": "@jupyter-widgets/controls",
      "model_module_version": "1.5.0",
      "model_name": "DescriptionStyleModel",
      "state": {
       "description_width": ""
      }
     },
     "c15e207a4400458b9b22159b22c52861": {
      "model_module": "@jupyter-widgets/controls",
      "model_module_version": "1.5.0",
      "model_name": "FloatTextModel",
      "state": {
       "description": "b",
       "layout": "IPY_MODEL_38ae2e46f7fc46b6b5c3f8b35bed27d7",
       "step": null,
       "style": "IPY_MODEL_a974fbf9c701496f9ca7047092d9315c",
       "value": 100
      }
     },
     "d50142c44b654bc7a68ea19364a2929d": {
      "model_module": "@jupyter-widgets/controls",
      "model_module_version": "1.5.0",
      "model_name": "DescriptionStyleModel",
      "state": {
       "description_width": ""
      }
     },
     "d7c1f0813fa24c4ba8f5d5c950fafdee": {
      "model_module": "@jupyter-widgets/controls",
      "model_module_version": "1.5.0",
      "model_name": "DescriptionStyleModel",
      "state": {
       "description_width": ""
      }
     },
     "d855e41043f2469292617b4791462739": {
      "model_module": "@jupyter-widgets/controls",
      "model_module_version": "1.5.0",
      "model_name": "VBoxModel",
      "state": {
       "_dom_classes": [
        "widget-interact"
       ],
       "children": [
        "IPY_MODEL_8d5c71b59c1740fab660dca84f17b620",
        "IPY_MODEL_3e5e3f3d234748ed9b83afced333df3d",
        "IPY_MODEL_51c5f2ea57894061b823962d8b440e6a",
        "IPY_MODEL_88f6e64b422648fa8907a6bcf7352a6f"
       ],
       "layout": "IPY_MODEL_99a986f6098c4cae98402b1a16af74e8"
      }
     },
     "dec7797eaa3f49dbaa731cf32cd2228d": {
      "model_module": "@jupyter-widgets/controls",
      "model_module_version": "1.5.0",
      "model_name": "LabelModel",
      "state": {
       "layout": "IPY_MODEL_71c7f8ed2cef4c62aa892f2593285c03",
       "style": "IPY_MODEL_d50142c44b654bc7a68ea19364a2929d",
       "value": "The $m$ in $E$=$mc^2$:"
      }
     }
    },
    "version_major": 2,
    "version_minor": 0
   }
  }
 },
 "nbformat": 4,
 "nbformat_minor": 4
}
