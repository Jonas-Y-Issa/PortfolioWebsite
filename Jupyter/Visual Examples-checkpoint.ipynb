{
 "cells": [
  {
   "cell_type": "code",
   "execution_count": 56,
   "metadata": {},
   "outputs": [],
   "source": [
    "import handcalcs.render\n",
    "import handcalcs.decorator\n",
    "from handcalcs import handcalc\n",
    "import numpy as np\n",
    "import sympy as sp\n",
    "from math import sqrt, sin, tan, cos\n",
    "\n",
    "import ipywidgets as widgets\n",
    "\n",
    "from ipywidgets import *\n",
    "\n",
    "import time\n",
    "import pylab as pl\n",
    "from IPython import display\n",
    "\n",
    "import forallpeople\n",
    "forallpeople.environment('structural')"
   ]
  },
  {
   "cell_type": "code",
   "execution_count": 57,
   "metadata": {
    "jupyter": {
     "source_hidden": true
    }
   },
   "outputs": [
    {
     "data": {
      "application/vnd.jupyter.widget-view+json": {
       "model_id": "385f10f212524170889aeffd456401d0",
       "version_major": 2,
       "version_minor": 0
      },
      "text/plain": [
       "Sines(children=(VBox(children=(IntSlider(value=1, description='freq', max=10), ColorPicker(value='#FF00DD', de…"
      ]
     },
     "metadata": {},
     "output_type": "display_data"
    }
   ],
   "source": [
    "%matplotlib widget\n",
    "import ipywidgets as widgets\n",
    "import matplotlib.pyplot as plt\n",
    "import numpy as np\n",
    "\n",
    "def make_box_layout():\n",
    "     return widgets.Layout(\n",
    "        border='solid 1px black',\n",
    "        margin='0px 10px 10px 0px',\n",
    "        padding='5px 5px 5px 5px'\n",
    "     )\n",
    "\n",
    "\n",
    "class Sines(widgets.HBox):\n",
    "\n",
    "    def __init__(self):\n",
    "        super().__init__()\n",
    "        output = widgets.Output()\n",
    "\n",
    "        self.x = np.linspace(0, 2 * np.pi, 100)\n",
    "        initial_color = '#FF00DD'\n",
    "\n",
    "        with output:\n",
    "            self.fig, self.ax = plt.subplots(constrained_layout=True, figsize=(5, 3.5))\n",
    "        self.line, = self.ax.plot(self.x, np.sin(self.x), initial_color)\n",
    "\n",
    "        self.fig.canvas.toolbar_position = 'bottom'\n",
    "        self.ax.grid(True)\n",
    "\n",
    "        # define widgets\n",
    "        int_slider = widgets.IntSlider(\n",
    "            value=1, \n",
    "            min=0, \n",
    "            max=10, \n",
    "            step=1, \n",
    "            description='freq'\n",
    "        )\n",
    "        color_picker = widgets.ColorPicker(\n",
    "            value=initial_color, \n",
    "            description='pick a color'\n",
    "        )\n",
    "        text_xlabel = widgets.Text(\n",
    "            value='', \n",
    "            description='xlabel', \n",
    "            continuous_update=False\n",
    "        )\n",
    "        text_ylabel = widgets.Text(\n",
    "            value='', \n",
    "            description='ylabel', \n",
    "            continuous_update=False\n",
    "        )\n",
    " \n",
    "        controls = widgets.VBox([\n",
    "            int_slider, \n",
    "            color_picker, \n",
    "            text_xlabel, \n",
    "            text_ylabel\n",
    "        ])\n",
    "        controls.layout = make_box_layout()\n",
    "\n",
    "        out_box = widgets.Box([output])\n",
    "        output.layout = make_box_layout()\n",
    "\n",
    "        # observe stuff\n",
    "        int_slider.observe(self.update, 'value')\n",
    "        color_picker.observe(self.line_color, 'value')\n",
    "        text_xlabel.observe(self.update_xlabel, 'value')\n",
    "        text_ylabel.observe(self.update_ylabel, 'value')\n",
    "\n",
    "        text_xlabel.value = 'x'\n",
    "        text_ylabel.value = 'y'\n",
    "\n",
    "\n",
    "        # add to children\n",
    "        self.children = [controls, output]\n",
    "\n",
    "    def update(self, change):\n",
    "        \"\"\"Draw line in plot\"\"\"\n",
    "        self.line.set_ydata(np.sin(change.new * self.x))\n",
    "        self.fig.canvas.draw()\n",
    "\n",
    "    def line_color(self, change):\n",
    "        self.line.set_color(change.new)\n",
    "\n",
    "    def update_xlabel(self, change):\n",
    "        self.ax.set_xlabel(change.new)\n",
    "\n",
    "    def update_ylabel(self, change):\n",
    "        self.ax.set_ylabel(change.new)\n",
    "\n",
    "\n",
    "Sines()"
   ]
  },
  {
   "cell_type": "code",
   "execution_count": 58,
   "metadata": {
    "jupyter": {
     "source_hidden": true
    }
   },
   "outputs": [
    {
     "data": {
      "application/vnd.jupyter.widget-view+json": {
       "model_id": "524cde364dcd4ae38c29f4520f6782eb",
       "version_major": 2,
       "version_minor": 0
      },
      "text/plain": [
       "interactive(children=(IntSlider(value=1, description='a', max=10), FloatSlider(value=1.0, description='b', max…"
      ]
     },
     "metadata": {},
     "output_type": "display_data"
    }
   ],
   "source": [
    "@handcalc(jupyter_display=True)\n",
    "def my_calc(a: int, b: int, c: int):\n",
    "    r = (-b+sqrt(b**7-4*a*c))/(2*a)\n",
    "    return r\n",
    "\n",
    "\n",
    "@widgets.interact(a=(0, 10, 1), b=(0, 4, .1), c=(0, 2*np.pi+0.01, 0.01))\n",
    "def update(a=1.0, b=1, c=0):\n",
    "    \"\"\"Remove old lines from plot and plot new one\"\"\"\n",
    "    my_calc(a, b, c)"
   ]
  },
  {
   "cell_type": "code",
   "execution_count": 59,
   "metadata": {
    "jupyter": {
     "source_hidden": true
    }
   },
   "outputs": [
    {
     "data": {
      "application/vnd.jupyter.widget-view+json": {
       "model_id": "d1b3898d8da24ddf8383aeb2ddd58934",
       "version_major": 2,
       "version_minor": 0
      },
      "text/plain": [
       "Canvas(toolbar=Toolbar(toolitems=[('Home', 'Reset original view', 'home', 'home'), ('Back', 'Back to previous …"
      ]
     },
     "metadata": {},
     "output_type": "display_data"
    },
    {
     "data": {
      "application/vnd.jupyter.widget-view+json": {
       "model_id": "122753ab5b0b4e05a33112b25b07d098",
       "version_major": 2,
       "version_minor": 0
      },
      "text/plain": [
       "interactive(children=(IntSlider(value=1, description='w', max=10), FloatSlider(value=1.0, description='amp', m…"
      ]
     },
     "metadata": {},
     "output_type": "display_data"
    }
   ],
   "source": [
    "# set up plot\n",
    "fig, ax = plt.subplots(figsize=(6, 4))\n",
    "ax.set_ylim([-4, 4])\n",
    "ax.grid(True)\n",
    " \n",
    "# generate x values\n",
    "x = np.linspace(0, 2 * np.pi, 100)\n",
    " \n",
    "\n",
    "def my_sine(x, w, amp, phi):\n",
    "    \"\"\"\n",
    "    Return a sine for x with angular frequeny w and amplitude amp.\n",
    "    \"\"\"\n",
    "    return amp*np.sin(w * (x-phi))\n",
    " \n",
    "\n",
    "@widgets.interact(w=(0, 10, 1), amp=(0, 4, .1), phi=(0, 2*np.pi+0.01, 0.01))\n",
    "def update(w = 1.0, amp=1, phi=0):\n",
    "    \"\"\"Remove old lines from plot and plot new one\"\"\"\n",
    "    [l.remove() for l in ax.lines]\n",
    "    ax.plot(x, my_sine(x, w, amp, phi), color='C0')"
   ]
  },
  {
   "cell_type": "markdown",
   "metadata": {},
   "source": [
    "\n",
    "\\begin{equation}\n",
    "\\frac{\\Delta \\lambda}{\\lambda} \\approx \\frac{g \\Delta y}{c^{2}}\n",
    "\\end{equation}\n",
    "\n",
    "\\begin{equation}\n",
    "d s^{2}=-\\left(1-\\frac{2 V(r)}{c^{2}}\\right) c^{2} d t^{2}+d x^{2}+d y^{2}+d z^{2}\n",
    "\\end{equation}\n",
    "\n",
    "\\begin{equation}\n",
    "\\begin{array}{ll}\n",
    "\\text { GR } \\quad v_{\\text {rec }}(t, z)=\\frac{c}{R_{0}} \\dot{R}(t) \\int_{0}^{z} \\frac{d z^{\\prime}}{H\\left(z^{\\prime}\\right)} \\\\\n",
    "\\text { SR } \\quad v_{\\text {pec }}(z)=c \\frac{(1+z)^{2}-1}{(1+z)^{2}+1}\n",
    "\\end{array}\n",
    "\\end{equation}\n",
    "\n",
    "\\begin{equation}\n",
    "d_{M}(z)=\\left\\{\\begin{array}{ll}\n",
    "\\frac{d_{H}}{\\sqrt{\\Omega_{k}}} \\sinh \\left(\\sqrt{\\Omega_{k}} d_{C}(z) / d_{H}\\right) & \\text { for } \\Omega_{k}>0 \\\\\n",
    "d_{C}(z) & \\text { for } \\Omega_{k}=0 \\\\\n",
    "\\frac{d_{H}}{\\sqrt{\\Omega_{k} \\mid}} \\sin \\left(\\sqrt{\\left|\\Omega_{k}\\right|} d_{C}(z) / d_{H}\\right) & \\text { for } \\Omega_{k}<0\n",
    "\\end{array}\\right.\n",
    "\\end{equation}"
   ]
  },
  {
   "cell_type": "code",
   "execution_count": 60,
   "metadata": {
    "jupyter": {
     "source_hidden": true
    }
   },
   "outputs": [
    {
     "data": {
      "application/vnd.jupyter.widget-view+json": {
       "model_id": "651d1d4086ab4dedade06c3e5058a1df",
       "version_major": 2,
       "version_minor": 0
      },
      "text/plain": [
       "VBox(children=(IntSlider(value=5, description='slider', max=10), IntRangeSlider(value=(20, 40), description='r…"
      ]
     },
     "metadata": {},
     "output_type": "display_data"
    }
   ],
   "source": [
    "int_slider = widgets.IntSlider(\n",
    "    value=5, \n",
    "    min=0, max=10, step=1, \n",
    "    description='slider'\n",
    ")\n",
    " \n",
    "int_range_slider = widgets.IntRangeSlider(\n",
    "    value=(20, 40), \n",
    "    min=0, max=100, step=2, \n",
    "    description='range slider'\n",
    ")\n",
    " \n",
    "dropdown = widgets.Dropdown(\n",
    "    value='feb', \n",
    "    options=['jan', 'feb', 'mar', 'apr'], \n",
    "    description='dropdown'\n",
    ")\n",
    " \n",
    "radiobuttons = widgets.RadioButtons(\n",
    "    value='feb', \n",
    "    options=['jan', 'feb', 'mar', 'apr'], \n",
    "    description='radio buttons'\n",
    ")\n",
    " \n",
    "combobox = widgets.Combobox(\n",
    "    placeholder='start typing... (e.g. L or o)',\n",
    "    options=['Amsterdam', 'Athens', 'Lisbon', 'London', 'Ljubljana'], \n",
    "    description='combo box'\n",
    ")\n",
    " \n",
    "checkbox = widgets.Checkbox(\n",
    "    description='checkbox',\n",
    "    value=True\n",
    ")\n",
    " \n",
    " \n",
    "# a VBox container to pack widgets vertically\n",
    "widgets.VBox(\n",
    "    [\n",
    "        int_slider, \n",
    "        int_range_slider, \n",
    "        dropdown, \n",
    "        radiobuttons,\n",
    "        checkbox,\n",
    "        combobox,\n",
    "    ]\n",
    ")"
   ]
  },
  {
   "cell_type": "code",
   "execution_count": 61,
   "metadata": {
    "jupyter": {
     "source_hidden": true
    }
   },
   "outputs": [
    {
     "data": {
      "application/vnd.jupyter.widget-view+json": {
       "model_id": "4e0c51c2124349f7a0a5cb0b5894f8b4",
       "version_major": 2,
       "version_minor": 0
      },
      "text/plain": [
       "VBox(children=(Label(value='A label'), HTML(value='<b>Formatted</b> <font color=\"red\">html</font>'), Text(valu…"
      ]
     },
     "metadata": {},
     "output_type": "display_data"
    }
   ],
   "source": [
    "label = widgets.Label(\n",
    "    value='A label')\n",
    " \n",
    "html = widgets.HTML(\n",
    "    value='<b>Formatted</b> <font color=\"red\">html</font>', \n",
    "    description=''\n",
    ")\n",
    " \n",
    "text = widgets.Text(\n",
    "    value='A text field', \n",
    "    description='text field'\n",
    ")\n",
    " \n",
    "textarea = widgets.Textarea(\n",
    "    value='A text area for longer texts', \n",
    "    description='text area'\n",
    ")\n",
    " \n",
    "# show the three together in a VBox (vertical box container)\n",
    "widgets.VBox([label, html, text, textarea])"
   ]
  },
  {
   "cell_type": "code",
   "execution_count": 62,
   "metadata": {
    "jupyter": {
     "source_hidden": true
    }
   },
   "outputs": [
    {
     "data": {
      "application/vnd.jupyter.widget-view+json": {
       "model_id": "ed004146e7904ac59f56c617bd82f34d",
       "version_major": 2,
       "version_minor": 0
      },
      "text/plain": [
       "Textarea(value='Accordion\\nAppLayout\\nAudio\\nBoundedFloatText\\nBoundedIntText\\nBox\\nButton\\nButtonStyle\\nCallb…"
      ]
     },
     "metadata": {},
     "output_type": "display_data"
    }
   ],
   "source": [
    "widgets.Textarea(\n",
    "    '\\n'.join([w for w in dir(widgets) if not w.islower()]),\n",
    "    layout=widgets.Layout(height='200px')\n",
    ")"
   ]
  },
  {
   "cell_type": "code",
   "execution_count": 63,
   "metadata": {
    "jupyter": {
     "source_hidden": true
    }
   },
   "outputs": [],
   "source": [
    "b1 = widgets.Button(description='button 1')\n",
    "b2 = widgets.Button(description='button 2')\n",
    "b3 = widgets.Button(description='button 3')"
   ]
  },
  {
   "cell_type": "code",
   "execution_count": 64,
   "metadata": {
    "jupyter": {
     "source_hidden": true
    }
   },
   "outputs": [
    {
     "data": {
      "application/vnd.jupyter.widget-view+json": {
       "model_id": "d9eb120dd5f94250b9ba782996fcc89c",
       "version_major": 2,
       "version_minor": 0
      },
      "text/plain": [
       "HBox(children=(Button(description='button 1', style=ButtonStyle()), Button(description='button 2', style=Butto…"
      ]
     },
     "metadata": {},
     "output_type": "display_data"
    }
   ],
   "source": [
    "widgets.HBox([b1, b2, b3])"
   ]
  },
  {
   "cell_type": "code",
   "execution_count": 65,
   "metadata": {
    "jupyter": {
     "source_hidden": true
    }
   },
   "outputs": [
    {
     "data": {
      "application/vnd.jupyter.widget-view+json": {
       "model_id": "5dca2ba1f40b46beb956d6ae9e8f13f4",
       "version_major": 2,
       "version_minor": 0
      },
      "text/plain": [
       "VBox(children=(Button(description='button 1', style=ButtonStyle()), Button(description='button 2', style=Butto…"
      ]
     },
     "metadata": {},
     "output_type": "display_data"
    }
   ],
   "source": [
    "widgets.VBox([b1, b2, b3])"
   ]
  },
  {
   "cell_type": "code",
   "execution_count": 66,
   "metadata": {
    "jupyter": {
     "source_hidden": true
    }
   },
   "outputs": [
    {
     "data": {
      "application/vnd.jupyter.widget-view+json": {
       "model_id": "20923da731c14a2d826c8603f1f81519",
       "version_major": 2,
       "version_minor": 0
      },
      "text/plain": [
       "HBox(children=(VBox(children=(Label(value='Left'), Button(description='button 1', style=ButtonStyle()), Button…"
      ]
     },
     "metadata": {},
     "output_type": "display_data"
    }
   ],
   "source": [
    "def make_boxes():\n",
    "    vbox1 = widgets.VBox([widgets.Label('Left'), b1, b2])\n",
    "    vbox2 = widgets.VBox([widgets.Label('Right'), dropdown, radiobuttons])\n",
    "    return vbox1, vbox2\n",
    " \n",
    "vbox1, vbox2 = make_boxes()\n",
    " \n",
    "widgets.HBox([vbox1, vbox2])"
   ]
  },
  {
   "cell_type": "code",
   "execution_count": 67,
   "metadata": {
    "jupyter": {
     "source_hidden": true
    }
   },
   "outputs": [
    {
     "data": {
      "application/vnd.jupyter.widget-view+json": {
       "model_id": "14c1fc05dd9c448db9cea3c00f334b18",
       "version_major": 2,
       "version_minor": 0
      },
      "text/plain": [
       "HBox(children=(VBox(children=(Label(value='Left'), Button(description='button 1', style=ButtonStyle()), Button…"
      ]
     },
     "metadata": {},
     "output_type": "display_data"
    }
   ],
   "source": [
    "def make_box_layout():\n",
    "     return widgets.Layout(\n",
    "        border='solid 1px red',\n",
    "        margin='0px 10px 10px 0px',\n",
    "        padding='5px 5px 5px 5px'\n",
    "     )\n",
    "     \n",
    "vbox1, vbox2 = make_boxes()\n",
    " \n",
    "vbox1.layout = make_box_layout()\n",
    "vbox2.layout = make_box_layout()\n",
    " \n",
    "# really change vbox1 only\n",
    "vbox1.layout.width = '400px'\n",
    "vbox1.layout.border = 'solid 2px green'\n",
    " \n",
    "widgets.HBox([vbox1, vbox2])"
   ]
  },
  {
   "cell_type": "code",
   "execution_count": 68,
   "metadata": {
    "jupyter": {
     "source_hidden": true
    }
   },
   "outputs": [
    {
     "data": {
      "application/vnd.jupyter.widget-view+json": {
       "model_id": "d413a6d50c394b4f855a476525e7e41c",
       "version_major": 2,
       "version_minor": 0
      },
      "text/plain": [
       "FloatProgress(value=0.0, max=1.0)"
      ]
     },
     "metadata": {},
     "output_type": "display_data"
    }
   ],
   "source": [
    "import threading\n",
    "from IPython.display import display\n",
    "import ipywidgets as widgets\n",
    "import time\n",
    "progress = widgets.FloatProgress(value=0.0, min=0.0, max=1.0)\n",
    "\n",
    "def work(progress):\n",
    "    total = 100\n",
    "    for i in range(total):\n",
    "        time.sleep(0.2)\n",
    "        progress.value = float(i+1)/total\n",
    "\n",
    "thread = threading.Thread(target=work, args=(progress,))\n",
    "display(progress)\n",
    "thread.start()"
   ]
  },
  {
   "cell_type": "code",
   "execution_count": null,
   "metadata": {
    "jupyter": {
     "source_hidden": true
    }
   },
   "outputs": [],
   "source": []
  },
  {
   "cell_type": "code",
   "execution_count": 69,
   "metadata": {},
   "outputs": [
    {
     "data": {
      "application/vnd.jupyter.widget-view+json": {
       "model_id": "3b95364e3e0d4a3d96d45838aa96bf0f",
       "version_major": 2,
       "version_minor": 0
      },
      "text/plain": [
       "Tab(children=(FloatText(value=0.0), IntSlider(value=0)), _titles={0: 'Text', 1: 'Slider'})"
      ]
     },
     "metadata": {},
     "output_type": "display_data"
    }
   ],
   "source": [
    "Tab(children=[FloatText(), IntSlider()], _titles={0: 'Text', 1: 'Slider'})"
   ]
  },
  {
   "cell_type": "code",
   "execution_count": 70,
   "metadata": {},
   "outputs": [
    {
     "data": {
      "application/vnd.jupyter.widget-view+json": {
       "model_id": "199645572fe44f1fac1a60deb6de2fa0",
       "version_major": 2,
       "version_minor": 0
      },
      "text/plain": [
       "interactive(children=(FloatText(value=0.0, description='x'), FloatText(value=0.5, description='y'), Output()),…"
      ]
     },
     "metadata": {},
     "output_type": "display_data"
    }
   ],
   "source": [
    "x_widget = widgets.FloatText(0.0)\n",
    "y_widget = widgets.FloatText(0.5)\n",
    "\n",
    "\n",
    "def update_x_range(*args):\n",
    "    x_widget.value = 2.0 * y_widget.value\n",
    "\n",
    "\n",
    "y_widget.observe(update_x_range, 'value')\n",
    "\n",
    "\n",
    "def printer(x, y):\n",
    "    print(x, y)\n",
    "\n",
    "\n",
    "interact(printer, x=x_widget, y=y_widget);"
   ]
  },
  {
   "cell_type": "code",
   "execution_count": null,
   "metadata": {},
   "outputs": [],
   "source": []
  }
 ],
 "metadata": {
  "autoplay": {
   "autoRun": true,
   "hideCodeCells": false
  },
  "kernelspec": {
   "display_name": "Python 3",
   "language": "python",
   "name": "python3"
  },
  "language_info": {
   "codemirror_mode": {
    "name": "ipython",
    "version": 3
   },
   "file_extension": ".py",
   "mimetype": "text/x-python",
   "name": "python",
   "nbconvert_exporter": "python",
   "pygments_lexer": "ipython3",
   "version": "3.9.1"
  },
  "widgets": {
   "application/vnd.jupyter.widget-state+json": {
    "state": {
     "00ae0fe4385c45958e9b036f4faeaa14": {
      "model_module": "@jupyter-widgets/controls",
      "model_module_version": "1.5.0",
      "model_name": "IntSliderModel",
      "state": {
       "layout": "IPY_MODEL_983ac8ed9796462c84bef0bc19eb158a",
       "style": "IPY_MODEL_404a2f0eceb849e4b410d5d595b11dd3"
      }
     },
     "01aec2874f6c4928a019c56ce5f819ac": {
      "model_module": "@jupyter-widgets/controls",
      "model_module_version": "1.5.0",
      "model_name": "TextareaModel",
      "state": {
       "description": "text area",
       "layout": "IPY_MODEL_2bfe5d0c7c8b4aec96914937d4263a38",
       "style": "IPY_MODEL_c2722188ae3c4017a86b86a355186dfb",
       "value": "A text area for longer texts"
      }
     },
     "038546a53750478787bd57f7a97f873f": {
      "model_module": "@jupyter-widgets/controls",
      "model_module_version": "1.5.0",
      "model_name": "VBoxModel",
      "state": {
       "children": [
        "IPY_MODEL_9f1d8bae02f6480ca35e4b3d939a6890",
        "IPY_MODEL_3d34b589505d4f4aaa9cba4add5cba09",
        "IPY_MODEL_e76ab38a9b3e4f99a7e0abf4d08274aa"
       ],
       "layout": "IPY_MODEL_2c502f692d03432da2bd7dc2956f539a"
      }
     },
     "06459677f906402c881cd44f77089719": {
      "model_module": "@jupyter-widgets/base",
      "model_module_version": "1.2.0",
      "model_name": "LayoutModel",
      "state": {}
     },
     "0e3132070bb5453bb0441c8fc284ce4a": {
      "model_module": "@jupyter-widgets/base",
      "model_module_version": "1.2.0",
      "model_name": "LayoutModel",
      "state": {}
     },
     "122753ab5b0b4e05a33112b25b07d098": {
      "model_module": "@jupyter-widgets/controls",
      "model_module_version": "1.5.0",
      "model_name": "VBoxModel",
      "state": {
       "_dom_classes": [
        "widget-interact"
       ],
       "children": [
        "IPY_MODEL_d645d89701184d79ab6dfeb88bd7c8ec",
        "IPY_MODEL_3d279aca88ac4faf9636fab443316a8d",
        "IPY_MODEL_b390d6cc43fe4763b595b6be7fa25292",
        "IPY_MODEL_1e0d69c58ba64fcabe4ba5f3d53d5dca"
       ],
       "layout": "IPY_MODEL_a4258208ae054d7090ba8a3d02c9d775"
      }
     },
     "14c1fc05dd9c448db9cea3c00f334b18": {
      "model_module": "@jupyter-widgets/controls",
      "model_module_version": "1.5.0",
      "model_name": "HBoxModel",
      "state": {
       "children": [
        "IPY_MODEL_862c2abbadf645d6a2b6dac35c204a4e",
        "IPY_MODEL_b1879d8da189414b9b0c70328a667e0a"
       ],
       "layout": "IPY_MODEL_3c0edc85e13b47a39435f584f03da68c"
      }
     },
     "150459a5e66e4b92b9c8a5c850704dc0": {
      "model_module": "@jupyter-widgets/base",
      "model_module_version": "1.2.0",
      "model_name": "LayoutModel",
      "state": {}
     },
     "199645572fe44f1fac1a60deb6de2fa0": {
      "model_module": "@jupyter-widgets/controls",
      "model_module_version": "1.5.0",
      "model_name": "VBoxModel",
      "state": {
       "_dom_classes": [
        "widget-interact"
       ],
       "children": [
        "IPY_MODEL_e5746e01c00d4de39649bf2ee1a2ab75",
        "IPY_MODEL_6f6b0d97f2ae4085a14eb909d32acb46",
        "IPY_MODEL_36578331b796457496b1387a40650dcd"
       ],
       "layout": "IPY_MODEL_ebff556679e14400b63bcff09897ef31"
      }
     },
     "1b5269c8c65143158bb2943166a7c757": {
      "model_module": "@jupyter-widgets/controls",
      "model_module_version": "1.5.0",
      "model_name": "CheckboxModel",
      "state": {
       "description": "checkbox",
       "disabled": false,
       "layout": "IPY_MODEL_dc77de161a1e47acb53e0e1b4beb54b2",
       "style": "IPY_MODEL_71b041de0840418db5e9e44391b26a59",
       "value": true
      }
     },
     "1b67264effef4d0dab468a22eb14c73f": {
      "model_module": "@jupyter-widgets/controls",
      "model_module_version": "1.5.0",
      "model_name": "FloatTextModel",
      "state": {
       "layout": "IPY_MODEL_21494b824d8045379906432e1bb945cc",
       "step": null,
       "style": "IPY_MODEL_e0ec882bbf4241dfb5e278c8184d0f2a"
      }
     },
     "1c862fefa4d3479e87d1485a3e8d6be2": {
      "model_module": "jupyter-matplotlib",
      "model_module_version": "^0.7.4",
      "model_name": "MPLCanvasModel",
      "state": {
       "_cursor": "default",
       "_figure_label": "Figure 1",
       "_height": 350,
       "_width": 500,
       "layout": "IPY_MODEL_e8d2291ed2534b03b297857ab4ca5605",
       "toolbar": "IPY_MODEL_8c03dbe09c6642f7b41fd85d237dc0e9",
       "toolbar_position": "bottom"
      }
     },
     "1c88eb7694064c3ea3ec12838d9d966d": {
      "model_module": "@jupyter-widgets/output",
      "model_module_version": "1.0.0",
      "model_name": "OutputModel",
      "state": {
       "layout": "IPY_MODEL_d242a1f90664449694203b8f8884fa42",
       "outputs": [
        {
         "data": {
          "application/vnd.jupyter.widget-view+json": {
           "model_id": "1c862fefa4d3479e87d1485a3e8d6be2",
           "version_major": 2,
           "version_minor": 0
          },
          "text/plain": "Canvas(toolbar=Toolbar(toolitems=[('Home', 'Reset original view', 'home', 'home'), ('Back', 'Back to previous …"
         },
         "metadata": {},
         "output_type": "display_data"
        }
       ]
      }
     },
     "1e0d69c58ba64fcabe4ba5f3d53d5dca": {
      "model_module": "@jupyter-widgets/output",
      "model_module_version": "1.0.0",
      "model_name": "OutputModel",
      "state": {
       "layout": "IPY_MODEL_9afadbe666bc45389598d7e13b9fb371"
      }
     },
     "20923da731c14a2d826c8603f1f81519": {
      "model_module": "@jupyter-widgets/controls",
      "model_module_version": "1.5.0",
      "model_name": "HBoxModel",
      "state": {
       "children": [
        "IPY_MODEL_038546a53750478787bd57f7a97f873f",
        "IPY_MODEL_d54e31777fbb4fff9198f08104b434a6"
       ],
       "layout": "IPY_MODEL_dd452f0058e14b969f5579a4fa15a521"
      }
     },
     "21494b824d8045379906432e1bb945cc": {
      "model_module": "@jupyter-widgets/base",
      "model_module_version": "1.2.0",
      "model_name": "LayoutModel",
      "state": {}
     },
     "23f5941a82f9453db397f2302b46e243": {
      "model_module": "@jupyter-widgets/base",
      "model_module_version": "1.2.0",
      "model_name": "LayoutModel",
      "state": {}
     },
     "268cfa079a024d2cbdef3318a60115bd": {
      "model_module": "@jupyter-widgets/controls",
      "model_module_version": "1.5.0",
      "model_name": "DescriptionStyleModel",
      "state": {
       "description_width": ""
      }
     },
     "27252377ed63487eb0a9d2925f87921f": {
      "model_module": "@jupyter-widgets/controls",
      "model_module_version": "1.5.0",
      "model_name": "SliderStyleModel",
      "state": {
       "description_width": ""
      }
     },
     "27bf53056c3a4ab891985e484e25b5a1": {
      "model_module": "@jupyter-widgets/base",
      "model_module_version": "1.2.0",
      "model_name": "LayoutModel",
      "state": {}
     },
     "29721ac2c5214c0885d04fdb6e818133": {
      "model_module": "@jupyter-widgets/base",
      "model_module_version": "1.2.0",
      "model_name": "LayoutModel",
      "state": {}
     },
     "2be4df46d45f4413a71d0b377cb71ada": {
      "model_module": "@jupyter-widgets/base",
      "model_module_version": "1.2.0",
      "model_name": "LayoutModel",
      "state": {}
     },
     "2bfe5d0c7c8b4aec96914937d4263a38": {
      "model_module": "@jupyter-widgets/base",
      "model_module_version": "1.2.0",
      "model_name": "LayoutModel",
      "state": {}
     },
     "2c502f692d03432da2bd7dc2956f539a": {
      "model_module": "@jupyter-widgets/base",
      "model_module_version": "1.2.0",
      "model_name": "LayoutModel",
      "state": {}
     },
     "2c5bcd3006874b798cd704c0abde87b8": {
      "model_module": "@jupyter-widgets/base",
      "model_module_version": "1.2.0",
      "model_name": "LayoutModel",
      "state": {}
     },
     "2d582fcce5674381ac29298a1a6bc59a": {
      "model_module": "@jupyter-widgets/controls",
      "model_module_version": "1.5.0",
      "model_name": "SliderStyleModel",
      "state": {
       "description_width": ""
      }
     },
     "2edece79bc8945c39a6ee0753c45e0a4": {
      "model_module": "@jupyter-widgets/controls",
      "model_module_version": "1.5.0",
      "model_name": "IntSliderModel",
      "state": {
       "description": "a",
       "layout": "IPY_MODEL_3ac574d3670f4084b9a289fdbaa0ef17",
       "max": 10,
       "style": "IPY_MODEL_27252377ed63487eb0a9d2925f87921f",
       "value": 1
      }
     },
     "3066614b2a744db584ad33da2473b1da": {
      "model_module": "@jupyter-widgets/controls",
      "model_module_version": "1.5.0",
      "model_name": "DescriptionStyleModel",
      "state": {
       "description_width": ""
      }
     },
     "31d7e3c9da7e46888a61dbfc821d5a3a": {
      "model_module": "@jupyter-widgets/base",
      "model_module_version": "1.2.0",
      "model_name": "LayoutModel",
      "state": {}
     },
     "36578331b796457496b1387a40650dcd": {
      "model_module": "@jupyter-widgets/output",
      "model_module_version": "1.0.0",
      "model_name": "OutputModel",
      "state": {
       "layout": "IPY_MODEL_7b3995faf8344687ae985f007a0ac0a0",
       "outputs": [
        {
         "name": "stdout",
         "output_type": "stream",
         "text": "13.0 6.5\n"
        }
       ]
      }
     },
     "373136f76b2f4299960aacab1c6ad446": {
      "model_module": "@jupyter-widgets/base",
      "model_module_version": "1.2.0",
      "model_name": "LayoutModel",
      "state": {}
     },
     "37ecfae45e28490f827b131b9283b222": {
      "model_module": "@jupyter-widgets/base",
      "model_module_version": "1.2.0",
      "model_name": "LayoutModel",
      "state": {}
     },
     "385f10f212524170889aeffd456401d0": {
      "model_module": "@jupyter-widgets/controls",
      "model_module_version": "1.5.0",
      "model_name": "HBoxModel",
      "state": {
       "children": [
        "IPY_MODEL_76fc4841b8604a469039bef1e40b7234",
        "IPY_MODEL_1c88eb7694064c3ea3ec12838d9d966d"
       ],
       "layout": "IPY_MODEL_3beeb76aed8043a08c63989f0331532c"
      }
     },
     "3ac574d3670f4084b9a289fdbaa0ef17": {
      "model_module": "@jupyter-widgets/base",
      "model_module_version": "1.2.0",
      "model_name": "LayoutModel",
      "state": {}
     },
     "3b865162a8214ed998d6dd4685208d6d": {
      "model_module": "@jupyter-widgets/controls",
      "model_module_version": "1.5.0",
      "model_name": "IntRangeSliderModel",
      "state": {
       "_model_name": "IntRangeSliderModel",
       "_view_name": "IntRangeSliderView",
       "description": "range slider",
       "layout": "IPY_MODEL_e728a667d0a84394bc93d63d913f256c",
       "step": 2,
       "style": "IPY_MODEL_805f42cd559e4509ae9ce3d74e246c56",
       "value": [
        20,
        40
       ]
      }
     },
     "3b95364e3e0d4a3d96d45838aa96bf0f": {
      "model_module": "@jupyter-widgets/controls",
      "model_module_version": "1.5.0",
      "model_name": "TabModel",
      "state": {
       "_titles": {
        "0": "Text",
        "1": "Slider"
       },
       "children": [
        "IPY_MODEL_1b67264effef4d0dab468a22eb14c73f",
        "IPY_MODEL_00ae0fe4385c45958e9b036f4faeaa14"
       ],
       "layout": "IPY_MODEL_150459a5e66e4b92b9c8a5c850704dc0"
      }
     },
     "3ba58c47e7c24dd7af983004392dd03a": {
      "model_module": "@jupyter-widgets/base",
      "model_module_version": "1.2.0",
      "model_name": "LayoutModel",
      "state": {}
     },
     "3beeb76aed8043a08c63989f0331532c": {
      "model_module": "@jupyter-widgets/base",
      "model_module_version": "1.2.0",
      "model_name": "LayoutModel",
      "state": {}
     },
     "3c0edc85e13b47a39435f584f03da68c": {
      "model_module": "@jupyter-widgets/base",
      "model_module_version": "1.2.0",
      "model_name": "LayoutModel",
      "state": {}
     },
     "3cba44990676473ab5ccbee540a4fe60": {
      "model_module": "@jupyter-widgets/base",
      "model_module_version": "1.2.0",
      "model_name": "LayoutModel",
      "state": {
       "border": "solid 2px green",
       "margin": "0px 10px 10px 0px",
       "padding": "5px 5px 5px 5px",
       "width": "400px"
      }
     },
     "3d279aca88ac4faf9636fab443316a8d": {
      "model_module": "@jupyter-widgets/controls",
      "model_module_version": "1.5.0",
      "model_name": "FloatSliderModel",
      "state": {
       "description": "amp",
       "layout": "IPY_MODEL_bfd81b727ed54a529a411a7fd73ff2a3",
       "max": 4,
       "step": 0.1,
       "style": "IPY_MODEL_8de480622d814961bec76c27377a5201",
       "value": 1
      }
     },
     "3d34b589505d4f4aaa9cba4add5cba09": {
      "model_module": "@jupyter-widgets/controls",
      "model_module_version": "1.5.0",
      "model_name": "ButtonModel",
      "state": {
       "description": "button 1",
       "layout": "IPY_MODEL_9787ccd400fc4d0eaed5a776123352f6",
       "style": "IPY_MODEL_9a5c288acaba44219e1b5ca2c6c46a89"
      }
     },
     "3edbf066fb254e50bc3da78a33e2eecd": {
      "model_module": "@jupyter-widgets/controls",
      "model_module_version": "1.5.0",
      "model_name": "SliderStyleModel",
      "state": {
       "description_width": ""
      }
     },
     "404a2f0eceb849e4b410d5d595b11dd3": {
      "model_module": "@jupyter-widgets/controls",
      "model_module_version": "1.5.0",
      "model_name": "SliderStyleModel",
      "state": {
       "description_width": ""
      }
     },
     "421ecec362de472cb16138a8d433310e": {
      "model_module": "@jupyter-widgets/controls",
      "model_module_version": "1.5.0",
      "model_name": "SliderStyleModel",
      "state": {
       "description_width": ""
      }
     },
     "467b79e89ee2408f9769c3d78a8186d7": {
      "model_module": "@jupyter-widgets/controls",
      "model_module_version": "1.5.0",
      "model_name": "LabelModel",
      "state": {
       "layout": "IPY_MODEL_72647a4630704163a93d5d2fa3df6e5e",
       "style": "IPY_MODEL_60ea2e5d893d428cbb20eb0d6dc18874",
       "value": "A label"
      }
     },
     "47a6b23546804ebdbe47b3d759af10a1": {
      "model_module": "@jupyter-widgets/controls",
      "model_module_version": "1.5.0",
      "model_name": "DescriptionStyleModel",
      "state": {
       "description_width": ""
      }
     },
     "49f503afcc0d4721b2479ff1dbefef42": {
      "model_module": "@jupyter-widgets/controls",
      "model_module_version": "1.5.0",
      "model_name": "SliderStyleModel",
      "state": {
       "description_width": ""
      }
     },
     "4b469e93b0104c4c96653958bf98ce76": {
      "model_module": "@jupyter-widgets/base",
      "model_module_version": "1.2.0",
      "model_name": "LayoutModel",
      "state": {}
     },
     "4b5eb6e6918649628f572300452134be": {
      "model_module": "@jupyter-widgets/base",
      "model_module_version": "1.2.0",
      "model_name": "LayoutModel",
      "state": {}
     },
     "4c0512189aa84a5382bfda9321c9007a": {
      "model_module": "@jupyter-widgets/base",
      "model_module_version": "1.2.0",
      "model_name": "LayoutModel",
      "state": {}
     },
     "4e0c51c2124349f7a0a5cb0b5894f8b4": {
      "model_module": "@jupyter-widgets/controls",
      "model_module_version": "1.5.0",
      "model_name": "VBoxModel",
      "state": {
       "children": [
        "IPY_MODEL_467b79e89ee2408f9769c3d78a8186d7",
        "IPY_MODEL_72e1840717484b47b6f629ab78ad8dfb",
        "IPY_MODEL_6777dda0aa7d43d5aecfab6c10b4934e",
        "IPY_MODEL_01aec2874f6c4928a019c56ce5f819ac"
       ],
       "layout": "IPY_MODEL_2c5bcd3006874b798cd704c0abde87b8"
      }
     },
     "4f1a2c8088014678b0d08907e2135bcb": {
      "model_module": "@jupyter-widgets/controls",
      "model_module_version": "1.5.0",
      "model_name": "FloatSliderModel",
      "state": {
       "description": "c",
       "layout": "IPY_MODEL_df81423820354b618f1cf00a125ad88d",
       "max": 6.293185307179586,
       "step": 0.01,
       "style": "IPY_MODEL_49f503afcc0d4721b2479ff1dbefef42"
      }
     },
     "4f281225a8e84d598d30faa296ab9022": {
      "model_module": "@jupyter-widgets/controls",
      "model_module_version": "1.5.0",
      "model_name": "ProgressStyleModel",
      "state": {
       "description_width": ""
      }
     },
     "506e9a212ac845dc85218c4bff2a82e8": {
      "model_module": "@jupyter-widgets/controls",
      "model_module_version": "1.5.0",
      "model_name": "LabelModel",
      "state": {
       "layout": "IPY_MODEL_967f630ef04a40d0b22e8d2ede0d7944",
       "style": "IPY_MODEL_5da435ce2b32477fb94f3454ab8d06d1",
       "value": "Right"
      }
     },
     "524cde364dcd4ae38c29f4520f6782eb": {
      "model_module": "@jupyter-widgets/controls",
      "model_module_version": "1.5.0",
      "model_name": "VBoxModel",
      "state": {
       "_dom_classes": [
        "widget-interact"
       ],
       "children": [
        "IPY_MODEL_2edece79bc8945c39a6ee0753c45e0a4",
        "IPY_MODEL_9d28ff2625fc4e419b1e1166e607ea85",
        "IPY_MODEL_4f1a2c8088014678b0d08907e2135bcb",
        "IPY_MODEL_57e376c3a193408886322329a299a32d"
       ],
       "layout": "IPY_MODEL_69b64dc72d304310b0b8b856c1eff3f2"
      }
     },
     "5264fc99aa7142289f9124a9ac4e3c6c": {
      "model_module": "@jupyter-widgets/controls",
      "model_module_version": "1.5.0",
      "model_name": "DescriptionStyleModel",
      "state": {
       "description_width": ""
      }
     },
     "5532daa825d04675b37357909c7e6d56": {
      "model_module": "@jupyter-widgets/controls",
      "model_module_version": "1.5.0",
      "model_name": "DescriptionStyleModel",
      "state": {
       "description_width": ""
      }
     },
     "5551448e58d74573a20c1b66499faa3a": {
      "model_module": "@jupyter-widgets/base",
      "model_module_version": "1.2.0",
      "model_name": "LayoutModel",
      "state": {}
     },
     "55626889f7554d9aa631736ce27a01b0": {
      "model_module": "@jupyter-widgets/controls",
      "model_module_version": "1.5.0",
      "model_name": "DescriptionStyleModel",
      "state": {
       "description_width": ""
      }
     },
     "55c311a39e5f4a70a6ae6a13b57a2e67": {
      "model_module": "@jupyter-widgets/controls",
      "model_module_version": "1.5.0",
      "model_name": "IntSliderModel",
      "state": {
       "description": "freq",
       "layout": "IPY_MODEL_55cc7efca964412dbdc1612a05174f81",
       "max": 10,
       "style": "IPY_MODEL_2d582fcce5674381ac29298a1a6bc59a",
       "value": 1
      }
     },
     "55cc7efca964412dbdc1612a05174f81": {
      "model_module": "@jupyter-widgets/base",
      "model_module_version": "1.2.0",
      "model_name": "LayoutModel",
      "state": {}
     },
     "57e376c3a193408886322329a299a32d": {
      "model_module": "@jupyter-widgets/output",
      "model_module_version": "1.0.0",
      "model_name": "OutputModel",
      "state": {
       "layout": "IPY_MODEL_06459677f906402c881cd44f77089719",
       "outputs": [
        {
         "data": {
          "text/latex": "\\[\n\\begin{aligned}\nr &= \\frac{ \\left( - b \\right) + \\sqrt { \\left( b \\right) ^{ 7 } - 4 \\cdot a \\cdot c } }{ 2 \\cdot a }  = \\frac{ \\left( - 1.0 \\right) + \\sqrt { \\left( 1.0 \\right) ^{ 7 } - 4 \\cdot 1 \\cdot 0.0 } }{ 2 \\cdot 1 } &= 0.0  \n\\end{aligned}\n\\]",
          "text/plain": "<IPython.core.display.Latex object>"
         },
         "metadata": {},
         "output_type": "display_data"
        }
       ]
      }
     },
     "5da435ce2b32477fb94f3454ab8d06d1": {
      "model_module": "@jupyter-widgets/controls",
      "model_module_version": "1.5.0",
      "model_name": "DescriptionStyleModel",
      "state": {
       "description_width": ""
      }
     },
     "5dca2ba1f40b46beb956d6ae9e8f13f4": {
      "model_module": "@jupyter-widgets/controls",
      "model_module_version": "1.5.0",
      "model_name": "VBoxModel",
      "state": {
       "children": [
        "IPY_MODEL_3d34b589505d4f4aaa9cba4add5cba09",
        "IPY_MODEL_e76ab38a9b3e4f99a7e0abf4d08274aa",
        "IPY_MODEL_fdd3ddbd3dcb454885485208ec4d80ff"
       ],
       "layout": "IPY_MODEL_99003805be244605bce7794518e70ecb"
      }
     },
     "5ecd4ca400fa4696b699dc97f6172d7e": {
      "model_module": "@jupyter-widgets/base",
      "model_module_version": "1.2.0",
      "model_name": "LayoutModel",
      "state": {
       "height": "200px"
      }
     },
     "60ea2e5d893d428cbb20eb0d6dc18874": {
      "model_module": "@jupyter-widgets/controls",
      "model_module_version": "1.5.0",
      "model_name": "DescriptionStyleModel",
      "state": {
       "description_width": ""
      }
     },
     "651d1d4086ab4dedade06c3e5058a1df": {
      "model_module": "@jupyter-widgets/controls",
      "model_module_version": "1.5.0",
      "model_name": "VBoxModel",
      "state": {
       "children": [
        "IPY_MODEL_a8645540597343bba87b951ccb159f66",
        "IPY_MODEL_3b865162a8214ed998d6dd4685208d6d",
        "IPY_MODEL_9e235f81543d47cebc9ce6e66d4a8278",
        "IPY_MODEL_9a4ca31b8e42473483fb6b237b7b9476",
        "IPY_MODEL_1b5269c8c65143158bb2943166a7c757",
        "IPY_MODEL_eda8d95cb8d84a2faaf0a971d1990c79"
       ],
       "layout": "IPY_MODEL_a4a62ec007c344b5bb117aaedb0aa513"
      }
     },
     "65681c25f0964b0eaa26920e7518399b": {
      "model_module": "@jupyter-widgets/controls",
      "model_module_version": "1.5.0",
      "model_name": "TextModel",
      "state": {
       "continuous_update": false,
       "description": "xlabel",
       "layout": "IPY_MODEL_373136f76b2f4299960aacab1c6ad446",
       "style": "IPY_MODEL_f887683404ab4c3fbf3de9b51277d4f4",
       "value": "x"
      }
     },
     "6777dda0aa7d43d5aecfab6c10b4934e": {
      "model_module": "@jupyter-widgets/controls",
      "model_module_version": "1.5.0",
      "model_name": "TextModel",
      "state": {
       "description": "text field",
       "layout": "IPY_MODEL_4b469e93b0104c4c96653958bf98ce76",
       "style": "IPY_MODEL_eefbe27e84ec43358dbf9670cf478835",
       "value": "A text field"
      }
     },
     "69b64dc72d304310b0b8b856c1eff3f2": {
      "model_module": "@jupyter-widgets/base",
      "model_module_version": "1.2.0",
      "model_name": "LayoutModel",
      "state": {}
     },
     "6b6a8d16d61e4a8a8f061be8cb3ff913": {
      "model_module": "@jupyter-widgets/controls",
      "model_module_version": "1.5.0",
      "model_name": "ButtonStyleModel",
      "state": {}
     },
     "6c5c9bfb02ba4c619c3f2043518434e5": {
      "model_module": "@jupyter-widgets/base",
      "model_module_version": "1.2.0",
      "model_name": "LayoutModel",
      "state": {}
     },
     "6ee0d8ef19e644749418d9584b35aedd": {
      "model_module": "@jupyter-widgets/controls",
      "model_module_version": "1.5.0",
      "model_name": "TextModel",
      "state": {
       "continuous_update": false,
       "description": "ylabel",
       "layout": "IPY_MODEL_a918acb446c64cd48c3ffbe866113e89",
       "style": "IPY_MODEL_3066614b2a744db584ad33da2473b1da",
       "value": "y"
      }
     },
     "6f6b0d97f2ae4085a14eb909d32acb46": {
      "model_module": "@jupyter-widgets/controls",
      "model_module_version": "1.5.0",
      "model_name": "FloatTextModel",
      "state": {
       "description": "y",
       "layout": "IPY_MODEL_37ecfae45e28490f827b131b9283b222",
       "step": null,
       "style": "IPY_MODEL_5532daa825d04675b37357909c7e6d56",
       "value": 6.5
      }
     },
     "7070dbb1bc464429864b3372d489f8ef": {
      "model_module": "@jupyter-widgets/controls",
      "model_module_version": "1.5.0",
      "model_name": "SliderStyleModel",
      "state": {
       "description_width": ""
      }
     },
     "7103d3af8f404cd589c262339e258bf9": {
      "model_module": "@jupyter-widgets/controls",
      "model_module_version": "1.5.0",
      "model_name": "ColorPickerModel",
      "state": {
       "description": "pick a color",
       "disabled": false,
       "layout": "IPY_MODEL_dbbe18634b03481087af77e78207a971",
       "style": "IPY_MODEL_c0a892c2f3404440b681a3a1a139e2da",
       "value": "#FF00DD"
      }
     },
     "7149096c6c88450dad0de32871daca68": {
      "model_module": "@jupyter-widgets/base",
      "model_module_version": "1.2.0",
      "model_name": "LayoutModel",
      "state": {}
     },
     "71b041de0840418db5e9e44391b26a59": {
      "model_module": "@jupyter-widgets/controls",
      "model_module_version": "1.5.0",
      "model_name": "DescriptionStyleModel",
      "state": {
       "description_width": ""
      }
     },
     "7244608f87164bea81e5edc3183ae83e": {
      "model_module": "@jupyter-widgets/base",
      "model_module_version": "1.2.0",
      "model_name": "LayoutModel",
      "state": {}
     },
     "72647a4630704163a93d5d2fa3df6e5e": {
      "model_module": "@jupyter-widgets/base",
      "model_module_version": "1.2.0",
      "model_name": "LayoutModel",
      "state": {}
     },
     "72e1840717484b47b6f629ab78ad8dfb": {
      "model_module": "@jupyter-widgets/controls",
      "model_module_version": "1.5.0",
      "model_name": "HTMLModel",
      "state": {
       "layout": "IPY_MODEL_4c0512189aa84a5382bfda9321c9007a",
       "style": "IPY_MODEL_47a6b23546804ebdbe47b3d759af10a1",
       "value": "<b>Formatted</b> <font color=\"red\">html</font>"
      }
     },
     "7695315eee6246dea6b9f3a0b4ed2836": {
      "model_module": "@jupyter-widgets/base",
      "model_module_version": "1.2.0",
      "model_name": "LayoutModel",
      "state": {}
     },
     "76fc4841b8604a469039bef1e40b7234": {
      "model_module": "@jupyter-widgets/controls",
      "model_module_version": "1.5.0",
      "model_name": "VBoxModel",
      "state": {
       "children": [
        "IPY_MODEL_55c311a39e5f4a70a6ae6a13b57a2e67",
        "IPY_MODEL_7103d3af8f404cd589c262339e258bf9",
        "IPY_MODEL_65681c25f0964b0eaa26920e7518399b",
        "IPY_MODEL_6ee0d8ef19e644749418d9584b35aedd"
       ],
       "layout": "IPY_MODEL_d22c4aee9cd6451ca10f20dfa4c63983"
      }
     },
     "78b36238ec8049d0b8c810ad6a9f092a": {
      "model_module": "@jupyter-widgets/base",
      "model_module_version": "1.2.0",
      "model_name": "LayoutModel",
      "state": {
       "border": "solid 1px red",
       "margin": "0px 10px 10px 0px",
       "padding": "5px 5px 5px 5px"
      }
     },
     "78f478a16f1f4979bcbf4868c945347c": {
      "model_module": "@jupyter-widgets/controls",
      "model_module_version": "1.5.0",
      "model_name": "DescriptionStyleModel",
      "state": {
       "description_width": ""
      }
     },
     "7b3995faf8344687ae985f007a0ac0a0": {
      "model_module": "@jupyter-widgets/base",
      "model_module_version": "1.2.0",
      "model_name": "LayoutModel",
      "state": {}
     },
     "7e8ddc2a7dfc4188ba2041097ea95110": {
      "model_module": "@jupyter-widgets/base",
      "model_module_version": "1.2.0",
      "model_name": "LayoutModel",
      "state": {}
     },
     "805f42cd559e4509ae9ce3d74e246c56": {
      "model_module": "@jupyter-widgets/controls",
      "model_module_version": "1.5.0",
      "model_name": "SliderStyleModel",
      "state": {
       "description_width": ""
      }
     },
     "862c2abbadf645d6a2b6dac35c204a4e": {
      "model_module": "@jupyter-widgets/controls",
      "model_module_version": "1.5.0",
      "model_name": "VBoxModel",
      "state": {
       "children": [
        "IPY_MODEL_a9044042de0e43e8b895a3e1e8710c19",
        "IPY_MODEL_3d34b589505d4f4aaa9cba4add5cba09",
        "IPY_MODEL_e76ab38a9b3e4f99a7e0abf4d08274aa"
       ],
       "layout": "IPY_MODEL_3cba44990676473ab5ccbee540a4fe60"
      }
     },
     "8bfbce3d1e994d52a40c2e898799c762": {
      "model_module": "@jupyter-widgets/base",
      "model_module_version": "1.2.0",
      "model_name": "LayoutModel",
      "state": {}
     },
     "8c03dbe09c6642f7b41fd85d237dc0e9": {
      "model_module": "jupyter-matplotlib",
      "model_module_version": "^0.7.4",
      "model_name": "ToolbarModel",
      "state": {
       "layout": "IPY_MODEL_b93d054a38964cd498dfe7fe07172d8a",
       "orientation": "horizontal",
       "toolitems": [
        [
         "Home",
         "Reset original view",
         "home",
         "home"
        ],
        [
         "Back",
         "Back to previous view",
         "arrow-left",
         "back"
        ],
        [
         "Forward",
         "Forward to next view",
         "arrow-right",
         "forward"
        ],
        [
         "Pan",
         "Left button pans, Right button zooms\nx/y fixes axis, CTRL fixes aspect",
         "arrows",
         "pan"
        ],
        [
         "Zoom",
         "Zoom to rectangle\nx/y fixes axis, CTRL fixes aspect",
         "square-o",
         "zoom"
        ],
        [
         "Download",
         "Download plot",
         "floppy-o",
         "save_figure"
        ]
       ]
      }
     },
     "8de480622d814961bec76c27377a5201": {
      "model_module": "@jupyter-widgets/controls",
      "model_module_version": "1.5.0",
      "model_name": "SliderStyleModel",
      "state": {
       "description_width": ""
      }
     },
     "925d310533934b2cb9195741d6c0c797": {
      "model_module": "jupyter-matplotlib",
      "model_module_version": "^0.7.4",
      "model_name": "ToolbarModel",
      "state": {
       "layout": "IPY_MODEL_29721ac2c5214c0885d04fdb6e818133",
       "toolitems": [
        [
         "Home",
         "Reset original view",
         "home",
         "home"
        ],
        [
         "Back",
         "Back to previous view",
         "arrow-left",
         "back"
        ],
        [
         "Forward",
         "Forward to next view",
         "arrow-right",
         "forward"
        ],
        [
         "Pan",
         "Left button pans, Right button zooms\nx/y fixes axis, CTRL fixes aspect",
         "arrows",
         "pan"
        ],
        [
         "Zoom",
         "Zoom to rectangle\nx/y fixes axis, CTRL fixes aspect",
         "square-o",
         "zoom"
        ],
        [
         "Download",
         "Download plot",
         "floppy-o",
         "save_figure"
        ]
       ]
      }
     },
     "967f630ef04a40d0b22e8d2ede0d7944": {
      "model_module": "@jupyter-widgets/base",
      "model_module_version": "1.2.0",
      "model_name": "LayoutModel",
      "state": {}
     },
     "968bcf7fbba147ad96b4d2d95e2db2d9": {
      "model_module": "@jupyter-widgets/base",
      "model_module_version": "1.2.0",
      "model_name": "LayoutModel",
      "state": {}
     },
     "9787ccd400fc4d0eaed5a776123352f6": {
      "model_module": "@jupyter-widgets/base",
      "model_module_version": "1.2.0",
      "model_name": "LayoutModel",
      "state": {}
     },
     "983ac8ed9796462c84bef0bc19eb158a": {
      "model_module": "@jupyter-widgets/base",
      "model_module_version": "1.2.0",
      "model_name": "LayoutModel",
      "state": {}
     },
     "99003805be244605bce7794518e70ecb": {
      "model_module": "@jupyter-widgets/base",
      "model_module_version": "1.2.0",
      "model_name": "LayoutModel",
      "state": {}
     },
     "9a4ca31b8e42473483fb6b237b7b9476": {
      "model_module": "@jupyter-widgets/controls",
      "model_module_version": "1.5.0",
      "model_name": "RadioButtonsModel",
      "state": {
       "_options_labels": [
        "jan",
        "feb",
        "mar",
        "apr"
       ],
       "description": "radio buttons",
       "index": 1,
       "layout": "IPY_MODEL_4b5eb6e6918649628f572300452134be",
       "style": "IPY_MODEL_78f478a16f1f4979bcbf4868c945347c"
      }
     },
     "9a5c288acaba44219e1b5ca2c6c46a89": {
      "model_module": "@jupyter-widgets/controls",
      "model_module_version": "1.5.0",
      "model_name": "ButtonStyleModel",
      "state": {}
     },
     "9afadbe666bc45389598d7e13b9fb371": {
      "model_module": "@jupyter-widgets/base",
      "model_module_version": "1.2.0",
      "model_name": "LayoutModel",
      "state": {}
     },
     "9d28ff2625fc4e419b1e1166e607ea85": {
      "model_module": "@jupyter-widgets/controls",
      "model_module_version": "1.5.0",
      "model_name": "FloatSliderModel",
      "state": {
       "description": "b",
       "layout": "IPY_MODEL_7149096c6c88450dad0de32871daca68",
       "max": 4,
       "step": 0.1,
       "style": "IPY_MODEL_421ecec362de472cb16138a8d433310e",
       "value": 1
      }
     },
     "9e235f81543d47cebc9ce6e66d4a8278": {
      "model_module": "@jupyter-widgets/controls",
      "model_module_version": "1.5.0",
      "model_name": "DropdownModel",
      "state": {
       "_options_labels": [
        "jan",
        "feb",
        "mar",
        "apr"
       ],
       "description": "dropdown",
       "index": 1,
       "layout": "IPY_MODEL_ebf1bb48c22f4f2285b46f06c8f20f1e",
       "style": "IPY_MODEL_5264fc99aa7142289f9124a9ac4e3c6c"
      }
     },
     "9f11cdf4a8ab45fab80447f9b1df6b0e": {
      "model_module": "@jupyter-widgets/controls",
      "model_module_version": "1.5.0",
      "model_name": "DescriptionStyleModel",
      "state": {
       "description_width": ""
      }
     },
     "9f1d8bae02f6480ca35e4b3d939a6890": {
      "model_module": "@jupyter-widgets/controls",
      "model_module_version": "1.5.0",
      "model_name": "LabelModel",
      "state": {
       "layout": "IPY_MODEL_7695315eee6246dea6b9f3a0b4ed2836",
       "style": "IPY_MODEL_9f11cdf4a8ab45fab80447f9b1df6b0e",
       "value": "Left"
      }
     },
     "a15a8b04ef8a4855b10a4d3d25d946e0": {
      "model_module": "@jupyter-widgets/base",
      "model_module_version": "1.2.0",
      "model_name": "LayoutModel",
      "state": {}
     },
     "a1c060f64ae643e5914158ad479f59f0": {
      "model_module": "@jupyter-widgets/controls",
      "model_module_version": "1.5.0",
      "model_name": "DescriptionStyleModel",
      "state": {
       "description_width": ""
      }
     },
     "a4258208ae054d7090ba8a3d02c9d775": {
      "model_module": "@jupyter-widgets/base",
      "model_module_version": "1.2.0",
      "model_name": "LayoutModel",
      "state": {}
     },
     "a4a62ec007c344b5bb117aaedb0aa513": {
      "model_module": "@jupyter-widgets/base",
      "model_module_version": "1.2.0",
      "model_name": "LayoutModel",
      "state": {}
     },
     "a8645540597343bba87b951ccb159f66": {
      "model_module": "@jupyter-widgets/controls",
      "model_module_version": "1.5.0",
      "model_name": "IntSliderModel",
      "state": {
       "description": "slider",
       "layout": "IPY_MODEL_27bf53056c3a4ab891985e484e25b5a1",
       "max": 10,
       "style": "IPY_MODEL_d8e6724571824bd1849791d63a240bc4",
       "value": 5
      }
     },
     "a9044042de0e43e8b895a3e1e8710c19": {
      "model_module": "@jupyter-widgets/controls",
      "model_module_version": "1.5.0",
      "model_name": "LabelModel",
      "state": {
       "layout": "IPY_MODEL_31d7e3c9da7e46888a61dbfc821d5a3a",
       "style": "IPY_MODEL_a1c060f64ae643e5914158ad479f59f0",
       "value": "Left"
      }
     },
     "a918acb446c64cd48c3ffbe866113e89": {
      "model_module": "@jupyter-widgets/base",
      "model_module_version": "1.2.0",
      "model_name": "LayoutModel",
      "state": {}
     },
     "aa9080daa6914d4fa6c7900905fbcc90": {
      "model_module": "@jupyter-widgets/controls",
      "model_module_version": "1.5.0",
      "model_name": "ButtonStyleModel",
      "state": {}
     },
     "ae1421c2204f4f45935cd16a1ab68cd8": {
      "model_module": "@jupyter-widgets/base",
      "model_module_version": "1.2.0",
      "model_name": "LayoutModel",
      "state": {}
     },
     "b1879d8da189414b9b0c70328a667e0a": {
      "model_module": "@jupyter-widgets/controls",
      "model_module_version": "1.5.0",
      "model_name": "VBoxModel",
      "state": {
       "children": [
        "IPY_MODEL_506e9a212ac845dc85218c4bff2a82e8",
        "IPY_MODEL_9e235f81543d47cebc9ce6e66d4a8278",
        "IPY_MODEL_9a4ca31b8e42473483fb6b237b7b9476"
       ],
       "layout": "IPY_MODEL_78b36238ec8049d0b8c810ad6a9f092a"
      }
     },
     "b390d6cc43fe4763b595b6be7fa25292": {
      "model_module": "@jupyter-widgets/controls",
      "model_module_version": "1.5.0",
      "model_name": "FloatSliderModel",
      "state": {
       "description": "phi",
       "layout": "IPY_MODEL_0e3132070bb5453bb0441c8fc284ce4a",
       "max": 6.293185307179586,
       "step": 0.01,
       "style": "IPY_MODEL_3edbf066fb254e50bc3da78a33e2eecd"
      }
     },
     "b93d054a38964cd498dfe7fe07172d8a": {
      "model_module": "@jupyter-widgets/base",
      "model_module_version": "1.2.0",
      "model_name": "LayoutModel",
      "state": {}
     },
     "bfd81b727ed54a529a411a7fd73ff2a3": {
      "model_module": "@jupyter-widgets/base",
      "model_module_version": "1.2.0",
      "model_name": "LayoutModel",
      "state": {}
     },
     "c0a892c2f3404440b681a3a1a139e2da": {
      "model_module": "@jupyter-widgets/controls",
      "model_module_version": "1.5.0",
      "model_name": "DescriptionStyleModel",
      "state": {
       "description_width": ""
      }
     },
     "c2722188ae3c4017a86b86a355186dfb": {
      "model_module": "@jupyter-widgets/controls",
      "model_module_version": "1.5.0",
      "model_name": "DescriptionStyleModel",
      "state": {
       "description_width": ""
      }
     },
     "cf00a403f6b94e21a982bd83139b09af": {
      "model_module": "@jupyter-widgets/base",
      "model_module_version": "1.2.0",
      "model_name": "LayoutModel",
      "state": {}
     },
     "d1b3898d8da24ddf8383aeb2ddd58934": {
      "model_module": "jupyter-matplotlib",
      "model_module_version": "^0.7.4",
      "model_name": "MPLCanvasModel",
      "state": {
       "_cursor": "default",
       "_figure_label": "Figure 2",
       "_height": 400,
       "_width": 600,
       "layout": "IPY_MODEL_a15a8b04ef8a4855b10a4d3d25d946e0",
       "toolbar": "IPY_MODEL_925d310533934b2cb9195741d6c0c797",
       "toolbar_position": "left"
      }
     },
     "d22c4aee9cd6451ca10f20dfa4c63983": {
      "model_module": "@jupyter-widgets/base",
      "model_module_version": "1.2.0",
      "model_name": "LayoutModel",
      "state": {
       "border": "solid 1px black",
       "margin": "0px 10px 10px 0px",
       "padding": "5px 5px 5px 5px"
      }
     },
     "d242a1f90664449694203b8f8884fa42": {
      "model_module": "@jupyter-widgets/base",
      "model_module_version": "1.2.0",
      "model_name": "LayoutModel",
      "state": {
       "border": "solid 1px black",
       "margin": "0px 10px 10px 0px",
       "padding": "5px 5px 5px 5px"
      }
     },
     "d413a6d50c394b4f855a476525e7e41c": {
      "model_module": "@jupyter-widgets/controls",
      "model_module_version": "1.5.0",
      "model_name": "FloatProgressModel",
      "state": {
       "layout": "IPY_MODEL_7e8ddc2a7dfc4188ba2041097ea95110",
       "max": 1,
       "style": "IPY_MODEL_4f281225a8e84d598d30faa296ab9022",
       "value": 0.54
      }
     },
     "d54e31777fbb4fff9198f08104b434a6": {
      "model_module": "@jupyter-widgets/controls",
      "model_module_version": "1.5.0",
      "model_name": "VBoxModel",
      "state": {
       "children": [
        "IPY_MODEL_e7b59ae81cd44d29ac1b97d7bd16ef3c",
        "IPY_MODEL_9e235f81543d47cebc9ce6e66d4a8278",
        "IPY_MODEL_9a4ca31b8e42473483fb6b237b7b9476"
       ],
       "layout": "IPY_MODEL_dd0516938bb84272b4ebd9ee83e81363"
      }
     },
     "d645d89701184d79ab6dfeb88bd7c8ec": {
      "model_module": "@jupyter-widgets/controls",
      "model_module_version": "1.5.0",
      "model_name": "IntSliderModel",
      "state": {
       "description": "w",
       "layout": "IPY_MODEL_ae1421c2204f4f45935cd16a1ab68cd8",
       "max": 10,
       "style": "IPY_MODEL_7070dbb1bc464429864b3372d489f8ef",
       "value": 1
      }
     },
     "d8e6724571824bd1849791d63a240bc4": {
      "model_module": "@jupyter-widgets/controls",
      "model_module_version": "1.5.0",
      "model_name": "SliderStyleModel",
      "state": {
       "description_width": ""
      }
     },
     "d9c93b89d3ae49e3adaae4fa2cb047a7": {
      "model_module": "@jupyter-widgets/base",
      "model_module_version": "1.2.0",
      "model_name": "LayoutModel",
      "state": {}
     },
     "d9eb120dd5f94250b9ba782996fcc89c": {
      "model_module": "@jupyter-widgets/controls",
      "model_module_version": "1.5.0",
      "model_name": "HBoxModel",
      "state": {
       "children": [
        "IPY_MODEL_3d34b589505d4f4aaa9cba4add5cba09",
        "IPY_MODEL_e76ab38a9b3e4f99a7e0abf4d08274aa",
        "IPY_MODEL_fdd3ddbd3dcb454885485208ec4d80ff"
       ],
       "layout": "IPY_MODEL_d9c93b89d3ae49e3adaae4fa2cb047a7"
      }
     },
     "dbbe18634b03481087af77e78207a971": {
      "model_module": "@jupyter-widgets/base",
      "model_module_version": "1.2.0",
      "model_name": "LayoutModel",
      "state": {}
     },
     "dc77de161a1e47acb53e0e1b4beb54b2": {
      "model_module": "@jupyter-widgets/base",
      "model_module_version": "1.2.0",
      "model_name": "LayoutModel",
      "state": {}
     },
     "dd0516938bb84272b4ebd9ee83e81363": {
      "model_module": "@jupyter-widgets/base",
      "model_module_version": "1.2.0",
      "model_name": "LayoutModel",
      "state": {}
     },
     "dd452f0058e14b969f5579a4fa15a521": {
      "model_module": "@jupyter-widgets/base",
      "model_module_version": "1.2.0",
      "model_name": "LayoutModel",
      "state": {}
     },
     "df81423820354b618f1cf00a125ad88d": {
      "model_module": "@jupyter-widgets/base",
      "model_module_version": "1.2.0",
      "model_name": "LayoutModel",
      "state": {}
     },
     "e0ec882bbf4241dfb5e278c8184d0f2a": {
      "model_module": "@jupyter-widgets/controls",
      "model_module_version": "1.5.0",
      "model_name": "DescriptionStyleModel",
      "state": {
       "description_width": ""
      }
     },
     "e5746e01c00d4de39649bf2ee1a2ab75": {
      "model_module": "@jupyter-widgets/controls",
      "model_module_version": "1.5.0",
      "model_name": "FloatTextModel",
      "state": {
       "description": "x",
       "layout": "IPY_MODEL_968bcf7fbba147ad96b4d2d95e2db2d9",
       "step": null,
       "style": "IPY_MODEL_55626889f7554d9aa631736ce27a01b0",
       "value": 13
      }
     },
     "e728a667d0a84394bc93d63d913f256c": {
      "model_module": "@jupyter-widgets/base",
      "model_module_version": "1.2.0",
      "model_name": "LayoutModel",
      "state": {}
     },
     "e76ab38a9b3e4f99a7e0abf4d08274aa": {
      "model_module": "@jupyter-widgets/controls",
      "model_module_version": "1.5.0",
      "model_name": "ButtonModel",
      "state": {
       "description": "button 2",
       "layout": "IPY_MODEL_8bfbce3d1e994d52a40c2e898799c762",
       "style": "IPY_MODEL_aa9080daa6914d4fa6c7900905fbcc90"
      }
     },
     "e7b59ae81cd44d29ac1b97d7bd16ef3c": {
      "model_module": "@jupyter-widgets/controls",
      "model_module_version": "1.5.0",
      "model_name": "LabelModel",
      "state": {
       "layout": "IPY_MODEL_7244608f87164bea81e5edc3183ae83e",
       "style": "IPY_MODEL_ecbfc458c7fe4af583b033c9e9116756",
       "value": "Right"
      }
     },
     "e8196593c94d4befa63e7889642b6f8e": {
      "model_module": "@jupyter-widgets/controls",
      "model_module_version": "1.5.0",
      "model_name": "DescriptionStyleModel",
      "state": {
       "description_width": ""
      }
     },
     "e8d2291ed2534b03b297857ab4ca5605": {
      "model_module": "@jupyter-widgets/base",
      "model_module_version": "1.2.0",
      "model_name": "LayoutModel",
      "state": {}
     },
     "ebf1bb48c22f4f2285b46f06c8f20f1e": {
      "model_module": "@jupyter-widgets/base",
      "model_module_version": "1.2.0",
      "model_name": "LayoutModel",
      "state": {}
     },
     "ebff556679e14400b63bcff09897ef31": {
      "model_module": "@jupyter-widgets/base",
      "model_module_version": "1.2.0",
      "model_name": "LayoutModel",
      "state": {}
     },
     "ecbfc458c7fe4af583b033c9e9116756": {
      "model_module": "@jupyter-widgets/controls",
      "model_module_version": "1.5.0",
      "model_name": "DescriptionStyleModel",
      "state": {
       "description_width": ""
      }
     },
     "ed004146e7904ac59f56c617bd82f34d": {
      "model_module": "@jupyter-widgets/controls",
      "model_module_version": "1.5.0",
      "model_name": "TextareaModel",
      "state": {
       "layout": "IPY_MODEL_5ecd4ca400fa4696b699dc97f6172d7e",
       "style": "IPY_MODEL_268cfa079a024d2cbdef3318a60115bd",
       "value": "Accordion\nAppLayout\nAudio\nBoundedFloatText\nBoundedIntText\nBox\nButton\nButtonStyle\nCallbackDispatcher\nCheckbox\nColor\nColorPicker\nCombobox\nController\nCoreWidget\nDOMWidget\nDatePicker\nDatetime\nDropdown\nFileUpload\nFloatLogSlider\nFloatProgress\nFloatRangeSlider\nFloatSlider\nFloatText\nGridBox\nGridspecLayout\nHBox\nHTML\nHTMLMath\nImage\nIntProgress\nIntRangeSlider\nIntSlider\nIntText\nLabel\nLayout\nNumberFormat\nOutput\nPassword\nPlay\nRadioButtons\nSelect\nSelectMultiple\nSelectionRangeSlider\nSelectionSlider\nSliderStyle\nStyle\nTab\nText\nTextarea\nToggleButton\nToggleButtons\nToggleButtonsStyle\nTwoByTwoLayout\nVBox\nValid\nValueWidget\nVideo\nWidget"
      }
     },
     "eda8d95cb8d84a2faaf0a971d1990c79": {
      "model_module": "@jupyter-widgets/controls",
      "model_module_version": "1.5.0",
      "model_name": "ComboboxModel",
      "state": {
       "description": "combo box",
       "ensure_option": false,
       "layout": "IPY_MODEL_23f5941a82f9453db397f2302b46e243",
       "options": [
        "Amsterdam",
        "Athens",
        "Lisbon",
        "London",
        "Ljubljana"
       ],
       "placeholder": "start typing... (e.g. L or o)",
       "style": "IPY_MODEL_e8196593c94d4befa63e7889642b6f8e"
      }
     },
     "eefbe27e84ec43358dbf9670cf478835": {
      "model_module": "@jupyter-widgets/controls",
      "model_module_version": "1.5.0",
      "model_name": "DescriptionStyleModel",
      "state": {
       "description_width": ""
      }
     },
     "f118d96f0c1f4b0ca19020f00672e66f": {
      "model_module": "@jupyter-widgets/controls",
      "model_module_version": "1.5.0",
      "model_name": "BoxModel",
      "state": {
       "children": [
        "IPY_MODEL_1c88eb7694064c3ea3ec12838d9d966d"
       ],
       "layout": "IPY_MODEL_cf00a403f6b94e21a982bd83139b09af"
      }
     },
     "f887683404ab4c3fbf3de9b51277d4f4": {
      "model_module": "@jupyter-widgets/controls",
      "model_module_version": "1.5.0",
      "model_name": "DescriptionStyleModel",
      "state": {
       "description_width": ""
      }
     },
     "fb8e858a9f1047088b352901ddcc298e": {
      "model_module": "@jupyter-widgets/base",
      "model_module_version": "1.2.0",
      "model_name": "LayoutModel",
      "state": {}
     },
     "fdd3ddbd3dcb454885485208ec4d80ff": {
      "model_module": "@jupyter-widgets/controls",
      "model_module_version": "1.5.0",
      "model_name": "ButtonModel",
      "state": {
       "description": "button 3",
       "layout": "IPY_MODEL_5551448e58d74573a20c1b66499faa3a",
       "style": "IPY_MODEL_6b6a8d16d61e4a8a8f061be8cb3ff913"
      }
     }
    },
    "version_major": 2,
    "version_minor": 0
   }
  }
 },
 "nbformat": 4,
 "nbformat_minor": 4
}
