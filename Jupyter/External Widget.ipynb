{
 "cells": [
  {
   "cell_type": "code",
   "execution_count": 2,
   "metadata": {},
   "outputs": [],
   "source": [
    "import matplotlib\n",
    "import matplotlib.pyplot as plt\n",
    "\n",
    "from matplotlib.backends.backend_tkagg import FigureCanvasTkAgg\n",
    "matplotlib.use('TkAgg')\n",
    "\n",
    "from tkinter import *\n",
    "from tkinter.ttk import *\n",
    "\n",
    "def graph(text):\n",
    "    tmptext = entry.get()\n",
    "    tmptext = \"$\"+tmptext+\"$\"\n",
    "\n",
    "    ax.clear()\n",
    "    ax.text(0.2, 0.6, tmptext, fontsize = 50)  \n",
    "    canvas.draw()\n",
    "\n",
    "\n",
    "root = Tk()\n",
    "\n",
    "mainframe = Frame(root)\n",
    "mainframe.pack()\n",
    "\n",
    "text = StringVar()\n",
    "entry = Entry(mainframe, width=70, textvariable=text)\n",
    "entry.pack()\n",
    "\n",
    "label = Label(mainframe)\n",
    "label.pack()\n",
    "\n",
    "fig = matplotlib.figure.Figure(figsize=(5, 4), dpi=100)\n",
    "ax = fig.add_subplot(111)\n",
    "\n",
    "canvas = FigureCanvasTkAgg(fig, master=label)\n",
    "canvas.get_tk_widget().pack(side=TOP, fill=BOTH, expand=1)\n",
    "canvas._tkcanvas.pack(side=TOP, fill=BOTH, expand=1)\n",
    "\n",
    "ax.get_xaxis().set_visible(False)\n",
    "ax.get_yaxis().set_visible(False)\n",
    "\n",
    "root.bind('<Return>', graph)\n",
    "root.mainloop()"
   ]
  },
  {
   "cell_type": "code",
   "execution_count": null,
   "metadata": {},
   "outputs": [],
   "source": []
  },
  {
   "cell_type": "code",
   "execution_count": null,
   "metadata": {},
   "outputs": [],
   "source": []
  }
 ],
 "metadata": {
  "kernelspec": {
   "display_name": "Python 3",
   "language": "python",
   "name": "python3"
  },
  "language_info": {
   "codemirror_mode": {
    "name": "ipython",
    "version": 3
   },
   "file_extension": ".py",
   "mimetype": "text/x-python",
   "name": "python",
   "nbconvert_exporter": "python",
   "pygments_lexer": "ipython3",
   "version": "3.9.1"
  },
  "widgets": {
   "application/vnd.jupyter.widget-state+json": {
    "state": {},
    "version_major": 2,
    "version_minor": 0
   }
  }
 },
 "nbformat": 4,
 "nbformat_minor": 4
}
