{
 "cells": [
  {
   "cell_type": "code",
   "execution_count": 26,
   "metadata": {},
   "outputs": [],
   "source": [
    "#import chart_studio.plotly as py\n",
    "#import plotly.graph_objects as go\n",
    "#import plotly.io as pio\n",
    "#from plotly.graph_objs import *\n",
    "#from plotly.offline import download_plotlyjs, init_notebook_mode, plot, iplot\n",
    "\n",
    "#import matplotlib.pyplot as plt\n",
    "\n",
    "from IPython.display import display, HTML\n",
    "from IPython.core.magic import register_cell_magic\n",
    "from ipywidgets import interact, interactive, Layout\n",
    "import ipywidgets as widgets\n",
    "\n",
    "import handcalcs.render\n",
    "from handcalcs.decorator import handcalc\n",
    "\n",
    "from math import sqrt, sin, tan, cos, radians\n",
    "#from scipy.integrate import quad\n",
    "#import numpy as np\n",
    "#import pandas as pd\n",
    "\n",
    "import sympy as sp\n",
    "import time\n",
    "import pylab as pl\n",
    "\n",
    "import forallpeople as si\n",
    "si.environment('structural', top_level=True)"
   ]
  },
  {
   "cell_type": "code",
   "execution_count": 27,
   "metadata": {},
   "outputs": [
    {
     "data": {
      "text/html": [
       "<style>\n",
       ".widget-vbox {\n",
       "    flex-direction: row;\n",
       "    display: block;\n",
       "}\n",
       "\n",
       ".widget-inline-hbox {\n",
       "    display: initial;\n",
       "}\n",
       "\n",
       ".jp-OutputArea-output.jp-RenderedLatex .MathJax_Display {\n",
       "    text-align: center !important;\n",
       "}\n",
       "\n",
       ".jp-OutputArea-output {\n",
       "    overflow: visible !important;\n",
       "}\n",
       "</style>"
      ],
      "text/plain": [
       "<IPython.core.display.HTML object>"
      ]
     },
     "execution_count": 27,
     "metadata": {},
     "output_type": "execute_result"
    }
   ],
   "source": [
    "CSS = \"\"\"\n",
    ".widget-vbox {\n",
    "    flex-direction: row;\n",
    "    display: block;\n",
    "}\n",
    "\n",
    ".widget-inline-hbox {\n",
    "    display: initial;\n",
    "}\n",
    "\n",
    ".jp-OutputArea-output.jp-RenderedLatex .MathJax_Display {\n",
    "    text-align: center !important;\n",
    "}\n",
    "\n",
    ".jp-OutputArea-output {\n",
    "    overflow: visible !important;\n",
    "}\n",
    "\"\"\"\n",
    "\n",
    "HTML('<style>{}</style>'.format(CSS))"
   ]
  },
  {
   "cell_type": "code",
   "execution_count": 28,
   "metadata": {},
   "outputs": [],
   "source": [
    "@register_cell_magic('handle')\n",
    "def handle(line, cell):\n",
    "    try:\n",
    "        exec(cell)\n",
    "    except Exception as e:\n",
    "        display(\"failed\")\n",
    "        #raise # if you want the full trace-back in the notebook"
   ]
  },
  {
   "cell_type": "code",
   "execution_count": 29,
   "metadata": {},
   "outputs": [],
   "source": [
    "@handcalc(jupyter_display=True)\n",
    "def my_calc(a: float, b: float, c: float):\n",
    "    r = (-b+sqrt(b**7-4*a*c))/(2*a)\n",
    "    return r"
   ]
  },
  {
   "cell_type": "code",
   "execution_count": 30,
   "metadata": {},
   "outputs": [],
   "source": [
    "box_layout = Layout(width='200px',\n",
    "                    height='',\n",
    "                    flex_flow='row',\n",
    "                    display='vertical-align')"
   ]
  },
  {
   "cell_type": "code",
   "execution_count": 31,
   "metadata": {},
   "outputs": [],
   "source": [
    "def fltxt():\n",
    "    fWidg = widgets.FloatText(100, layout=box_layout)\n",
    "    return fWidg"
   ]
  },
  {
   "cell_type": "code",
   "execution_count": 32,
   "metadata": {},
   "outputs": [
    {
     "data": {
      "application/vnd.jupyter.widget-view+json": {
       "model_id": "",
       "version_major": 2,
       "version_minor": 0
      },
      "text/plain": [
       "interactive(children=(FloatText(value=100.0, description='a', layout=Layout(display='vertical-align', flex_flo…"
      ]
     },
     "metadata": {},
     "output_type": "display_data"
    }
   ],
   "source": [
    "%%handle\n",
    "\n",
    "@interact(a = fltxt(), b = fltxt(), c = fltxt())\n",
    "def h(a: float, b: float, c: float):\n",
    "    my_calc(a, b, c)"
   ]
  },
  {
   "cell_type": "code",
   "execution_count": 33,
   "metadata": {
    "jupyter": {
     "source_hidden": true
    }
   },
   "outputs": [
    {
     "data": {
      "application/vnd.jupyter.widget-view+json": {
       "model_id": "3ffcb974e5734dca8a322dc246ed8bbb",
       "version_major": 2,
       "version_minor": 0
      },
      "text/plain": [
       "interactive(children=(FloatText(value=100.0, description='a', layout=Layout(display='vertical-align', flex_flo…"
      ]
     },
     "metadata": {},
     "output_type": "display_data"
    }
   ],
   "source": [
    "x = interactive(my_calc, a=fltxt(), b=fltxt(), c=fltxt())\n",
    "display(x)"
   ]
  },
  {
   "cell_type": "code",
   "execution_count": 34,
   "metadata": {
    "jupyter": {
     "source_hidden": true
    }
   },
   "outputs": [
    {
     "data": {
      "application/vnd.jupyter.widget-view+json": {
       "model_id": "525254e63f794500af6ec0d1f7741194",
       "version_major": 2,
       "version_minor": 0
      },
      "text/plain": [
       "HBox(children=(Label(value='The $m$ in $E$=$mc^2$:'), Button(description='aa', style=ButtonStyle())))"
      ]
     },
     "metadata": {},
     "output_type": "display_data"
    }
   ],
   "source": [
    "assa=\"The $m$ in $E$=$mc^2$:\"\n",
    "widgets.HBox([widgets.Label(value=assa), widgets.Button(description=\"aa\")])"
   ]
  },
  {
   "cell_type": "code",
   "execution_count": 35,
   "metadata": {},
   "outputs": [
    {
     "data": {
      "text/latex": [
       "\\[\n",
       "\\begin{aligned}\n",
       "F &= G \\cdot \\left( \\frac{ M + m }{ \\left( R \\right) ^{ M } + \\left( R \\right) ^{ m } + \\left( R \\right) ^{ d } } \\right) \\; \n",
       "\\end{aligned}\n",
       "\\]"
      ],
      "text/plain": [
       "<IPython.core.display.Latex object>"
      ]
     },
     "metadata": {},
     "output_type": "display_data"
    }
   ],
   "source": [
    "G, M, m, r, R, m1, m2, d = sp.symbols(\"G M m r R m1 m2 d\")\n",
    "@handcalc(jupyter_display = \"false\",override='symbolic')\n",
    "def fG():\n",
    "    F = G*((M+m)/(R**M+R**m+R**d))\n",
    "\n",
    "fG()"
   ]
  },
  {
   "cell_type": "code",
   "execution_count": 36,
   "metadata": {},
   "outputs": [
    {
     "data": {
      "text/latex": [
       "$\\displaystyle \\frac{a^{3}}{3} + \\frac{a^{2} b}{2}$"
      ],
      "text/plain": [
       "a**3/3 + a**2*b/2"
      ]
     },
     "execution_count": 36,
     "metadata": {},
     "output_type": "execute_result"
    }
   ],
   "source": [
    "a, b, c = sp.symbols(\"a b c\")\n",
    "da = a**2 + b*a\n",
    "f = sp.integrate(da, a)\n",
    "f"
   ]
  },
  {
   "cell_type": "code",
   "execution_count": null,
   "metadata": {},
   "outputs": [],
   "source": []
  },
  {
   "cell_type": "code",
   "execution_count": null,
   "metadata": {},
   "outputs": [],
   "source": []
  },
  {
   "cell_type": "code",
   "execution_count": null,
   "metadata": {},
   "outputs": [],
   "source": []
  }
 ],
 "metadata": {
  "autoplay": {
   "autoRun": true,
   "hideCodeCells": true
  },
  "kernelspec": {
   "display_name": "Python 3",
   "language": "python",
   "name": "python3"
  },
  "language_info": {
   "codemirror_mode": {
    "name": "ipython",
    "version": 3
   },
   "file_extension": ".py",
   "mimetype": "text/x-python",
   "name": "python",
   "nbconvert_exporter": "python",
   "pygments_lexer": "ipython3",
   "version": "3.9.1"
  },
  "widgets": {
   "application/vnd.jupyter.widget-state+json": {
    "state": {
     "027bd41102b54c8ea1a3f01bcee6d8d7": {
      "model_module": "@jupyter-widgets/controls",
      "model_module_version": "1.5.0",
      "model_name": "ButtonStyleModel",
      "state": {}
     },
     "03150e7aff61432d858cd465be0b9c08": {
      "model_module": "@jupyter-widgets/controls",
      "model_module_version": "1.5.0",
      "model_name": "LabelModel",
      "state": {
       "layout": "IPY_MODEL_afc307ed27b84383983e8932e6f66abd",
       "style": "IPY_MODEL_71c5c15b5cdc44488b28db15222f7b41",
       "value": "The $m$ in $E$=$mc^2$:"
      }
     },
     "0bbe507fafac4178b6127f3ae121278b": {
      "model_module": "@jupyter-widgets/controls",
      "model_module_version": "1.5.0",
      "model_name": "FloatTextModel",
      "state": {
       "description": "b",
       "layout": "IPY_MODEL_3166c87a7643416788433ae011055b27",
       "step": null,
       "style": "IPY_MODEL_2702cf7f19cc44ff9149835275d11f6f",
       "value": 100
      }
     },
     "0bbeb0c82c8d4f65933ed4b5f13256c8": {
      "model_module": "@jupyter-widgets/controls",
      "model_module_version": "1.5.0",
      "model_name": "DescriptionStyleModel",
      "state": {
       "description_width": ""
      }
     },
     "0d137cd3afd443e5b7ed6f8b11070589": {
      "model_module": "@jupyter-widgets/output",
      "model_module_version": "1.0.0",
      "model_name": "OutputModel",
      "state": {
       "layout": "IPY_MODEL_afce56f5b23a4c90bd8a3ad99e71952f",
       "outputs": [
        {
         "data": {
          "text/latex": "\\[\n\\begin{aligned}\nr &= \\frac{ \\left( - b \\right) + \\sqrt { \\left( b \\right) ^{ 7 } - 4 \\cdot a \\cdot c } }{ 2 \\cdot a }  = \\frac{ \\left( - 100.0 \\right) + \\sqrt { \\left( 100.0 \\right) ^{ 7 } - 4 \\cdot 100.0 \\cdot 100.0 } }{ 2 \\cdot 100.0 } &= 49999.5  \n\\end{aligned}\n\\]",
          "text/plain": "<IPython.core.display.Latex object>"
         },
         "metadata": {},
         "output_type": "display_data"
        }
       ]
      }
     },
     "0e468fee832a412e95703c7924217eef": {
      "model_module": "@jupyter-widgets/controls",
      "model_module_version": "1.5.0",
      "model_name": "DescriptionStyleModel",
      "state": {
       "description_width": ""
      }
     },
     "158d5598f2ac4891a41e66e2e73a4a5e": {
      "model_module": "@jupyter-widgets/base",
      "model_module_version": "1.2.0",
      "model_name": "LayoutModel",
      "state": {}
     },
     "194b4b2621294974a276a7d38459d90b": {
      "model_module": "@jupyter-widgets/base",
      "model_module_version": "1.2.0",
      "model_name": "LayoutModel",
      "state": {}
     },
     "1b4d28a40482482fab05a26aadb8c38d": {
      "model_module": "@jupyter-widgets/controls",
      "model_module_version": "1.5.0",
      "model_name": "FloatTextModel",
      "state": {
       "description": "c",
       "layout": "IPY_MODEL_3166c87a7643416788433ae011055b27",
       "step": null,
       "style": "IPY_MODEL_90e418ba42df4e36b18df362aad5f84a",
       "value": 100
      }
     },
     "1f39e8c0f8994c8582a916cece24d232": {
      "model_module": "@jupyter-widgets/controls",
      "model_module_version": "1.5.0",
      "model_name": "DescriptionStyleModel",
      "state": {
       "description_width": ""
      }
     },
     "21ed6402e45f4162ad21bee6315ad404": {
      "model_module": "@jupyter-widgets/controls",
      "model_module_version": "1.5.0",
      "model_name": "ButtonModel",
      "state": {
       "description": "aa",
       "layout": "IPY_MODEL_158d5598f2ac4891a41e66e2e73a4a5e",
       "style": "IPY_MODEL_67d3b561d1024cacb4c13eac09c3364a"
      }
     },
     "2702cf7f19cc44ff9149835275d11f6f": {
      "model_module": "@jupyter-widgets/controls",
      "model_module_version": "1.5.0",
      "model_name": "DescriptionStyleModel",
      "state": {
       "description_width": ""
      }
     },
     "295d445764ac47e6b1482b1f7aebfaa0": {
      "model_module": "@jupyter-widgets/controls",
      "model_module_version": "1.5.0",
      "model_name": "FloatTextModel",
      "state": {
       "description": "a",
       "layout": "IPY_MODEL_3166c87a7643416788433ae011055b27",
       "step": null,
       "style": "IPY_MODEL_389caa541e354c49a1bd8fa41c862a30",
       "value": 100
      }
     },
     "3166c87a7643416788433ae011055b27": {
      "model_module": "@jupyter-widgets/base",
      "model_module_version": "1.2.0",
      "model_name": "LayoutModel",
      "state": {
       "display": "vertical-align",
       "flex_flow": "row",
       "height": "",
       "width": "200px"
      }
     },
     "33858f727bdf4689bede07e6a9812ab7": {
      "model_module": "@jupyter-widgets/controls",
      "model_module_version": "1.5.0",
      "model_name": "VBoxModel",
      "state": {
       "_dom_classes": [
        "widget-interact"
       ],
       "children": [
        "IPY_MODEL_6cb4a8afddfe404993c5b2126f008d92",
        "IPY_MODEL_ee9f2e551df24187bfd2f5ce9ae7ede4",
        "IPY_MODEL_3fe905bb2185487c9f1c34fa2d41fbf2",
        "IPY_MODEL_0d137cd3afd443e5b7ed6f8b11070589"
       ],
       "layout": "IPY_MODEL_4f2cdee03be940ebb5ddf05c67234005"
      }
     },
     "389caa541e354c49a1bd8fa41c862a30": {
      "model_module": "@jupyter-widgets/controls",
      "model_module_version": "1.5.0",
      "model_name": "DescriptionStyleModel",
      "state": {
       "description_width": ""
      }
     },
     "3fe905bb2185487c9f1c34fa2d41fbf2": {
      "model_module": "@jupyter-widgets/controls",
      "model_module_version": "1.5.0",
      "model_name": "FloatTextModel",
      "state": {
       "description": "c",
       "layout": "IPY_MODEL_adf2b4545cc543f69f80cd7fb739e3ba",
       "step": null,
       "style": "IPY_MODEL_0e468fee832a412e95703c7924217eef",
       "value": 100
      }
     },
     "3ffcb974e5734dca8a322dc246ed8bbb": {
      "model_module": "@jupyter-widgets/controls",
      "model_module_version": "1.5.0",
      "model_name": "VBoxModel",
      "state": {
       "_dom_classes": [
        "widget-interact"
       ],
       "children": [
        "IPY_MODEL_295d445764ac47e6b1482b1f7aebfaa0",
        "IPY_MODEL_505a6a17786d4e69bdc34982ad0f47e3",
        "IPY_MODEL_1b4d28a40482482fab05a26aadb8c38d",
        "IPY_MODEL_ce31752ed51d4328a14a55e3f353a596"
       ],
       "layout": "IPY_MODEL_9599998d388b4b81ae16ecca459539bb"
      }
     },
     "4f2cdee03be940ebb5ddf05c67234005": {
      "model_module": "@jupyter-widgets/base",
      "model_module_version": "1.2.0",
      "model_name": "LayoutModel",
      "state": {}
     },
     "505a6a17786d4e69bdc34982ad0f47e3": {
      "model_module": "@jupyter-widgets/controls",
      "model_module_version": "1.5.0",
      "model_name": "FloatTextModel",
      "state": {
       "description": "b",
       "layout": "IPY_MODEL_3166c87a7643416788433ae011055b27",
       "step": null,
       "style": "IPY_MODEL_0bbeb0c82c8d4f65933ed4b5f13256c8",
       "value": 100
      }
     },
     "525254e63f794500af6ec0d1f7741194": {
      "model_module": "@jupyter-widgets/controls",
      "model_module_version": "1.5.0",
      "model_name": "HBoxModel",
      "state": {
       "children": [
        "IPY_MODEL_b5f7f797080c42e797b6d193d6a9edb0",
        "IPY_MODEL_dae7909e153746bfba42775f933082e0"
       ],
       "layout": "IPY_MODEL_8c800bd68af24e5888f34ec94e31ec20"
      }
     },
     "56b9d47d09484bdea3a72b794374b701": {
      "model_module": "@jupyter-widgets/base",
      "model_module_version": "1.2.0",
      "model_name": "LayoutModel",
      "state": {}
     },
     "5d0bba90a3c5452cae5f7e25eaa30ed4": {
      "model_module": "@jupyter-widgets/controls",
      "model_module_version": "1.5.0",
      "model_name": "DescriptionStyleModel",
      "state": {
       "description_width": ""
      }
     },
     "5e88ccd9c03a41bdb75d018a47601421": {
      "model_module": "@jupyter-widgets/base",
      "model_module_version": "1.2.0",
      "model_name": "LayoutModel",
      "state": {}
     },
     "62ad77dc14014df48d23e53cb1084a3c": {
      "model_module": "@jupyter-widgets/controls",
      "model_module_version": "1.5.0",
      "model_name": "FloatTextModel",
      "state": {
       "description": "c",
       "layout": "IPY_MODEL_3166c87a7643416788433ae011055b27",
       "step": null,
       "style": "IPY_MODEL_d59668b3e607482caa2aecb35b7a7520",
       "value": 100
      }
     },
     "634ce6ae394644cb84e863682518d2bc": {
      "model_module": "@jupyter-widgets/base",
      "model_module_version": "1.2.0",
      "model_name": "LayoutModel",
      "state": {}
     },
     "67d3b561d1024cacb4c13eac09c3364a": {
      "model_module": "@jupyter-widgets/controls",
      "model_module_version": "1.5.0",
      "model_name": "ButtonStyleModel",
      "state": {}
     },
     "684d388ed89d420b897336ec4a57822b": {
      "model_module": "@jupyter-widgets/controls",
      "model_module_version": "1.5.0",
      "model_name": "FloatTextModel",
      "state": {
       "description": "c",
       "layout": "IPY_MODEL_adf2b4545cc543f69f80cd7fb739e3ba",
       "step": null,
       "style": "IPY_MODEL_5d0bba90a3c5452cae5f7e25eaa30ed4",
       "value": 100
      }
     },
     "6cb4a8afddfe404993c5b2126f008d92": {
      "model_module": "@jupyter-widgets/controls",
      "model_module_version": "1.5.0",
      "model_name": "FloatTextModel",
      "state": {
       "description": "a",
       "layout": "IPY_MODEL_adf2b4545cc543f69f80cd7fb739e3ba",
       "step": null,
       "style": "IPY_MODEL_c95556a9adac40dea18d1361550511bf",
       "value": 100
      }
     },
     "71c5c15b5cdc44488b28db15222f7b41": {
      "model_module": "@jupyter-widgets/controls",
      "model_module_version": "1.5.0",
      "model_name": "DescriptionStyleModel",
      "state": {
       "description_width": ""
      }
     },
     "72851a2bf3304417a2c4797c9ac21e5f": {
      "model_module": "@jupyter-widgets/base",
      "model_module_version": "1.2.0",
      "model_name": "LayoutModel",
      "state": {}
     },
     "8c800bd68af24e5888f34ec94e31ec20": {
      "model_module": "@jupyter-widgets/base",
      "model_module_version": "1.2.0",
      "model_name": "LayoutModel",
      "state": {}
     },
     "8c81d077d8634be5ac41a9f424d2ce10": {
      "model_module": "@jupyter-widgets/controls",
      "model_module_version": "1.5.0",
      "model_name": "DescriptionStyleModel",
      "state": {
       "description_width": ""
      }
     },
     "90e418ba42df4e36b18df362aad5f84a": {
      "model_module": "@jupyter-widgets/controls",
      "model_module_version": "1.5.0",
      "model_name": "DescriptionStyleModel",
      "state": {
       "description_width": ""
      }
     },
     "91c95912cd514d59a800919bfa7e6cdc": {
      "model_module": "@jupyter-widgets/controls",
      "model_module_version": "1.5.0",
      "model_name": "DescriptionStyleModel",
      "state": {
       "description_width": ""
      }
     },
     "9599998d388b4b81ae16ecca459539bb": {
      "model_module": "@jupyter-widgets/base",
      "model_module_version": "1.2.0",
      "model_name": "LayoutModel",
      "state": {}
     },
     "9f564e5274b549e99c82a09a188feacc": {
      "model_module": "@jupyter-widgets/controls",
      "model_module_version": "1.5.0",
      "model_name": "DescriptionStyleModel",
      "state": {
       "description_width": ""
      }
     },
     "a7429e8097b8475a8b85233d89cbaecc": {
      "model_module": "@jupyter-widgets/controls",
      "model_module_version": "1.5.0",
      "model_name": "FloatTextModel",
      "state": {
       "description": "a",
       "layout": "IPY_MODEL_3166c87a7643416788433ae011055b27",
       "step": null,
       "style": "IPY_MODEL_8c81d077d8634be5ac41a9f424d2ce10",
       "value": 100
      }
     },
     "a77e1ec8dffd41a28c2d93c660196f8f": {
      "model_module": "@jupyter-widgets/base",
      "model_module_version": "1.2.0",
      "model_name": "LayoutModel",
      "state": {}
     },
     "ab6ff20a531442d4a4ad7021a1339194": {
      "model_module": "@jupyter-widgets/base",
      "model_module_version": "1.2.0",
      "model_name": "LayoutModel",
      "state": {}
     },
     "adf2b4545cc543f69f80cd7fb739e3ba": {
      "model_module": "@jupyter-widgets/base",
      "model_module_version": "1.2.0",
      "model_name": "LayoutModel",
      "state": {
       "display": "vertical-align",
       "flex_flow": "row",
       "height": "",
       "width": "200px"
      }
     },
     "afc307ed27b84383983e8932e6f66abd": {
      "model_module": "@jupyter-widgets/base",
      "model_module_version": "1.2.0",
      "model_name": "LayoutModel",
      "state": {}
     },
     "afce56f5b23a4c90bd8a3ad99e71952f": {
      "model_module": "@jupyter-widgets/base",
      "model_module_version": "1.2.0",
      "model_name": "LayoutModel",
      "state": {}
     },
     "b5f7f797080c42e797b6d193d6a9edb0": {
      "model_module": "@jupyter-widgets/controls",
      "model_module_version": "1.5.0",
      "model_name": "LabelModel",
      "state": {
       "layout": "IPY_MODEL_ab6ff20a531442d4a4ad7021a1339194",
       "style": "IPY_MODEL_9f564e5274b549e99c82a09a188feacc",
       "value": "The $m$ in $E$=$mc^2$:"
      }
     },
     "c42cfb1cc88144419fcd728ba6711eee": {
      "model_module": "@jupyter-widgets/controls",
      "model_module_version": "1.5.0",
      "model_name": "FloatTextModel",
      "state": {
       "description": "b",
       "layout": "IPY_MODEL_adf2b4545cc543f69f80cd7fb739e3ba",
       "step": null,
       "style": "IPY_MODEL_dde3fc57f5d548dca972303ede18b875",
       "value": 100
      }
     },
     "c95556a9adac40dea18d1361550511bf": {
      "model_module": "@jupyter-widgets/controls",
      "model_module_version": "1.5.0",
      "model_name": "DescriptionStyleModel",
      "state": {
       "description_width": ""
      }
     },
     "ce31752ed51d4328a14a55e3f353a596": {
      "model_module": "@jupyter-widgets/output",
      "model_module_version": "1.0.0",
      "model_name": "OutputModel",
      "state": {
       "layout": "IPY_MODEL_194b4b2621294974a276a7d38459d90b",
       "outputs": [
        {
         "data": {
          "text/latex": "\\[\n\\begin{aligned}\nr &= \\frac{ \\left( - b \\right) + \\sqrt { \\left( b \\right) ^{ 7 } - 4 \\cdot a \\cdot c } }{ 2 \\cdot a }  = \\frac{ \\left( - 100.0 \\right) + \\sqrt { \\left( 100.0 \\right) ^{ 7 } - 4 \\cdot 100.0 \\cdot 100.0 } }{ 2 \\cdot 100.0 } &= 49999.5  \n\\end{aligned}\n\\]",
          "text/plain": "<IPython.core.display.Latex object>"
         },
         "metadata": {},
         "output_type": "display_data"
        }
       ]
      }
     },
     "d0f3b70dca3d4ad893322c476e738018": {
      "model_module": "@jupyter-widgets/output",
      "model_module_version": "1.0.0",
      "model_name": "OutputModel",
      "state": {
       "layout": "IPY_MODEL_a77e1ec8dffd41a28c2d93c660196f8f",
       "outputs": [
        {
         "data": {
          "text/latex": "\\[\n\\begin{aligned}\nr &= \\frac{ \\left( - b \\right) + \\sqrt { \\left( b \\right) ^{ 7 } - 4 \\cdot a \\cdot c } }{ 2 \\cdot a }  = \\frac{ \\left( - 100.0 \\right) + \\sqrt { \\left( 100.0 \\right) ^{ 7 } - 4 \\cdot 100.0 \\cdot 100.0 } }{ 2 \\cdot 100.0 } &= 49999.5  \n\\end{aligned}\n\\]",
          "text/plain": "<IPython.core.display.Latex object>"
         },
         "metadata": {},
         "output_type": "display_data"
        }
       ]
      }
     },
     "d59668b3e607482caa2aecb35b7a7520": {
      "model_module": "@jupyter-widgets/controls",
      "model_module_version": "1.5.0",
      "model_name": "DescriptionStyleModel",
      "state": {
       "description_width": ""
      }
     },
     "dae7909e153746bfba42775f933082e0": {
      "model_module": "@jupyter-widgets/controls",
      "model_module_version": "1.5.0",
      "model_name": "ButtonModel",
      "state": {
       "description": "aa",
       "layout": "IPY_MODEL_56b9d47d09484bdea3a72b794374b701",
       "style": "IPY_MODEL_027bd41102b54c8ea1a3f01bcee6d8d7"
      }
     },
     "dc8d4bb79cf4435c8b4a69639d1cef24": {
      "model_module": "@jupyter-widgets/controls",
      "model_module_version": "1.5.0",
      "model_name": "VBoxModel",
      "state": {
       "_dom_classes": [
        "widget-interact"
       ],
       "children": [
        "IPY_MODEL_a7429e8097b8475a8b85233d89cbaecc",
        "IPY_MODEL_0bbe507fafac4178b6127f3ae121278b",
        "IPY_MODEL_62ad77dc14014df48d23e53cb1084a3c",
        "IPY_MODEL_deb97e86d8484901aa86e409a0208224"
       ],
       "layout": "IPY_MODEL_634ce6ae394644cb84e863682518d2bc"
      }
     },
     "dde3fc57f5d548dca972303ede18b875": {
      "model_module": "@jupyter-widgets/controls",
      "model_module_version": "1.5.0",
      "model_name": "DescriptionStyleModel",
      "state": {
       "description_width": ""
      }
     },
     "deb97e86d8484901aa86e409a0208224": {
      "model_module": "@jupyter-widgets/output",
      "model_module_version": "1.0.0",
      "model_name": "OutputModel",
      "state": {
       "layout": "IPY_MODEL_72851a2bf3304417a2c4797c9ac21e5f",
       "outputs": [
        {
         "data": {
          "text/latex": "\\[\n\\begin{aligned}\nr &= \\frac{ \\left( - b \\right) + \\sqrt { \\left( b \\right) ^{ 7 } - 4 \\cdot a \\cdot c } }{ 2 \\cdot a }  = \\frac{ \\left( - 100.0 \\right) + \\sqrt { \\left( 100.0 \\right) ^{ 7 } - 4 \\cdot 100.0 \\cdot 100.0 } }{ 2 \\cdot 100.0 } &= 49999.5  \n\\end{aligned}\n\\]",
          "text/plain": "<IPython.core.display.Latex object>"
         },
         "metadata": {},
         "output_type": "display_data"
        }
       ]
      }
     },
     "e87ce916bc51419ba2ffbf4eb1068cd7": {
      "model_module": "@jupyter-widgets/base",
      "model_module_version": "1.2.0",
      "model_name": "LayoutModel",
      "state": {}
     },
     "ed5928b766a34699961b511e2cca4c6f": {
      "model_module": "@jupyter-widgets/controls",
      "model_module_version": "1.5.0",
      "model_name": "HBoxModel",
      "state": {
       "children": [
        "IPY_MODEL_03150e7aff61432d858cd465be0b9c08",
        "IPY_MODEL_21ed6402e45f4162ad21bee6315ad404"
       ],
       "layout": "IPY_MODEL_e87ce916bc51419ba2ffbf4eb1068cd7"
      }
     },
     "ee9f2e551df24187bfd2f5ce9ae7ede4": {
      "model_module": "@jupyter-widgets/controls",
      "model_module_version": "1.5.0",
      "model_name": "FloatTextModel",
      "state": {
       "description": "b",
       "layout": "IPY_MODEL_adf2b4545cc543f69f80cd7fb739e3ba",
       "step": null,
       "style": "IPY_MODEL_91c95912cd514d59a800919bfa7e6cdc",
       "value": 100
      }
     },
     "f1dfbe2af5fa4038ad9abb2cc780766e": {
      "model_module": "@jupyter-widgets/controls",
      "model_module_version": "1.5.0",
      "model_name": "FloatTextModel",
      "state": {
       "description": "a",
       "layout": "IPY_MODEL_adf2b4545cc543f69f80cd7fb739e3ba",
       "step": null,
       "style": "IPY_MODEL_1f39e8c0f8994c8582a916cece24d232",
       "value": 100
      }
     },
     "fcc01eeb2a774642b6258d3540b27c0d": {
      "model_module": "@jupyter-widgets/controls",
      "model_module_version": "1.5.0",
      "model_name": "VBoxModel",
      "state": {
       "_dom_classes": [
        "widget-interact"
       ],
       "children": [
        "IPY_MODEL_f1dfbe2af5fa4038ad9abb2cc780766e",
        "IPY_MODEL_c42cfb1cc88144419fcd728ba6711eee",
        "IPY_MODEL_684d388ed89d420b897336ec4a57822b",
        "IPY_MODEL_d0f3b70dca3d4ad893322c476e738018"
       ],
       "layout": "IPY_MODEL_5e88ccd9c03a41bdb75d018a47601421"
      }
     }
    },
    "version_major": 2,
    "version_minor": 0
   }
  }
 },
 "nbformat": 4,
 "nbformat_minor": 4
}
