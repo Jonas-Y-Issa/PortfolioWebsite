{
 "cells": [
  {
   "cell_type": "code",
   "execution_count": 131,
   "metadata": {},
   "outputs": [],
   "source": [
    "import chart_studio.plotly as py\n",
    "import plotly.graph_objects as go\n",
    "import plotly.io as pio\n",
    "\n",
    "import matplotlib.pyplot as plt\n",
    "\n",
    "from handcalcs.decorator import handcalc\n",
    "\n",
    "from math import sqrt, sin, tan, cos, radians\n",
    "\n",
    "import numpy as np\n",
    "import sympy as sp\n",
    "from scipy.integrate import quad\n",
    "\n",
    "from ipywidgets import *\n",
    "\n",
    "import time\n",
    "import pylab as pl\n",
    "from IPython import display\n",
    "\n",
    "import forallpeople\n",
    "forallpeople.environment('structural')"
   ]
  },
  {
   "cell_type": "code",
   "execution_count": 145,
   "metadata": {},
   "outputs": [],
   "source": []
  },
  {
   "cell_type": "code",
   "execution_count": 169,
   "metadata": {},
   "outputs": [
    {
     "data": {
      "application/vnd.jupyter.widget-view+json": {
       "model_id": "05e7f288d1284721ae0125247dc3f0cd",
       "version_major": 2,
       "version_minor": 0
      },
      "text/plain": [
       "interactive(children=(IntSlider(value=1, description='a', max=10), FloatSlider(value=1.0, description='b', max…"
      ]
     },
     "metadata": {},
     "output_type": "display_data"
    }
   ],
   "source": [
    "@handcalc(jupyter_display = True)\n",
    "def my_calc(a: int, b: int, c: int):\n",
    "    r = (-b + sqrt(b ** 7 - 4 * a * c)) / (2 * a)\n",
    "    \n",
    "@widgets.interact(a=(0, 10, 1), b=(0, 4, .1), c=(0, 2*np.pi+0.01, 0.01))\n",
    "def update(a = 1.0, b=1, c=0):\n",
    "    \"\"\"Remove old lines from plot and plot new one\"\"\"\n",
    "    my_calc(a,b,c)\n"
   ]
  },
  {
   "cell_type": "code",
   "execution_count": 172,
   "metadata": {},
   "outputs": [
    {
     "data": {
      "application/vnd.jupyter.widget-view+json": {
       "model_id": "5a968cd3727c4f87aeccbc59adf9021d",
       "version_major": 2,
       "version_minor": 0
      },
      "text/plain": [
       "HBox(children=(Button(style=ButtonStyle()), Button(description='button 2', style=ButtonStyle()), Button(descri…"
      ]
     },
     "metadata": {},
     "output_type": "display_data"
    }
   ],
   "source": [
    "b1 = widgets.Button()\n",
    "b2 = widgets.Button(description='button 2')\n",
    "b3 = widgets.Button(description='button 3')\n",
    "\n",
    "widgets.HBox([b1, b2, b3])"
   ]
  },
  {
   "cell_type": "code",
   "execution_count": null,
   "metadata": {},
   "outputs": [],
   "source": []
  },
  {
   "cell_type": "code",
   "execution_count": null,
   "metadata": {},
   "outputs": [],
   "source": []
  },
  {
   "cell_type": "code",
   "execution_count": null,
   "metadata": {},
   "outputs": [],
   "source": []
  },
  {
   "cell_type": "code",
   "execution_count": null,
   "metadata": {},
   "outputs": [],
   "source": []
  }
 ],
 "metadata": {
  "kernelspec": {
   "display_name": "Python 3",
   "language": "python",
   "name": "python3"
  },
  "language_info": {
   "codemirror_mode": {
    "name": "ipython",
    "version": 3
   },
   "file_extension": ".py",
   "mimetype": "text/x-python",
   "name": "python",
   "nbconvert_exporter": "python",
   "pygments_lexer": "ipython3",
   "version": "3.9.1"
  },
  "widgets": {
   "application/vnd.jupyter.widget-state+json": {
    "state": {
     "019599470b7040f0a65804450383a3ce": {
      "model_module": "@jupyter-widgets/controls",
      "model_module_version": "1.5.0",
      "model_name": "DescriptionStyleModel",
      "state": {
       "description_width": ""
      }
     },
     "01f556b568d84895811a28858eb93dd8": {
      "model_module": "@jupyter-widgets/controls",
      "model_module_version": "1.5.0",
      "model_name": "ButtonModel",
      "state": {
       "description": "button 3",
       "layout": "IPY_MODEL_e41953717540428da85b74ca02fade7a",
       "style": "IPY_MODEL_3883176582b644a1aa2ad616c8859c0c"
      }
     },
     "024f02219d43411c8dc9dd14c9c12da0": {
      "model_module": "@jupyter-widgets/controls",
      "model_module_version": "1.5.0",
      "model_name": "VBoxModel",
      "state": {
       "_dom_classes": [
        "widget-interact"
       ],
       "children": [
        "IPY_MODEL_8076ab6489664c09bee46c1a307e3c27",
        "IPY_MODEL_cc0eb86d74c2407086d086fd78a2f416",
        "IPY_MODEL_817e06fbf6614611b5c27156e74ccdab",
        "IPY_MODEL_63fb1145fa3d4a3084df618aa1ba1fae"
       ],
       "layout": "IPY_MODEL_7b643783dee44f14b1f5f72a719b7659"
      }
     },
     "02f60bb3867044d79bba3add7e862597": {
      "model_module": "@jupyter-widgets/controls",
      "model_module_version": "1.5.0",
      "model_name": "FloatSliderModel",
      "state": {
       "description": "phi",
       "layout": "IPY_MODEL_cd7cc790b5e04d88a8a623b38c400b8a",
       "max": 6.293185307179586,
       "step": 0.01,
       "style": "IPY_MODEL_0e8225686155466b93e6a58a205d437e"
      }
     },
     "03254b46292c45d4a02ee1c86d91ee07": {
      "model_module": "@jupyter-widgets/controls",
      "model_module_version": "1.5.0",
      "model_name": "ButtonModel",
      "state": {
       "description": "h",
       "layout": "IPY_MODEL_5019a52a60d34dc5a4b82a882520d33c",
       "style": "IPY_MODEL_e6066884aaaf4b8abe942fb24a58e309"
      }
     },
     "0427299541fe425eba89d90f8bf119cb": {
      "model_module": "@jupyter-widgets/controls",
      "model_module_version": "1.5.0",
      "model_name": "BoxModel",
      "state": {
       "children": [
        "IPY_MODEL_0604eed4ac5e43b68b5b016f4b0be124",
        "IPY_MODEL_37fdd64b417542a8bed8dd8132ae7847",
        "IPY_MODEL_7442636ed4ea4a188d1fcb4149e201d7",
        "IPY_MODEL_41cd1e5fece64597a6c0daae58c8c8c9"
       ],
       "layout": "IPY_MODEL_506e6834d5e049a6928570415a1bda3f"
      }
     },
     "04325f861e9f4d4b89e230feb1c156db": {
      "model_module": "@jupyter-widgets/controls",
      "model_module_version": "1.5.0",
      "model_name": "ButtonModel",
      "state": {
       "description": "button 3",
       "layout": "IPY_MODEL_64b55f0f1c8148458857d21fb25956ff",
       "style": "IPY_MODEL_691a72d078df4a0888aeacf3715bacec"
      }
     },
     "043525901cde4571a85a48b7568cfc18": {
      "model_module": "@jupyter-widgets/base",
      "model_module_version": "1.2.0",
      "model_name": "LayoutModel",
      "state": {}
     },
     "050e33db2a944463b936867edb7e1d9e": {
      "model_module": "@jupyter-widgets/base",
      "model_module_version": "1.2.0",
      "model_name": "LayoutModel",
      "state": {}
     },
     "0527e9b8fb9b4bd3ae4b059e1a67bd19": {
      "model_module": "@jupyter-widgets/base",
      "model_module_version": "1.2.0",
      "model_name": "LayoutModel",
      "state": {}
     },
     "0576af8601724da39ecfcd522a2eae5a": {
      "model_module": "@jupyter-widgets/controls",
      "model_module_version": "1.5.0",
      "model_name": "TextModel",
      "state": {
       "description": "String:",
       "layout": "IPY_MODEL_27d3d802a00d41a9bdd1afadd8842988",
       "placeholder": "Type something",
       "style": "IPY_MODEL_665cafe1afcc42239cbdb198dc2d9826",
       "value": "h"
      }
     },
     "05e7f288d1284721ae0125247dc3f0cd": {
      "model_module": "@jupyter-widgets/controls",
      "model_module_version": "1.5.0",
      "model_name": "VBoxModel",
      "state": {
       "_dom_classes": [
        "widget-interact"
       ],
       "children": [
        "IPY_MODEL_a173c71fd0e04eaba8ca209a13ed20fc",
        "IPY_MODEL_e682006941b34cc694fa3a6fbfbd5dce",
        "IPY_MODEL_0e86d4e73ef74369bdef791ada654a14",
        "IPY_MODEL_17b20484815a4544bdfd0f5e45ded146"
       ],
       "layout": "IPY_MODEL_cef5e10c3a79438ea4cd1f16f8986dbd"
      }
     },
     "05fb75680d9a401aa5464c6f550ee646": {
      "model_module": "@jupyter-widgets/controls",
      "model_module_version": "1.5.0",
      "model_name": "ButtonModel",
      "state": {
       "description": "button 2",
       "layout": "IPY_MODEL_95fd7db37ecf49cdbcd1a6b6079a07ec",
       "style": "IPY_MODEL_39dc3817c31843fdbbd4e3f1f186a4bc"
      }
     },
     "0604eed4ac5e43b68b5b016f4b0be124": {
      "model_module": "@jupyter-widgets/controls",
      "model_module_version": "1.5.0",
      "model_name": "LabelModel",
      "state": {
       "layout": "IPY_MODEL_e833e156ac1f47df96baa8e76ed99a14",
       "style": "IPY_MODEL_ffa7c148827d47d69975f3bf855dabbe",
       "value": "0"
      }
     },
     "0611032e065641de9d76f5042d8ad78f": {
      "model_module": "@jupyter-widgets/output",
      "model_module_version": "1.0.0",
      "model_name": "OutputModel",
      "state": {
       "layout": "IPY_MODEL_fb1eb1e839f94bf8955e7461a62cd03c"
      }
     },
     "06460d24fd2a4526936574c73968ff4e": {
      "model_module": "@jupyter-widgets/controls",
      "model_module_version": "1.5.0",
      "model_name": "ButtonModel",
      "state": {
       "description": "a",
       "layout": "IPY_MODEL_eff41fffae254001af7e217b93cc3f6d",
       "style": "IPY_MODEL_49fd1a147aaa46b7aa0acc4bbd4c85f6"
      }
     },
     "06c43773d9234c9bae8080bcd4ba45eb": {
      "model_module": "@jupyter-widgets/base",
      "model_module_version": "1.2.0",
      "model_name": "LayoutModel",
      "state": {}
     },
     "06fa2cc3882c442a96521a7cbb09621d": {
      "model_module": "@jupyter-widgets/controls",
      "model_module_version": "1.5.0",
      "model_name": "IntSliderModel",
      "state": {
       "description": "w",
       "layout": "IPY_MODEL_9e49f09bb5e44f1ab2c4846c397dad46",
       "max": 10,
       "style": "IPY_MODEL_d6dc864dff42489484f0e093f2066799",
       "value": 1
      }
     },
     "07290f65a31f48bb9093778d25459629": {
      "model_module": "@jupyter-widgets/base",
      "model_module_version": "1.2.0",
      "model_name": "LayoutModel",
      "state": {}
     },
     "073a050552fa448998d5f24b6d11236b": {
      "model_module": "@jupyter-widgets/base",
      "model_module_version": "1.2.0",
      "model_name": "LayoutModel",
      "state": {}
     },
     "076485fe59e2421eaef027df5c89c9dc": {
      "model_module": "@jupyter-widgets/controls",
      "model_module_version": "1.5.0",
      "model_name": "ButtonStyleModel",
      "state": {}
     },
     "078515e2e70743479e1db043a6e98617": {
      "model_module": "@jupyter-widgets/controls",
      "model_module_version": "1.5.0",
      "model_name": "HBoxModel",
      "state": {
       "children": [
        "IPY_MODEL_2d4c708d12db46d08f9ecdb968f3fd97",
        "IPY_MODEL_57d5380739584f0b918e31848c908d6a",
        "IPY_MODEL_6cd9e802c54d4f868acae3588045cbf1"
       ],
       "layout": "IPY_MODEL_20d16851be144a9caf7ad5ef7416fc5f"
      }
     },
     "07f2157f31074daca9a7baec42b92a31": {
      "model_module": "@jupyter-widgets/base",
      "model_module_version": "1.2.0",
      "model_name": "LayoutModel",
      "state": {}
     },
     "0852b04214cc40bcbfbc0d76098871d8": {
      "model_module": "@jupyter-widgets/controls",
      "model_module_version": "1.5.0",
      "model_name": "HBoxModel",
      "state": {
       "children": [
        "IPY_MODEL_0d1fb5cd4e8f4821b25b6fda034beaf8",
        "IPY_MODEL_be1885d6a1ab4a58a16f16806837d7b5",
        "IPY_MODEL_3e95feafa0fb427fa31fbad8132315cc"
       ],
       "layout": "IPY_MODEL_8b96f2dc69754de9ae23d9b2d3171dc2"
      }
     },
     "0858d4585e6c420193c0690a8f8f6cf5": {
      "model_module": "@jupyter-widgets/base",
      "model_module_version": "1.2.0",
      "model_name": "LayoutModel",
      "state": {}
     },
     "0884a037d5664c8bbf87b3bc94a90666": {
      "model_module": "@jupyter-widgets/controls",
      "model_module_version": "1.5.0",
      "model_name": "SliderStyleModel",
      "state": {
       "description_width": ""
      }
     },
     "08a04ac61aaa4a338c2dfcc2f22ed575": {
      "model_module": "@jupyter-widgets/controls",
      "model_module_version": "1.5.0",
      "model_name": "LabelModel",
      "state": {
       "layout": "IPY_MODEL_8e898c1024f24a15b36ff6b4faa6627c",
       "style": "IPY_MODEL_8799bd69efe749408e80afc8bf910636",
       "value": "0"
      }
     },
     "08e40e0e6dd646a49d00b5971b0ba26e": {
      "model_module": "@jupyter-widgets/controls",
      "model_module_version": "1.5.0",
      "model_name": "ButtonModel",
      "state": {
       "description": "button 3",
       "layout": "IPY_MODEL_2a6b84fb7bdf4571b590c557bb0d496f",
       "style": "IPY_MODEL_b608d5beaf49447f9001d3d9794398a2"
      }
     },
     "0996d61f99e545d5b47d092983fad1a9": {
      "model_module": "@jupyter-widgets/controls",
      "model_module_version": "1.5.0",
      "model_name": "FloatSliderModel",
      "state": {
       "description": "phi",
       "layout": "IPY_MODEL_ba61b1b183da4f99bd978b75ed1ee97e",
       "max": 6.293185307179586,
       "step": 0.01,
       "style": "IPY_MODEL_fcdc7458e0db49dda309150da0127694"
      }
     },
     "09d2e29612684b688ddf60f4b7e27a8e": {
      "model_module": "@jupyter-widgets/controls",
      "model_module_version": "1.5.0",
      "model_name": "TextModel",
      "state": {
       "description": "String:",
       "layout": "IPY_MODEL_b3671968b6be4728b6cc95e37d8329ba",
       "placeholder": "Type something",
       "style": "IPY_MODEL_1d0e1dc570d642649c706cca74edc85d",
       "value": "h"
      }
     },
     "0a4e07c1d41747148771a640556c8447": {
      "model_module": "@jupyter-widgets/controls",
      "model_module_version": "1.5.0",
      "model_name": "VBoxModel",
      "state": {
       "_dom_classes": [
        "widget-interact"
       ],
       "children": [
        "IPY_MODEL_dbe0aca2919641b9874495dbab468779",
        "IPY_MODEL_c98cf94ba0ec435e9050f4198fcbbdad",
        "IPY_MODEL_3d09d3caf8ba4335941a7e4d7af579b1",
        "IPY_MODEL_d52ae2acec9c451fb1bb4678a1703869"
       ],
       "layout": "IPY_MODEL_47c245a1ba744ff7b1ff458a23c39eab"
      }
     },
     "0ab87013ca79480e94a206bb735bbb1f": {
      "model_module": "@jupyter-widgets/controls",
      "model_module_version": "1.5.0",
      "model_name": "ButtonStyleModel",
      "state": {}
     },
     "0b01f738f2c747f8a05a8d2d4de5abbf": {
      "model_module": "@jupyter-widgets/base",
      "model_module_version": "1.2.0",
      "model_name": "LayoutModel",
      "state": {}
     },
     "0b621098c6094305ab73b5b1678217d1": {
      "model_module": "@jupyter-widgets/base",
      "model_module_version": "1.2.0",
      "model_name": "LayoutModel",
      "state": {}
     },
     "0bd82ecbdde64358abb16f51ec825490": {
      "model_module": "@jupyter-widgets/controls",
      "model_module_version": "1.5.0",
      "model_name": "ButtonStyleModel",
      "state": {}
     },
     "0c206552bf924a7ca9a854c3161f04bd": {
      "model_module": "@jupyter-widgets/controls",
      "model_module_version": "1.5.0",
      "model_name": "HBoxModel",
      "state": {
       "children": [
        "IPY_MODEL_a81df789365d4130a14d8b87e601e279",
        "IPY_MODEL_d5d4eed54a0047729dfdd1d3d4e12163",
        "IPY_MODEL_2aecd07e36fb43239ee0ef18677bd71e"
       ],
       "layout": "IPY_MODEL_7f451d12133947c480c6196c32d802f8"
      }
     },
     "0c4d237f0bc44e78b6d35c78f965c947": {
      "model_module": "@jupyter-widgets/controls",
      "model_module_version": "1.5.0",
      "model_name": "SliderStyleModel",
      "state": {
       "description_width": ""
      }
     },
     "0c68bf07c43c4a2eb166d1cc0ab974cd": {
      "model_module": "@jupyter-widgets/base",
      "model_module_version": "1.2.0",
      "model_name": "LayoutModel",
      "state": {}
     },
     "0c88726803e4480888afd8ad8227d0f5": {
      "model_module": "@jupyter-widgets/controls",
      "model_module_version": "1.5.0",
      "model_name": "ButtonModel",
      "state": {
       "description": "button 2",
       "layout": "IPY_MODEL_a203b3fedcf641bfa645bd78abe9efc9",
       "style": "IPY_MODEL_490edec474b640fe86275ea2db32c6b5"
      }
     },
     "0d1fb5cd4e8f4821b25b6fda034beaf8": {
      "model_module": "@jupyter-widgets/controls",
      "model_module_version": "1.5.0",
      "model_name": "ButtonModel",
      "state": {
       "description": "None",
       "layout": "IPY_MODEL_29072a28616c449fba4450c9f26bc3ef",
       "style": "IPY_MODEL_eb1b6fedfdbc40e0982e9dd96b7e047e"
      }
     },
     "0dc61f35389644ee937e6b8f352abb88": {
      "model_module": "@jupyter-widgets/base",
      "model_module_version": "1.2.0",
      "model_name": "LayoutModel",
      "state": {}
     },
     "0dd9aea589e5481784abb8e72f700cfd": {
      "model_module": "@jupyter-widgets/base",
      "model_module_version": "1.2.0",
      "model_name": "LayoutModel",
      "state": {}
     },
     "0de559ce3c4448baa607ebc24d44f359": {
      "model_module": "@jupyter-widgets/controls",
      "model_module_version": "1.5.0",
      "model_name": "HBoxModel",
      "state": {
       "children": [
        "IPY_MODEL_dcfad0e2f1fe40d098a4fc3aed84c71a",
        "IPY_MODEL_c96a401af95f4871870e39152be22754",
        "IPY_MODEL_edb439ce0ee742688483848fecff94c0"
       ],
       "layout": "IPY_MODEL_d5b49060e6b04673954e8c40cbb9b9ec"
      }
     },
     "0e1331f7face465ea25e116efea3d413": {
      "model_module": "@jupyter-widgets/controls",
      "model_module_version": "1.5.0",
      "model_name": "IntSliderModel",
      "state": {
       "description": "phi",
       "layout": "IPY_MODEL_6141644055ba4065b751d047dacbd40c",
       "max": 1,
       "style": "IPY_MODEL_ee497a1cdc354111bfea5121700fe412"
      }
     },
     "0e52b8a4603943de9751da6b6c93a02b": {
      "model_module": "@jupyter-widgets/base",
      "model_module_version": "1.2.0",
      "model_name": "LayoutModel",
      "state": {}
     },
     "0e8225686155466b93e6a58a205d437e": {
      "model_module": "@jupyter-widgets/controls",
      "model_module_version": "1.5.0",
      "model_name": "SliderStyleModel",
      "state": {
       "description_width": ""
      }
     },
     "0e86d4e73ef74369bdef791ada654a14": {
      "model_module": "@jupyter-widgets/controls",
      "model_module_version": "1.5.0",
      "model_name": "FloatSliderModel",
      "state": {
       "description": "c",
       "layout": "IPY_MODEL_e86468799d0246678ac76ca432a16824",
       "max": 6.293185307179586,
       "step": 0.01,
       "style": "IPY_MODEL_4161a3d9ff7a400c8678740aad2f2515",
       "value": 2.1
      }
     },
     "0f3c4b148cf44e6db279f9fa09a53664": {
      "model_module": "@jupyter-widgets/controls",
      "model_module_version": "1.5.0",
      "model_name": "SliderStyleModel",
      "state": {
       "description_width": ""
      }
     },
     "0fd3177b68354b9498aa5614191b0327": {
      "model_module": "@jupyter-widgets/controls",
      "model_module_version": "1.5.0",
      "model_name": "SliderStyleModel",
      "state": {
       "description_width": ""
      }
     },
     "10b391d98b1941bba324e8176b564161": {
      "model_module": "@jupyter-widgets/controls",
      "model_module_version": "1.5.0",
      "model_name": "DescriptionStyleModel",
      "state": {
       "description_width": ""
      }
     },
     "1152e9f49f2f4b339e1563af4714b544": {
      "model_module": "@jupyter-widgets/controls",
      "model_module_version": "1.5.0",
      "model_name": "IntSliderModel",
      "state": {
       "description": "freq",
       "layout": "IPY_MODEL_447ae7ed8b6e461ab920bfc7cc84fb68",
       "max": 10,
       "style": "IPY_MODEL_4c57ebb38e8f4f35a07148768cd8a99d",
       "value": 1
      }
     },
     "1233f0fcbff240c78941488206e5fb18": {
      "model_module": "@jupyter-widgets/controls",
      "model_module_version": "1.5.0",
      "model_name": "ButtonStyleModel",
      "state": {}
     },
     "12fd039e03d041ed8f178aa55020b94a": {
      "model_module": "@jupyter-widgets/output",
      "model_module_version": "1.0.0",
      "model_name": "OutputModel",
      "state": {
       "layout": "IPY_MODEL_93f0dbdba47a4c29bd4ea2f6669b746b"
      }
     },
     "135e912e17b54a2aacd159a79bc38c80": {
      "model_module": "@jupyter-widgets/controls",
      "model_module_version": "1.5.0",
      "model_name": "IntSliderModel",
      "state": {
       "description": "freq",
       "layout": "IPY_MODEL_82c04e6d69144123a233fd6f47b840f1",
       "max": 10,
       "style": "IPY_MODEL_24a36f261e8c437fa19b9e3f5919b4eb",
       "value": 1
      }
     },
     "139473bc92b343a59c97b5e6f428f5a6": {
      "model_module": "@jupyter-widgets/controls",
      "model_module_version": "1.5.0",
      "model_name": "ButtonModel",
      "state": {
       "description": "None",
       "layout": "IPY_MODEL_b654f968953e4ff593e7991db694f9ec",
       "style": "IPY_MODEL_9d3ae870f49c4a33a79746187845d903"
      }
     },
     "13aa584da5054cb9b5875b51eb47f41a": {
      "model_module": "@jupyter-widgets/controls",
      "model_module_version": "1.5.0",
      "model_name": "SliderStyleModel",
      "state": {
       "description_width": ""
      }
     },
     "13da1c1d86904bb8862b92acc1633933": {
      "model_module": "@jupyter-widgets/base",
      "model_module_version": "1.2.0",
      "model_name": "LayoutModel",
      "state": {}
     },
     "14029dd32a0e4b53920052925e942e0e": {
      "model_module": "@jupyter-widgets/controls",
      "model_module_version": "1.5.0",
      "model_name": "ButtonModel",
      "state": {
       "description": "button 2",
       "layout": "IPY_MODEL_bfc1578232754795a04cff26330fc7d7",
       "style": "IPY_MODEL_97d5a904af0e4b55ad2db78417248312"
      }
     },
     "1583824b09dc434e8cdf6e30719ff180": {
      "model_module": "@jupyter-widgets/controls",
      "model_module_version": "1.5.0",
      "model_name": "BoxModel",
      "state": {
       "children": [
        "IPY_MODEL_dd811e8ce6a14c09abcb59f5ed173a42",
        "IPY_MODEL_cc8a3565d5e84f448e0c00012cde8efc",
        "IPY_MODEL_3b71501058594a34995df3250770fab6",
        "IPY_MODEL_83cbaf1526dd4eb38f601e81a791ab11"
       ],
       "layout": "IPY_MODEL_c6a7fe9d4d0843b9bb350c2fdb5792e7"
      }
     },
     "15a2df08c2724465aa59345f41bc7c84": {
      "model_module": "@jupyter-widgets/base",
      "model_module_version": "1.2.0",
      "model_name": "LayoutModel",
      "state": {}
     },
     "165be0e150f94dcba5926228b64db5a2": {
      "model_module": "@jupyter-widgets/controls",
      "model_module_version": "1.5.0",
      "model_name": "ButtonStyleModel",
      "state": {}
     },
     "1661e881f1b84aed9df16cf95ec92b23": {
      "model_module": "@jupyter-widgets/controls",
      "model_module_version": "1.5.0",
      "model_name": "IntSliderModel",
      "state": {
       "description": "w",
       "layout": "IPY_MODEL_e6f29683de56445784b3ad177b67dc86",
       "max": 10,
       "style": "IPY_MODEL_13aa584da5054cb9b5875b51eb47f41a",
       "value": 3
      }
     },
     "16774f20a0524141931299a4106b2b89": {
      "model_module": "@jupyter-widgets/base",
      "model_module_version": "1.2.0",
      "model_name": "LayoutModel",
      "state": {}
     },
     "1746c09c7fd7442281e4fdd97653bcbc": {
      "model_module": "@jupyter-widgets/output",
      "model_module_version": "1.0.0",
      "model_name": "OutputModel",
      "state": {
       "layout": "IPY_MODEL_3d0d2bf3fd314e1cb8e6b25e27792702"
      }
     },
     "17b20484815a4544bdfd0f5e45ded146": {
      "model_module": "@jupyter-widgets/output",
      "model_module_version": "1.0.0",
      "model_name": "OutputModel",
      "state": {
       "layout": "IPY_MODEL_dc9d3168024a468787a2b4ec4ad957b3",
       "outputs": [
        {
         "data": {
          "text/latex": "\\[\n\\begin{aligned}\nr &= \\frac{ \\left( - b \\right) + \\sqrt { \\left( b \\right) ^{ 7 } - 4 \\cdot a \\cdot c } }{ 2 \\cdot a }  = \\frac{ \\left( - 2.2 \\right) + \\sqrt { \\left( 2.2 \\right) ^{ 7 } - 4 \\cdot 3 \\cdot 2.1 } }{ 2 \\cdot 3 } &= 2.129  \n\\end{aligned}\n\\]",
          "text/plain": "<IPython.core.display.Latex object>"
         },
         "metadata": {},
         "output_type": "display_data"
        }
       ]
      }
     },
     "17f887bdba1c4609b7a5600ad1761bb7": {
      "model_module": "@jupyter-widgets/base",
      "model_module_version": "1.2.0",
      "model_name": "LayoutModel",
      "state": {}
     },
     "181281001ff449cdb0e3245ebc192100": {
      "model_module": "@jupyter-widgets/base",
      "model_module_version": "1.2.0",
      "model_name": "LayoutModel",
      "state": {}
     },
     "1842770b78bd4e1789f34cd5f5c22cf6": {
      "model_module": "@jupyter-widgets/controls",
      "model_module_version": "1.5.0",
      "model_name": "IntSliderModel",
      "state": {
       "description": "w",
       "layout": "IPY_MODEL_4bf3f521861d43ffb60a0807a3639b1f",
       "max": 10,
       "style": "IPY_MODEL_0fd3177b68354b9498aa5614191b0327",
       "value": 1
      }
     },
     "18791c72c3f146a6948956c2320608f8": {
      "model_module": "@jupyter-widgets/base",
      "model_module_version": "1.2.0",
      "model_name": "LayoutModel",
      "state": {}
     },
     "18824cf568b5404b8759f76e7e3a7621": {
      "model_module": "@jupyter-widgets/base",
      "model_module_version": "1.2.0",
      "model_name": "LayoutModel",
      "state": {}
     },
     "18e21367a2fa44afa297d86d372e94be": {
      "model_module": "@jupyter-widgets/base",
      "model_module_version": "1.2.0",
      "model_name": "LayoutModel",
      "state": {}
     },
     "195c5826609e4d26846f7710c518fa39": {
      "model_module": "@jupyter-widgets/base",
      "model_module_version": "1.2.0",
      "model_name": "LayoutModel",
      "state": {}
     },
     "19f80abaea714d7790c5e268d2bde721": {
      "model_module": "@jupyter-widgets/controls",
      "model_module_version": "1.5.0",
      "model_name": "ButtonStyleModel",
      "state": {}
     },
     "1b18ed1aa14a44e79ddd82352be9c851": {
      "model_module": "@jupyter-widgets/controls",
      "model_module_version": "1.5.0",
      "model_name": "SliderStyleModel",
      "state": {
       "description_width": ""
      }
     },
     "1b93ac06ffed4600bf5c661ca6420673": {
      "model_module": "@jupyter-widgets/controls",
      "model_module_version": "1.5.0",
      "model_name": "SliderStyleModel",
      "state": {
       "description_width": ""
      }
     },
     "1ba12e601c844d7eb5df69e07369b8ae": {
      "model_module": "@jupyter-widgets/base",
      "model_module_version": "1.2.0",
      "model_name": "LayoutModel",
      "state": {}
     },
     "1c8a7cc26e7b41ebae668af1b363642a": {
      "model_module": "@jupyter-widgets/base",
      "model_module_version": "1.2.0",
      "model_name": "LayoutModel",
      "state": {}
     },
     "1d0100b77c1b49959668c1b577568785": {
      "model_module": "@jupyter-widgets/controls",
      "model_module_version": "1.5.0",
      "model_name": "ButtonStyleModel",
      "state": {}
     },
     "1d0e1dc570d642649c706cca74edc85d": {
      "model_module": "@jupyter-widgets/controls",
      "model_module_version": "1.5.0",
      "model_name": "DescriptionStyleModel",
      "state": {
       "description_width": ""
      }
     },
     "1dc2479bb4b8423e9168e84083d91d18": {
      "model_module": "@jupyter-widgets/base",
      "model_module_version": "1.2.0",
      "model_name": "LayoutModel",
      "state": {}
     },
     "1de4c93a68f8463c81ed18f5806fa9e8": {
      "model_module": "@jupyter-widgets/controls",
      "model_module_version": "1.5.0",
      "model_name": "VBoxModel",
      "state": {
       "_dom_classes": [
        "widget-interact"
       ],
       "children": [
        "IPY_MODEL_938e023377914438863fb0cde2340fe1",
        "IPY_MODEL_8647bae5fc754834b9bdd611972aca8c",
        "IPY_MODEL_b7209fbebb92410095dc8a2078739e79",
        "IPY_MODEL_202d77aa495e4790b7f5057aeaf4a4ba"
       ],
       "layout": "IPY_MODEL_bf29244b924e414d98284462512f0b28"
      }
     },
     "1e7f1a60c210479fb37c672c0a74b5d3": {
      "model_module": "@jupyter-widgets/base",
      "model_module_version": "1.2.0",
      "model_name": "LayoutModel",
      "state": {}
     },
     "1e9959aa2b094243ababc31afc7c1f9d": {
      "model_module": "@jupyter-widgets/base",
      "model_module_version": "1.2.0",
      "model_name": "LayoutModel",
      "state": {}
     },
     "1f16839e14ad4e4ab57a2b2775409d7b": {
      "model_module": "@jupyter-widgets/base",
      "model_module_version": "1.2.0",
      "model_name": "LayoutModel",
      "state": {}
     },
     "1f260ba6377e4d6c8ba4f4f6c076cc2f": {
      "model_module": "@jupyter-widgets/controls",
      "model_module_version": "1.5.0",
      "model_name": "IntSliderModel",
      "state": {
       "description": "freq",
       "layout": "IPY_MODEL_fe58de4690b64704ae14d9f29b3417e7",
       "max": 10,
       "style": "IPY_MODEL_21c58cb7760a4c4a9d1d7f3ad7897da8",
       "value": 1
      }
     },
     "2019ecee9ae44b37b79633ccad829d7d": {
      "model_module": "@jupyter-widgets/controls",
      "model_module_version": "1.5.0",
      "model_name": "IntSliderModel",
      "state": {
       "description": "freq",
       "layout": "IPY_MODEL_f04c75d52878433f87b2496af930c707",
       "max": 10,
       "style": "IPY_MODEL_c8c41fe78db8443980c650913d7a377e",
       "value": 1
      }
     },
     "202d77aa495e4790b7f5057aeaf4a4ba": {
      "model_module": "@jupyter-widgets/output",
      "model_module_version": "1.0.0",
      "model_name": "OutputModel",
      "state": {
       "layout": "IPY_MODEL_7918d2871a62498088baa9341fa2c985",
       "outputs": [
        {
         "ename": "NameError",
         "evalue": "name 'ax' is not defined",
         "output_type": "error",
         "traceback": [
          "\u001b[1;31m---------------------------------------------------------------------------\u001b[0m",
          "\u001b[1;31mNameError\u001b[0m                                 Traceback (most recent call last)",
          "\u001b[1;32mc:\\users\\cmdr. data\\virtualenvironments\\myvenv\\lib\\site-packages\\ipywidgets\\widgets\\interaction.py\u001b[0m in \u001b[0;36mupdate\u001b[1;34m(self, *args)\u001b[0m\n\u001b[0;32m    254\u001b[0m                     \u001b[0mvalue\u001b[0m \u001b[1;33m=\u001b[0m \u001b[0mwidget\u001b[0m\u001b[1;33m.\u001b[0m\u001b[0mget_interact_value\u001b[0m\u001b[1;33m(\u001b[0m\u001b[1;33m)\u001b[0m\u001b[1;33m\u001b[0m\u001b[1;33m\u001b[0m\u001b[0m\n\u001b[0;32m    255\u001b[0m                     \u001b[0mself\u001b[0m\u001b[1;33m.\u001b[0m\u001b[0mkwargs\u001b[0m\u001b[1;33m[\u001b[0m\u001b[0mwidget\u001b[0m\u001b[1;33m.\u001b[0m\u001b[0m_kwarg\u001b[0m\u001b[1;33m]\u001b[0m \u001b[1;33m=\u001b[0m \u001b[0mvalue\u001b[0m\u001b[1;33m\u001b[0m\u001b[1;33m\u001b[0m\u001b[0m\n\u001b[1;32m--> 256\u001b[1;33m                 \u001b[0mself\u001b[0m\u001b[1;33m.\u001b[0m\u001b[0mresult\u001b[0m \u001b[1;33m=\u001b[0m \u001b[0mself\u001b[0m\u001b[1;33m.\u001b[0m\u001b[0mf\u001b[0m\u001b[1;33m(\u001b[0m\u001b[1;33m**\u001b[0m\u001b[0mself\u001b[0m\u001b[1;33m.\u001b[0m\u001b[0mkwargs\u001b[0m\u001b[1;33m)\u001b[0m\u001b[1;33m\u001b[0m\u001b[1;33m\u001b[0m\u001b[0m\n\u001b[0m\u001b[0;32m    257\u001b[0m                 \u001b[0mshow_inline_matplotlib_plots\u001b[0m\u001b[1;33m(\u001b[0m\u001b[1;33m)\u001b[0m\u001b[1;33m\u001b[0m\u001b[1;33m\u001b[0m\u001b[0m\n\u001b[0;32m    258\u001b[0m                 \u001b[1;32mif\u001b[0m \u001b[0mself\u001b[0m\u001b[1;33m.\u001b[0m\u001b[0mauto_display\u001b[0m \u001b[1;32mand\u001b[0m \u001b[0mself\u001b[0m\u001b[1;33m.\u001b[0m\u001b[0mresult\u001b[0m \u001b[1;32mis\u001b[0m \u001b[1;32mnot\u001b[0m \u001b[1;32mNone\u001b[0m\u001b[1;33m:\u001b[0m\u001b[1;33m\u001b[0m\u001b[1;33m\u001b[0m\u001b[0m\n",
          "\u001b[1;32m<ipython-input-90-c6a9d3a8201d>\u001b[0m in \u001b[0;36mupdate\u001b[1;34m(w, amp, phi)\u001b[0m\n\u001b[0;32m      2\u001b[0m \u001b[1;32mdef\u001b[0m \u001b[0mupdate\u001b[0m\u001b[1;33m(\u001b[0m\u001b[0mw\u001b[0m \u001b[1;33m=\u001b[0m \u001b[1;36m1.0\u001b[0m\u001b[1;33m,\u001b[0m \u001b[0mamp\u001b[0m\u001b[1;33m=\u001b[0m\u001b[1;36m1\u001b[0m\u001b[1;33m,\u001b[0m \u001b[0mphi\u001b[0m\u001b[1;33m=\u001b[0m\u001b[1;36m0\u001b[0m\u001b[1;33m)\u001b[0m\u001b[1;33m:\u001b[0m\u001b[1;33m\u001b[0m\u001b[1;33m\u001b[0m\u001b[0m\n\u001b[0;32m      3\u001b[0m     \u001b[1;34m\"\"\"Remove old lines from plot and plot new one\"\"\"\u001b[0m\u001b[1;33m\u001b[0m\u001b[1;33m\u001b[0m\u001b[0m\n\u001b[1;32m----> 4\u001b[1;33m     \u001b[1;33m[\u001b[0m\u001b[0ml\u001b[0m\u001b[1;33m.\u001b[0m\u001b[0mremove\u001b[0m\u001b[1;33m(\u001b[0m\u001b[1;33m)\u001b[0m \u001b[1;32mfor\u001b[0m \u001b[0ml\u001b[0m \u001b[1;32min\u001b[0m \u001b[0max\u001b[0m\u001b[1;33m.\u001b[0m\u001b[0mlines\u001b[0m\u001b[1;33m]\u001b[0m\u001b[1;33m\u001b[0m\u001b[1;33m\u001b[0m\u001b[0m\n\u001b[0m\u001b[0;32m      5\u001b[0m     \u001b[0max\u001b[0m\u001b[1;33m.\u001b[0m\u001b[0mplot\u001b[0m\u001b[1;33m(\u001b[0m\u001b[0mx\u001b[0m\u001b[1;33m,\u001b[0m \u001b[0mmy_sine\u001b[0m\u001b[1;33m(\u001b[0m\u001b[0mx\u001b[0m\u001b[1;33m,\u001b[0m \u001b[0mw\u001b[0m\u001b[1;33m,\u001b[0m \u001b[0mamp\u001b[0m\u001b[1;33m,\u001b[0m \u001b[0mphi\u001b[0m\u001b[1;33m)\u001b[0m\u001b[1;33m,\u001b[0m \u001b[0mcolor\u001b[0m\u001b[1;33m=\u001b[0m\u001b[1;34m'C0'\u001b[0m\u001b[1;33m)\u001b[0m\u001b[1;33m\u001b[0m\u001b[1;33m\u001b[0m\u001b[0m\n\u001b[0;32m      6\u001b[0m \u001b[1;33m\u001b[0m\u001b[0m\n",
          "\u001b[1;31mNameError\u001b[0m: name 'ax' is not defined"
         ]
        }
       ]
      }
     },
     "20796b53a12b494cb3d9de120eef8d3a": {
      "model_module": "@jupyter-widgets/controls",
      "model_module_version": "1.5.0",
      "model_name": "SliderStyleModel",
      "state": {
       "description_width": ""
      }
     },
     "20a020391b2447578c15386ce210ecbb": {
      "model_module": "@jupyter-widgets/controls",
      "model_module_version": "1.5.0",
      "model_name": "ButtonModel",
      "state": {
       "description": "c/3",
       "layout": "IPY_MODEL_e722b65541b04645a982b08ceaca98b2",
       "style": "IPY_MODEL_b2707bf7ddd54da89e124203da411518"
      }
     },
     "20d16851be144a9caf7ad5ef7416fc5f": {
      "model_module": "@jupyter-widgets/base",
      "model_module_version": "1.2.0",
      "model_name": "LayoutModel",
      "state": {}
     },
     "211f018e8c8b49908ecd8d0f03a65061": {
      "model_module": "@jupyter-widgets/base",
      "model_module_version": "1.2.0",
      "model_name": "LayoutModel",
      "state": {}
     },
     "21815397e49a47848c486d4abfe9c397": {
      "model_module": "@jupyter-widgets/base",
      "model_module_version": "1.2.0",
      "model_name": "LayoutModel",
      "state": {}
     },
     "21c58cb7760a4c4a9d1d7f3ad7897da8": {
      "model_module": "@jupyter-widgets/controls",
      "model_module_version": "1.5.0",
      "model_name": "SliderStyleModel",
      "state": {
       "description_width": ""
      }
     },
     "23f632c1101b48e98edfb3060894c582": {
      "model_module": "@jupyter-widgets/output",
      "model_module_version": "1.0.0",
      "model_name": "OutputModel",
      "state": {
       "layout": "IPY_MODEL_ee7e7c82d6de4077b05220960e1a160c"
      }
     },
     "240f689fd89a461d9da9c7994f694961": {
      "model_module": "@jupyter-widgets/controls",
      "model_module_version": "1.5.0",
      "model_name": "SliderStyleModel",
      "state": {
       "description_width": ""
      }
     },
     "2445fdb848fe4e429d34b95b732e4b55": {
      "model_module": "@jupyter-widgets/controls",
      "model_module_version": "1.5.0",
      "model_name": "VBoxModel",
      "state": {
       "_dom_classes": [
        "widget-interact"
       ],
       "children": [
        "IPY_MODEL_2e8d6b9549bd4368a274fca660761d84",
        "IPY_MODEL_65a1a36985da4fe7a62e4fc59c934db9",
        "IPY_MODEL_8b545e4925f2499db86c2607417001a3",
        "IPY_MODEL_6601b7e933b44b8796b3a3629bb3233c"
       ],
       "layout": "IPY_MODEL_35d7f9dc51df4c348bc094e411b1dcff"
      }
     },
     "24a36f261e8c437fa19b9e3f5919b4eb": {
      "model_module": "@jupyter-widgets/controls",
      "model_module_version": "1.5.0",
      "model_name": "SliderStyleModel",
      "state": {
       "description_width": ""
      }
     },
     "252aa85d21c2404e89abd78640fe0fda": {
      "model_module": "@jupyter-widgets/controls",
      "model_module_version": "1.5.0",
      "model_name": "ButtonModel",
      "state": {
       "description": "None",
       "layout": "IPY_MODEL_356cc676351c45429fb43ab399507dc4",
       "style": "IPY_MODEL_eb00235de0264ee7b496e9f6c9680696"
      }
     },
     "256c82796e554f4bada0a785d3026e39": {
      "model_module": "@jupyter-widgets/controls",
      "model_module_version": "1.5.0",
      "model_name": "VBoxModel",
      "state": {
       "_dom_classes": [
        "widget-interact"
       ],
       "children": [
        "IPY_MODEL_06fa2cc3882c442a96521a7cbb09621d",
        "IPY_MODEL_757719ed53db4f33b137b264c45977ca",
        "IPY_MODEL_b5ad0caa7a964578b392ff73ca241283",
        "IPY_MODEL_1746c09c7fd7442281e4fdd97653bcbc"
       ],
       "layout": "IPY_MODEL_0dc61f35389644ee937e6b8f352abb88"
      }
     },
     "259da4cfdf0b468aa62c13511f36c1eb": {
      "model_module": "@jupyter-widgets/controls",
      "model_module_version": "1.5.0",
      "model_name": "ButtonModel",
      "state": {
       "description": "button 3",
       "layout": "IPY_MODEL_efc17ca2617f46a2b7a4168fc83cb097",
       "style": "IPY_MODEL_0ab87013ca79480e94a206bb735bbb1f"
      }
     },
     "25c5d8920eb54c549cdc966176672b57": {
      "model_module": "@jupyter-widgets/controls",
      "model_module_version": "1.5.0",
      "model_name": "ButtonStyleModel",
      "state": {}
     },
     "27a942e1b48b4c69834e9cff918e15d1": {
      "model_module": "@jupyter-widgets/controls",
      "model_module_version": "1.5.0",
      "model_name": "ButtonModel",
      "state": {
       "description": "button 3",
       "layout": "IPY_MODEL_c01f839eb83a49e7b52ff4a7f06a0e22",
       "style": "IPY_MODEL_dc0956b5ece84d20b50e88838a4caca0"
      }
     },
     "27d3d802a00d41a9bdd1afadd8842988": {
      "model_module": "@jupyter-widgets/base",
      "model_module_version": "1.2.0",
      "model_name": "LayoutModel",
      "state": {}
     },
     "28032716b305462aab3507fcae2b30dc": {
      "model_module": "@jupyter-widgets/controls",
      "model_module_version": "1.5.0",
      "model_name": "SliderStyleModel",
      "state": {
       "description_width": ""
      }
     },
     "29072a28616c449fba4450c9f26bc3ef": {
      "model_module": "@jupyter-widgets/base",
      "model_module_version": "1.2.0",
      "model_name": "LayoutModel",
      "state": {}
     },
     "292a2958fe4f4a608a06314be519493d": {
      "model_module": "@jupyter-widgets/controls",
      "model_module_version": "1.5.0",
      "model_name": "ButtonModel",
      "state": {
       "description": "button 2",
       "layout": "IPY_MODEL_d7b52375a71f4a47804b8b0b597660a3",
       "style": "IPY_MODEL_076485fe59e2421eaef027df5c89c9dc"
      }
     },
     "2967d0160366415b8b9b057c16a99b38": {
      "model_module": "@jupyter-widgets/controls",
      "model_module_version": "1.5.0",
      "model_name": "LabelModel",
      "state": {
       "layout": "IPY_MODEL_a7e8018b631e4cb7ad2babe63c155ad1",
       "style": "IPY_MODEL_2c6278e36ebc4876af8f36130be030f5",
       "value": "3"
      }
     },
     "2a6408dc3d4b4ce8bccf5a3d357f10b2": {
      "model_module": "@jupyter-widgets/controls",
      "model_module_version": "1.5.0",
      "model_name": "FloatSliderModel",
      "state": {
       "description": "phi",
       "layout": "IPY_MODEL_3d4c6d79640946afa127aa6daa363edb",
       "max": 6.293185307179586,
       "step": 0.01,
       "style": "IPY_MODEL_28032716b305462aab3507fcae2b30dc"
      }
     },
     "2a6b84fb7bdf4571b590c557bb0d496f": {
      "model_module": "@jupyter-widgets/base",
      "model_module_version": "1.2.0",
      "model_name": "LayoutModel",
      "state": {}
     },
     "2ac5889a5361409b85e0d9cb57dff069": {
      "model_module": "@jupyter-widgets/base",
      "model_module_version": "1.2.0",
      "model_name": "LayoutModel",
      "state": {}
     },
     "2aecd07e36fb43239ee0ef18677bd71e": {
      "model_module": "@jupyter-widgets/controls",
      "model_module_version": "1.5.0",
      "model_name": "ButtonModel",
      "state": {
       "description": "button 3",
       "layout": "IPY_MODEL_b741da6694bf4608a1902ad27b998a09",
       "style": "IPY_MODEL_165be0e150f94dcba5926228b64db5a2"
      }
     },
     "2afbc5d2644043fa9ff53df32a71d90f": {
      "model_module": "@jupyter-widgets/output",
      "model_module_version": "1.0.0",
      "model_name": "OutputModel",
      "state": {
       "layout": "IPY_MODEL_f234e09b2515409a8b32ffe21dc4b25f",
       "outputs": [
        {
         "ename": "NameError",
         "evalue": "name 'ax' is not defined",
         "output_type": "error",
         "traceback": [
          "\u001b[1;31m---------------------------------------------------------------------------\u001b[0m",
          "\u001b[1;31mNameError\u001b[0m                                 Traceback (most recent call last)",
          "\u001b[1;32mc:\\users\\cmdr. data\\virtualenvironments\\myvenv\\lib\\site-packages\\ipywidgets\\widgets\\interaction.py\u001b[0m in \u001b[0;36mupdate\u001b[1;34m(self, *args)\u001b[0m\n\u001b[0;32m    254\u001b[0m                     \u001b[0mvalue\u001b[0m \u001b[1;33m=\u001b[0m \u001b[0mwidget\u001b[0m\u001b[1;33m.\u001b[0m\u001b[0mget_interact_value\u001b[0m\u001b[1;33m(\u001b[0m\u001b[1;33m)\u001b[0m\u001b[1;33m\u001b[0m\u001b[1;33m\u001b[0m\u001b[0m\n\u001b[0;32m    255\u001b[0m                     \u001b[0mself\u001b[0m\u001b[1;33m.\u001b[0m\u001b[0mkwargs\u001b[0m\u001b[1;33m[\u001b[0m\u001b[0mwidget\u001b[0m\u001b[1;33m.\u001b[0m\u001b[0m_kwarg\u001b[0m\u001b[1;33m]\u001b[0m \u001b[1;33m=\u001b[0m \u001b[0mvalue\u001b[0m\u001b[1;33m\u001b[0m\u001b[1;33m\u001b[0m\u001b[0m\n\u001b[1;32m--> 256\u001b[1;33m                 \u001b[0mself\u001b[0m\u001b[1;33m.\u001b[0m\u001b[0mresult\u001b[0m \u001b[1;33m=\u001b[0m \u001b[0mself\u001b[0m\u001b[1;33m.\u001b[0m\u001b[0mf\u001b[0m\u001b[1;33m(\u001b[0m\u001b[1;33m**\u001b[0m\u001b[0mself\u001b[0m\u001b[1;33m.\u001b[0m\u001b[0mkwargs\u001b[0m\u001b[1;33m)\u001b[0m\u001b[1;33m\u001b[0m\u001b[1;33m\u001b[0m\u001b[0m\n\u001b[0m\u001b[0;32m    257\u001b[0m                 \u001b[0mshow_inline_matplotlib_plots\u001b[0m\u001b[1;33m(\u001b[0m\u001b[1;33m)\u001b[0m\u001b[1;33m\u001b[0m\u001b[1;33m\u001b[0m\u001b[0m\n\u001b[0;32m    258\u001b[0m                 \u001b[1;32mif\u001b[0m \u001b[0mself\u001b[0m\u001b[1;33m.\u001b[0m\u001b[0mauto_display\u001b[0m \u001b[1;32mand\u001b[0m \u001b[0mself\u001b[0m\u001b[1;33m.\u001b[0m\u001b[0mresult\u001b[0m \u001b[1;32mis\u001b[0m \u001b[1;32mnot\u001b[0m \u001b[1;32mNone\u001b[0m\u001b[1;33m:\u001b[0m\u001b[1;33m\u001b[0m\u001b[1;33m\u001b[0m\u001b[0m\n",
          "\u001b[1;32m<ipython-input-91-c6a9d3a8201d>\u001b[0m in \u001b[0;36mupdate\u001b[1;34m(w, amp, phi)\u001b[0m\n\u001b[0;32m      2\u001b[0m \u001b[1;32mdef\u001b[0m \u001b[0mupdate\u001b[0m\u001b[1;33m(\u001b[0m\u001b[0mw\u001b[0m \u001b[1;33m=\u001b[0m \u001b[1;36m1.0\u001b[0m\u001b[1;33m,\u001b[0m \u001b[0mamp\u001b[0m\u001b[1;33m=\u001b[0m\u001b[1;36m1\u001b[0m\u001b[1;33m,\u001b[0m \u001b[0mphi\u001b[0m\u001b[1;33m=\u001b[0m\u001b[1;36m0\u001b[0m\u001b[1;33m)\u001b[0m\u001b[1;33m:\u001b[0m\u001b[1;33m\u001b[0m\u001b[1;33m\u001b[0m\u001b[0m\n\u001b[0;32m      3\u001b[0m     \u001b[1;34m\"\"\"Remove old lines from plot and plot new one\"\"\"\u001b[0m\u001b[1;33m\u001b[0m\u001b[1;33m\u001b[0m\u001b[0m\n\u001b[1;32m----> 4\u001b[1;33m     \u001b[1;33m[\u001b[0m\u001b[0ml\u001b[0m\u001b[1;33m.\u001b[0m\u001b[0mremove\u001b[0m\u001b[1;33m(\u001b[0m\u001b[1;33m)\u001b[0m \u001b[1;32mfor\u001b[0m \u001b[0ml\u001b[0m \u001b[1;32min\u001b[0m \u001b[0max\u001b[0m\u001b[1;33m.\u001b[0m\u001b[0mlines\u001b[0m\u001b[1;33m]\u001b[0m\u001b[1;33m\u001b[0m\u001b[1;33m\u001b[0m\u001b[0m\n\u001b[0m\u001b[0;32m      5\u001b[0m     \u001b[0max\u001b[0m\u001b[1;33m.\u001b[0m\u001b[0mplot\u001b[0m\u001b[1;33m(\u001b[0m\u001b[0mx\u001b[0m\u001b[1;33m,\u001b[0m \u001b[0mmy_sine\u001b[0m\u001b[1;33m(\u001b[0m\u001b[0mx\u001b[0m\u001b[1;33m,\u001b[0m \u001b[0mw\u001b[0m\u001b[1;33m,\u001b[0m \u001b[0mamp\u001b[0m\u001b[1;33m,\u001b[0m \u001b[0mphi\u001b[0m\u001b[1;33m)\u001b[0m\u001b[1;33m,\u001b[0m \u001b[0mcolor\u001b[0m\u001b[1;33m=\u001b[0m\u001b[1;34m'C0'\u001b[0m\u001b[1;33m)\u001b[0m\u001b[1;33m\u001b[0m\u001b[1;33m\u001b[0m\u001b[0m\n\u001b[0;32m      6\u001b[0m \u001b[1;33m\u001b[0m\u001b[0m\n",
          "\u001b[1;31mNameError\u001b[0m: name 'ax' is not defined"
         ]
        }
       ]
      }
     },
     "2b3448c5b96e47fb911287737364237f": {
      "model_module": "@jupyter-widgets/controls",
      "model_module_version": "1.5.0",
      "model_name": "SliderStyleModel",
      "state": {
       "description_width": ""
      }
     },
     "2b47664a6a514548a02341ee7388b177": {
      "model_module": "@jupyter-widgets/base",
      "model_module_version": "1.2.0",
      "model_name": "LayoutModel",
      "state": {}
     },
     "2bd2360f341b40af9df2f7d1c23af759": {
      "model_module": "@jupyter-widgets/controls",
      "model_module_version": "1.5.0",
      "model_name": "DescriptionStyleModel",
      "state": {
       "description_width": ""
      }
     },
     "2bed6f2189064a8ab357b4625bc8fa89": {
      "model_module": "@jupyter-widgets/controls",
      "model_module_version": "1.5.0",
      "model_name": "SliderStyleModel",
      "state": {
       "description_width": ""
      }
     },
     "2bf400ad93b44d829a0ecd6de3712218": {
      "model_module": "@jupyter-widgets/base",
      "model_module_version": "1.2.0",
      "model_name": "LayoutModel",
      "state": {}
     },
     "2c0613ec48ab4577bb49b56fd0db6caa": {
      "model_module": "@jupyter-widgets/controls",
      "model_module_version": "1.5.0",
      "model_name": "VBoxModel",
      "state": {
       "_dom_classes": [
        "widget-interact"
       ],
       "children": [
        "IPY_MODEL_df04d99fcbcf4a5eb79fdbc7d76bf1fb",
        "IPY_MODEL_c8f3c9cba3834df788f9d47d20b0843e",
        "IPY_MODEL_d2888bec11294bb492af8c536abd894d",
        "IPY_MODEL_d0a5b8022d9a4bc78e5bc5095671f192"
       ],
       "layout": "IPY_MODEL_c92df7e89d8e47a8a243441bcd10ebc5"
      }
     },
     "2c5f6a9fac7b4705801d7c8fab6a0c9d": {
      "model_module": "@jupyter-widgets/controls",
      "model_module_version": "1.5.0",
      "model_name": "IntSliderModel",
      "state": {
       "description": "w",
       "layout": "IPY_MODEL_9a55daf543214a85944ddb2ebcabc3ef",
       "max": 10,
       "style": "IPY_MODEL_af8e8c41592a45c4922d773756226428",
       "value": 1
      }
     },
     "2c6278e36ebc4876af8f36130be030f5": {
      "model_module": "@jupyter-widgets/controls",
      "model_module_version": "1.5.0",
      "model_name": "DescriptionStyleModel",
      "state": {
       "description_width": ""
      }
     },
     "2cb9feb463c84c07a1886b9ff3080c11": {
      "model_module": "@jupyter-widgets/base",
      "model_module_version": "1.2.0",
      "model_name": "LayoutModel",
      "state": {}
     },
     "2d4c708d12db46d08f9ecdb968f3fd97": {
      "model_module": "@jupyter-widgets/controls",
      "model_module_version": "1.5.0",
      "model_name": "ButtonModel",
      "state": {
       "description": "None",
       "layout": "IPY_MODEL_f8b2b4c019d14d51976ea164c2c0ee3c",
       "style": "IPY_MODEL_d2ec0d2023ae4e409e48ef441b698a1b"
      }
     },
     "2e83d9573de34b5d9d7244edcb8f42e7": {
      "model_module": "@jupyter-widgets/controls",
      "model_module_version": "1.5.0",
      "model_name": "ButtonModel",
      "state": {
       "description": "a",
       "layout": "IPY_MODEL_95e3b3a5a7864c60b18d7a0dd1918116",
       "style": "IPY_MODEL_7b44c1f0e1e04bb594354d07c7316a0e"
      }
     },
     "2e8d6b9549bd4368a274fca660761d84": {
      "model_module": "@jupyter-widgets/controls",
      "model_module_version": "1.5.0",
      "model_name": "IntSliderModel",
      "state": {
       "description": "w",
       "layout": "IPY_MODEL_ed085fdf7bf1451c9f393a8a1ba48e4f",
       "max": 10,
       "style": "IPY_MODEL_8b6ef63a1d7e47d28dd0cac14765e301",
       "value": 1
      }
     },
     "2f271b35bea04bb080796007d6884fb0": {
      "model_module": "@jupyter-widgets/base",
      "model_module_version": "1.2.0",
      "model_name": "LayoutModel",
      "state": {}
     },
     "2f4102e85fb546459bf6958c927295ec": {
      "model_module": "@jupyter-widgets/controls",
      "model_module_version": "1.5.0",
      "model_name": "SliderStyleModel",
      "state": {
       "description_width": ""
      }
     },
     "2fb331df8cef49be8591ba1bdcc5f8a8": {
      "model_module": "@jupyter-widgets/controls",
      "model_module_version": "1.5.0",
      "model_name": "ButtonModel",
      "state": {
       "description": "None",
       "layout": "IPY_MODEL_c6351ebdb4d045c6a0f55efb955c3893",
       "style": "IPY_MODEL_be1dcf7c66e0415cac37048d5136bada"
      }
     },
     "2fc4257d12604282a8456a27a32585b5": {
      "model_module": "@jupyter-widgets/controls",
      "model_module_version": "1.5.0",
      "model_name": "IntSliderModel",
      "state": {
       "description": "w",
       "layout": "IPY_MODEL_5d6fc6818614467ebb7073add33a553f",
       "max": 10,
       "style": "IPY_MODEL_dbfbec2e98cd47899a7b2cc93e6bd26b",
       "value": 1
      }
     },
     "2ff6e95648ec40dfa02372c87bd661eb": {
      "model_module": "@jupyter-widgets/base",
      "model_module_version": "1.2.0",
      "model_name": "LayoutModel",
      "state": {}
     },
     "3036ab9aafb2461c967d0ae1ac637b35": {
      "model_module": "@jupyter-widgets/base",
      "model_module_version": "1.2.0",
      "model_name": "LayoutModel",
      "state": {}
     },
     "31f247d7864d4a45a4b4c9343e26d3a1": {
      "model_module": "@jupyter-widgets/base",
      "model_module_version": "1.2.0",
      "model_name": "LayoutModel",
      "state": {}
     },
     "331ae67acad94abf93447f81297c15db": {
      "model_module": "@jupyter-widgets/controls",
      "model_module_version": "1.5.0",
      "model_name": "DescriptionStyleModel",
      "state": {
       "description_width": ""
      }
     },
     "34813d7652444e9e9ffbfea3b07b4033": {
      "model_module": "@jupyter-widgets/base",
      "model_module_version": "1.2.0",
      "model_name": "LayoutModel",
      "state": {}
     },
     "34cfda38d7d844ec8e953ab14f478704": {
      "model_module": "@jupyter-widgets/base",
      "model_module_version": "1.2.0",
      "model_name": "LayoutModel",
      "state": {}
     },
     "34e69fa8094545e68573f1242ab5b194": {
      "model_module": "@jupyter-widgets/base",
      "model_module_version": "1.2.0",
      "model_name": "LayoutModel",
      "state": {}
     },
     "356cc676351c45429fb43ab399507dc4": {
      "model_module": "@jupyter-widgets/base",
      "model_module_version": "1.2.0",
      "model_name": "LayoutModel",
      "state": {}
     },
     "35789301176846c2a8c750a5d32f8c6b": {
      "model_module": "@jupyter-widgets/controls",
      "model_module_version": "1.5.0",
      "model_name": "FloatSliderModel",
      "state": {
       "description": "amp",
       "layout": "IPY_MODEL_9f05162f91be46d49b9fbfe05034b0be",
       "max": 4,
       "step": 0.1,
       "style": "IPY_MODEL_9a1db843ff3d48c58fd1a3be696fb8da",
       "value": 1.5
      }
     },
     "35d7f9dc51df4c348bc094e411b1dcff": {
      "model_module": "@jupyter-widgets/base",
      "model_module_version": "1.2.0",
      "model_name": "LayoutModel",
      "state": {}
     },
     "3616b1a954114cb2b19a06c99702491d": {
      "model_module": "@jupyter-widgets/controls",
      "model_module_version": "1.5.0",
      "model_name": "ButtonStyleModel",
      "state": {}
     },
     "369f090d0a1a47e38c9a2a3662cb1657": {
      "model_module": "@jupyter-widgets/base",
      "model_module_version": "1.2.0",
      "model_name": "LayoutModel",
      "state": {}
     },
     "37fdd64b417542a8bed8dd8132ae7847": {
      "model_module": "@jupyter-widgets/controls",
      "model_module_version": "1.5.0",
      "model_name": "LabelModel",
      "state": {
       "layout": "IPY_MODEL_2ac5889a5361409b85e0d9cb57dff069",
       "style": "IPY_MODEL_2bd2360f341b40af9df2f7d1c23af759",
       "value": "1"
      }
     },
     "382d031fc17a465dab46c010ceaf6089": {
      "model_module": "@jupyter-widgets/controls",
      "model_module_version": "1.5.0",
      "model_name": "IntSliderModel",
      "state": {
       "description": "w",
       "layout": "IPY_MODEL_c8a11bfad7a44c3c9b8d97b851b99234",
       "max": 10,
       "style": "IPY_MODEL_f3b50f7b1fc84b3d95c1930221e52fbc",
       "value": 2
      }
     },
     "3861eac1ec4044158e10fff1bff686ae": {
      "model_module": "@jupyter-widgets/base",
      "model_module_version": "1.2.0",
      "model_name": "LayoutModel",
      "state": {}
     },
     "3883176582b644a1aa2ad616c8859c0c": {
      "model_module": "@jupyter-widgets/controls",
      "model_module_version": "1.5.0",
      "model_name": "ButtonStyleModel",
      "state": {}
     },
     "38d4b19187cd49af88e16d4c9471174e": {
      "model_module": "@jupyter-widgets/controls",
      "model_module_version": "1.5.0",
      "model_name": "VBoxModel",
      "state": {
       "_dom_classes": [
        "widget-interact"
       ],
       "children": [
        "IPY_MODEL_5a46e0445be344fca25954d9dab9137f",
        "IPY_MODEL_cdfaf024ddb5425a9cacd34dd7e164ae",
        "IPY_MODEL_da628a0a1a4b40b8aae20bff8c86d26b",
        "IPY_MODEL_23f632c1101b48e98edfb3060894c582"
       ],
       "layout": "IPY_MODEL_6162d3c9eb794005bf67efbce4d72dd5"
      }
     },
     "39bf1290bd6841a9a5124fa129b5562e": {
      "model_module": "@jupyter-widgets/controls",
      "model_module_version": "1.5.0",
      "model_name": "ButtonModel",
      "state": {
       "description": "g",
       "layout": "IPY_MODEL_7e731b0ff71349039083ba93690b8c84",
       "style": "IPY_MODEL_19f80abaea714d7790c5e268d2bde721"
      }
     },
     "39c0209508e64cdc9d5bd8282dd06d8f": {
      "model_module": "@jupyter-widgets/base",
      "model_module_version": "1.2.0",
      "model_name": "LayoutModel",
      "state": {}
     },
     "39dc3817c31843fdbbd4e3f1f186a4bc": {
      "model_module": "@jupyter-widgets/controls",
      "model_module_version": "1.5.0",
      "model_name": "ButtonStyleModel",
      "state": {}
     },
     "39e34182ac8146ff889fb9853332dcc0": {
      "model_module": "@jupyter-widgets/controls",
      "model_module_version": "1.5.0",
      "model_name": "SliderStyleModel",
      "state": {
       "description_width": ""
      }
     },
     "3b1ad64b69394e36bcc7dc30932d5ec1": {
      "model_module": "@jupyter-widgets/base",
      "model_module_version": "1.2.0",
      "model_name": "LayoutModel",
      "state": {}
     },
     "3b71501058594a34995df3250770fab6": {
      "model_module": "@jupyter-widgets/controls",
      "model_module_version": "1.5.0",
      "model_name": "LabelModel",
      "state": {
       "layout": "IPY_MODEL_2b47664a6a514548a02341ee7388b177",
       "style": "IPY_MODEL_81ef251be6fe481d8c8bc34874f1dcf9",
       "value": "2"
      }
     },
     "3c105fc3844e48f5aebe44fd694dd99b": {
      "model_module": "@jupyter-widgets/controls",
      "model_module_version": "1.5.0",
      "model_name": "IntSliderModel",
      "state": {
       "description": "w",
       "layout": "IPY_MODEL_34cfda38d7d844ec8e953ab14f478704",
       "max": 10,
       "style": "IPY_MODEL_f2d6500b3ad74c928ebd48d00caaec4f",
       "value": 1
      }
     },
     "3cddbe8cc13f43c3bbc3c2ced08230b2": {
      "model_module": "@jupyter-widgets/base",
      "model_module_version": "1.2.0",
      "model_name": "LayoutModel",
      "state": {}
     },
     "3d09d3caf8ba4335941a7e4d7af579b1": {
      "model_module": "@jupyter-widgets/controls",
      "model_module_version": "1.5.0",
      "model_name": "FloatSliderModel",
      "state": {
       "description": "phi",
       "layout": "IPY_MODEL_34e69fa8094545e68573f1242ab5b194",
       "max": 6.293185307179586,
       "step": 0.01,
       "style": "IPY_MODEL_9c9f362e4c474a6a9d33decc36e31eb0"
      }
     },
     "3d0d2bf3fd314e1cb8e6b25e27792702": {
      "model_module": "@jupyter-widgets/base",
      "model_module_version": "1.2.0",
      "model_name": "LayoutModel",
      "state": {}
     },
     "3d4c6d79640946afa127aa6daa363edb": {
      "model_module": "@jupyter-widgets/base",
      "model_module_version": "1.2.0",
      "model_name": "LayoutModel",
      "state": {}
     },
     "3e95feafa0fb427fa31fbad8132315cc": {
      "model_module": "@jupyter-widgets/controls",
      "model_module_version": "1.5.0",
      "model_name": "ButtonModel",
      "state": {
       "description": "button 3",
       "layout": "IPY_MODEL_b53c4b3b651b40028631fe8a1d0a3756",
       "style": "IPY_MODEL_52a5a50298004facaa5eca352af2edad"
      }
     },
     "3f87c01a0c334d0eb5938eb088a7887f": {
      "model_module": "@jupyter-widgets/base",
      "model_module_version": "1.2.0",
      "model_name": "LayoutModel",
      "state": {}
     },
     "3f899792d0ff4afaa64caa3379c5556e": {
      "model_module": "@jupyter-widgets/controls",
      "model_module_version": "1.5.0",
      "model_name": "LabelModel",
      "state": {
       "layout": "IPY_MODEL_443d544c2d9040829cb49c974976c412",
       "style": "IPY_MODEL_d4c11f3edf6e44f18efd97f1939a1a30",
       "value": "2"
      }
     },
     "3f9d5649884243f5828e9a79f1cf6e34": {
      "model_module": "@jupyter-widgets/base",
      "model_module_version": "1.2.0",
      "model_name": "LayoutModel",
      "state": {}
     },
     "4097eb8b7f22486cb28ab68d3bc5b4d1": {
      "model_module": "@jupyter-widgets/controls",
      "model_module_version": "1.5.0",
      "model_name": "ButtonStyleModel",
      "state": {}
     },
     "40de4f366d5f4611aff4af3fa53e20c9": {
      "model_module": "@jupyter-widgets/base",
      "model_module_version": "1.2.0",
      "model_name": "LayoutModel",
      "state": {}
     },
     "41119272e99d494c9772a695cbde553c": {
      "model_module": "@jupyter-widgets/controls",
      "model_module_version": "1.5.0",
      "model_name": "SliderStyleModel",
      "state": {
       "description_width": ""
      }
     },
     "4161a3d9ff7a400c8678740aad2f2515": {
      "model_module": "@jupyter-widgets/controls",
      "model_module_version": "1.5.0",
      "model_name": "SliderStyleModel",
      "state": {
       "description_width": ""
      }
     },
     "41cc849595824af0ace9c216abd346aa": {
      "model_module": "@jupyter-widgets/controls",
      "model_module_version": "1.5.0",
      "model_name": "ButtonModel",
      "state": {
       "description": "button 3",
       "layout": "IPY_MODEL_858fd11f7ebc4ee6b18fcd70ca76e6fd",
       "style": "IPY_MODEL_dd4726eb5eff4c7ab47c2388a2cb1b94"
      }
     },
     "41cd1e5fece64597a6c0daae58c8c8c9": {
      "model_module": "@jupyter-widgets/controls",
      "model_module_version": "1.5.0",
      "model_name": "LabelModel",
      "state": {
       "layout": "IPY_MODEL_96db3a43bff74368bbfdf71e2459e9d7",
       "style": "IPY_MODEL_019599470b7040f0a65804450383a3ce",
       "value": "3"
      }
     },
     "42131cd89595471791178ed083f3ef03": {
      "model_module": "@jupyter-widgets/controls",
      "model_module_version": "1.5.0",
      "model_name": "ButtonStyleModel",
      "state": {}
     },
     "425ee9696c014010a438ed0bc03cb1b3": {
      "model_module": "@jupyter-widgets/controls",
      "model_module_version": "1.5.0",
      "model_name": "IntSliderModel",
      "state": {
       "description": "w",
       "layout": "IPY_MODEL_be2ab99521ff48868b0b3e8d23606ce6",
       "max": 10,
       "style": "IPY_MODEL_1b18ed1aa14a44e79ddd82352be9c851",
       "value": 1
      }
     },
     "427d51c772d444038644acd8136d8cdb": {
      "model_module": "@jupyter-widgets/base",
      "model_module_version": "1.2.0",
      "model_name": "LayoutModel",
      "state": {}
     },
     "42cb99978a1f4975be3db4ebe515b264": {
      "model_module": "@jupyter-widgets/controls",
      "model_module_version": "1.5.0",
      "model_name": "ButtonStyleModel",
      "state": {}
     },
     "434ee872c7be49988a3274463eb60172": {
      "model_module": "@jupyter-widgets/base",
      "model_module_version": "1.2.0",
      "model_name": "LayoutModel",
      "state": {}
     },
     "439b05daead54fc8bf2c3b9d14485019": {
      "model_module": "@jupyter-widgets/controls",
      "model_module_version": "1.5.0",
      "model_name": "ButtonModel",
      "state": {
       "description": "h",
       "layout": "IPY_MODEL_1dc2479bb4b8423e9168e84083d91d18",
       "style": "IPY_MODEL_6c96aa80ab674b369b99ed1f5b9d6b4e"
      }
     },
     "43a6ccc4778b40aca3483aa7a0fe0c66": {
      "model_module": "@jupyter-widgets/controls",
      "model_module_version": "1.5.0",
      "model_name": "FloatSliderModel",
      "state": {
       "description": "amp",
       "layout": "IPY_MODEL_c82bcd6197164241b644d95b63687e10",
       "max": 4,
       "step": 0.1,
       "style": "IPY_MODEL_9034e56fe30c4f92b66f06e39efe726a",
       "value": 1
      }
     },
     "443d544c2d9040829cb49c974976c412": {
      "model_module": "@jupyter-widgets/base",
      "model_module_version": "1.2.0",
      "model_name": "LayoutModel",
      "state": {}
     },
     "446fe4eacbb0493d88af7b8548b75590": {
      "model_module": "@jupyter-widgets/controls",
      "model_module_version": "1.5.0",
      "model_name": "FloatSliderModel",
      "state": {
       "description": "amp",
       "layout": "IPY_MODEL_dc79ad8cc761402fb16b3edefb57a646",
       "max": 4,
       "step": 0.1,
       "style": "IPY_MODEL_2f4102e85fb546459bf6958c927295ec",
       "value": 1
      }
     },
     "447ae7ed8b6e461ab920bfc7cc84fb68": {
      "model_module": "@jupyter-widgets/base",
      "model_module_version": "1.2.0",
      "model_name": "LayoutModel",
      "state": {}
     },
     "4579dac024a74f6294707cb70c5a048e": {
      "model_module": "@jupyter-widgets/controls",
      "model_module_version": "1.5.0",
      "model_name": "SliderStyleModel",
      "state": {
       "description_width": ""
      }
     },
     "45be73f6bbbf4f4fb42c82412ff0bd32": {
      "model_module": "@jupyter-widgets/controls",
      "model_module_version": "1.5.0",
      "model_name": "ButtonStyleModel",
      "state": {}
     },
     "46f5c0c0bc774d608a5ad3df9c606b90": {
      "model_module": "@jupyter-widgets/controls",
      "model_module_version": "1.5.0",
      "model_name": "HBoxModel",
      "state": {
       "children": [
        "IPY_MODEL_f91aa1faabb94cd98453364100a342ac",
        "IPY_MODEL_e2a2900349b24ad1b31a088a146ca40f",
        "IPY_MODEL_d51b2d04367941e89df330a269e5ddeb"
       ],
       "layout": "IPY_MODEL_beb3c40aaf814f91bb9fbb5df525762d"
      }
     },
     "4717de5f2e2442efb0e809eaa4471d64": {
      "model_module": "@jupyter-widgets/controls",
      "model_module_version": "1.5.0",
      "model_name": "ButtonStyleModel",
      "state": {}
     },
     "4758267ffbb445a5867535d209f1a836": {
      "model_module": "@jupyter-widgets/base",
      "model_module_version": "1.2.0",
      "model_name": "LayoutModel",
      "state": {}
     },
     "47c245a1ba744ff7b1ff458a23c39eab": {
      "model_module": "@jupyter-widgets/base",
      "model_module_version": "1.2.0",
      "model_name": "LayoutModel",
      "state": {}
     },
     "490edec474b640fe86275ea2db32c6b5": {
      "model_module": "@jupyter-widgets/controls",
      "model_module_version": "1.5.0",
      "model_name": "ButtonStyleModel",
      "state": {}
     },
     "4954201dc9ea4c1cacea4b5ff1437bef": {
      "model_module": "@jupyter-widgets/controls",
      "model_module_version": "1.5.0",
      "model_name": "FloatSliderModel",
      "state": {
       "description": "amp",
       "layout": "IPY_MODEL_5fd69ccf4d3940ab96c3877db7da9c01",
       "max": 4,
       "step": 0.1,
       "style": "IPY_MODEL_a011c4ed7e6947dc9ae77185b6a048cf",
       "value": 1
      }
     },
     "49ecb12f5b004937ae8cf23a5be1de1d": {
      "model_module": "@jupyter-widgets/base",
      "model_module_version": "1.2.0",
      "model_name": "LayoutModel",
      "state": {}
     },
     "49fd1a147aaa46b7aa0acc4bbd4c85f6": {
      "model_module": "@jupyter-widgets/controls",
      "model_module_version": "1.5.0",
      "model_name": "ButtonStyleModel",
      "state": {}
     },
     "4a03c1c53e304298a20d61301a3a30a0": {
      "model_module": "@jupyter-widgets/controls",
      "model_module_version": "1.5.0",
      "model_name": "ButtonModel",
      "state": {
       "description": "button 2",
       "layout": "IPY_MODEL_0dd9aea589e5481784abb8e72f700cfd",
       "style": "IPY_MODEL_934759d037ef415084d0baf5242e6947"
      }
     },
     "4a42b6b6e9ca44478dfb3fdd401bfc3b": {
      "model_module": "@jupyter-widgets/base",
      "model_module_version": "1.2.0",
      "model_name": "LayoutModel",
      "state": {}
     },
     "4bda125dc3044b1bae429b91b277456e": {
      "model_module": "@jupyter-widgets/base",
      "model_module_version": "1.2.0",
      "model_name": "LayoutModel",
      "state": {}
     },
     "4bf3f521861d43ffb60a0807a3639b1f": {
      "model_module": "@jupyter-widgets/base",
      "model_module_version": "1.2.0",
      "model_name": "LayoutModel",
      "state": {}
     },
     "4c00be1a905e430dafc07da73cfe6a10": {
      "model_module": "@jupyter-widgets/controls",
      "model_module_version": "1.5.0",
      "model_name": "SliderStyleModel",
      "state": {
       "description_width": ""
      }
     },
     "4c57ebb38e8f4f35a07148768cd8a99d": {
      "model_module": "@jupyter-widgets/controls",
      "model_module_version": "1.5.0",
      "model_name": "SliderStyleModel",
      "state": {
       "description_width": ""
      }
     },
     "4d83759758864e469c73b3e590984c7f": {
      "model_module": "@jupyter-widgets/controls",
      "model_module_version": "1.5.0",
      "model_name": "IntSliderModel",
      "state": {
       "description": "w",
       "layout": "IPY_MODEL_bc66b685a3304abea95e3692c73de382",
       "max": 10,
       "style": "IPY_MODEL_d25b0e8fd295415b8e841b1dcecf02f2",
       "value": 1
      }
     },
     "4e94d079852946b5a8f0b5df06429d80": {
      "model_module": "@jupyter-widgets/controls",
      "model_module_version": "1.5.0",
      "model_name": "HBoxModel",
      "state": {
       "children": [
        "IPY_MODEL_20a020391b2447578c15386ce210ecbb",
        "IPY_MODEL_0c88726803e4480888afd8ad8227d0f5",
        "IPY_MODEL_04325f861e9f4d4b89e230feb1c156db"
       ],
       "layout": "IPY_MODEL_e4032f0f0e904b968c3809f9648b6017"
      }
     },
     "5019a52a60d34dc5a4b82a882520d33c": {
      "model_module": "@jupyter-widgets/base",
      "model_module_version": "1.2.0",
      "model_name": "LayoutModel",
      "state": {}
     },
     "506e6834d5e049a6928570415a1bda3f": {
      "model_module": "@jupyter-widgets/base",
      "model_module_version": "1.2.0",
      "model_name": "LayoutModel",
      "state": {}
     },
     "52450fe1699e4250ae8a90baa7ef5228": {
      "model_module": "@jupyter-widgets/controls",
      "model_module_version": "1.5.0",
      "model_name": "IntSliderModel",
      "state": {
       "description": "w",
       "layout": "IPY_MODEL_bf897898b6d24c77b7d7f093f481eb8f",
       "max": 10,
       "style": "IPY_MODEL_240f689fd89a461d9da9c7994f694961",
       "value": 1
      }
     },
     "52843b971ab244bc8018ff192fda2829": {
      "model_module": "@jupyter-widgets/base",
      "model_module_version": "1.2.0",
      "model_name": "LayoutModel",
      "state": {}
     },
     "52a5a50298004facaa5eca352af2edad": {
      "model_module": "@jupyter-widgets/controls",
      "model_module_version": "1.5.0",
      "model_name": "ButtonStyleModel",
      "state": {}
     },
     "53f543b62c354265a12ec20d08374ead": {
      "model_module": "@jupyter-widgets/base",
      "model_module_version": "1.2.0",
      "model_name": "LayoutModel",
      "state": {}
     },
     "54a6dce3f84f410dab4ebf194e04e0a2": {
      "model_module": "@jupyter-widgets/base",
      "model_module_version": "1.2.0",
      "model_name": "LayoutModel",
      "state": {}
     },
     "564df0b3e398418f9633856259148298": {
      "model_module": "@jupyter-widgets/controls",
      "model_module_version": "1.5.0",
      "model_name": "BoxModel",
      "state": {
       "children": [
        "IPY_MODEL_a8a91c27a2d24d43b46579e8cde7826c",
        "IPY_MODEL_c33c6ee3288b4f1abe0f11e18c790ec5",
        "IPY_MODEL_3f899792d0ff4afaa64caa3379c5556e",
        "IPY_MODEL_2967d0160366415b8b9b057c16a99b38"
       ],
       "layout": "IPY_MODEL_c715891844f74d6cb6a171b0e5c066af"
      }
     },
     "570e9f333e774f569eb4aacc8a4905e4": {
      "model_module": "@jupyter-widgets/controls",
      "model_module_version": "1.5.0",
      "model_name": "IntSliderModel",
      "state": {
       "description": "w",
       "layout": "IPY_MODEL_6a1a161777364d14a705342974cfbb8b",
       "max": 10,
       "style": "IPY_MODEL_bf1f678760b54eacbbf4cb5dc7c6ca98",
       "value": 1
      }
     },
     "574b0c1301e9414398f7ae6118eb827c": {
      "model_module": "@jupyter-widgets/controls",
      "model_module_version": "1.5.0",
      "model_name": "IntSliderModel",
      "state": {
       "description": "freq",
       "layout": "IPY_MODEL_39c0209508e64cdc9d5bd8282dd06d8f",
       "max": 10,
       "style": "IPY_MODEL_74e975d64c014945b9c4499681109019",
       "value": 1
      }
     },
     "57732c709fb64e9ab859952a3fbac1da": {
      "model_module": "@jupyter-widgets/controls",
      "model_module_version": "1.5.0",
      "model_name": "LabelModel",
      "state": {
       "layout": "IPY_MODEL_9a802f7847a148d59a1be5fcfaeea382",
       "style": "IPY_MODEL_e8aa4351a7a04ca8a0140bed7e4f596c",
       "value": "3"
      }
     },
     "57d5380739584f0b918e31848c908d6a": {
      "model_module": "@jupyter-widgets/controls",
      "model_module_version": "1.5.0",
      "model_name": "ButtonModel",
      "state": {
       "description": "button 2",
       "layout": "IPY_MODEL_daab44159c8a4da48feecc12ee732339",
       "style": "IPY_MODEL_7359b12e6f6b42bcb6b243d6b135279d"
      }
     },
     "58080be3b1b6488ba68ca0cc68271b4e": {
      "model_module": "@jupyter-widgets/controls",
      "model_module_version": "1.5.0",
      "model_name": "ButtonModel",
      "state": {
       "description": "button 2",
       "layout": "IPY_MODEL_cbc06b1eb04245d9b33fe371ed66df84",
       "style": "IPY_MODEL_61fa9c18c9a6445a9ec23bc6ee313004"
      }
     },
     "581053a561bf43d2a068090fdc310775": {
      "model_module": "@jupyter-widgets/controls",
      "model_module_version": "1.5.0",
      "model_name": "DescriptionStyleModel",
      "state": {
       "description_width": ""
      }
     },
     "591edf8407f54dc0bba90d6424988283": {
      "model_module": "@jupyter-widgets/base",
      "model_module_version": "1.2.0",
      "model_name": "LayoutModel",
      "state": {}
     },
     "593ee9f3a3ab48aabd977872505e5ba4": {
      "model_module": "@jupyter-widgets/base",
      "model_module_version": "1.2.0",
      "model_name": "LayoutModel",
      "state": {}
     },
     "59e4c5e357b94b63b5446fad6a12e92d": {
      "model_module": "@jupyter-widgets/base",
      "model_module_version": "1.2.0",
      "model_name": "LayoutModel",
      "state": {}
     },
     "5a46e0445be344fca25954d9dab9137f": {
      "model_module": "@jupyter-widgets/controls",
      "model_module_version": "1.5.0",
      "model_name": "IntSliderModel",
      "state": {
       "description": "w",
       "layout": "IPY_MODEL_6ccc5199fa794b8782ed825c3c5aaad6",
       "max": 10,
       "style": "IPY_MODEL_df60d0e1e2a146c2b0ee3de5c6262516",
       "value": 4
      }
     },
     "5a6077da9fe24014b22bbf78a1a16184": {
      "model_module": "@jupyter-widgets/controls",
      "model_module_version": "1.5.0",
      "model_name": "VBoxModel",
      "state": {
       "_dom_classes": [
        "widget-interact"
       ],
       "children": [
        "IPY_MODEL_693d8f19a2f741f59862096e9f56ca14",
        "IPY_MODEL_b3bdb88ebbde4e60a7155a8b74c87dc2",
        "IPY_MODEL_cdf4538da3724222a10c7e16a3c8e22c",
        "IPY_MODEL_75769a576eac49638ef391034e5db008"
       ],
       "layout": "IPY_MODEL_677a32db54544196a09cc322c2ef42ac"
      }
     },
     "5a87859a80db44adbaf0f1d00c223d5d": {
      "model_module": "@jupyter-widgets/controls",
      "model_module_version": "1.5.0",
      "model_name": "ButtonModel",
      "state": {
       "description": "button 2",
       "layout": "IPY_MODEL_7d8a0601df544796a13f7a2af517bbe2",
       "style": "IPY_MODEL_d990d6db8af040abbef7f4c61c1c9974"
      }
     },
     "5a968cd3727c4f87aeccbc59adf9021d": {
      "model_module": "@jupyter-widgets/controls",
      "model_module_version": "1.5.0",
      "model_name": "HBoxModel",
      "state": {
       "children": [
        "IPY_MODEL_ed198256190d4786bf844adf50ed7d12",
        "IPY_MODEL_c042e9e3238047049116649c6732acf1",
        "IPY_MODEL_ce76ba710b42494b8f33abb4010a512e"
       ],
       "layout": "IPY_MODEL_593ee9f3a3ab48aabd977872505e5ba4"
      }
     },
     "5a9b3f4510e64a10962cb76dd0aee7ea": {
      "model_module": "@jupyter-widgets/controls",
      "model_module_version": "1.5.0",
      "model_name": "VBoxModel",
      "state": {
       "_dom_classes": [
        "widget-interact"
       ],
       "children": [
        "IPY_MODEL_6fd14c3a8f8443e3bf6efd5ab3aa069a",
        "IPY_MODEL_bcd183fd62b74842bdf0357cabb2ccdd",
        "IPY_MODEL_70e98b5c48854cf6bd07f30f0db65b8b",
        "IPY_MODEL_12fd039e03d041ed8f178aa55020b94a"
       ],
       "layout": "IPY_MODEL_2bf400ad93b44d829a0ecd6de3712218"
      }
     },
     "5ac07dcf95d348e593d412403a397e80": {
      "model_module": "@jupyter-widgets/base",
      "model_module_version": "1.2.0",
      "model_name": "LayoutModel",
      "state": {}
     },
     "5ad808ddb9cd430ab99016decf51390c": {
      "model_module": "@jupyter-widgets/controls",
      "model_module_version": "1.5.0",
      "model_name": "SliderStyleModel",
      "state": {
       "description_width": ""
      }
     },
     "5b6d8ebc54e341a0b51797708b185bc0": {
      "model_module": "@jupyter-widgets/base",
      "model_module_version": "1.2.0",
      "model_name": "LayoutModel",
      "state": {}
     },
     "5bf560863ab84499a52768e7f5eb8831": {
      "model_module": "@jupyter-widgets/controls",
      "model_module_version": "1.5.0",
      "model_name": "IntSliderModel",
      "state": {
       "description": "freq",
       "layout": "IPY_MODEL_605f7b7e52714fd181718ca9e979e811",
       "max": 10,
       "style": "IPY_MODEL_bb7e58c68faa4fb9ac05f69a650c957c",
       "value": 1
      }
     },
     "5c509fcd4b4e45b782660c0b9e2b0965": {
      "model_module": "@jupyter-widgets/controls",
      "model_module_version": "1.5.0",
      "model_name": "ButtonStyleModel",
      "state": {}
     },
     "5c88ed2db7e54d83a580b6bf2ca3d878": {
      "model_module": "@jupyter-widgets/controls",
      "model_module_version": "1.5.0",
      "model_name": "ButtonStyleModel",
      "state": {}
     },
     "5cbf5164f7c4474b8a96f1c10cb651c9": {
      "model_module": "@jupyter-widgets/controls",
      "model_module_version": "1.5.0",
      "model_name": "ButtonModel",
      "state": {
       "description": "button 3",
       "layout": "IPY_MODEL_b6b55558934b43ab82765dcf66c7d1e0",
       "style": "IPY_MODEL_acdeb2e9146a42e18d3d896ad82d014a"
      }
     },
     "5d0bafbc5a8947e3b218cc7cd038fcc9": {
      "model_module": "@jupyter-widgets/controls",
      "model_module_version": "1.5.0",
      "model_name": "IntSliderModel",
      "state": {
       "description": "freq",
       "layout": "IPY_MODEL_e16be42e9b1a40cb9a7bcc18ca030a09",
       "max": 10,
       "style": "IPY_MODEL_a13e0d4f2084409d9a80b9dfeda224fd",
       "value": 1
      }
     },
     "5d6fc6818614467ebb7073add33a553f": {
      "model_module": "@jupyter-widgets/base",
      "model_module_version": "1.2.0",
      "model_name": "LayoutModel",
      "state": {}
     },
     "5dd85a150bdd42a884826fb80cfeca41": {
      "model_module": "@jupyter-widgets/controls",
      "model_module_version": "1.5.0",
      "model_name": "HBoxModel",
      "state": {
       "children": [
        "IPY_MODEL_2e83d9573de34b5d9d7244edcb8f42e7",
        "IPY_MODEL_8d8662a5d673474e896a02c51c040669",
        "IPY_MODEL_676c6048af174822b6c8191aab98816a"
       ],
       "layout": "IPY_MODEL_4a42b6b6e9ca44478dfb3fdd401bfc3b"
      }
     },
     "5e6669537871416a9e71bf2dd9855cca": {
      "model_module": "@jupyter-widgets/controls",
      "model_module_version": "1.5.0",
      "model_name": "ButtonStyleModel",
      "state": {}
     },
     "5e8a87e7183045aa99b54c8be55a590c": {
      "model_module": "@jupyter-widgets/controls",
      "model_module_version": "1.5.0",
      "model_name": "ButtonStyleModel",
      "state": {}
     },
     "5eeeaf82710e47078def6974084ece7d": {
      "model_module": "@jupyter-widgets/output",
      "model_module_version": "1.0.0",
      "model_name": "OutputModel",
      "state": {
       "layout": "IPY_MODEL_fd682c89319848999b33d4affdb9ae29"
      }
     },
     "5f962aec63a040c39c8adc5918e4c9b2": {
      "model_module": "@jupyter-widgets/controls",
      "model_module_version": "1.5.0",
      "model_name": "FloatSliderModel",
      "state": {
       "description": "amp",
       "layout": "IPY_MODEL_59e4c5e357b94b63b5446fad6a12e92d",
       "max": 4,
       "step": 0.1,
       "style": "IPY_MODEL_2b3448c5b96e47fb911287737364237f",
       "value": 1.2
      }
     },
     "5fa92af04e0041ae9944f9f27c038635": {
      "model_module": "@jupyter-widgets/controls",
      "model_module_version": "1.5.0",
      "model_name": "SliderStyleModel",
      "state": {
       "description_width": ""
      }
     },
     "5fd69ccf4d3940ab96c3877db7da9c01": {
      "model_module": "@jupyter-widgets/base",
      "model_module_version": "1.2.0",
      "model_name": "LayoutModel",
      "state": {}
     },
     "605f7b7e52714fd181718ca9e979e811": {
      "model_module": "@jupyter-widgets/base",
      "model_module_version": "1.2.0",
      "model_name": "LayoutModel",
      "state": {}
     },
     "609677d112114702899d2aa6bae4d861": {
      "model_module": "@jupyter-widgets/output",
      "model_module_version": "1.0.0",
      "model_name": "OutputModel",
      "state": {
       "layout": "IPY_MODEL_fd01536380544940bd349602e1e9e431",
       "outputs": [
        {
         "ename": "NameError",
         "evalue": "name 'ax' is not defined",
         "output_type": "error",
         "traceback": [
          "\u001b[1;31m---------------------------------------------------------------------------\u001b[0m",
          "\u001b[1;31mNameError\u001b[0m                                 Traceback (most recent call last)",
          "\u001b[1;32mc:\\users\\cmdr. data\\virtualenvironments\\myvenv\\lib\\site-packages\\ipywidgets\\widgets\\interaction.py\u001b[0m in \u001b[0;36mupdate\u001b[1;34m(self, *args)\u001b[0m\n\u001b[0;32m    254\u001b[0m                     \u001b[0mvalue\u001b[0m \u001b[1;33m=\u001b[0m \u001b[0mwidget\u001b[0m\u001b[1;33m.\u001b[0m\u001b[0mget_interact_value\u001b[0m\u001b[1;33m(\u001b[0m\u001b[1;33m)\u001b[0m\u001b[1;33m\u001b[0m\u001b[1;33m\u001b[0m\u001b[0m\n\u001b[0;32m    255\u001b[0m                     \u001b[0mself\u001b[0m\u001b[1;33m.\u001b[0m\u001b[0mkwargs\u001b[0m\u001b[1;33m[\u001b[0m\u001b[0mwidget\u001b[0m\u001b[1;33m.\u001b[0m\u001b[0m_kwarg\u001b[0m\u001b[1;33m]\u001b[0m \u001b[1;33m=\u001b[0m \u001b[0mvalue\u001b[0m\u001b[1;33m\u001b[0m\u001b[1;33m\u001b[0m\u001b[0m\n\u001b[1;32m--> 256\u001b[1;33m                 \u001b[0mself\u001b[0m\u001b[1;33m.\u001b[0m\u001b[0mresult\u001b[0m \u001b[1;33m=\u001b[0m \u001b[0mself\u001b[0m\u001b[1;33m.\u001b[0m\u001b[0mf\u001b[0m\u001b[1;33m(\u001b[0m\u001b[1;33m**\u001b[0m\u001b[0mself\u001b[0m\u001b[1;33m.\u001b[0m\u001b[0mkwargs\u001b[0m\u001b[1;33m)\u001b[0m\u001b[1;33m\u001b[0m\u001b[1;33m\u001b[0m\u001b[0m\n\u001b[0m\u001b[0;32m    257\u001b[0m                 \u001b[0mshow_inline_matplotlib_plots\u001b[0m\u001b[1;33m(\u001b[0m\u001b[1;33m)\u001b[0m\u001b[1;33m\u001b[0m\u001b[1;33m\u001b[0m\u001b[0m\n\u001b[0;32m    258\u001b[0m                 \u001b[1;32mif\u001b[0m \u001b[0mself\u001b[0m\u001b[1;33m.\u001b[0m\u001b[0mauto_display\u001b[0m \u001b[1;32mand\u001b[0m \u001b[0mself\u001b[0m\u001b[1;33m.\u001b[0m\u001b[0mresult\u001b[0m \u001b[1;32mis\u001b[0m \u001b[1;32mnot\u001b[0m \u001b[1;32mNone\u001b[0m\u001b[1;33m:\u001b[0m\u001b[1;33m\u001b[0m\u001b[1;33m\u001b[0m\u001b[0m\n",
          "\u001b[1;32m<ipython-input-92-e53de8c76c04>\u001b[0m in \u001b[0;36mupdate\u001b[1;34m(w, amp, phi)\u001b[0m\n\u001b[0;32m      2\u001b[0m \u001b[1;32mdef\u001b[0m \u001b[0mupdate\u001b[0m\u001b[1;33m(\u001b[0m\u001b[0mw\u001b[0m \u001b[1;33m=\u001b[0m \u001b[1;36m1.0\u001b[0m\u001b[1;33m,\u001b[0m \u001b[0mamp\u001b[0m\u001b[1;33m=\u001b[0m\u001b[1;36m1\u001b[0m\u001b[1;33m,\u001b[0m \u001b[0mphi\u001b[0m\u001b[1;33m=\u001b[0m\u001b[1;36m0\u001b[0m\u001b[1;33m)\u001b[0m\u001b[1;33m:\u001b[0m\u001b[1;33m\u001b[0m\u001b[1;33m\u001b[0m\u001b[0m\n\u001b[0;32m      3\u001b[0m     \u001b[1;34m\"\"\"Remove old lines from plot and plot new one\"\"\"\u001b[0m\u001b[1;33m\u001b[0m\u001b[1;33m\u001b[0m\u001b[0m\n\u001b[1;32m----> 4\u001b[1;33m     \u001b[1;33m[\u001b[0m\u001b[0ml\u001b[0m\u001b[1;33m.\u001b[0m\u001b[0mremove\u001b[0m\u001b[1;33m(\u001b[0m\u001b[1;33m)\u001b[0m \u001b[1;32mfor\u001b[0m \u001b[0ml\u001b[0m \u001b[1;32min\u001b[0m \u001b[0max\u001b[0m\u001b[1;33m.\u001b[0m\u001b[0mlines\u001b[0m\u001b[1;33m]\u001b[0m\u001b[1;33m\u001b[0m\u001b[1;33m\u001b[0m\u001b[0m\n\u001b[0m\u001b[0;32m      5\u001b[0m     \u001b[0max\u001b[0m\u001b[1;33m.\u001b[0m\u001b[0mplot\u001b[0m\u001b[1;33m(\u001b[0m\u001b[0mx\u001b[0m\u001b[1;33m,\u001b[0m \u001b[0mmy_sine\u001b[0m\u001b[1;33m(\u001b[0m\u001b[0mx\u001b[0m\u001b[1;33m,\u001b[0m \u001b[0mw\u001b[0m\u001b[1;33m,\u001b[0m \u001b[0mamp\u001b[0m\u001b[1;33m,\u001b[0m \u001b[0mphi\u001b[0m\u001b[1;33m)\u001b[0m\u001b[1;33m,\u001b[0m \u001b[0mcolor\u001b[0m\u001b[1;33m=\u001b[0m\u001b[1;34m'C0'\u001b[0m\u001b[1;33m)\u001b[0m\u001b[1;33m\u001b[0m\u001b[1;33m\u001b[0m\u001b[0m\n\u001b[0;32m      6\u001b[0m     \u001b[0mget_ipython\u001b[0m\u001b[1;33m(\u001b[0m\u001b[1;33m)\u001b[0m\u001b[1;33m.\u001b[0m\u001b[0mrun_line_magic\u001b[0m\u001b[1;33m(\u001b[0m\u001b[1;34m'%render'\u001b[0m\u001b[1;33m,\u001b[0m \u001b[1;34m''\u001b[0m\u001b[1;33m)\u001b[0m\u001b[1;33m\u001b[0m\u001b[1;33m\u001b[0m\u001b[0m\n",
          "\u001b[1;31mNameError\u001b[0m: name 'ax' is not defined"
         ]
        }
       ]
      }
     },
     "612d3c90d2d64d1090394e0609d14271": {
      "model_module": "@jupyter-widgets/controls",
      "model_module_version": "1.5.0",
      "model_name": "ButtonStyleModel",
      "state": {}
     },
     "6137a1b7a39e4a42ba1c5500a391be2d": {
      "model_module": "@jupyter-widgets/controls",
      "model_module_version": "1.5.0",
      "model_name": "IntSliderModel",
      "state": {
       "description": "freq",
       "layout": "IPY_MODEL_d406e157aec446b585431db2c5284dec",
       "max": 10,
       "style": "IPY_MODEL_c66f26245e1d45b48100709639d8f0c3",
       "value": 1
      }
     },
     "6141644055ba4065b751d047dacbd40c": {
      "model_module": "@jupyter-widgets/base",
      "model_module_version": "1.2.0",
      "model_name": "LayoutModel",
      "state": {}
     },
     "6162d3c9eb794005bf67efbce4d72dd5": {
      "model_module": "@jupyter-widgets/base",
      "model_module_version": "1.2.0",
      "model_name": "LayoutModel",
      "state": {}
     },
     "619498f1ed20436ab406cf039499ef86": {
      "model_module": "@jupyter-widgets/controls",
      "model_module_version": "1.5.0",
      "model_name": "ButtonStyleModel",
      "state": {}
     },
     "61fa9c18c9a6445a9ec23bc6ee313004": {
      "model_module": "@jupyter-widgets/controls",
      "model_module_version": "1.5.0",
      "model_name": "ButtonStyleModel",
      "state": {}
     },
     "6365ca147b2b42ddaa4dc489c753ad56": {
      "model_module": "@jupyter-widgets/base",
      "model_module_version": "1.2.0",
      "model_name": "LayoutModel",
      "state": {}
     },
     "63fb1145fa3d4a3084df618aa1ba1fae": {
      "model_module": "@jupyter-widgets/output",
      "model_module_version": "1.0.0",
      "model_name": "OutputModel",
      "state": {
       "layout": "IPY_MODEL_ce5926a46b3043abb26ef91ff8de07dc",
       "outputs": [
        {
         "ename": "AttributeError",
         "evalue": "'int' object has no attribute 'plot'",
         "output_type": "error",
         "traceback": [
          "\u001b[1;31m---------------------------------------------------------------------------\u001b[0m",
          "\u001b[1;31mAttributeError\u001b[0m                            Traceback (most recent call last)",
          "\u001b[1;32mc:\\users\\cmdr. data\\virtualenvironments\\myvenv\\lib\\site-packages\\ipywidgets\\widgets\\interaction.py\u001b[0m in \u001b[0;36mupdate\u001b[1;34m(self, *args)\u001b[0m\n\u001b[0;32m    254\u001b[0m                     \u001b[0mvalue\u001b[0m \u001b[1;33m=\u001b[0m \u001b[0mwidget\u001b[0m\u001b[1;33m.\u001b[0m\u001b[0mget_interact_value\u001b[0m\u001b[1;33m(\u001b[0m\u001b[1;33m)\u001b[0m\u001b[1;33m\u001b[0m\u001b[1;33m\u001b[0m\u001b[0m\n\u001b[0;32m    255\u001b[0m                     \u001b[0mself\u001b[0m\u001b[1;33m.\u001b[0m\u001b[0mkwargs\u001b[0m\u001b[1;33m[\u001b[0m\u001b[0mwidget\u001b[0m\u001b[1;33m.\u001b[0m\u001b[0m_kwarg\u001b[0m\u001b[1;33m]\u001b[0m \u001b[1;33m=\u001b[0m \u001b[0mvalue\u001b[0m\u001b[1;33m\u001b[0m\u001b[1;33m\u001b[0m\u001b[0m\n\u001b[1;32m--> 256\u001b[1;33m                 \u001b[0mself\u001b[0m\u001b[1;33m.\u001b[0m\u001b[0mresult\u001b[0m \u001b[1;33m=\u001b[0m \u001b[0mself\u001b[0m\u001b[1;33m.\u001b[0m\u001b[0mf\u001b[0m\u001b[1;33m(\u001b[0m\u001b[1;33m**\u001b[0m\u001b[0mself\u001b[0m\u001b[1;33m.\u001b[0m\u001b[0mkwargs\u001b[0m\u001b[1;33m)\u001b[0m\u001b[1;33m\u001b[0m\u001b[1;33m\u001b[0m\u001b[0m\n\u001b[0m\u001b[0;32m    257\u001b[0m                 \u001b[0mshow_inline_matplotlib_plots\u001b[0m\u001b[1;33m(\u001b[0m\u001b[1;33m)\u001b[0m\u001b[1;33m\u001b[0m\u001b[1;33m\u001b[0m\u001b[0m\n\u001b[0;32m    258\u001b[0m                 \u001b[1;32mif\u001b[0m \u001b[0mself\u001b[0m\u001b[1;33m.\u001b[0m\u001b[0mauto_display\u001b[0m \u001b[1;32mand\u001b[0m \u001b[0mself\u001b[0m\u001b[1;33m.\u001b[0m\u001b[0mresult\u001b[0m \u001b[1;32mis\u001b[0m \u001b[1;32mnot\u001b[0m \u001b[1;32mNone\u001b[0m\u001b[1;33m:\u001b[0m\u001b[1;33m\u001b[0m\u001b[1;33m\u001b[0m\u001b[0m\n",
          "\u001b[1;32m<ipython-input-153-9b6f6b32bab7>\u001b[0m in \u001b[0;36mupdate\u001b[1;34m(w, amp, phi)\u001b[0m\n\u001b[0;32m      6\u001b[0m \u001b[1;32mdef\u001b[0m \u001b[0mupdate\u001b[0m\u001b[1;33m(\u001b[0m\u001b[0mw\u001b[0m \u001b[1;33m=\u001b[0m \u001b[1;36m1.0\u001b[0m\u001b[1;33m,\u001b[0m \u001b[0mamp\u001b[0m\u001b[1;33m=\u001b[0m\u001b[1;36m1\u001b[0m\u001b[1;33m,\u001b[0m \u001b[0mphi\u001b[0m\u001b[1;33m=\u001b[0m\u001b[1;36m0\u001b[0m\u001b[1;33m)\u001b[0m\u001b[1;33m:\u001b[0m\u001b[1;33m\u001b[0m\u001b[1;33m\u001b[0m\u001b[0m\n\u001b[0;32m      7\u001b[0m     \u001b[1;34m\"\"\"Remove old lines from plot and plot new one\"\"\"\u001b[0m\u001b[1;33m\u001b[0m\u001b[1;33m\u001b[0m\u001b[0m\n\u001b[1;32m----> 8\u001b[1;33m     \u001b[0max\u001b[0m\u001b[1;33m.\u001b[0m\u001b[0mplot\u001b[0m\u001b[1;33m(\u001b[0m\u001b[0mx\u001b[0m\u001b[1;33m,\u001b[0m \u001b[0mmy_sine\u001b[0m\u001b[1;33m(\u001b[0m\u001b[0mx\u001b[0m\u001b[1;33m,\u001b[0m \u001b[0mw\u001b[0m\u001b[1;33m,\u001b[0m \u001b[0mamp\u001b[0m\u001b[1;33m,\u001b[0m \u001b[0mphi\u001b[0m\u001b[1;33m)\u001b[0m\u001b[1;33m,\u001b[0m \u001b[0mcolor\u001b[0m\u001b[1;33m=\u001b[0m\u001b[1;34m'C0'\u001b[0m\u001b[1;33m)\u001b[0m\u001b[1;33m\u001b[0m\u001b[1;33m\u001b[0m\u001b[0m\n\u001b[0m",
          "\u001b[1;31mAttributeError\u001b[0m: 'int' object has no attribute 'plot'"
         ]
        }
       ]
      }
     },
     "64b55f0f1c8148458857d21fb25956ff": {
      "model_module": "@jupyter-widgets/base",
      "model_module_version": "1.2.0",
      "model_name": "LayoutModel",
      "state": {}
     },
     "64db8df8610449d5a46b922d3a4488a9": {
      "model_module": "@jupyter-widgets/base",
      "model_module_version": "1.2.0",
      "model_name": "LayoutModel",
      "state": {}
     },
     "650e311b81aa40709282192e92d46cba": {
      "model_module": "@jupyter-widgets/controls",
      "model_module_version": "1.5.0",
      "model_name": "ButtonModel",
      "state": {
       "description": "button 3",
       "layout": "IPY_MODEL_a32fd14260c64150a8769af2b499b12a",
       "style": "IPY_MODEL_4717de5f2e2442efb0e809eaa4471d64"
      }
     },
     "65653144acaf4ce69f5a959e3b90fe0f": {
      "model_module": "@jupyter-widgets/controls",
      "model_module_version": "1.5.0",
      "model_name": "ButtonModel",
      "state": {
       "description": "button 3",
       "layout": "IPY_MODEL_96f2b367edd14c2b836cb48d9d2669a9",
       "style": "IPY_MODEL_1233f0fcbff240c78941488206e5fb18"
      }
     },
     "65a1a36985da4fe7a62e4fc59c934db9": {
      "model_module": "@jupyter-widgets/controls",
      "model_module_version": "1.5.0",
      "model_name": "FloatSliderModel",
      "state": {
       "description": "amp",
       "layout": "IPY_MODEL_49ecb12f5b004937ae8cf23a5be1de1d",
       "max": 4,
       "step": 0.1,
       "style": "IPY_MODEL_0c4d237f0bc44e78b6d35c78f965c947",
       "value": 1
      }
     },
     "6601b7e933b44b8796b3a3629bb3233c": {
      "model_module": "@jupyter-widgets/output",
      "model_module_version": "1.0.0",
      "model_name": "OutputModel",
      "state": {
       "layout": "IPY_MODEL_591edf8407f54dc0bba90d6424988283"
      }
     },
     "6609e6022679456ca457957a9d52678f": {
      "model_module": "@jupyter-widgets/controls",
      "model_module_version": "1.5.0",
      "model_name": "SliderStyleModel",
      "state": {
       "description_width": ""
      }
     },
     "665cafe1afcc42239cbdb198dc2d9826": {
      "model_module": "@jupyter-widgets/controls",
      "model_module_version": "1.5.0",
      "model_name": "DescriptionStyleModel",
      "state": {
       "description_width": ""
      }
     },
     "66d9afe98c664d46a286e085a4a09946": {
      "model_module": "@jupyter-widgets/base",
      "model_module_version": "1.2.0",
      "model_name": "LayoutModel",
      "state": {}
     },
     "676c6048af174822b6c8191aab98816a": {
      "model_module": "@jupyter-widgets/controls",
      "model_module_version": "1.5.0",
      "model_name": "ButtonModel",
      "state": {
       "description": "button 3",
       "layout": "IPY_MODEL_15a2df08c2724465aa59345f41bc7c84",
       "style": "IPY_MODEL_619498f1ed20436ab406cf039499ef86"
      }
     },
     "677a32db54544196a09cc322c2ef42ac": {
      "model_module": "@jupyter-widgets/base",
      "model_module_version": "1.2.0",
      "model_name": "LayoutModel",
      "state": {}
     },
     "67eb8b3e9c70440e9ac8815c4325caaf": {
      "model_module": "@jupyter-widgets/base",
      "model_module_version": "1.2.0",
      "model_name": "LayoutModel",
      "state": {}
     },
     "681196641c8f47079395346565b41010": {
      "model_module": "@jupyter-widgets/base",
      "model_module_version": "1.2.0",
      "model_name": "LayoutModel",
      "state": {}
     },
     "68dd8d3ed4014650b575808b801f586d": {
      "model_module": "@jupyter-widgets/controls",
      "model_module_version": "1.5.0",
      "model_name": "IntTextModel",
      "state": {
       "description": "Any:",
       "layout": "IPY_MODEL_181281001ff449cdb0e3245ebc192100",
       "step": 1,
       "style": "IPY_MODEL_10b391d98b1941bba324e8176b564161",
       "value": 8
      }
     },
     "690ffbca2e22439f84bc196bd76981db": {
      "model_module": "@jupyter-widgets/controls",
      "model_module_version": "1.5.0",
      "model_name": "ButtonStyleModel",
      "state": {}
     },
     "691a72d078df4a0888aeacf3715bacec": {
      "model_module": "@jupyter-widgets/controls",
      "model_module_version": "1.5.0",
      "model_name": "ButtonStyleModel",
      "state": {}
     },
     "693d8f19a2f741f59862096e9f56ca14": {
      "model_module": "@jupyter-widgets/controls",
      "model_module_version": "1.5.0",
      "model_name": "IntSliderModel",
      "state": {
       "description": "w",
       "layout": "IPY_MODEL_16774f20a0524141931299a4106b2b89",
       "max": 10,
       "style": "IPY_MODEL_7997df82104e44e09276df7b3ba4950c",
       "value": 1
      }
     },
     "69bf28c33acd4fb59d68b593591bcbdc": {
      "model_module": "@jupyter-widgets/controls",
      "model_module_version": "1.5.0",
      "model_name": "ButtonModel",
      "state": {
       "description": "button 3",
       "layout": "IPY_MODEL_073a050552fa448998d5f24b6d11236b",
       "style": "IPY_MODEL_1d0100b77c1b49959668c1b577568785"
      }
     },
     "69f9529d43dd43f9a49ea183054acbc0": {
      "model_module": "@jupyter-widgets/controls",
      "model_module_version": "1.5.0",
      "model_name": "HBoxModel",
      "state": {
       "children": [
        "IPY_MODEL_439b05daead54fc8bf2c3b9d14485019",
        "IPY_MODEL_14029dd32a0e4b53920052925e942e0e",
        "IPY_MODEL_27a942e1b48b4c69834e9cff918e15d1"
       ],
       "layout": "IPY_MODEL_0e52b8a4603943de9751da6b6c93a02b"
      }
     },
     "6a1a161777364d14a705342974cfbb8b": {
      "model_module": "@jupyter-widgets/base",
      "model_module_version": "1.2.0",
      "model_name": "LayoutModel",
      "state": {}
     },
     "6a67dc04c8d74af08c5c8905437f8a1d": {
      "model_module": "@jupyter-widgets/base",
      "model_module_version": "1.2.0",
      "model_name": "LayoutModel",
      "state": {}
     },
     "6ae1bed3a5ac49feae8bb955dffcc7f6": {
      "model_module": "@jupyter-widgets/controls",
      "model_module_version": "1.5.0",
      "model_name": "SliderStyleModel",
      "state": {
       "description_width": ""
      }
     },
     "6be63b498c9b4652bafd6968d629b356": {
      "model_module": "@jupyter-widgets/controls",
      "model_module_version": "1.5.0",
      "model_name": "VBoxModel",
      "state": {
       "_dom_classes": [
        "widget-interact"
       ],
       "children": [
        "IPY_MODEL_b7a91771fb4b4b1d8c335973ed63c2fd",
        "IPY_MODEL_d6cdd135649f46768f00008f7ebd6d2a",
        "IPY_MODEL_0e1331f7face465ea25e116efea3d413",
        "IPY_MODEL_ec1162efc288451bbb3dffdb1cb74565"
       ],
       "layout": "IPY_MODEL_6f3aec92c0484c5ca85b651a209b4c78"
      }
     },
     "6c4e32c7123b457f938c9c9a2239694b": {
      "model_module": "@jupyter-widgets/controls",
      "model_module_version": "1.5.0",
      "model_name": "ButtonModel",
      "state": {
       "description": "button 3",
       "layout": "IPY_MODEL_2cb9feb463c84c07a1886b9ff3080c11",
       "style": "IPY_MODEL_a2e7a81bf38f4b5d84139d66b54d31ac"
      }
     },
     "6c96aa80ab674b369b99ed1f5b9d6b4e": {
      "model_module": "@jupyter-widgets/controls",
      "model_module_version": "1.5.0",
      "model_name": "ButtonStyleModel",
      "state": {}
     },
     "6ccc5199fa794b8782ed825c3c5aaad6": {
      "model_module": "@jupyter-widgets/base",
      "model_module_version": "1.2.0",
      "model_name": "LayoutModel",
      "state": {}
     },
     "6cd9e802c54d4f868acae3588045cbf1": {
      "model_module": "@jupyter-widgets/controls",
      "model_module_version": "1.5.0",
      "model_name": "ButtonModel",
      "state": {
       "description": "button 3",
       "layout": "IPY_MODEL_b15ecb71443344baaf5445384d00a6bb",
       "style": "IPY_MODEL_bf0b1e7145fd4c73b382b7930fcc76bb"
      }
     },
     "6db9677808b240a6b53e7b042c3cb678": {
      "model_module": "@jupyter-widgets/base",
      "model_module_version": "1.2.0",
      "model_name": "LayoutModel",
      "state": {}
     },
     "6ea4e1d9c4814067a348f205f483c3fd": {
      "model_module": "@jupyter-widgets/controls",
      "model_module_version": "1.5.0",
      "model_name": "VBoxModel",
      "state": {
       "_dom_classes": [
        "widget-interact"
       ],
       "children": [
        "IPY_MODEL_cd88e8d1b4e14753bd2e12af5f27c534",
        "IPY_MODEL_4954201dc9ea4c1cacea4b5ff1437bef",
        "IPY_MODEL_02f60bb3867044d79bba3add7e862597",
        "IPY_MODEL_5eeeaf82710e47078def6974084ece7d"
       ],
       "layout": "IPY_MODEL_c68eb3b4a5644b5381b2c5add5a31c26"
      }
     },
     "6f3aec92c0484c5ca85b651a209b4c78": {
      "model_module": "@jupyter-widgets/base",
      "model_module_version": "1.2.0",
      "model_name": "LayoutModel",
      "state": {}
     },
     "6f92550133e9424dafab0d60fb8c7873": {
      "model_module": "@jupyter-widgets/base",
      "model_module_version": "1.2.0",
      "model_name": "LayoutModel",
      "state": {}
     },
     "6fd14c3a8f8443e3bf6efd5ab3aa069a": {
      "model_module": "@jupyter-widgets/controls",
      "model_module_version": "1.5.0",
      "model_name": "IntSliderModel",
      "state": {
       "description": "w",
       "layout": "IPY_MODEL_7b2a1a1b2d8048c9bd238bda93f4547b",
       "max": 10,
       "style": "IPY_MODEL_41119272e99d494c9772a695cbde553c",
       "value": 1
      }
     },
     "702566ae205c494aa38c41e2f9e721ba": {
      "model_module": "@jupyter-widgets/controls",
      "model_module_version": "1.5.0",
      "model_name": "SliderStyleModel",
      "state": {
       "description_width": ""
      }
     },
     "7063092ed0cd4f1394ee839b66b36673": {
      "model_module": "@jupyter-widgets/base",
      "model_module_version": "1.2.0",
      "model_name": "LayoutModel",
      "state": {}
     },
     "70859e3e0c264a04967f7c677d45ec37": {
      "model_module": "@jupyter-widgets/controls",
      "model_module_version": "1.5.0",
      "model_name": "HBoxModel",
      "state": {
       "children": [
        "IPY_MODEL_252aa85d21c2404e89abd78640fe0fda",
        "IPY_MODEL_739705fb75c64c85bbf1e71686d24e49",
        "IPY_MODEL_08e40e0e6dd646a49d00b5971b0ba26e"
       ],
       "layout": "IPY_MODEL_d7fb53f722384c6c8bc6abb811bb37ae"
      }
     },
     "70e98b5c48854cf6bd07f30f0db65b8b": {
      "model_module": "@jupyter-widgets/controls",
      "model_module_version": "1.5.0",
      "model_name": "FloatSliderModel",
      "state": {
       "description": "phi",
       "layout": "IPY_MODEL_cfe9eb30b38d4d4cb7acdeac18a5616d",
       "max": 6.293185307179586,
       "step": 0.01,
       "style": "IPY_MODEL_c37d276404424571ac583c0b3517da84"
      }
     },
     "70f5c4b8b20d42eeb3375be36fd74ed7": {
      "model_module": "@jupyter-widgets/controls",
      "model_module_version": "1.5.0",
      "model_name": "IntSliderModel",
      "state": {
       "description": "w",
       "layout": "IPY_MODEL_6365ca147b2b42ddaa4dc489c753ad56",
       "max": 10,
       "style": "IPY_MODEL_71b510f3ca82456f9cd1f92ae03f0b43",
       "value": 1
      }
     },
     "7174aee4636045d9a40569dd36dc28ca": {
      "model_module": "@jupyter-widgets/controls",
      "model_module_version": "1.5.0",
      "model_name": "HBoxModel",
      "state": {
       "children": [
        "IPY_MODEL_880221b1d6b94b2f94c421a10689e199",
        "IPY_MODEL_f138d5a641ff4c0dae8c833fcc1df211",
        "IPY_MODEL_838586d7a9584715935c2346870d1845"
       ],
       "layout": "IPY_MODEL_87d53e6ffeeb4119991c991899fc41ac"
      }
     },
     "71b510f3ca82456f9cd1f92ae03f0b43": {
      "model_module": "@jupyter-widgets/controls",
      "model_module_version": "1.5.0",
      "model_name": "SliderStyleModel",
      "state": {
       "description_width": ""
      }
     },
     "7283285fec154ce28f5a08bc43d4a6d7": {
      "model_module": "@jupyter-widgets/controls",
      "model_module_version": "1.5.0",
      "model_name": "IntSliderModel",
      "state": {
       "description": "freq",
       "layout": "IPY_MODEL_c05c36e252a94cd5bbde189b1ede2c50",
       "max": 10,
       "style": "IPY_MODEL_73fe22c88fb744ad82ea80225c510089",
       "value": 1
      }
     },
     "72a8c08edce4415fb5d7e17de25cf564": {
      "model_module": "@jupyter-widgets/base",
      "model_module_version": "1.2.0",
      "model_name": "LayoutModel",
      "state": {}
     },
     "72bec83cd69b4b738ac5aa8e507b6fe3": {
      "model_module": "@jupyter-widgets/controls",
      "model_module_version": "1.5.0",
      "model_name": "VBoxModel",
      "state": {
       "_dom_classes": [
        "widget-interact"
       ],
       "children": [
        "IPY_MODEL_570e9f333e774f569eb4aacc8a4905e4",
        "IPY_MODEL_a211ec936b6140fc8f9c3812632405b3",
        "IPY_MODEL_0996d61f99e545d5b47d092983fad1a9",
        "IPY_MODEL_9c2c925485e24209ad7fc4252a18a407"
       ],
       "layout": "IPY_MODEL_aaa575240a854773bfd949b0e6d3774c"
      }
     },
     "733840b62afc40ce86ebc40bbdd8b720": {
      "model_module": "@jupyter-widgets/controls",
      "model_module_version": "1.5.0",
      "model_name": "SliderStyleModel",
      "state": {
       "description_width": ""
      }
     },
     "7359b12e6f6b42bcb6b243d6b135279d": {
      "model_module": "@jupyter-widgets/controls",
      "model_module_version": "1.5.0",
      "model_name": "ButtonStyleModel",
      "state": {}
     },
     "736dac9d583c46a7ae6ed2544108426f": {
      "model_module": "@jupyter-widgets/base",
      "model_module_version": "1.2.0",
      "model_name": "LayoutModel",
      "state": {}
     },
     "739705fb75c64c85bbf1e71686d24e49": {
      "model_module": "@jupyter-widgets/controls",
      "model_module_version": "1.5.0",
      "model_name": "ButtonModel",
      "state": {
       "description": "button 2",
       "layout": "IPY_MODEL_e5b86e06cc2349b281cfe3e10a690467",
       "style": "IPY_MODEL_25c5d8920eb54c549cdc966176672b57"
      }
     },
     "73fe22c88fb744ad82ea80225c510089": {
      "model_module": "@jupyter-widgets/controls",
      "model_module_version": "1.5.0",
      "model_name": "SliderStyleModel",
      "state": {
       "description_width": ""
      }
     },
     "7442636ed4ea4a188d1fcb4149e201d7": {
      "model_module": "@jupyter-widgets/controls",
      "model_module_version": "1.5.0",
      "model_name": "LabelModel",
      "state": {
       "layout": "IPY_MODEL_df15e200fea4417a89a625ac30ae11a1",
       "style": "IPY_MODEL_331ae67acad94abf93447f81297c15db",
       "value": "2"
      }
     },
     "74e975d64c014945b9c4499681109019": {
      "model_module": "@jupyter-widgets/controls",
      "model_module_version": "1.5.0",
      "model_name": "SliderStyleModel",
      "state": {
       "description_width": ""
      }
     },
     "75769a576eac49638ef391034e5db008": {
      "model_module": "@jupyter-widgets/output",
      "model_module_version": "1.0.0",
      "model_name": "OutputModel",
      "state": {
       "layout": "IPY_MODEL_f9b89e8c34fe416ea981e202fba66cfa",
       "outputs": [
        {
         "ename": "NameError",
         "evalue": "name 'ax' is not defined",
         "output_type": "error",
         "traceback": [
          "\u001b[1;31m---------------------------------------------------------------------------\u001b[0m",
          "\u001b[1;31mNameError\u001b[0m                                 Traceback (most recent call last)",
          "\u001b[1;32mc:\\users\\cmdr. data\\virtualenvironments\\myvenv\\lib\\site-packages\\ipywidgets\\widgets\\interaction.py\u001b[0m in \u001b[0;36mupdate\u001b[1;34m(self, *args)\u001b[0m\n\u001b[0;32m    254\u001b[0m                     \u001b[0mvalue\u001b[0m \u001b[1;33m=\u001b[0m \u001b[0mwidget\u001b[0m\u001b[1;33m.\u001b[0m\u001b[0mget_interact_value\u001b[0m\u001b[1;33m(\u001b[0m\u001b[1;33m)\u001b[0m\u001b[1;33m\u001b[0m\u001b[1;33m\u001b[0m\u001b[0m\n\u001b[0;32m    255\u001b[0m                     \u001b[0mself\u001b[0m\u001b[1;33m.\u001b[0m\u001b[0mkwargs\u001b[0m\u001b[1;33m[\u001b[0m\u001b[0mwidget\u001b[0m\u001b[1;33m.\u001b[0m\u001b[0m_kwarg\u001b[0m\u001b[1;33m]\u001b[0m \u001b[1;33m=\u001b[0m \u001b[0mvalue\u001b[0m\u001b[1;33m\u001b[0m\u001b[1;33m\u001b[0m\u001b[0m\n\u001b[1;32m--> 256\u001b[1;33m                 \u001b[0mself\u001b[0m\u001b[1;33m.\u001b[0m\u001b[0mresult\u001b[0m \u001b[1;33m=\u001b[0m \u001b[0mself\u001b[0m\u001b[1;33m.\u001b[0m\u001b[0mf\u001b[0m\u001b[1;33m(\u001b[0m\u001b[1;33m**\u001b[0m\u001b[0mself\u001b[0m\u001b[1;33m.\u001b[0m\u001b[0mkwargs\u001b[0m\u001b[1;33m)\u001b[0m\u001b[1;33m\u001b[0m\u001b[1;33m\u001b[0m\u001b[0m\n\u001b[0m\u001b[0;32m    257\u001b[0m                 \u001b[0mshow_inline_matplotlib_plots\u001b[0m\u001b[1;33m(\u001b[0m\u001b[1;33m)\u001b[0m\u001b[1;33m\u001b[0m\u001b[1;33m\u001b[0m\u001b[0m\n\u001b[0;32m    258\u001b[0m                 \u001b[1;32mif\u001b[0m \u001b[0mself\u001b[0m\u001b[1;33m.\u001b[0m\u001b[0mauto_display\u001b[0m \u001b[1;32mand\u001b[0m \u001b[0mself\u001b[0m\u001b[1;33m.\u001b[0m\u001b[0mresult\u001b[0m \u001b[1;32mis\u001b[0m \u001b[1;32mnot\u001b[0m \u001b[1;32mNone\u001b[0m\u001b[1;33m:\u001b[0m\u001b[1;33m\u001b[0m\u001b[1;33m\u001b[0m\u001b[0m\n",
          "\u001b[1;32m<ipython-input-93-05757d1e873e>\u001b[0m in \u001b[0;36mupdate\u001b[1;34m(w, amp, phi)\u001b[0m\n\u001b[0;32m      2\u001b[0m \u001b[1;32mdef\u001b[0m \u001b[0mupdate\u001b[0m\u001b[1;33m(\u001b[0m\u001b[0mw\u001b[0m \u001b[1;33m=\u001b[0m \u001b[1;36m1.0\u001b[0m\u001b[1;33m,\u001b[0m \u001b[0mamp\u001b[0m\u001b[1;33m=\u001b[0m\u001b[1;36m1\u001b[0m\u001b[1;33m,\u001b[0m \u001b[0mphi\u001b[0m\u001b[1;33m=\u001b[0m\u001b[1;36m0\u001b[0m\u001b[1;33m)\u001b[0m\u001b[1;33m:\u001b[0m\u001b[1;33m\u001b[0m\u001b[1;33m\u001b[0m\u001b[0m\n\u001b[0;32m      3\u001b[0m     \u001b[1;34m\"\"\"Remove old lines from plot and plot new one\"\"\"\u001b[0m\u001b[1;33m\u001b[0m\u001b[1;33m\u001b[0m\u001b[0m\n\u001b[1;32m----> 4\u001b[1;33m     \u001b[1;33m[\u001b[0m\u001b[0ml\u001b[0m\u001b[1;33m.\u001b[0m\u001b[0mremove\u001b[0m\u001b[1;33m(\u001b[0m\u001b[1;33m)\u001b[0m \u001b[1;32mfor\u001b[0m \u001b[0ml\u001b[0m \u001b[1;32min\u001b[0m \u001b[0max\u001b[0m\u001b[1;33m.\u001b[0m\u001b[0mlines\u001b[0m\u001b[1;33m]\u001b[0m\u001b[1;33m\u001b[0m\u001b[1;33m\u001b[0m\u001b[0m\n\u001b[0m\u001b[0;32m      5\u001b[0m     \u001b[0max\u001b[0m\u001b[1;33m.\u001b[0m\u001b[0mplot\u001b[0m\u001b[1;33m(\u001b[0m\u001b[0mx\u001b[0m\u001b[1;33m,\u001b[0m \u001b[0mmy_sine\u001b[0m\u001b[1;33m(\u001b[0m\u001b[0mx\u001b[0m\u001b[1;33m,\u001b[0m \u001b[0mw\u001b[0m\u001b[1;33m,\u001b[0m \u001b[0mamp\u001b[0m\u001b[1;33m,\u001b[0m \u001b[0mphi\u001b[0m\u001b[1;33m)\u001b[0m\u001b[1;33m,\u001b[0m \u001b[0mcolor\u001b[0m\u001b[1;33m=\u001b[0m\u001b[1;34m'C0'\u001b[0m\u001b[1;33m)\u001b[0m\u001b[1;33m\u001b[0m\u001b[1;33m\u001b[0m\u001b[0m\n\u001b[0;32m      6\u001b[0m \u001b[1;33m\u001b[0m\u001b[0m\n",
          "\u001b[1;31mNameError\u001b[0m: name 'ax' is not defined"
         ]
        }
       ]
      }
     },
     "757719ed53db4f33b137b264c45977ca": {
      "model_module": "@jupyter-widgets/controls",
      "model_module_version": "1.5.0",
      "model_name": "FloatSliderModel",
      "state": {
       "description": "amp",
       "layout": "IPY_MODEL_66d9afe98c664d46a286e085a4a09946",
       "max": 4,
       "step": 0.1,
       "style": "IPY_MODEL_cad3cb6242ca43359db4618e0730a727",
       "value": 1.2
      }
     },
     "75b454969168416aaf6d5c53ec37638f": {
      "model_module": "@jupyter-widgets/controls",
      "model_module_version": "1.5.0",
      "model_name": "ButtonStyleModel",
      "state": {}
     },
     "76228ece250241128847ad267840a975": {
      "model_module": "@jupyter-widgets/controls",
      "model_module_version": "1.5.0",
      "model_name": "FloatSliderModel",
      "state": {
       "description": "phi",
       "layout": "IPY_MODEL_e7dc20384c85457b82a2926fc91c040e",
       "max": 6.293185307179586,
       "step": 0.01,
       "style": "IPY_MODEL_a525fc87bf5c4b3892cc5001b6841d2c"
      }
     },
     "76d0a5ed41b146c68a7bdbd36506b5e2": {
      "model_module": "@jupyter-widgets/base",
      "model_module_version": "1.2.0",
      "model_name": "LayoutModel",
      "state": {}
     },
     "77f11f3b877242119e430c55d96ecff6": {
      "model_module": "@jupyter-widgets/base",
      "model_module_version": "1.2.0",
      "model_name": "LayoutModel",
      "state": {}
     },
     "77f744cd2fcd4c498c97f948bef77669": {
      "model_module": "@jupyter-widgets/controls",
      "model_module_version": "1.5.0",
      "model_name": "VBoxModel",
      "state": {
       "_dom_classes": [
        "widget-interact"
       ],
       "children": [
        "IPY_MODEL_1842770b78bd4e1789f34cd5f5c22cf6",
        "IPY_MODEL_446fe4eacbb0493d88af7b8548b75590",
        "IPY_MODEL_860ca8be06fb40a18daa53d507b0fae2",
        "IPY_MODEL_87cda98784ed4b1b96b447407ec578ed"
       ],
       "layout": "IPY_MODEL_9f8a34acf9bb4ce58aee6d680954387d"
      }
     },
     "7818d825bf054e448fe9992b632cae18": {
      "model_module": "@jupyter-widgets/controls",
      "model_module_version": "1.5.0",
      "model_name": "SliderStyleModel",
      "state": {
       "description_width": ""
      }
     },
     "7918d2871a62498088baa9341fa2c985": {
      "model_module": "@jupyter-widgets/base",
      "model_module_version": "1.2.0",
      "model_name": "LayoutModel",
      "state": {}
     },
     "7937b36ddfb54d65a6337366a57d14e3": {
      "model_module": "@jupyter-widgets/base",
      "model_module_version": "1.2.0",
      "model_name": "LayoutModel",
      "state": {}
     },
     "7997df82104e44e09276df7b3ba4950c": {
      "model_module": "@jupyter-widgets/controls",
      "model_module_version": "1.5.0",
      "model_name": "SliderStyleModel",
      "state": {
       "description_width": ""
      }
     },
     "7b2a1a1b2d8048c9bd238bda93f4547b": {
      "model_module": "@jupyter-widgets/base",
      "model_module_version": "1.2.0",
      "model_name": "LayoutModel",
      "state": {}
     },
     "7b44c1f0e1e04bb594354d07c7316a0e": {
      "model_module": "@jupyter-widgets/controls",
      "model_module_version": "1.5.0",
      "model_name": "ButtonStyleModel",
      "state": {}
     },
     "7b643783dee44f14b1f5f72a719b7659": {
      "model_module": "@jupyter-widgets/base",
      "model_module_version": "1.2.0",
      "model_name": "LayoutModel",
      "state": {}
     },
     "7d8a0601df544796a13f7a2af517bbe2": {
      "model_module": "@jupyter-widgets/base",
      "model_module_version": "1.2.0",
      "model_name": "LayoutModel",
      "state": {}
     },
     "7e731b0ff71349039083ba93690b8c84": {
      "model_module": "@jupyter-widgets/base",
      "model_module_version": "1.2.0",
      "model_name": "LayoutModel",
      "state": {}
     },
     "7e77f8f8b2a54c55a5e2d6bfe4b820c2": {
      "model_module": "@jupyter-widgets/base",
      "model_module_version": "1.2.0",
      "model_name": "LayoutModel",
      "state": {}
     },
     "7f24c93586514052a3dfa96a570d369a": {
      "model_module": "@jupyter-widgets/controls",
      "model_module_version": "1.5.0",
      "model_name": "SliderStyleModel",
      "state": {
       "description_width": ""
      }
     },
     "7f451d12133947c480c6196c32d802f8": {
      "model_module": "@jupyter-widgets/base",
      "model_module_version": "1.2.0",
      "model_name": "LayoutModel",
      "state": {}
     },
     "7f76c72ebc67457ea580d7bab5e58717": {
      "model_module": "@jupyter-widgets/controls",
      "model_module_version": "1.5.0",
      "model_name": "ButtonStyleModel",
      "state": {}
     },
     "8076ab6489664c09bee46c1a307e3c27": {
      "model_module": "@jupyter-widgets/controls",
      "model_module_version": "1.5.0",
      "model_name": "IntSliderModel",
      "state": {
       "description": "w",
       "layout": "IPY_MODEL_d6cb72c0f29b4f52ac9fbebba3f018a0",
       "max": 10,
       "style": "IPY_MODEL_0884a037d5664c8bbf87b3bc94a90666",
       "value": 1
      }
     },
     "8111d934e493470a8a8174d6bb4ce31c": {
      "model_module": "@jupyter-widgets/base",
      "model_module_version": "1.2.0",
      "model_name": "LayoutModel",
      "state": {}
     },
     "817e06fbf6614611b5c27156e74ccdab": {
      "model_module": "@jupyter-widgets/controls",
      "model_module_version": "1.5.0",
      "model_name": "FloatSliderModel",
      "state": {
       "description": "phi",
       "layout": "IPY_MODEL_9c6b1618daf440859b98362811e14478",
       "max": 6.293185307179586,
       "step": 0.01,
       "style": "IPY_MODEL_d56b4e23442d4f939e954e68783edbb5"
      }
     },
     "81af2bb481fe46f8832a19b53b559cae": {
      "model_module": "@jupyter-widgets/controls",
      "model_module_version": "1.5.0",
      "model_name": "FloatSliderModel",
      "state": {
       "description": "phi",
       "layout": "IPY_MODEL_6a67dc04c8d74af08c5c8905437f8a1d",
       "max": 6.293185307179586,
       "step": 0.01,
       "style": "IPY_MODEL_dc5d7554a43948bfaca9345aa7760736"
      }
     },
     "81ea22ccde784da49bbe5a44214d95bd": {
      "model_module": "@jupyter-widgets/base",
      "model_module_version": "1.2.0",
      "model_name": "LayoutModel",
      "state": {}
     },
     "81ef251be6fe481d8c8bc34874f1dcf9": {
      "model_module": "@jupyter-widgets/controls",
      "model_module_version": "1.5.0",
      "model_name": "DescriptionStyleModel",
      "state": {
       "description_width": ""
      }
     },
     "82c04e6d69144123a233fd6f47b840f1": {
      "model_module": "@jupyter-widgets/base",
      "model_module_version": "1.2.0",
      "model_name": "LayoutModel",
      "state": {}
     },
     "838586d7a9584715935c2346870d1845": {
      "model_module": "@jupyter-widgets/controls",
      "model_module_version": "1.5.0",
      "model_name": "ButtonModel",
      "state": {
       "description": "button 3",
       "layout": "IPY_MODEL_1c8a7cc26e7b41ebae668af1b363642a",
       "style": "IPY_MODEL_90665da9fedc4734a7c644b65aa08b13"
      }
     },
     "83cbaf1526dd4eb38f601e81a791ab11": {
      "model_module": "@jupyter-widgets/controls",
      "model_module_version": "1.5.0",
      "model_name": "LabelModel",
      "state": {
       "layout": "IPY_MODEL_b1f0605540804795866296c643a712aa",
       "style": "IPY_MODEL_efd2d5354b864907a1e1d574c0b14bad",
       "value": "3"
      }
     },
     "84ebe28916a4475a9406c41f95a51a7a": {
      "model_module": "@jupyter-widgets/controls",
      "model_module_version": "1.5.0",
      "model_name": "SliderStyleModel",
      "state": {
       "description_width": ""
      }
     },
     "858fd11f7ebc4ee6b18fcd70ca76e6fd": {
      "model_module": "@jupyter-widgets/base",
      "model_module_version": "1.2.0",
      "model_name": "LayoutModel",
      "state": {}
     },
     "860ca8be06fb40a18daa53d507b0fae2": {
      "model_module": "@jupyter-widgets/controls",
      "model_module_version": "1.5.0",
      "model_name": "FloatSliderModel",
      "state": {
       "description": "phi",
       "layout": "IPY_MODEL_18e21367a2fa44afa297d86d372e94be",
       "max": 6.293185307179586,
       "step": 0.01,
       "style": "IPY_MODEL_ff36cab76eb048539724ef24337f292b"
      }
     },
     "8647bae5fc754834b9bdd611972aca8c": {
      "model_module": "@jupyter-widgets/controls",
      "model_module_version": "1.5.0",
      "model_name": "FloatSliderModel",
      "state": {
       "description": "amp",
       "layout": "IPY_MODEL_40de4f366d5f4611aff4af3fa53e20c9",
       "max": 4,
       "step": 0.1,
       "style": "IPY_MODEL_6ae1bed3a5ac49feae8bb955dffcc7f6",
       "value": 1
      }
     },
     "8647ee89983741028e8f1cf28ecae53b": {
      "model_module": "@jupyter-widgets/controls",
      "model_module_version": "1.5.0",
      "model_name": "ButtonModel",
      "state": {
       "description": "a",
       "layout": "IPY_MODEL_8111d934e493470a8a8174d6bb4ce31c",
       "style": "IPY_MODEL_7f76c72ebc67457ea580d7bab5e58717"
      }
     },
     "86e8ee34eb574bbc89a7d5f3f9422f1b": {
      "model_module": "@jupyter-widgets/controls",
      "model_module_version": "1.5.0",
      "model_name": "SliderStyleModel",
      "state": {
       "description_width": ""
      }
     },
     "8799bd69efe749408e80afc8bf910636": {
      "model_module": "@jupyter-widgets/controls",
      "model_module_version": "1.5.0",
      "model_name": "DescriptionStyleModel",
      "state": {
       "description_width": ""
      }
     },
     "87cda98784ed4b1b96b447407ec578ed": {
      "model_module": "@jupyter-widgets/output",
      "model_module_version": "1.0.0",
      "model_name": "OutputModel",
      "state": {
       "layout": "IPY_MODEL_4bda125dc3044b1bae429b91b277456e",
       "outputs": [
        {
         "ename": "AttributeError",
         "evalue": "'int' object has no attribute 'plot'",
         "output_type": "error",
         "traceback": [
          "\u001b[1;31m---------------------------------------------------------------------------\u001b[0m",
          "\u001b[1;31mAttributeError\u001b[0m                            Traceback (most recent call last)",
          "\u001b[1;32mc:\\users\\cmdr. data\\virtualenvironments\\myvenv\\lib\\site-packages\\ipywidgets\\widgets\\interaction.py\u001b[0m in \u001b[0;36mupdate\u001b[1;34m(self, *args)\u001b[0m\n\u001b[0;32m    254\u001b[0m                     \u001b[0mvalue\u001b[0m \u001b[1;33m=\u001b[0m \u001b[0mwidget\u001b[0m\u001b[1;33m.\u001b[0m\u001b[0mget_interact_value\u001b[0m\u001b[1;33m(\u001b[0m\u001b[1;33m)\u001b[0m\u001b[1;33m\u001b[0m\u001b[1;33m\u001b[0m\u001b[0m\n\u001b[0;32m    255\u001b[0m                     \u001b[0mself\u001b[0m\u001b[1;33m.\u001b[0m\u001b[0mkwargs\u001b[0m\u001b[1;33m[\u001b[0m\u001b[0mwidget\u001b[0m\u001b[1;33m.\u001b[0m\u001b[0m_kwarg\u001b[0m\u001b[1;33m]\u001b[0m \u001b[1;33m=\u001b[0m \u001b[0mvalue\u001b[0m\u001b[1;33m\u001b[0m\u001b[1;33m\u001b[0m\u001b[0m\n\u001b[1;32m--> 256\u001b[1;33m                 \u001b[0mself\u001b[0m\u001b[1;33m.\u001b[0m\u001b[0mresult\u001b[0m \u001b[1;33m=\u001b[0m \u001b[0mself\u001b[0m\u001b[1;33m.\u001b[0m\u001b[0mf\u001b[0m\u001b[1;33m(\u001b[0m\u001b[1;33m**\u001b[0m\u001b[0mself\u001b[0m\u001b[1;33m.\u001b[0m\u001b[0mkwargs\u001b[0m\u001b[1;33m)\u001b[0m\u001b[1;33m\u001b[0m\u001b[1;33m\u001b[0m\u001b[0m\n\u001b[0m\u001b[0;32m    257\u001b[0m                 \u001b[0mshow_inline_matplotlib_plots\u001b[0m\u001b[1;33m(\u001b[0m\u001b[1;33m)\u001b[0m\u001b[1;33m\u001b[0m\u001b[1;33m\u001b[0m\u001b[0m\n\u001b[0;32m    258\u001b[0m                 \u001b[1;32mif\u001b[0m \u001b[0mself\u001b[0m\u001b[1;33m.\u001b[0m\u001b[0mauto_display\u001b[0m \u001b[1;32mand\u001b[0m \u001b[0mself\u001b[0m\u001b[1;33m.\u001b[0m\u001b[0mresult\u001b[0m \u001b[1;32mis\u001b[0m \u001b[1;32mnot\u001b[0m \u001b[1;32mNone\u001b[0m\u001b[1;33m:\u001b[0m\u001b[1;33m\u001b[0m\u001b[1;33m\u001b[0m\u001b[0m\n",
          "\u001b[1;32m<ipython-input-152-9b6f6b32bab7>\u001b[0m in \u001b[0;36mupdate\u001b[1;34m(w, amp, phi)\u001b[0m\n\u001b[0;32m      6\u001b[0m \u001b[1;32mdef\u001b[0m \u001b[0mupdate\u001b[0m\u001b[1;33m(\u001b[0m\u001b[0mw\u001b[0m \u001b[1;33m=\u001b[0m \u001b[1;36m1.0\u001b[0m\u001b[1;33m,\u001b[0m \u001b[0mamp\u001b[0m\u001b[1;33m=\u001b[0m\u001b[1;36m1\u001b[0m\u001b[1;33m,\u001b[0m \u001b[0mphi\u001b[0m\u001b[1;33m=\u001b[0m\u001b[1;36m0\u001b[0m\u001b[1;33m)\u001b[0m\u001b[1;33m:\u001b[0m\u001b[1;33m\u001b[0m\u001b[1;33m\u001b[0m\u001b[0m\n\u001b[0;32m      7\u001b[0m     \u001b[1;34m\"\"\"Remove old lines from plot and plot new one\"\"\"\u001b[0m\u001b[1;33m\u001b[0m\u001b[1;33m\u001b[0m\u001b[0m\n\u001b[1;32m----> 8\u001b[1;33m     \u001b[0max\u001b[0m\u001b[1;33m.\u001b[0m\u001b[0mplot\u001b[0m\u001b[1;33m(\u001b[0m\u001b[0mx\u001b[0m\u001b[1;33m,\u001b[0m \u001b[0mmy_sine\u001b[0m\u001b[1;33m(\u001b[0m\u001b[0mx\u001b[0m\u001b[1;33m,\u001b[0m \u001b[0mw\u001b[0m\u001b[1;33m,\u001b[0m \u001b[0mamp\u001b[0m\u001b[1;33m,\u001b[0m \u001b[0mphi\u001b[0m\u001b[1;33m)\u001b[0m\u001b[1;33m,\u001b[0m \u001b[0mcolor\u001b[0m\u001b[1;33m=\u001b[0m\u001b[1;34m'C0'\u001b[0m\u001b[1;33m)\u001b[0m\u001b[1;33m\u001b[0m\u001b[1;33m\u001b[0m\u001b[0m\n\u001b[0m",
          "\u001b[1;31mAttributeError\u001b[0m: 'int' object has no attribute 'plot'"
         ]
        }
       ]
      }
     },
     "87d53e6ffeeb4119991c991899fc41ac": {
      "model_module": "@jupyter-widgets/base",
      "model_module_version": "1.2.0",
      "model_name": "LayoutModel",
      "state": {}
     },
     "87e9d59827754194abfd1fb31431664a": {
      "model_module": "@jupyter-widgets/base",
      "model_module_version": "1.2.0",
      "model_name": "LayoutModel",
      "state": {}
     },
     "880221b1d6b94b2f94c421a10689e199": {
      "model_module": "@jupyter-widgets/controls",
      "model_module_version": "1.5.0",
      "model_name": "ButtonModel",
      "state": {
       "description": "σ",
       "layout": "IPY_MODEL_c702ced1880041919bc7b2553725fb55",
       "style": "IPY_MODEL_612d3c90d2d64d1090394e0609d14271"
      }
     },
     "88b47f7efc6c46d0bc905317d0c124d0": {
      "model_module": "@jupyter-widgets/controls",
      "model_module_version": "1.5.0",
      "model_name": "VBoxModel",
      "state": {
       "_dom_classes": [
        "widget-interact"
       ],
       "children": [
        "IPY_MODEL_52450fe1699e4250ae8a90baa7ef5228",
        "IPY_MODEL_43a6ccc4778b40aca3483aa7a0fe0c66",
        "IPY_MODEL_8d51903be22e49b1a462a032f2224045",
        "IPY_MODEL_609677d112114702899d2aa6bae4d861"
       ],
       "layout": "IPY_MODEL_0858d4585e6c420193c0690a8f8f6cf5"
      }
     },
     "8a9215ff15694d56b3391323cf936559": {
      "model_module": "@jupyter-widgets/controls",
      "model_module_version": "1.5.0",
      "model_name": "VBoxModel",
      "state": {
       "_dom_classes": [
        "widget-interact"
       ],
       "children": [
        "IPY_MODEL_382d031fc17a465dab46c010ceaf6089",
        "IPY_MODEL_8ab1054add014cb8b8eb201e2a78baae",
        "IPY_MODEL_988dcdab09c84d36ba33bb2026cc8202",
        "IPY_MODEL_d7b23aadf5c0425b89d7259bf0c98deb"
       ],
       "layout": "IPY_MODEL_7937b36ddfb54d65a6337366a57d14e3"
      }
     },
     "8ab1054add014cb8b8eb201e2a78baae": {
      "model_module": "@jupyter-widgets/controls",
      "model_module_version": "1.5.0",
      "model_name": "FloatSliderModel",
      "state": {
       "description": "amp",
       "layout": "IPY_MODEL_3b1ad64b69394e36bcc7dc30932d5ec1",
       "max": 4,
       "step": 0.1,
       "style": "IPY_MODEL_ab4280c0860548c2a4a2bce9c46befb4",
       "value": 2
      }
     },
     "8b23879d7cb042b5a3e6086fb3c5a38c": {
      "model_module": "@jupyter-widgets/controls",
      "model_module_version": "1.5.0",
      "model_name": "SliderStyleModel",
      "state": {
       "description_width": ""
      }
     },
     "8b446d78b6c641bf8b11d070be6c0310": {
      "model_module": "@jupyter-widgets/controls",
      "model_module_version": "1.5.0",
      "model_name": "VBoxModel",
      "state": {
       "_dom_classes": [
        "widget-interact"
       ],
       "children": [
        "IPY_MODEL_70f5c4b8b20d42eeb3375be36fd74ed7",
        "IPY_MODEL_c53f145ab2054738b2cb3db2e33c6b88",
        "IPY_MODEL_ddc1b03ea5894e019515aef42771fe77",
        "IPY_MODEL_2afbc5d2644043fa9ff53df32a71d90f"
       ],
       "layout": "IPY_MODEL_f191832517ca4435a0461caccf96d126"
      }
     },
     "8b545e4925f2499db86c2607417001a3": {
      "model_module": "@jupyter-widgets/controls",
      "model_module_version": "1.5.0",
      "model_name": "FloatSliderModel",
      "state": {
       "description": "phi",
       "layout": "IPY_MODEL_df2b4609cb9b49a9b2312e11f00ef174",
       "max": 6.293185307179586,
       "step": 0.01,
       "style": "IPY_MODEL_e728643fb6d8475c9993b8f538894e94"
      }
     },
     "8b6ef63a1d7e47d28dd0cac14765e301": {
      "model_module": "@jupyter-widgets/controls",
      "model_module_version": "1.5.0",
      "model_name": "SliderStyleModel",
      "state": {
       "description_width": ""
      }
     },
     "8b96f2dc69754de9ae23d9b2d3171dc2": {
      "model_module": "@jupyter-widgets/base",
      "model_module_version": "1.2.0",
      "model_name": "LayoutModel",
      "state": {}
     },
     "8c7dca7bd9394a4ab5fa40a7a0add244": {
      "model_module": "@jupyter-widgets/base",
      "model_module_version": "1.2.0",
      "model_name": "LayoutModel",
      "state": {}
     },
     "8d32258d063c4df3961b8c0e387aa485": {
      "model_module": "@jupyter-widgets/controls",
      "model_module_version": "1.5.0",
      "model_name": "LabelModel",
      "state": {
       "layout": "IPY_MODEL_cb0f2f2636cc487895e322235a1285c4",
       "style": "IPY_MODEL_b929f54e4aad432eb35106ec1d6268cb",
       "value": "2"
      }
     },
     "8d51903be22e49b1a462a032f2224045": {
      "model_module": "@jupyter-widgets/controls",
      "model_module_version": "1.5.0",
      "model_name": "FloatSliderModel",
      "state": {
       "description": "phi",
       "layout": "IPY_MODEL_77f11f3b877242119e430c55d96ecff6",
       "max": 6.293185307179586,
       "step": 0.01,
       "style": "IPY_MODEL_b5961f31eea44534b9a2b3a026edf538"
      }
     },
     "8d8662a5d673474e896a02c51c040669": {
      "model_module": "@jupyter-widgets/controls",
      "model_module_version": "1.5.0",
      "model_name": "ButtonModel",
      "state": {
       "description": "button 2",
       "layout": "IPY_MODEL_211f018e8c8b49908ecd8d0f03a65061",
       "style": "IPY_MODEL_aabc6738e4af4c9cb3e1e8ed521fd7bb"
      }
     },
     "8e6f41d9f90c4c8b98a2585d009be26e": {
      "model_module": "@jupyter-widgets/controls",
      "model_module_version": "1.5.0",
      "model_name": "HBoxModel",
      "state": {
       "children": [
        "IPY_MODEL_39bf1290bd6841a9a5124fa129b5562e",
        "IPY_MODEL_96fc2fc258b94e52acd3dd1e62b28e18",
        "IPY_MODEL_d9f98af595bb46e0b8e2b5a4271a0b37"
       ],
       "layout": "IPY_MODEL_3861eac1ec4044158e10fff1bff686ae"
      }
     },
     "8e898c1024f24a15b36ff6b4faa6627c": {
      "model_module": "@jupyter-widgets/base",
      "model_module_version": "1.2.0",
      "model_name": "LayoutModel",
      "state": {}
     },
     "8e92153f50d94217b0f29897f87759a3": {
      "model_module": "@jupyter-widgets/base",
      "model_module_version": "1.2.0",
      "model_name": "LayoutModel",
      "state": {}
     },
     "8eee579d1653477c9116c92da5694cab": {
      "model_module": "@jupyter-widgets/base",
      "model_module_version": "1.2.0",
      "model_name": "LayoutModel",
      "state": {}
     },
     "9034e56fe30c4f92b66f06e39efe726a": {
      "model_module": "@jupyter-widgets/controls",
      "model_module_version": "1.5.0",
      "model_name": "SliderStyleModel",
      "state": {
       "description_width": ""
      }
     },
     "90665da9fedc4734a7c644b65aa08b13": {
      "model_module": "@jupyter-widgets/controls",
      "model_module_version": "1.5.0",
      "model_name": "ButtonStyleModel",
      "state": {}
     },
     "91682df7dbc74dd781669024d9169cf0": {
      "model_module": "@jupyter-widgets/output",
      "model_module_version": "1.0.0",
      "model_name": "OutputModel",
      "state": {
       "layout": "IPY_MODEL_d240b16d95a64a33bd8324ce70b029cf",
       "outputs": [
        {
         "data": {
          "text/latex": "\\[\n\\begin{aligned}\nr &= \\frac{ \\left( - b \\right) + \\sqrt { \\left( b \\right) ^{ 7 } - 4 \\cdot a \\cdot c } }{ 2 \\cdot a }  = \\frac{ \\left( - 2 \\right) + \\sqrt { \\left( 2 \\right) ^{ 7 } - 4 \\cdot 1 \\cdot 3 } }{ 2 \\cdot 1 } &= 4.385  \n\\end{aligned}\n\\]",
          "text/plain": "<IPython.core.display.Latex object>"
         },
         "metadata": {},
         "output_type": "display_data"
        }
       ]
      }
     },
     "9230c9886fe34c9d9819b402a286de56": {
      "model_module": "@jupyter-widgets/controls",
      "model_module_version": "1.5.0",
      "model_name": "FloatSliderModel",
      "state": {
       "description": "phi",
       "layout": "IPY_MODEL_18791c72c3f146a6948956c2320608f8",
       "max": 6.293185307179586,
       "step": 0.01,
       "style": "IPY_MODEL_39e34182ac8146ff889fb9853332dcc0",
       "value": 1.69
      }
     },
     "934759d037ef415084d0baf5242e6947": {
      "model_module": "@jupyter-widgets/controls",
      "model_module_version": "1.5.0",
      "model_name": "ButtonStyleModel",
      "state": {}
     },
     "938e023377914438863fb0cde2340fe1": {
      "model_module": "@jupyter-widgets/controls",
      "model_module_version": "1.5.0",
      "model_name": "IntSliderModel",
      "state": {
       "description": "w",
       "layout": "IPY_MODEL_31f247d7864d4a45a4b4c9343e26d3a1",
       "max": 10,
       "style": "IPY_MODEL_20796b53a12b494cb3d9de120eef8d3a",
       "value": 1
      }
     },
     "93f0dbdba47a4c29bd4ea2f6669b746b": {
      "model_module": "@jupyter-widgets/base",
      "model_module_version": "1.2.0",
      "model_name": "LayoutModel",
      "state": {}
     },
     "94b8cbfcfdad419696ba17c61bd2e2db": {
      "model_module": "@jupyter-widgets/base",
      "model_module_version": "1.2.0",
      "model_name": "LayoutModel",
      "state": {}
     },
     "95c6c588cb5c48d291eb97c17282b81e": {
      "model_module": "@jupyter-widgets/base",
      "model_module_version": "1.2.0",
      "model_name": "LayoutModel",
      "state": {}
     },
     "95e3b3a5a7864c60b18d7a0dd1918116": {
      "model_module": "@jupyter-widgets/base",
      "model_module_version": "1.2.0",
      "model_name": "LayoutModel",
      "state": {}
     },
     "95fd7db37ecf49cdbcd1a6b6079a07ec": {
      "model_module": "@jupyter-widgets/base",
      "model_module_version": "1.2.0",
      "model_name": "LayoutModel",
      "state": {}
     },
     "960d07ee8f164c1b943ba5022facc2a6": {
      "model_module": "@jupyter-widgets/controls",
      "model_module_version": "1.5.0",
      "model_name": "HBoxModel",
      "state": {
       "children": [
        "IPY_MODEL_8647ee89983741028e8f1cf28ecae53b",
        "IPY_MODEL_cea4cfd46b2941ad8ffa8b45d493eccb",
        "IPY_MODEL_6c4e32c7123b457f938c9c9a2239694b"
       ],
       "layout": "IPY_MODEL_dbfe78b6a6da4467a24a7d5b2136447a"
      }
     },
     "96db3a43bff74368bbfdf71e2459e9d7": {
      "model_module": "@jupyter-widgets/base",
      "model_module_version": "1.2.0",
      "model_name": "LayoutModel",
      "state": {}
     },
     "96f2b367edd14c2b836cb48d9d2669a9": {
      "model_module": "@jupyter-widgets/base",
      "model_module_version": "1.2.0",
      "model_name": "LayoutModel",
      "state": {}
     },
     "96fc2fc258b94e52acd3dd1e62b28e18": {
      "model_module": "@jupyter-widgets/controls",
      "model_module_version": "1.5.0",
      "model_name": "ButtonModel",
      "state": {
       "description": "button 2",
       "layout": "IPY_MODEL_ae590184578a4625892c21d7411bfb67",
       "style": "IPY_MODEL_42131cd89595471791178ed083f3ef03"
      }
     },
     "97d5a904af0e4b55ad2db78417248312": {
      "model_module": "@jupyter-widgets/controls",
      "model_module_version": "1.5.0",
      "model_name": "ButtonStyleModel",
      "state": {}
     },
     "97dfd1a8b88f48a89c58eb00b227b888": {
      "model_module": "@jupyter-widgets/controls",
      "model_module_version": "1.5.0",
      "model_name": "ButtonModel",
      "state": {
       "description": "h",
       "layout": "IPY_MODEL_9f07b72d246c487382ac1f0219979e6b",
       "style": "IPY_MODEL_a31e808d7b224fdc9a81585e5b07d494"
      }
     },
     "986e2d89d6714b6a8f7553f291cd7938": {
      "model_module": "@jupyter-widgets/controls",
      "model_module_version": "1.5.0",
      "model_name": "SliderStyleModel",
      "state": {
       "description_width": ""
      }
     },
     "988dcdab09c84d36ba33bb2026cc8202": {
      "model_module": "@jupyter-widgets/controls",
      "model_module_version": "1.5.0",
      "model_name": "FloatSliderModel",
      "state": {
       "description": "phi",
       "layout": "IPY_MODEL_ca483c5176464f4e9655674a4948a93f",
       "max": 6.293185307179586,
       "step": 0.01,
       "style": "IPY_MODEL_e2ff10278ee3438bb6b3d571b965008c"
      }
     },
     "98fb619b88024290abf84bb097c8f346": {
      "model_module": "@jupyter-widgets/controls",
      "model_module_version": "1.5.0",
      "model_name": "IntSliderModel",
      "state": {
       "description": "freq",
       "layout": "IPY_MODEL_f0a106a9ea664172bbb0130c17dcbc30",
       "max": 10,
       "style": "IPY_MODEL_c84cb88f386e4c3181c718b92117adc4",
       "value": 1
      }
     },
     "9a1db843ff3d48c58fd1a3be696fb8da": {
      "model_module": "@jupyter-widgets/controls",
      "model_module_version": "1.5.0",
      "model_name": "SliderStyleModel",
      "state": {
       "description_width": ""
      }
     },
     "9a431147f9a74a89962ed985895ffca8": {
      "model_module": "@jupyter-widgets/controls",
      "model_module_version": "1.5.0",
      "model_name": "LabelModel",
      "state": {
       "layout": "IPY_MODEL_043525901cde4571a85a48b7568cfc18",
       "style": "IPY_MODEL_ad898db515aa400c8154fb1cd0b9a71c",
       "value": "1"
      }
     },
     "9a55daf543214a85944ddb2ebcabc3ef": {
      "model_module": "@jupyter-widgets/base",
      "model_module_version": "1.2.0",
      "model_name": "LayoutModel",
      "state": {}
     },
     "9a802f7847a148d59a1be5fcfaeea382": {
      "model_module": "@jupyter-widgets/base",
      "model_module_version": "1.2.0",
      "model_name": "LayoutModel",
      "state": {}
     },
     "9b7d96e0677a4f64882a776fe8afbaaa": {
      "model_module": "@jupyter-widgets/controls",
      "model_module_version": "1.5.0",
      "model_name": "VBoxModel",
      "state": {
       "_dom_classes": [
        "widget-interact"
       ],
       "children": [
        "IPY_MODEL_425ee9696c014010a438ed0bc03cb1b3",
        "IPY_MODEL_e3a363fb90a14e4eab4cb833ee6e9d52",
        "IPY_MODEL_b36a961ace064a88ad5f5d130b1a18f8",
        "IPY_MODEL_c14a3c403fe44024b1835a22611d1b0d"
       ],
       "layout": "IPY_MODEL_fe6216c813cc47f58355113a95643ca5"
      }
     },
     "9bb96f9ed530489a8f9115a771318bc4": {
      "model_module": "@jupyter-widgets/base",
      "model_module_version": "1.2.0",
      "model_name": "LayoutModel",
      "state": {}
     },
     "9bbd4cc6112c4636b6dc5b1ffec35bad": {
      "model_module": "@jupyter-widgets/base",
      "model_module_version": "1.2.0",
      "model_name": "LayoutModel",
      "state": {}
     },
     "9c2c925485e24209ad7fc4252a18a407": {
      "model_module": "@jupyter-widgets/output",
      "model_module_version": "1.0.0",
      "model_name": "OutputModel",
      "state": {
       "layout": "IPY_MODEL_07f2157f31074daca9a7baec42b92a31",
       "outputs": [
        {
         "ename": "AttributeError",
         "evalue": "'int' object has no attribute 'plot'",
         "output_type": "error",
         "traceback": [
          "\u001b[1;31m---------------------------------------------------------------------------\u001b[0m",
          "\u001b[1;31mAttributeError\u001b[0m                            Traceback (most recent call last)",
          "\u001b[1;32mc:\\users\\cmdr. data\\virtualenvironments\\myvenv\\lib\\site-packages\\ipywidgets\\widgets\\interaction.py\u001b[0m in \u001b[0;36mupdate\u001b[1;34m(self, *args)\u001b[0m\n\u001b[0;32m    254\u001b[0m                     \u001b[0mvalue\u001b[0m \u001b[1;33m=\u001b[0m \u001b[0mwidget\u001b[0m\u001b[1;33m.\u001b[0m\u001b[0mget_interact_value\u001b[0m\u001b[1;33m(\u001b[0m\u001b[1;33m)\u001b[0m\u001b[1;33m\u001b[0m\u001b[1;33m\u001b[0m\u001b[0m\n\u001b[0;32m    255\u001b[0m                     \u001b[0mself\u001b[0m\u001b[1;33m.\u001b[0m\u001b[0mkwargs\u001b[0m\u001b[1;33m[\u001b[0m\u001b[0mwidget\u001b[0m\u001b[1;33m.\u001b[0m\u001b[0m_kwarg\u001b[0m\u001b[1;33m]\u001b[0m \u001b[1;33m=\u001b[0m \u001b[0mvalue\u001b[0m\u001b[1;33m\u001b[0m\u001b[1;33m\u001b[0m\u001b[0m\n\u001b[1;32m--> 256\u001b[1;33m                 \u001b[0mself\u001b[0m\u001b[1;33m.\u001b[0m\u001b[0mresult\u001b[0m \u001b[1;33m=\u001b[0m \u001b[0mself\u001b[0m\u001b[1;33m.\u001b[0m\u001b[0mf\u001b[0m\u001b[1;33m(\u001b[0m\u001b[1;33m**\u001b[0m\u001b[0mself\u001b[0m\u001b[1;33m.\u001b[0m\u001b[0mkwargs\u001b[0m\u001b[1;33m)\u001b[0m\u001b[1;33m\u001b[0m\u001b[1;33m\u001b[0m\u001b[0m\n\u001b[0m\u001b[0;32m    257\u001b[0m                 \u001b[0mshow_inline_matplotlib_plots\u001b[0m\u001b[1;33m(\u001b[0m\u001b[1;33m)\u001b[0m\u001b[1;33m\u001b[0m\u001b[1;33m\u001b[0m\u001b[0m\n\u001b[0;32m    258\u001b[0m                 \u001b[1;32mif\u001b[0m \u001b[0mself\u001b[0m\u001b[1;33m.\u001b[0m\u001b[0mauto_display\u001b[0m \u001b[1;32mand\u001b[0m \u001b[0mself\u001b[0m\u001b[1;33m.\u001b[0m\u001b[0mresult\u001b[0m \u001b[1;32mis\u001b[0m \u001b[1;32mnot\u001b[0m \u001b[1;32mNone\u001b[0m\u001b[1;33m:\u001b[0m\u001b[1;33m\u001b[0m\u001b[1;33m\u001b[0m\u001b[0m\n",
          "\u001b[1;32m<ipython-input-96-f009fa3eeb27>\u001b[0m in \u001b[0;36mupdate\u001b[1;34m(w, amp, phi)\u001b[0m\n\u001b[0;32m      3\u001b[0m \u001b[1;32mdef\u001b[0m \u001b[0mupdate\u001b[0m\u001b[1;33m(\u001b[0m\u001b[0mw\u001b[0m \u001b[1;33m=\u001b[0m \u001b[1;36m1.0\u001b[0m\u001b[1;33m,\u001b[0m \u001b[0mamp\u001b[0m\u001b[1;33m=\u001b[0m\u001b[1;36m1\u001b[0m\u001b[1;33m,\u001b[0m \u001b[0mphi\u001b[0m\u001b[1;33m=\u001b[0m\u001b[1;36m0\u001b[0m\u001b[1;33m)\u001b[0m\u001b[1;33m:\u001b[0m\u001b[1;33m\u001b[0m\u001b[1;33m\u001b[0m\u001b[0m\n\u001b[0;32m      4\u001b[0m     \u001b[1;34m\"\"\"Remove old lines from plot and plot new one\"\"\"\u001b[0m\u001b[1;33m\u001b[0m\u001b[1;33m\u001b[0m\u001b[0m\n\u001b[1;32m----> 5\u001b[1;33m     \u001b[0max\u001b[0m\u001b[1;33m.\u001b[0m\u001b[0mplot\u001b[0m\u001b[1;33m(\u001b[0m\u001b[0mx\u001b[0m\u001b[1;33m,\u001b[0m \u001b[0mmy_sine\u001b[0m\u001b[1;33m(\u001b[0m\u001b[0mx\u001b[0m\u001b[1;33m,\u001b[0m \u001b[0mw\u001b[0m\u001b[1;33m,\u001b[0m \u001b[0mamp\u001b[0m\u001b[1;33m,\u001b[0m \u001b[0mphi\u001b[0m\u001b[1;33m)\u001b[0m\u001b[1;33m,\u001b[0m \u001b[0mcolor\u001b[0m\u001b[1;33m=\u001b[0m\u001b[1;34m'C0'\u001b[0m\u001b[1;33m)\u001b[0m\u001b[1;33m\u001b[0m\u001b[1;33m\u001b[0m\u001b[0m\n\u001b[0m\u001b[0;32m      6\u001b[0m \u001b[1;33m\u001b[0m\u001b[0m\n\u001b[0;32m      7\u001b[0m \u001b[0mget_ipython\u001b[0m\u001b[1;33m(\u001b[0m\u001b[1;33m)\u001b[0m\u001b[1;33m.\u001b[0m\u001b[0mrun_line_magic\u001b[0m\u001b[1;33m(\u001b[0m\u001b[1;34m'%render'\u001b[0m\u001b[1;33m,\u001b[0m \u001b[1;34m''\u001b[0m\u001b[1;33m)\u001b[0m\u001b[1;33m\u001b[0m\u001b[1;33m\u001b[0m\u001b[0m\n",
          "\u001b[1;31mAttributeError\u001b[0m: 'int' object has no attribute 'plot'"
         ]
        }
       ]
      }
     },
     "9c447f2103034174b0db0d0fe1cabeca": {
      "model_module": "@jupyter-widgets/controls",
      "model_module_version": "1.5.0",
      "model_name": "SliderStyleModel",
      "state": {
       "description_width": ""
      }
     },
     "9c6b1618daf440859b98362811e14478": {
      "model_module": "@jupyter-widgets/base",
      "model_module_version": "1.2.0",
      "model_name": "LayoutModel",
      "state": {}
     },
     "9c9f362e4c474a6a9d33decc36e31eb0": {
      "model_module": "@jupyter-widgets/controls",
      "model_module_version": "1.5.0",
      "model_name": "SliderStyleModel",
      "state": {
       "description_width": ""
      }
     },
     "9d3ae870f49c4a33a79746187845d903": {
      "model_module": "@jupyter-widgets/controls",
      "model_module_version": "1.5.0",
      "model_name": "ButtonStyleModel",
      "state": {}
     },
     "9d55a043f1dd4e65abb51d59ba0a1c6c": {
      "model_module": "@jupyter-widgets/controls",
      "model_module_version": "1.5.0",
      "model_name": "HBoxModel",
      "state": {
       "children": [
        "IPY_MODEL_c80b9a10889f4a3aad33f30d04f04f80",
        "IPY_MODEL_05fb75680d9a401aa5464c6f550ee646",
        "IPY_MODEL_259da4cfdf0b468aa62c13511f36c1eb"
       ],
       "layout": "IPY_MODEL_a467f1f90fa942e8a2e87adae9040eb5"
      }
     },
     "9e49f09bb5e44f1ab2c4846c397dad46": {
      "model_module": "@jupyter-widgets/base",
      "model_module_version": "1.2.0",
      "model_name": "LayoutModel",
      "state": {}
     },
     "9ebbe89cca544cfc8e0430b91cf5ae70": {
      "model_module": "@jupyter-widgets/controls",
      "model_module_version": "1.5.0",
      "model_name": "SliderStyleModel",
      "state": {
       "description_width": ""
      }
     },
     "9f05162f91be46d49b9fbfe05034b0be": {
      "model_module": "@jupyter-widgets/base",
      "model_module_version": "1.2.0",
      "model_name": "LayoutModel",
      "state": {}
     },
     "9f07b72d246c487382ac1f0219979e6b": {
      "model_module": "@jupyter-widgets/base",
      "model_module_version": "1.2.0",
      "model_name": "LayoutModel",
      "state": {}
     },
     "9f15d0e4af2c44e5a8cb1b1dd7111a30": {
      "model_module": "@jupyter-widgets/controls",
      "model_module_version": "1.5.0",
      "model_name": "VBoxModel",
      "state": {
       "_dom_classes": [
        "widget-interact"
       ],
       "children": [
        "IPY_MODEL_3c105fc3844e48f5aebe44fd694dd99b",
        "IPY_MODEL_5f962aec63a040c39c8adc5918e4c9b2",
        "IPY_MODEL_2a6408dc3d4b4ce8bccf5a3d357f10b2",
        "IPY_MODEL_0611032e065641de9d76f5042d8ad78f"
       ],
       "layout": "IPY_MODEL_53f543b62c354265a12ec20d08374ead"
      }
     },
     "9f8a34acf9bb4ce58aee6d680954387d": {
      "model_module": "@jupyter-widgets/base",
      "model_module_version": "1.2.0",
      "model_name": "LayoutModel",
      "state": {}
     },
     "a011c4ed7e6947dc9ae77185b6a048cf": {
      "model_module": "@jupyter-widgets/controls",
      "model_module_version": "1.5.0",
      "model_name": "SliderStyleModel",
      "state": {
       "description_width": ""
      }
     },
     "a13e0d4f2084409d9a80b9dfeda224fd": {
      "model_module": "@jupyter-widgets/controls",
      "model_module_version": "1.5.0",
      "model_name": "SliderStyleModel",
      "state": {
       "description_width": ""
      }
     },
     "a145255b173c4d0497ca112576816ca0": {
      "model_module": "@jupyter-widgets/controls",
      "model_module_version": "1.5.0",
      "model_name": "VBoxModel",
      "state": {
       "_dom_classes": [
        "widget-interact"
       ],
       "children": [
        "IPY_MODEL_2c5f6a9fac7b4705801d7c8fab6a0c9d",
        "IPY_MODEL_fdd46377f51f4fd08f6fedba4c82f514",
        "IPY_MODEL_cef9392388694bec9843c4f98d8b360e",
        "IPY_MODEL_91682df7dbc74dd781669024d9169cf0"
       ],
       "layout": "IPY_MODEL_0527e9b8fb9b4bd3ae4b059e1a67bd19"
      }
     },
     "a166f19de27a47c1bd7eab73502b7456": {
      "model_module": "@jupyter-widgets/controls",
      "model_module_version": "1.5.0",
      "model_name": "BoxModel",
      "state": {
       "children": [
        "IPY_MODEL_08a04ac61aaa4a338c2dfcc2f22ed575",
        "IPY_MODEL_9a431147f9a74a89962ed985895ffca8",
        "IPY_MODEL_8d32258d063c4df3961b8c0e387aa485",
        "IPY_MODEL_57732c709fb64e9ab859952a3fbac1da"
       ],
       "layout": "IPY_MODEL_18824cf568b5404b8759f76e7e3a7621"
      }
     },
     "a173c71fd0e04eaba8ca209a13ed20fc": {
      "model_module": "@jupyter-widgets/controls",
      "model_module_version": "1.5.0",
      "model_name": "IntSliderModel",
      "state": {
       "description": "a",
       "layout": "IPY_MODEL_3cddbe8cc13f43c3bbc3c2ced08230b2",
       "max": 10,
       "style": "IPY_MODEL_86e8ee34eb574bbc89a7d5f3f9422f1b",
       "value": 3
      }
     },
     "a18eaf04b14f4e9fba79deaf5ac1587e": {
      "model_module": "@jupyter-widgets/base",
      "model_module_version": "1.2.0",
      "model_name": "LayoutModel",
      "state": {}
     },
     "a203b3fedcf641bfa645bd78abe9efc9": {
      "model_module": "@jupyter-widgets/base",
      "model_module_version": "1.2.0",
      "model_name": "LayoutModel",
      "state": {}
     },
     "a211ec936b6140fc8f9c3812632405b3": {
      "model_module": "@jupyter-widgets/controls",
      "model_module_version": "1.5.0",
      "model_name": "FloatSliderModel",
      "state": {
       "description": "amp",
       "layout": "IPY_MODEL_21815397e49a47848c486d4abfe9c397",
       "max": 4,
       "step": 0.1,
       "style": "IPY_MODEL_f99f347760d349b69ae526e735573cab",
       "value": 1
      }
     },
     "a2e7a81bf38f4b5d84139d66b54d31ac": {
      "model_module": "@jupyter-widgets/controls",
      "model_module_version": "1.5.0",
      "model_name": "ButtonStyleModel",
      "state": {}
     },
     "a31e808d7b224fdc9a81585e5b07d494": {
      "model_module": "@jupyter-widgets/controls",
      "model_module_version": "1.5.0",
      "model_name": "ButtonStyleModel",
      "state": {}
     },
     "a32fd14260c64150a8769af2b499b12a": {
      "model_module": "@jupyter-widgets/base",
      "model_module_version": "1.2.0",
      "model_name": "LayoutModel",
      "state": {}
     },
     "a3ba3e9b7e334a93af26d0303a2cadaa": {
      "model_module": "@jupyter-widgets/base",
      "model_module_version": "1.2.0",
      "model_name": "LayoutModel",
      "state": {}
     },
     "a467f1f90fa942e8a2e87adae9040eb5": {
      "model_module": "@jupyter-widgets/base",
      "model_module_version": "1.2.0",
      "model_name": "LayoutModel",
      "state": {}
     },
     "a49cf43f0bae491a98fcbe2e9ef571b4": {
      "model_module": "@jupyter-widgets/controls",
      "model_module_version": "1.5.0",
      "model_name": "SliderStyleModel",
      "state": {
       "description_width": ""
      }
     },
     "a525c8b9dd1d4582b7ab3059e7e5ac64": {
      "model_module": "@jupyter-widgets/controls",
      "model_module_version": "1.5.0",
      "model_name": "ButtonStyleModel",
      "state": {}
     },
     "a525fc87bf5c4b3892cc5001b6841d2c": {
      "model_module": "@jupyter-widgets/controls",
      "model_module_version": "1.5.0",
      "model_name": "SliderStyleModel",
      "state": {
       "description_width": ""
      }
     },
     "a7bba9b7e4b14f93a840020eb69231df": {
      "model_module": "@jupyter-widgets/base",
      "model_module_version": "1.2.0",
      "model_name": "LayoutModel",
      "state": {}
     },
     "a7e8018b631e4cb7ad2babe63c155ad1": {
      "model_module": "@jupyter-widgets/base",
      "model_module_version": "1.2.0",
      "model_name": "LayoutModel",
      "state": {}
     },
     "a81df789365d4130a14d8b87e601e279": {
      "model_module": "@jupyter-widgets/controls",
      "model_module_version": "1.5.0",
      "model_name": "ButtonModel",
      "state": {
       "description": "σ",
       "layout": "IPY_MODEL_c46bade65c5c44d8b0fef59510ab1ba9",
       "style": "IPY_MODEL_e13055f95ef34a3c80298a0f615103b2"
      }
     },
     "a8a91c27a2d24d43b46579e8cde7826c": {
      "model_module": "@jupyter-widgets/controls",
      "model_module_version": "1.5.0",
      "model_name": "LabelModel",
      "state": {
       "layout": "IPY_MODEL_13da1c1d86904bb8862b92acc1633933",
       "style": "IPY_MODEL_fc5e6ce4cc3046b580c67c6a6eeadc94",
       "value": "0"
      }
     },
     "aa4e7b25a78743e682ff581a2342acef": {
      "model_module": "@jupyter-widgets/controls",
      "model_module_version": "1.5.0",
      "model_name": "ButtonModel",
      "state": {
       "description": "button 2",
       "layout": "IPY_MODEL_eb8dfe12daa0472aa2a643c1d412d7b5",
       "style": "IPY_MODEL_c5aebacd82e44658afbcdfc81ecb77d3"
      }
     },
     "aaa575240a854773bfd949b0e6d3774c": {
      "model_module": "@jupyter-widgets/base",
      "model_module_version": "1.2.0",
      "model_name": "LayoutModel",
      "state": {}
     },
     "aabc6738e4af4c9cb3e1e8ed521fd7bb": {
      "model_module": "@jupyter-widgets/controls",
      "model_module_version": "1.5.0",
      "model_name": "ButtonStyleModel",
      "state": {}
     },
     "ab4280c0860548c2a4a2bce9c46befb4": {
      "model_module": "@jupyter-widgets/controls",
      "model_module_version": "1.5.0",
      "model_name": "SliderStyleModel",
      "state": {
       "description_width": ""
      }
     },
     "ab888e1c748b464aa3c58eb96f6f174a": {
      "model_module": "@jupyter-widgets/controls",
      "model_module_version": "1.5.0",
      "model_name": "IntSliderModel",
      "state": {
       "description": "freq",
       "layout": "IPY_MODEL_f5dd96d03d7b402eba7c681f7ddb480d",
       "max": 10,
       "style": "IPY_MODEL_8b23879d7cb042b5a3e6086fb3c5a38c",
       "value": 1
      }
     },
     "ac2d4e82d2e143c88d5b63aa387e1504": {
      "model_module": "@jupyter-widgets/controls",
      "model_module_version": "1.5.0",
      "model_name": "SliderStyleModel",
      "state": {
       "description_width": ""
      }
     },
     "acdeb2e9146a42e18d3d896ad82d014a": {
      "model_module": "@jupyter-widgets/controls",
      "model_module_version": "1.5.0",
      "model_name": "ButtonStyleModel",
      "state": {}
     },
     "ad898db515aa400c8154fb1cd0b9a71c": {
      "model_module": "@jupyter-widgets/controls",
      "model_module_version": "1.5.0",
      "model_name": "DescriptionStyleModel",
      "state": {
       "description_width": ""
      }
     },
     "ad966d6f938f49a88b0b1a4ff4a1cd4a": {
      "model_module": "@jupyter-widgets/controls",
      "model_module_version": "1.5.0",
      "model_name": "SliderStyleModel",
      "state": {
       "description_width": ""
      }
     },
     "add72344033e4173908b41d6a83a7385": {
      "model_module": "@jupyter-widgets/base",
      "model_module_version": "1.2.0",
      "model_name": "LayoutModel",
      "state": {}
     },
     "ae590184578a4625892c21d7411bfb67": {
      "model_module": "@jupyter-widgets/base",
      "model_module_version": "1.2.0",
      "model_name": "LayoutModel",
      "state": {}
     },
     "af8e8c41592a45c4922d773756226428": {
      "model_module": "@jupyter-widgets/controls",
      "model_module_version": "1.5.0",
      "model_name": "SliderStyleModel",
      "state": {
       "description_width": ""
      }
     },
     "b049403570ee40d29c9edb128c43649a": {
      "model_module": "@jupyter-widgets/controls",
      "model_module_version": "1.5.0",
      "model_name": "SliderStyleModel",
      "state": {
       "description_width": ""
      }
     },
     "b070900c399d470eab7bd46d61fa239b": {
      "model_module": "@jupyter-widgets/controls",
      "model_module_version": "1.5.0",
      "model_name": "ButtonModel",
      "state": {
       "description": "button 2",
       "layout": "IPY_MODEL_87e9d59827754194abfd1fb31431664a",
       "style": "IPY_MODEL_4097eb8b7f22486cb28ab68d3bc5b4d1"
      }
     },
     "b15ecb71443344baaf5445384d00a6bb": {
      "model_module": "@jupyter-widgets/base",
      "model_module_version": "1.2.0",
      "model_name": "LayoutModel",
      "state": {}
     },
     "b1f0605540804795866296c643a712aa": {
      "model_module": "@jupyter-widgets/base",
      "model_module_version": "1.2.0",
      "model_name": "LayoutModel",
      "state": {}
     },
     "b2503f1fa3ef4a36b6c4575c52d1fac3": {
      "model_module": "@jupyter-widgets/base",
      "model_module_version": "1.2.0",
      "model_name": "LayoutModel",
      "state": {}
     },
     "b2707bf7ddd54da89e124203da411518": {
      "model_module": "@jupyter-widgets/controls",
      "model_module_version": "1.5.0",
      "model_name": "ButtonStyleModel",
      "state": {}
     },
     "b3671968b6be4728b6cc95e37d8329ba": {
      "model_module": "@jupyter-widgets/base",
      "model_module_version": "1.2.0",
      "model_name": "LayoutModel",
      "state": {}
     },
     "b36a961ace064a88ad5f5d130b1a18f8": {
      "model_module": "@jupyter-widgets/controls",
      "model_module_version": "1.5.0",
      "model_name": "FloatSliderModel",
      "state": {
       "description": "phi",
       "layout": "IPY_MODEL_54a6dce3f84f410dab4ebf194e04e0a2",
       "max": 6.293185307179586,
       "step": 0.01,
       "style": "IPY_MODEL_5fa92af04e0041ae9944f9f27c038635"
      }
     },
     "b3bdb88ebbde4e60a7155a8b74c87dc2": {
      "model_module": "@jupyter-widgets/controls",
      "model_module_version": "1.5.0",
      "model_name": "FloatSliderModel",
      "state": {
       "description": "amp",
       "layout": "IPY_MODEL_d8ad46bc811f4106aed4e0a305a711ea",
       "max": 4,
       "step": 0.1,
       "style": "IPY_MODEL_9ebbe89cca544cfc8e0430b91cf5ae70",
       "value": 1
      }
     },
     "b3e2f990d7cb4aa1841d360a29b7f94f": {
      "model_module": "@jupyter-widgets/controls",
      "model_module_version": "1.5.0",
      "model_name": "ButtonStyleModel",
      "state": {}
     },
     "b43619f1bb3246698f9d3c7ee579a3e9": {
      "model_module": "@jupyter-widgets/controls",
      "model_module_version": "1.5.0",
      "model_name": "SliderStyleModel",
      "state": {
       "description_width": ""
      }
     },
     "b53c4b3b651b40028631fe8a1d0a3756": {
      "model_module": "@jupyter-widgets/base",
      "model_module_version": "1.2.0",
      "model_name": "LayoutModel",
      "state": {}
     },
     "b5961f31eea44534b9a2b3a026edf538": {
      "model_module": "@jupyter-widgets/controls",
      "model_module_version": "1.5.0",
      "model_name": "SliderStyleModel",
      "state": {
       "description_width": ""
      }
     },
     "b5ad0caa7a964578b392ff73ca241283": {
      "model_module": "@jupyter-widgets/controls",
      "model_module_version": "1.5.0",
      "model_name": "FloatSliderModel",
      "state": {
       "description": "phi",
       "layout": "IPY_MODEL_1e9959aa2b094243ababc31afc7c1f9d",
       "max": 6.293185307179586,
       "step": 0.01,
       "style": "IPY_MODEL_84ebe28916a4475a9406c41f95a51a7a",
       "value": 1.54
      }
     },
     "b608d5beaf49447f9001d3d9794398a2": {
      "model_module": "@jupyter-widgets/controls",
      "model_module_version": "1.5.0",
      "model_name": "ButtonStyleModel",
      "state": {}
     },
     "b62fdbf807154ea3a6c1f0f63c028285": {
      "model_module": "@jupyter-widgets/controls",
      "model_module_version": "1.5.0",
      "model_name": "HBoxModel",
      "state": {
       "children": [
        "IPY_MODEL_2fb331df8cef49be8591ba1bdcc5f8a8",
        "IPY_MODEL_d02f67cc397141a7bbfbecf4cb6a41be",
        "IPY_MODEL_cba42ae437814eb08bc79d65131246fc"
       ],
       "layout": "IPY_MODEL_17f887bdba1c4609b7a5600ad1761bb7"
      }
     },
     "b654f968953e4ff593e7991db694f9ec": {
      "model_module": "@jupyter-widgets/base",
      "model_module_version": "1.2.0",
      "model_name": "LayoutModel",
      "state": {}
     },
     "b6b55558934b43ab82765dcf66c7d1e0": {
      "model_module": "@jupyter-widgets/base",
      "model_module_version": "1.2.0",
      "model_name": "LayoutModel",
      "state": {}
     },
     "b7209fbebb92410095dc8a2078739e79": {
      "model_module": "@jupyter-widgets/controls",
      "model_module_version": "1.5.0",
      "model_name": "FloatSliderModel",
      "state": {
       "description": "phi",
       "layout": "IPY_MODEL_c6e2c79f6cb34669a2a8f66dc7074fd1",
       "max": 6.293185307179586,
       "step": 0.01,
       "style": "IPY_MODEL_b99e5180060d4c5996c83466a06edb2c"
      }
     },
     "b739c29f863b44108ee549a0d03556de": {
      "model_module": "@jupyter-widgets/controls",
      "model_module_version": "1.5.0",
      "model_name": "IntSliderModel",
      "state": {
       "description": "freq",
       "layout": "IPY_MODEL_d54d8d3942cf45929d3ae992acb02801",
       "max": 10,
       "style": "IPY_MODEL_cfee80e6863b43309219f5e6e7cac4f9",
       "value": 1
      }
     },
     "b741da6694bf4608a1902ad27b998a09": {
      "model_module": "@jupyter-widgets/base",
      "model_module_version": "1.2.0",
      "model_name": "LayoutModel",
      "state": {}
     },
     "b7a91771fb4b4b1d8c335973ed63c2fd": {
      "model_module": "@jupyter-widgets/controls",
      "model_module_version": "1.5.0",
      "model_name": "FloatSliderModel",
      "state": {
       "description": "w",
       "layout": "IPY_MODEL_06c43773d9234c9bae8080bcd4ba45eb",
       "max": 3,
       "min": -1,
       "step": 0.1,
       "style": "IPY_MODEL_733840b62afc40ce86ebc40bbdd8b720",
       "value": 0.3
      }
     },
     "b7b8aff380c1461086cf1f7b53fbf062": {
      "model_module": "@jupyter-widgets/controls",
      "model_module_version": "1.5.0",
      "model_name": "ButtonStyleModel",
      "state": {}
     },
     "b83e238850b54c6d99e77af1d84ddba8": {
      "model_module": "@jupyter-widgets/controls",
      "model_module_version": "1.5.0",
      "model_name": "HBoxModel",
      "state": {
       "children": [
        "IPY_MODEL_03254b46292c45d4a02ee1c86d91ee07",
        "IPY_MODEL_292a2958fe4f4a608a06314be519493d",
        "IPY_MODEL_69bf28c33acd4fb59d68b593591bcbdc"
       ],
       "layout": "IPY_MODEL_d3299b47828f4a2aac76973a33257de2"
      }
     },
     "b8fad97a09954900bf621538dade6ac1": {
      "model_module": "@jupyter-widgets/controls",
      "model_module_version": "1.5.0",
      "model_name": "ButtonStyleModel",
      "state": {}
     },
     "b929f54e4aad432eb35106ec1d6268cb": {
      "model_module": "@jupyter-widgets/controls",
      "model_module_version": "1.5.0",
      "model_name": "DescriptionStyleModel",
      "state": {
       "description_width": ""
      }
     },
     "b99e5180060d4c5996c83466a06edb2c": {
      "model_module": "@jupyter-widgets/controls",
      "model_module_version": "1.5.0",
      "model_name": "SliderStyleModel",
      "state": {
       "description_width": ""
      }
     },
     "ba61b1b183da4f99bd978b75ed1ee97e": {
      "model_module": "@jupyter-widgets/base",
      "model_module_version": "1.2.0",
      "model_name": "LayoutModel",
      "state": {}
     },
     "bb7e58c68faa4fb9ac05f69a650c957c": {
      "model_module": "@jupyter-widgets/controls",
      "model_module_version": "1.5.0",
      "model_name": "SliderStyleModel",
      "state": {
       "description_width": ""
      }
     },
     "bc4fb56636c6473d93c68356276e7db3": {
      "model_module": "@jupyter-widgets/controls",
      "model_module_version": "1.5.0",
      "model_name": "ButtonStyleModel",
      "state": {}
     },
     "bc66b685a3304abea95e3692c73de382": {
      "model_module": "@jupyter-widgets/base",
      "model_module_version": "1.2.0",
      "model_name": "LayoutModel",
      "state": {}
     },
     "bc7d990c2ff244b4856dcbecae347cc3": {
      "model_module": "@jupyter-widgets/controls",
      "model_module_version": "1.5.0",
      "model_name": "HBoxModel",
      "state": {
       "children": [
        "IPY_MODEL_97dfd1a8b88f48a89c58eb00b227b888",
        "IPY_MODEL_4a03c1c53e304298a20d61301a3a30a0",
        "IPY_MODEL_5cbf5164f7c4474b8a96f1c10cb651c9"
       ],
       "layout": "IPY_MODEL_64db8df8610449d5a46b922d3a4488a9"
      }
     },
     "bcd183fd62b74842bdf0357cabb2ccdd": {
      "model_module": "@jupyter-widgets/controls",
      "model_module_version": "1.5.0",
      "model_name": "FloatSliderModel",
      "state": {
       "description": "amp",
       "layout": "IPY_MODEL_d7f202360cc0460dae0a47c467959387",
       "max": 4,
       "step": 0.1,
       "style": "IPY_MODEL_9c447f2103034174b0db0d0fe1cabeca",
       "value": 1
      }
     },
     "be1885d6a1ab4a58a16f16806837d7b5": {
      "model_module": "@jupyter-widgets/controls",
      "model_module_version": "1.5.0",
      "model_name": "ButtonModel",
      "state": {
       "description": "button 2",
       "layout": "IPY_MODEL_94b8cbfcfdad419696ba17c61bd2e2db",
       "style": "IPY_MODEL_3616b1a954114cb2b19a06c99702491d"
      }
     },
     "be1dcf7c66e0415cac37048d5136bada": {
      "model_module": "@jupyter-widgets/controls",
      "model_module_version": "1.5.0",
      "model_name": "ButtonStyleModel",
      "state": {}
     },
     "be2ab99521ff48868b0b3e8d23606ce6": {
      "model_module": "@jupyter-widgets/base",
      "model_module_version": "1.2.0",
      "model_name": "LayoutModel",
      "state": {}
     },
     "be78fdd92fd54a2682b41b1956a5a887": {
      "model_module": "@jupyter-widgets/base",
      "model_module_version": "1.2.0",
      "model_name": "LayoutModel",
      "state": {}
     },
     "beadb40dfab847dcb2d1eee86cd10c06": {
      "model_module": "@jupyter-widgets/controls",
      "model_module_version": "1.5.0",
      "model_name": "IntSliderModel",
      "state": {
       "description": "freq",
       "layout": "IPY_MODEL_cb73067efe0a4d69b1bf3577f7c45dde",
       "max": 10,
       "style": "IPY_MODEL_2bed6f2189064a8ab357b4625bc8fa89",
       "value": 1
      }
     },
     "beb3c40aaf814f91bb9fbb5df525762d": {
      "model_module": "@jupyter-widgets/base",
      "model_module_version": "1.2.0",
      "model_name": "LayoutModel",
      "state": {}
     },
     "bf0b1e7145fd4c73b382b7930fcc76bb": {
      "model_module": "@jupyter-widgets/controls",
      "model_module_version": "1.5.0",
      "model_name": "ButtonStyleModel",
      "state": {}
     },
     "bf1f678760b54eacbbf4cb5dc7c6ca98": {
      "model_module": "@jupyter-widgets/controls",
      "model_module_version": "1.5.0",
      "model_name": "SliderStyleModel",
      "state": {
       "description_width": ""
      }
     },
     "bf29244b924e414d98284462512f0b28": {
      "model_module": "@jupyter-widgets/base",
      "model_module_version": "1.2.0",
      "model_name": "LayoutModel",
      "state": {}
     },
     "bf897898b6d24c77b7d7f093f481eb8f": {
      "model_module": "@jupyter-widgets/base",
      "model_module_version": "1.2.0",
      "model_name": "LayoutModel",
      "state": {}
     },
     "bf99037562ad4225b4a78b8b83215d37": {
      "model_module": "@jupyter-widgets/controls",
      "model_module_version": "1.5.0",
      "model_name": "VBoxModel",
      "state": {
       "_dom_classes": [
        "widget-interact"
       ],
       "children": [
        "IPY_MODEL_4d83759758864e469c73b3e590984c7f",
        "IPY_MODEL_ce11689e1a7a4afa98d62fcfe1d29948",
        "IPY_MODEL_81af2bb481fe46f8832a19b53b559cae",
        "IPY_MODEL_ca565fde8eb140daaa6f51a221e19e2b"
       ],
       "layout": "IPY_MODEL_9bbd4cc6112c4636b6dc5b1ffec35bad"
      }
     },
     "bfaf7f8b343d4743a96a5d428b49e3c5": {
      "model_module": "@jupyter-widgets/controls",
      "model_module_version": "1.5.0",
      "model_name": "SliderStyleModel",
      "state": {
       "description_width": ""
      }
     },
     "bfc1578232754795a04cff26330fc7d7": {
      "model_module": "@jupyter-widgets/base",
      "model_module_version": "1.2.0",
      "model_name": "LayoutModel",
      "state": {}
     },
     "c01f839eb83a49e7b52ff4a7f06a0e22": {
      "model_module": "@jupyter-widgets/base",
      "model_module_version": "1.2.0",
      "model_name": "LayoutModel",
      "state": {}
     },
     "c031b6f82e7e438d98c456e59ec8aa13": {
      "model_module": "@jupyter-widgets/controls",
      "model_module_version": "1.5.0",
      "model_name": "HBoxModel",
      "state": {
       "children": [
        "IPY_MODEL_f98a41cab9044bfcac2bdfbac9d9416a",
        "IPY_MODEL_58080be3b1b6488ba68ca0cc68271b4e",
        "IPY_MODEL_01f556b568d84895811a28858eb93dd8"
       ],
       "layout": "IPY_MODEL_eaa94a44ef9b42e787689e5ae0741e12"
      }
     },
     "c042e9e3238047049116649c6732acf1": {
      "model_module": "@jupyter-widgets/controls",
      "model_module_version": "1.5.0",
      "model_name": "ButtonModel",
      "state": {
       "description": "button 2",
       "layout": "IPY_MODEL_07290f65a31f48bb9093778d25459629",
       "style": "IPY_MODEL_45be73f6bbbf4f4fb42c82412ff0bd32"
      }
     },
     "c05c36e252a94cd5bbde189b1ede2c50": {
      "model_module": "@jupyter-widgets/base",
      "model_module_version": "1.2.0",
      "model_name": "LayoutModel",
      "state": {}
     },
     "c14a3c403fe44024b1835a22611d1b0d": {
      "model_module": "@jupyter-widgets/output",
      "model_module_version": "1.0.0",
      "model_name": "OutputModel",
      "state": {
       "layout": "IPY_MODEL_8c7dca7bd9394a4ab5fa40a7a0add244"
      }
     },
     "c2bec14583c34ad5a6698d85b69aa844": {
      "model_module": "@jupyter-widgets/base",
      "model_module_version": "1.2.0",
      "model_name": "LayoutModel",
      "state": {}
     },
     "c33c6ee3288b4f1abe0f11e18c790ec5": {
      "model_module": "@jupyter-widgets/controls",
      "model_module_version": "1.5.0",
      "model_name": "LabelModel",
      "state": {
       "layout": "IPY_MODEL_dba1881027ba4a398a07d0f1c58d92f2",
       "style": "IPY_MODEL_fb415becf4164d4ea506a9650b8df655",
       "value": "1"
      }
     },
     "c37d276404424571ac583c0b3517da84": {
      "model_module": "@jupyter-widgets/controls",
      "model_module_version": "1.5.0",
      "model_name": "SliderStyleModel",
      "state": {
       "description_width": ""
      }
     },
     "c46bade65c5c44d8b0fef59510ab1ba9": {
      "model_module": "@jupyter-widgets/base",
      "model_module_version": "1.2.0",
      "model_name": "LayoutModel",
      "state": {}
     },
     "c53f145ab2054738b2cb3db2e33c6b88": {
      "model_module": "@jupyter-widgets/controls",
      "model_module_version": "1.5.0",
      "model_name": "FloatSliderModel",
      "state": {
       "description": "amp",
       "layout": "IPY_MODEL_0b01f738f2c747f8a05a8d2d4de5abbf",
       "max": 4,
       "step": 0.1,
       "style": "IPY_MODEL_1b93ac06ffed4600bf5c661ca6420673",
       "value": 1
      }
     },
     "c5aebacd82e44658afbcdfc81ecb77d3": {
      "model_module": "@jupyter-widgets/controls",
      "model_module_version": "1.5.0",
      "model_name": "ButtonStyleModel",
      "state": {}
     },
     "c5dc2419cb2747e2a00e84314a381b0d": {
      "model_module": "@jupyter-widgets/controls",
      "model_module_version": "1.5.0",
      "model_name": "SliderStyleModel",
      "state": {
       "description_width": ""
      }
     },
     "c6351ebdb4d045c6a0f55efb955c3893": {
      "model_module": "@jupyter-widgets/base",
      "model_module_version": "1.2.0",
      "model_name": "LayoutModel",
      "state": {}
     },
     "c66f26245e1d45b48100709639d8f0c3": {
      "model_module": "@jupyter-widgets/controls",
      "model_module_version": "1.5.0",
      "model_name": "SliderStyleModel",
      "state": {
       "description_width": ""
      }
     },
     "c68eb3b4a5644b5381b2c5add5a31c26": {
      "model_module": "@jupyter-widgets/base",
      "model_module_version": "1.2.0",
      "model_name": "LayoutModel",
      "state": {}
     },
     "c69970f8021f4e9e90ad5cd84d3e3933": {
      "model_module": "@jupyter-widgets/controls",
      "model_module_version": "1.5.0",
      "model_name": "VBoxModel",
      "state": {
       "_dom_classes": [
        "widget-interact"
       ],
       "children": [
        "IPY_MODEL_1661e881f1b84aed9df16cf95ec92b23",
        "IPY_MODEL_35789301176846c2a8c750a5d32f8c6b",
        "IPY_MODEL_9230c9886fe34c9d9819b402a286de56",
        "IPY_MODEL_e2100ca9dfc4442bbe384f188a75e130"
       ],
       "layout": "IPY_MODEL_fc68da54fa994dfcbb422783d967d872"
      }
     },
     "c6a7fe9d4d0843b9bb350c2fdb5792e7": {
      "model_module": "@jupyter-widgets/base",
      "model_module_version": "1.2.0",
      "model_name": "LayoutModel",
      "state": {}
     },
     "c6e2c79f6cb34669a2a8f66dc7074fd1": {
      "model_module": "@jupyter-widgets/base",
      "model_module_version": "1.2.0",
      "model_name": "LayoutModel",
      "state": {}
     },
     "c702ced1880041919bc7b2553725fb55": {
      "model_module": "@jupyter-widgets/base",
      "model_module_version": "1.2.0",
      "model_name": "LayoutModel",
      "state": {}
     },
     "c715891844f74d6cb6a171b0e5c066af": {
      "model_module": "@jupyter-widgets/base",
      "model_module_version": "1.2.0",
      "model_name": "LayoutModel",
      "state": {}
     },
     "c80b9a10889f4a3aad33f30d04f04f80": {
      "model_module": "@jupyter-widgets/controls",
      "model_module_version": "1.5.0",
      "model_name": "ButtonModel",
      "state": {
       "description": "button 1",
       "layout": "IPY_MODEL_76d0a5ed41b146c68a7bdbd36506b5e2",
       "style": "IPY_MODEL_42cb99978a1f4975be3db4ebe515b264"
      }
     },
     "c82bcd6197164241b644d95b63687e10": {
      "model_module": "@jupyter-widgets/base",
      "model_module_version": "1.2.0",
      "model_name": "LayoutModel",
      "state": {}
     },
     "c84cb88f386e4c3181c718b92117adc4": {
      "model_module": "@jupyter-widgets/controls",
      "model_module_version": "1.5.0",
      "model_name": "SliderStyleModel",
      "state": {
       "description_width": ""
      }
     },
     "c8a11bfad7a44c3c9b8d97b851b99234": {
      "model_module": "@jupyter-widgets/base",
      "model_module_version": "1.2.0",
      "model_name": "LayoutModel",
      "state": {}
     },
     "c8c41fe78db8443980c650913d7a377e": {
      "model_module": "@jupyter-widgets/controls",
      "model_module_version": "1.5.0",
      "model_name": "SliderStyleModel",
      "state": {
       "description_width": ""
      }
     },
     "c8f3c9cba3834df788f9d47d20b0843e": {
      "model_module": "@jupyter-widgets/controls",
      "model_module_version": "1.5.0",
      "model_name": "FloatSliderModel",
      "state": {
       "description": "amp",
       "layout": "IPY_MODEL_fe2c15df6c8b4a0192f2f3445bf982bc",
       "max": 4,
       "step": 0.1,
       "style": "IPY_MODEL_b43619f1bb3246698f9d3c7ee579a3e9",
       "value": 1.8
      }
     },
     "c92df7e89d8e47a8a243441bcd10ebc5": {
      "model_module": "@jupyter-widgets/base",
      "model_module_version": "1.2.0",
      "model_name": "LayoutModel",
      "state": {}
     },
     "c96a401af95f4871870e39152be22754": {
      "model_module": "@jupyter-widgets/controls",
      "model_module_version": "1.5.0",
      "model_name": "ButtonModel",
      "state": {
       "description": "button 2",
       "layout": "IPY_MODEL_e3ca77d12794478eb08e3cf87cb58bae",
       "style": "IPY_MODEL_e6ee257e57ba418cba25b36904c5177f"
      }
     },
     "c98cf94ba0ec435e9050f4198fcbbdad": {
      "model_module": "@jupyter-widgets/controls",
      "model_module_version": "1.5.0",
      "model_name": "FloatSliderModel",
      "state": {
       "description": "amp",
       "layout": "IPY_MODEL_be78fdd92fd54a2682b41b1956a5a887",
       "max": 4,
       "step": 0.1,
       "style": "IPY_MODEL_5ad808ddb9cd430ab99016decf51390c",
       "value": 1
      }
     },
     "ca483c5176464f4e9655674a4948a93f": {
      "model_module": "@jupyter-widgets/base",
      "model_module_version": "1.2.0",
      "model_name": "LayoutModel",
      "state": {}
     },
     "ca565fde8eb140daaa6f51a221e19e2b": {
      "model_module": "@jupyter-widgets/output",
      "model_module_version": "1.0.0",
      "model_name": "OutputModel",
      "state": {
       "layout": "IPY_MODEL_f4f7cbc6016b41c794370d2875fc39db"
      }
     },
     "cad3cb6242ca43359db4618e0730a727": {
      "model_module": "@jupyter-widgets/controls",
      "model_module_version": "1.5.0",
      "model_name": "SliderStyleModel",
      "state": {
       "description_width": ""
      }
     },
     "cadeb32400f14cd9a97065e5c4958241": {
      "model_module": "@jupyter-widgets/controls",
      "model_module_version": "1.5.0",
      "model_name": "ButtonStyleModel",
      "state": {}
     },
     "cb0f2f2636cc487895e322235a1285c4": {
      "model_module": "@jupyter-widgets/base",
      "model_module_version": "1.2.0",
      "model_name": "LayoutModel",
      "state": {}
     },
     "cb73067efe0a4d69b1bf3577f7c45dde": {
      "model_module": "@jupyter-widgets/base",
      "model_module_version": "1.2.0",
      "model_name": "LayoutModel",
      "state": {}
     },
     "cba42ae437814eb08bc79d65131246fc": {
      "model_module": "@jupyter-widgets/controls",
      "model_module_version": "1.5.0",
      "model_name": "ButtonModel",
      "state": {
       "description": "button 3",
       "layout": "IPY_MODEL_72a8c08edce4415fb5d7e17de25cf564",
       "style": "IPY_MODEL_0bd82ecbdde64358abb16f51ec825490"
      }
     },
     "cbc06b1eb04245d9b33fe371ed66df84": {
      "model_module": "@jupyter-widgets/base",
      "model_module_version": "1.2.0",
      "model_name": "LayoutModel",
      "state": {}
     },
     "cc0eb86d74c2407086d086fd78a2f416": {
      "model_module": "@jupyter-widgets/controls",
      "model_module_version": "1.5.0",
      "model_name": "FloatSliderModel",
      "state": {
       "description": "amp",
       "layout": "IPY_MODEL_b2503f1fa3ef4a36b6c4575c52d1fac3",
       "max": 4,
       "step": 0.1,
       "style": "IPY_MODEL_ad966d6f938f49a88b0b1a4ff4a1cd4a",
       "value": 1
      }
     },
     "cc8a3565d5e84f448e0c00012cde8efc": {
      "model_module": "@jupyter-widgets/controls",
      "model_module_version": "1.5.0",
      "model_name": "LabelModel",
      "state": {
       "layout": "IPY_MODEL_681196641c8f47079395346565b41010",
       "style": "IPY_MODEL_581053a561bf43d2a068090fdc310775",
       "value": "1"
      }
     },
     "cc917072aee54fc3bfda5fd16caab031": {
      "model_module": "@jupyter-widgets/base",
      "model_module_version": "1.2.0",
      "model_name": "LayoutModel",
      "state": {}
     },
     "cd3ad50382a24fdc9cb28ef339ede97a": {
      "model_module": "@jupyter-widgets/controls",
      "model_module_version": "1.5.0",
      "model_name": "ButtonModel",
      "state": {
       "description": "σ",
       "layout": "IPY_MODEL_3f9d5649884243f5828e9a79f1cf6e34",
       "style": "IPY_MODEL_b8fad97a09954900bf621538dade6ac1"
      }
     },
     "cd7cc790b5e04d88a8a623b38c400b8a": {
      "model_module": "@jupyter-widgets/base",
      "model_module_version": "1.2.0",
      "model_name": "LayoutModel",
      "state": {}
     },
     "cd88e8d1b4e14753bd2e12af5f27c534": {
      "model_module": "@jupyter-widgets/controls",
      "model_module_version": "1.5.0",
      "model_name": "IntSliderModel",
      "state": {
       "description": "w",
       "layout": "IPY_MODEL_7063092ed0cd4f1394ee839b66b36673",
       "max": 10,
       "style": "IPY_MODEL_d45c8de2bd764ea0b3218a8047a944af",
       "value": 1
      }
     },
     "cdf4538da3724222a10c7e16a3c8e22c": {
      "model_module": "@jupyter-widgets/controls",
      "model_module_version": "1.5.0",
      "model_name": "FloatSliderModel",
      "state": {
       "description": "phi",
       "layout": "IPY_MODEL_81ea22ccde784da49bbe5a44214d95bd",
       "max": 6.293185307179586,
       "step": 0.01,
       "style": "IPY_MODEL_7818d825bf054e448fe9992b632cae18"
      }
     },
     "cdfaf024ddb5425a9cacd34dd7e164ae": {
      "model_module": "@jupyter-widgets/controls",
      "model_module_version": "1.5.0",
      "model_name": "FloatSliderModel",
      "state": {
       "description": "amp",
       "layout": "IPY_MODEL_e45e090dcb684083b76ca3d765032bd6",
       "max": 4,
       "step": 0.1,
       "style": "IPY_MODEL_fff655ac8d0847aca68efc915fa79a80",
       "value": 1
      }
     },
     "ce11689e1a7a4afa98d62fcfe1d29948": {
      "model_module": "@jupyter-widgets/controls",
      "model_module_version": "1.5.0",
      "model_name": "FloatSliderModel",
      "state": {
       "description": "amp",
       "layout": "IPY_MODEL_8e92153f50d94217b0f29897f87759a3",
       "max": 4,
       "step": 0.1,
       "style": "IPY_MODEL_e3ff599c156c447288f114d09b76cd0e",
       "value": 1
      }
     },
     "ce5926a46b3043abb26ef91ff8de07dc": {
      "model_module": "@jupyter-widgets/base",
      "model_module_version": "1.2.0",
      "model_name": "LayoutModel",
      "state": {}
     },
     "ce76ba710b42494b8f33abb4010a512e": {
      "model_module": "@jupyter-widgets/controls",
      "model_module_version": "1.5.0",
      "model_name": "ButtonModel",
      "state": {
       "description": "button 3",
       "layout": "IPY_MODEL_195c5826609e4d26846f7710c518fa39",
       "style": "IPY_MODEL_b3e2f990d7cb4aa1841d360a29b7f94f"
      }
     },
     "cea4cfd46b2941ad8ffa8b45d493eccb": {
      "model_module": "@jupyter-widgets/controls",
      "model_module_version": "1.5.0",
      "model_name": "ButtonModel",
      "state": {
       "description": "button 2",
       "layout": "IPY_MODEL_8eee579d1653477c9116c92da5694cab",
       "style": "IPY_MODEL_5e8a87e7183045aa99b54c8be55a590c"
      }
     },
     "cef5e10c3a79438ea4cd1f16f8986dbd": {
      "model_module": "@jupyter-widgets/base",
      "model_module_version": "1.2.0",
      "model_name": "LayoutModel",
      "state": {}
     },
     "cef9392388694bec9843c4f98d8b360e": {
      "model_module": "@jupyter-widgets/controls",
      "model_module_version": "1.5.0",
      "model_name": "FloatSliderModel",
      "state": {
       "description": "phi",
       "layout": "IPY_MODEL_a18eaf04b14f4e9fba79deaf5ac1587e",
       "max": 6.293185307179586,
       "step": 0.01,
       "style": "IPY_MODEL_7f24c93586514052a3dfa96a570d369a"
      }
     },
     "cfe9eb30b38d4d4cb7acdeac18a5616d": {
      "model_module": "@jupyter-widgets/base",
      "model_module_version": "1.2.0",
      "model_name": "LayoutModel",
      "state": {}
     },
     "cfee80e6863b43309219f5e6e7cac4f9": {
      "model_module": "@jupyter-widgets/controls",
      "model_module_version": "1.5.0",
      "model_name": "SliderStyleModel",
      "state": {
       "description_width": ""
      }
     },
     "d02f67cc397141a7bbfbecf4cb6a41be": {
      "model_module": "@jupyter-widgets/controls",
      "model_module_version": "1.5.0",
      "model_name": "ButtonModel",
      "state": {
       "description": "button 2",
       "layout": "IPY_MODEL_fbcac18a0215454b88cf3cf89d5e5422",
       "style": "IPY_MODEL_a525c8b9dd1d4582b7ab3059e7e5ac64"
      }
     },
     "d083276df372424ab4bb7d9d24e47056": {
      "model_module": "@jupyter-widgets/controls",
      "model_module_version": "1.5.0",
      "model_name": "HBoxModel",
      "state": {
       "children": [
        "IPY_MODEL_cd3ad50382a24fdc9cb28ef339ede97a",
        "IPY_MODEL_aa4e7b25a78743e682ff581a2342acef",
        "IPY_MODEL_650e311b81aa40709282192e92d46cba"
       ],
       "layout": "IPY_MODEL_369f090d0a1a47e38c9a2a3662cb1657"
      }
     },
     "d0a5b8022d9a4bc78e5bc5095671f192": {
      "model_module": "@jupyter-widgets/output",
      "model_module_version": "1.0.0",
      "model_name": "OutputModel",
      "state": {
       "layout": "IPY_MODEL_434ee872c7be49988a3274463eb60172"
      }
     },
     "d211171f1e1146ec9203f7f8905668f1": {
      "model_module": "@jupyter-widgets/controls",
      "model_module_version": "1.5.0",
      "model_name": "ButtonStyleModel",
      "state": {}
     },
     "d240b16d95a64a33bd8324ce70b029cf": {
      "model_module": "@jupyter-widgets/base",
      "model_module_version": "1.2.0",
      "model_name": "LayoutModel",
      "state": {}
     },
     "d25b0e8fd295415b8e841b1dcecf02f2": {
      "model_module": "@jupyter-widgets/controls",
      "model_module_version": "1.5.0",
      "model_name": "SliderStyleModel",
      "state": {
       "description_width": ""
      }
     },
     "d2888bec11294bb492af8c536abd894d": {
      "model_module": "@jupyter-widgets/controls",
      "model_module_version": "1.5.0",
      "model_name": "FloatSliderModel",
      "state": {
       "description": "phi",
       "layout": "IPY_MODEL_0c68bf07c43c4a2eb166d1cc0ab974cd",
       "max": 6.293185307179586,
       "step": 0.01,
       "style": "IPY_MODEL_a49cf43f0bae491a98fcbe2e9ef571b4"
      }
     },
     "d2b7ebf42756412382518917f4f6aa9b": {
      "model_module": "@jupyter-widgets/base",
      "model_module_version": "1.2.0",
      "model_name": "LayoutModel",
      "state": {}
     },
     "d2ec0d2023ae4e409e48ef441b698a1b": {
      "model_module": "@jupyter-widgets/controls",
      "model_module_version": "1.5.0",
      "model_name": "ButtonStyleModel",
      "state": {}
     },
     "d3299b47828f4a2aac76973a33257de2": {
      "model_module": "@jupyter-widgets/base",
      "model_module_version": "1.2.0",
      "model_name": "LayoutModel",
      "state": {}
     },
     "d406e157aec446b585431db2c5284dec": {
      "model_module": "@jupyter-widgets/base",
      "model_module_version": "1.2.0",
      "model_name": "LayoutModel",
      "state": {}
     },
     "d45c8de2bd764ea0b3218a8047a944af": {
      "model_module": "@jupyter-widgets/controls",
      "model_module_version": "1.5.0",
      "model_name": "SliderStyleModel",
      "state": {
       "description_width": ""
      }
     },
     "d4c11f3edf6e44f18efd97f1939a1a30": {
      "model_module": "@jupyter-widgets/controls",
      "model_module_version": "1.5.0",
      "model_name": "DescriptionStyleModel",
      "state": {
       "description_width": ""
      }
     },
     "d51b2d04367941e89df330a269e5ddeb": {
      "model_module": "@jupyter-widgets/controls",
      "model_module_version": "1.5.0",
      "model_name": "ButtonModel",
      "state": {
       "description": "button 3",
       "layout": "IPY_MODEL_3036ab9aafb2461c967d0ae1ac637b35",
       "style": "IPY_MODEL_b7b8aff380c1461086cf1f7b53fbf062"
      }
     },
     "d52ae2acec9c451fb1bb4678a1703869": {
      "model_module": "@jupyter-widgets/output",
      "model_module_version": "1.0.0",
      "model_name": "OutputModel",
      "state": {
       "layout": "IPY_MODEL_f4f3a151a7f443fc8ec6ed5e2f1d5527"
      }
     },
     "d54d8d3942cf45929d3ae992acb02801": {
      "model_module": "@jupyter-widgets/base",
      "model_module_version": "1.2.0",
      "model_name": "LayoutModel",
      "state": {}
     },
     "d56b4e23442d4f939e954e68783edbb5": {
      "model_module": "@jupyter-widgets/controls",
      "model_module_version": "1.5.0",
      "model_name": "SliderStyleModel",
      "state": {
       "description_width": ""
      }
     },
     "d5b49060e6b04673954e8c40cbb9b9ec": {
      "model_module": "@jupyter-widgets/base",
      "model_module_version": "1.2.0",
      "model_name": "LayoutModel",
      "state": {}
     },
     "d5d4eed54a0047729dfdd1d3d4e12163": {
      "model_module": "@jupyter-widgets/controls",
      "model_module_version": "1.5.0",
      "model_name": "ButtonModel",
      "state": {
       "description": "button 2",
       "layout": "IPY_MODEL_d2b7ebf42756412382518917f4f6aa9b",
       "style": "IPY_MODEL_5c509fcd4b4e45b782660c0b9e2b0965"
      }
     },
     "d5ebd0990686489cb93bb68b3756d034": {
      "model_module": "@jupyter-widgets/controls",
      "model_module_version": "1.5.0",
      "model_name": "ButtonStyleModel",
      "state": {}
     },
     "d6cb72c0f29b4f52ac9fbebba3f018a0": {
      "model_module": "@jupyter-widgets/base",
      "model_module_version": "1.2.0",
      "model_name": "LayoutModel",
      "state": {}
     },
     "d6cdd135649f46768f00008f7ebd6d2a": {
      "model_module": "@jupyter-widgets/controls",
      "model_module_version": "1.5.0",
      "model_name": "IntSliderModel",
      "state": {
       "description": "amp",
       "layout": "IPY_MODEL_1f16839e14ad4e4ab57a2b2775409d7b",
       "max": 3,
       "min": -1,
       "style": "IPY_MODEL_4c00be1a905e430dafc07da73cfe6a10",
       "value": 2
      }
     },
     "d6dc864dff42489484f0e093f2066799": {
      "model_module": "@jupyter-widgets/controls",
      "model_module_version": "1.5.0",
      "model_name": "SliderStyleModel",
      "state": {
       "description_width": ""
      }
     },
     "d7b23aadf5c0425b89d7259bf0c98deb": {
      "model_module": "@jupyter-widgets/output",
      "model_module_version": "1.0.0",
      "model_name": "OutputModel",
      "state": {
       "layout": "IPY_MODEL_2f271b35bea04bb080796007d6884fb0"
      }
     },
     "d7b52375a71f4a47804b8b0b597660a3": {
      "model_module": "@jupyter-widgets/base",
      "model_module_version": "1.2.0",
      "model_name": "LayoutModel",
      "state": {}
     },
     "d7d2b2368d354ecd93d499248ed7b704": {
      "model_module": "@jupyter-widgets/base",
      "model_module_version": "1.2.0",
      "model_name": "LayoutModel",
      "state": {}
     },
     "d7f202360cc0460dae0a47c467959387": {
      "model_module": "@jupyter-widgets/base",
      "model_module_version": "1.2.0",
      "model_name": "LayoutModel",
      "state": {}
     },
     "d7fb53f722384c6c8bc6abb811bb37ae": {
      "model_module": "@jupyter-widgets/base",
      "model_module_version": "1.2.0",
      "model_name": "LayoutModel",
      "state": {}
     },
     "d8ad46bc811f4106aed4e0a305a711ea": {
      "model_module": "@jupyter-widgets/base",
      "model_module_version": "1.2.0",
      "model_name": "LayoutModel",
      "state": {}
     },
     "d94b2c567c04451ca1a94f436b604507": {
      "model_module": "@jupyter-widgets/controls",
      "model_module_version": "1.5.0",
      "model_name": "IntSliderModel",
      "state": {
       "description": "freq",
       "layout": "IPY_MODEL_1ba12e601c844d7eb5df69e07369b8ae",
       "max": 10,
       "style": "IPY_MODEL_b049403570ee40d29c9edb128c43649a",
       "value": 1
      }
     },
     "d990d6db8af040abbef7f4c61c1c9974": {
      "model_module": "@jupyter-widgets/controls",
      "model_module_version": "1.5.0",
      "model_name": "ButtonStyleModel",
      "state": {}
     },
     "d9f98af595bb46e0b8e2b5a4271a0b37": {
      "model_module": "@jupyter-widgets/controls",
      "model_module_version": "1.5.0",
      "model_name": "ButtonModel",
      "state": {
       "description": "button 3",
       "layout": "IPY_MODEL_f6588285d68042e593a1afbd4ae858ce",
       "style": "IPY_MODEL_d211171f1e1146ec9203f7f8905668f1"
      }
     },
     "da628a0a1a4b40b8aae20bff8c86d26b": {
      "model_module": "@jupyter-widgets/controls",
      "model_module_version": "1.5.0",
      "model_name": "FloatSliderModel",
      "state": {
       "description": "phi",
       "layout": "IPY_MODEL_6f92550133e9424dafab0d60fb8c7873",
       "max": 6.293185307179586,
       "step": 0.01,
       "style": "IPY_MODEL_c5dc2419cb2747e2a00e84314a381b0d"
      }
     },
     "daab44159c8a4da48feecc12ee732339": {
      "model_module": "@jupyter-widgets/base",
      "model_module_version": "1.2.0",
      "model_name": "LayoutModel",
      "state": {}
     },
     "db0e871e76b0437a992cec53927d58c2": {
      "model_module": "@jupyter-widgets/controls",
      "model_module_version": "1.5.0",
      "model_name": "ButtonStyleModel",
      "state": {}
     },
     "db5a336bce2c4a9ab127f1cd897d3837": {
      "model_module": "@jupyter-widgets/controls",
      "model_module_version": "1.5.0",
      "model_name": "SliderStyleModel",
      "state": {
       "description_width": ""
      }
     },
     "dba1881027ba4a398a07d0f1c58d92f2": {
      "model_module": "@jupyter-widgets/base",
      "model_module_version": "1.2.0",
      "model_name": "LayoutModel",
      "state": {}
     },
     "dbe0aca2919641b9874495dbab468779": {
      "model_module": "@jupyter-widgets/controls",
      "model_module_version": "1.5.0",
      "model_name": "IntSliderModel",
      "state": {
       "description": "w",
       "layout": "IPY_MODEL_4758267ffbb445a5867535d209f1a836",
       "max": 10,
       "style": "IPY_MODEL_ac2d4e82d2e143c88d5b63aa387e1504",
       "value": 1
      }
     },
     "dbfbec2e98cd47899a7b2cc93e6bd26b": {
      "model_module": "@jupyter-widgets/controls",
      "model_module_version": "1.5.0",
      "model_name": "SliderStyleModel",
      "state": {
       "description_width": ""
      }
     },
     "dbfe78b6a6da4467a24a7d5b2136447a": {
      "model_module": "@jupyter-widgets/base",
      "model_module_version": "1.2.0",
      "model_name": "LayoutModel",
      "state": {}
     },
     "dc0338a9a00c4e4893adc8fc74da83f5": {
      "model_module": "@jupyter-widgets/controls",
      "model_module_version": "1.5.0",
      "model_name": "SliderStyleModel",
      "state": {
       "description_width": ""
      }
     },
     "dc0956b5ece84d20b50e88838a4caca0": {
      "model_module": "@jupyter-widgets/controls",
      "model_module_version": "1.5.0",
      "model_name": "ButtonStyleModel",
      "state": {}
     },
     "dc5d7554a43948bfaca9345aa7760736": {
      "model_module": "@jupyter-widgets/controls",
      "model_module_version": "1.5.0",
      "model_name": "SliderStyleModel",
      "state": {
       "description_width": ""
      }
     },
     "dc79ad8cc761402fb16b3edefb57a646": {
      "model_module": "@jupyter-widgets/base",
      "model_module_version": "1.2.0",
      "model_name": "LayoutModel",
      "state": {}
     },
     "dc9d3168024a468787a2b4ec4ad957b3": {
      "model_module": "@jupyter-widgets/base",
      "model_module_version": "1.2.0",
      "model_name": "LayoutModel",
      "state": {}
     },
     "dcfad0e2f1fe40d098a4fc3aed84c71a": {
      "model_module": "@jupyter-widgets/controls",
      "model_module_version": "1.5.0",
      "model_name": "ButtonModel",
      "state": {
       "description": "None",
       "layout": "IPY_MODEL_9bb96f9ed530489a8f9115a771318bc4",
       "style": "IPY_MODEL_75b454969168416aaf6d5c53ec37638f"
      }
     },
     "dd4726eb5eff4c7ab47c2388a2cb1b94": {
      "model_module": "@jupyter-widgets/controls",
      "model_module_version": "1.5.0",
      "model_name": "ButtonStyleModel",
      "state": {}
     },
     "dd811e8ce6a14c09abcb59f5ed173a42": {
      "model_module": "@jupyter-widgets/controls",
      "model_module_version": "1.5.0",
      "model_name": "LabelModel",
      "state": {
       "layout": "IPY_MODEL_67eb8b3e9c70440e9ac8815c4325caaf",
       "style": "IPY_MODEL_f5c93c8681fa4ab4922ae164c33f4b81",
       "value": "0"
      }
     },
     "ddc1b03ea5894e019515aef42771fe77": {
      "model_module": "@jupyter-widgets/controls",
      "model_module_version": "1.5.0",
      "model_name": "FloatSliderModel",
      "state": {
       "description": "phi",
       "layout": "IPY_MODEL_736dac9d583c46a7ae6ed2544108426f",
       "max": 6.293185307179586,
       "step": 0.01,
       "style": "IPY_MODEL_6609e6022679456ca457957a9d52678f"
      }
     },
     "df04d99fcbcf4a5eb79fdbc7d76bf1fb": {
      "model_module": "@jupyter-widgets/controls",
      "model_module_version": "1.5.0",
      "model_name": "IntSliderModel",
      "state": {
       "description": "w",
       "layout": "IPY_MODEL_5ac07dcf95d348e593d412403a397e80",
       "max": 10,
       "style": "IPY_MODEL_0f3c4b148cf44e6db279f9fa09a53664",
       "value": 8
      }
     },
     "df15e200fea4417a89a625ac30ae11a1": {
      "model_module": "@jupyter-widgets/base",
      "model_module_version": "1.2.0",
      "model_name": "LayoutModel",
      "state": {}
     },
     "df2b4609cb9b49a9b2312e11f00ef174": {
      "model_module": "@jupyter-widgets/base",
      "model_module_version": "1.2.0",
      "model_name": "LayoutModel",
      "state": {}
     },
     "df60d0e1e2a146c2b0ee3de5c6262516": {
      "model_module": "@jupyter-widgets/controls",
      "model_module_version": "1.5.0",
      "model_name": "SliderStyleModel",
      "state": {
       "description_width": ""
      }
     },
     "e0785929c61b48fdb9d248eb768edc2c": {
      "model_module": "@jupyter-widgets/output",
      "model_module_version": "1.0.0",
      "model_name": "OutputModel",
      "state": {
       "layout": "IPY_MODEL_5b6d8ebc54e341a0b51797708b185bc0",
       "outputs": [
        {
         "ename": "AttributeError",
         "evalue": "'int' object has no attribute 'lines'",
         "output_type": "error",
         "traceback": [
          "\u001b[1;31m---------------------------------------------------------------------------\u001b[0m",
          "\u001b[1;31mAttributeError\u001b[0m                            Traceback (most recent call last)",
          "\u001b[1;32mc:\\users\\cmdr. data\\virtualenvironments\\myvenv\\lib\\site-packages\\ipywidgets\\widgets\\interaction.py\u001b[0m in \u001b[0;36mupdate\u001b[1;34m(self, *args)\u001b[0m\n\u001b[0;32m    254\u001b[0m                     \u001b[0mvalue\u001b[0m \u001b[1;33m=\u001b[0m \u001b[0mwidget\u001b[0m\u001b[1;33m.\u001b[0m\u001b[0mget_interact_value\u001b[0m\u001b[1;33m(\u001b[0m\u001b[1;33m)\u001b[0m\u001b[1;33m\u001b[0m\u001b[1;33m\u001b[0m\u001b[0m\n\u001b[0;32m    255\u001b[0m                     \u001b[0mself\u001b[0m\u001b[1;33m.\u001b[0m\u001b[0mkwargs\u001b[0m\u001b[1;33m[\u001b[0m\u001b[0mwidget\u001b[0m\u001b[1;33m.\u001b[0m\u001b[0m_kwarg\u001b[0m\u001b[1;33m]\u001b[0m \u001b[1;33m=\u001b[0m \u001b[0mvalue\u001b[0m\u001b[1;33m\u001b[0m\u001b[1;33m\u001b[0m\u001b[0m\n\u001b[1;32m--> 256\u001b[1;33m                 \u001b[0mself\u001b[0m\u001b[1;33m.\u001b[0m\u001b[0mresult\u001b[0m \u001b[1;33m=\u001b[0m \u001b[0mself\u001b[0m\u001b[1;33m.\u001b[0m\u001b[0mf\u001b[0m\u001b[1;33m(\u001b[0m\u001b[1;33m**\u001b[0m\u001b[0mself\u001b[0m\u001b[1;33m.\u001b[0m\u001b[0mkwargs\u001b[0m\u001b[1;33m)\u001b[0m\u001b[1;33m\u001b[0m\u001b[1;33m\u001b[0m\u001b[0m\n\u001b[0m\u001b[0;32m    257\u001b[0m                 \u001b[0mshow_inline_matplotlib_plots\u001b[0m\u001b[1;33m(\u001b[0m\u001b[1;33m)\u001b[0m\u001b[1;33m\u001b[0m\u001b[1;33m\u001b[0m\u001b[0m\n\u001b[0;32m    258\u001b[0m                 \u001b[1;32mif\u001b[0m \u001b[0mself\u001b[0m\u001b[1;33m.\u001b[0m\u001b[0mauto_display\u001b[0m \u001b[1;32mand\u001b[0m \u001b[0mself\u001b[0m\u001b[1;33m.\u001b[0m\u001b[0mresult\u001b[0m \u001b[1;32mis\u001b[0m \u001b[1;32mnot\u001b[0m \u001b[1;32mNone\u001b[0m\u001b[1;33m:\u001b[0m\u001b[1;33m\u001b[0m\u001b[1;33m\u001b[0m\u001b[0m\n",
          "\u001b[1;32m<ipython-input-150-dc411ecfdc62>\u001b[0m in \u001b[0;36mupdate\u001b[1;34m(w, amp, phi)\u001b[0m\n\u001b[0;32m      6\u001b[0m \u001b[1;32mdef\u001b[0m \u001b[0mupdate\u001b[0m\u001b[1;33m(\u001b[0m\u001b[0mw\u001b[0m \u001b[1;33m=\u001b[0m \u001b[1;36m1.0\u001b[0m\u001b[1;33m,\u001b[0m \u001b[0mamp\u001b[0m\u001b[1;33m=\u001b[0m\u001b[1;36m1\u001b[0m\u001b[1;33m,\u001b[0m \u001b[0mphi\u001b[0m\u001b[1;33m=\u001b[0m\u001b[1;36m0\u001b[0m\u001b[1;33m)\u001b[0m\u001b[1;33m:\u001b[0m\u001b[1;33m\u001b[0m\u001b[1;33m\u001b[0m\u001b[0m\n\u001b[0;32m      7\u001b[0m     \u001b[1;34m\"\"\"Remove old lines from plot and plot new one\"\"\"\u001b[0m\u001b[1;33m\u001b[0m\u001b[1;33m\u001b[0m\u001b[0m\n\u001b[1;32m----> 8\u001b[1;33m     \u001b[1;33m[\u001b[0m\u001b[0ml\u001b[0m\u001b[1;33m.\u001b[0m\u001b[0mremove\u001b[0m\u001b[1;33m(\u001b[0m\u001b[1;33m)\u001b[0m \u001b[1;32mfor\u001b[0m \u001b[0ml\u001b[0m \u001b[1;32min\u001b[0m \u001b[0max\u001b[0m\u001b[1;33m.\u001b[0m\u001b[0mlines\u001b[0m\u001b[1;33m]\u001b[0m\u001b[1;33m\u001b[0m\u001b[1;33m\u001b[0m\u001b[0m\n\u001b[0m\u001b[0;32m      9\u001b[0m     \u001b[0max\u001b[0m\u001b[1;33m.\u001b[0m\u001b[0mplot\u001b[0m\u001b[1;33m(\u001b[0m\u001b[0mx\u001b[0m\u001b[1;33m,\u001b[0m \u001b[0mmy_sine\u001b[0m\u001b[1;33m(\u001b[0m\u001b[0mx\u001b[0m\u001b[1;33m,\u001b[0m \u001b[0mw\u001b[0m\u001b[1;33m,\u001b[0m \u001b[0mamp\u001b[0m\u001b[1;33m,\u001b[0m \u001b[0mphi\u001b[0m\u001b[1;33m)\u001b[0m\u001b[1;33m,\u001b[0m \u001b[0mcolor\u001b[0m\u001b[1;33m=\u001b[0m\u001b[1;34m'C0'\u001b[0m\u001b[1;33m)\u001b[0m\u001b[1;33m\u001b[0m\u001b[1;33m\u001b[0m\u001b[0m\n",
          "\u001b[1;31mAttributeError\u001b[0m: 'int' object has no attribute 'lines'"
         ]
        }
       ]
      }
     },
     "e13055f95ef34a3c80298a0f615103b2": {
      "model_module": "@jupyter-widgets/controls",
      "model_module_version": "1.5.0",
      "model_name": "ButtonStyleModel",
      "state": {}
     },
     "e16be42e9b1a40cb9a7bcc18ca030a09": {
      "model_module": "@jupyter-widgets/base",
      "model_module_version": "1.2.0",
      "model_name": "LayoutModel",
      "state": {}
     },
     "e2100ca9dfc4442bbe384f188a75e130": {
      "model_module": "@jupyter-widgets/output",
      "model_module_version": "1.0.0",
      "model_name": "OutputModel",
      "state": {
       "layout": "IPY_MODEL_427d51c772d444038644acd8136d8cdb",
       "outputs": [
        {
         "ename": "NameError",
         "evalue": "name 'ax' is not defined",
         "output_type": "error",
         "traceback": [
          "\u001b[1;31m---------------------------------------------------------------------------\u001b[0m",
          "\u001b[1;31mNameError\u001b[0m                                 Traceback (most recent call last)",
          "\u001b[1;32mc:\\users\\cmdr. data\\virtualenvironments\\myvenv\\lib\\site-packages\\ipywidgets\\widgets\\interaction.py\u001b[0m in \u001b[0;36mupdate\u001b[1;34m(self, *args)\u001b[0m\n\u001b[0;32m    254\u001b[0m                     \u001b[0mvalue\u001b[0m \u001b[1;33m=\u001b[0m \u001b[0mwidget\u001b[0m\u001b[1;33m.\u001b[0m\u001b[0mget_interact_value\u001b[0m\u001b[1;33m(\u001b[0m\u001b[1;33m)\u001b[0m\u001b[1;33m\u001b[0m\u001b[1;33m\u001b[0m\u001b[0m\n\u001b[0;32m    255\u001b[0m                     \u001b[0mself\u001b[0m\u001b[1;33m.\u001b[0m\u001b[0mkwargs\u001b[0m\u001b[1;33m[\u001b[0m\u001b[0mwidget\u001b[0m\u001b[1;33m.\u001b[0m\u001b[0m_kwarg\u001b[0m\u001b[1;33m]\u001b[0m \u001b[1;33m=\u001b[0m \u001b[0mvalue\u001b[0m\u001b[1;33m\u001b[0m\u001b[1;33m\u001b[0m\u001b[0m\n\u001b[1;32m--> 256\u001b[1;33m                 \u001b[0mself\u001b[0m\u001b[1;33m.\u001b[0m\u001b[0mresult\u001b[0m \u001b[1;33m=\u001b[0m \u001b[0mself\u001b[0m\u001b[1;33m.\u001b[0m\u001b[0mf\u001b[0m\u001b[1;33m(\u001b[0m\u001b[1;33m**\u001b[0m\u001b[0mself\u001b[0m\u001b[1;33m.\u001b[0m\u001b[0mkwargs\u001b[0m\u001b[1;33m)\u001b[0m\u001b[1;33m\u001b[0m\u001b[1;33m\u001b[0m\u001b[0m\n\u001b[0m\u001b[0;32m    257\u001b[0m                 \u001b[0mshow_inline_matplotlib_plots\u001b[0m\u001b[1;33m(\u001b[0m\u001b[1;33m)\u001b[0m\u001b[1;33m\u001b[0m\u001b[1;33m\u001b[0m\u001b[0m\n\u001b[0;32m    258\u001b[0m                 \u001b[1;32mif\u001b[0m \u001b[0mself\u001b[0m\u001b[1;33m.\u001b[0m\u001b[0mauto_display\u001b[0m \u001b[1;32mand\u001b[0m \u001b[0mself\u001b[0m\u001b[1;33m.\u001b[0m\u001b[0mresult\u001b[0m \u001b[1;32mis\u001b[0m \u001b[1;32mnot\u001b[0m \u001b[1;32mNone\u001b[0m\u001b[1;33m:\u001b[0m\u001b[1;33m\u001b[0m\u001b[1;33m\u001b[0m\u001b[0m\n",
          "\u001b[1;32m<ipython-input-95-895e16582c17>\u001b[0m in \u001b[0;36mupdate\u001b[1;34m(w, amp, phi)\u001b[0m\n\u001b[0;32m      2\u001b[0m \u001b[1;32mdef\u001b[0m \u001b[0mupdate\u001b[0m\u001b[1;33m(\u001b[0m\u001b[0mw\u001b[0m \u001b[1;33m=\u001b[0m \u001b[1;36m1.0\u001b[0m\u001b[1;33m,\u001b[0m \u001b[0mamp\u001b[0m\u001b[1;33m=\u001b[0m\u001b[1;36m1\u001b[0m\u001b[1;33m,\u001b[0m \u001b[0mphi\u001b[0m\u001b[1;33m=\u001b[0m\u001b[1;36m0\u001b[0m\u001b[1;33m)\u001b[0m\u001b[1;33m:\u001b[0m\u001b[1;33m\u001b[0m\u001b[1;33m\u001b[0m\u001b[0m\n\u001b[0;32m      3\u001b[0m     \u001b[1;34m\"\"\"Remove old lines from plot and plot new one\"\"\"\u001b[0m\u001b[1;33m\u001b[0m\u001b[1;33m\u001b[0m\u001b[0m\n\u001b[1;32m----> 4\u001b[1;33m     \u001b[0max\u001b[0m\u001b[1;33m.\u001b[0m\u001b[0mplot\u001b[0m\u001b[1;33m(\u001b[0m\u001b[0mx\u001b[0m\u001b[1;33m,\u001b[0m \u001b[0mmy_sine\u001b[0m\u001b[1;33m(\u001b[0m\u001b[0mx\u001b[0m\u001b[1;33m,\u001b[0m \u001b[0mw\u001b[0m\u001b[1;33m,\u001b[0m \u001b[0mamp\u001b[0m\u001b[1;33m,\u001b[0m \u001b[0mphi\u001b[0m\u001b[1;33m)\u001b[0m\u001b[1;33m,\u001b[0m \u001b[0mcolor\u001b[0m\u001b[1;33m=\u001b[0m\u001b[1;34m'C0'\u001b[0m\u001b[1;33m)\u001b[0m\u001b[1;33m\u001b[0m\u001b[1;33m\u001b[0m\u001b[0m\n\u001b[0m\u001b[0;32m      5\u001b[0m \u001b[1;33m\u001b[0m\u001b[0m\n\u001b[0;32m      6\u001b[0m \u001b[0mget_ipython\u001b[0m\u001b[1;33m(\u001b[0m\u001b[1;33m)\u001b[0m\u001b[1;33m.\u001b[0m\u001b[0mrun_line_magic\u001b[0m\u001b[1;33m(\u001b[0m\u001b[1;34m'%render'\u001b[0m\u001b[1;33m,\u001b[0m \u001b[1;34m''\u001b[0m\u001b[1;33m)\u001b[0m\u001b[1;33m\u001b[0m\u001b[1;33m\u001b[0m\u001b[0m\n",
          "\u001b[1;31mNameError\u001b[0m: name 'ax' is not defined"
         ]
        }
       ]
      }
     },
     "e2a2900349b24ad1b31a088a146ca40f": {
      "model_module": "@jupyter-widgets/controls",
      "model_module_version": "1.5.0",
      "model_name": "ButtonModel",
      "state": {
       "description": "button 2",
       "layout": "IPY_MODEL_f6c777d0cba6456fba419071c81e4d61",
       "style": "IPY_MODEL_d5ebd0990686489cb93bb68b3756d034"
      }
     },
     "e2ff10278ee3438bb6b3d571b965008c": {
      "model_module": "@jupyter-widgets/controls",
      "model_module_version": "1.5.0",
      "model_name": "SliderStyleModel",
      "state": {
       "description_width": ""
      }
     },
     "e3a363fb90a14e4eab4cb833ee6e9d52": {
      "model_module": "@jupyter-widgets/controls",
      "model_module_version": "1.5.0",
      "model_name": "FloatSliderModel",
      "state": {
       "description": "amp",
       "layout": "IPY_MODEL_a3ba3e9b7e334a93af26d0303a2cadaa",
       "max": 4,
       "step": 0.1,
       "style": "IPY_MODEL_db5a336bce2c4a9ab127f1cd897d3837",
       "value": 1
      }
     },
     "e3ca77d12794478eb08e3cf87cb58bae": {
      "model_module": "@jupyter-widgets/base",
      "model_module_version": "1.2.0",
      "model_name": "LayoutModel",
      "state": {}
     },
     "e3ff599c156c447288f114d09b76cd0e": {
      "model_module": "@jupyter-widgets/controls",
      "model_module_version": "1.5.0",
      "model_name": "SliderStyleModel",
      "state": {
       "description_width": ""
      }
     },
     "e4032f0f0e904b968c3809f9648b6017": {
      "model_module": "@jupyter-widgets/base",
      "model_module_version": "1.2.0",
      "model_name": "LayoutModel",
      "state": {}
     },
     "e41953717540428da85b74ca02fade7a": {
      "model_module": "@jupyter-widgets/base",
      "model_module_version": "1.2.0",
      "model_name": "LayoutModel",
      "state": {}
     },
     "e45e090dcb684083b76ca3d765032bd6": {
      "model_module": "@jupyter-widgets/base",
      "model_module_version": "1.2.0",
      "model_name": "LayoutModel",
      "state": {}
     },
     "e5b86e06cc2349b281cfe3e10a690467": {
      "model_module": "@jupyter-widgets/base",
      "model_module_version": "1.2.0",
      "model_name": "LayoutModel",
      "state": {}
     },
     "e6066884aaaf4b8abe942fb24a58e309": {
      "model_module": "@jupyter-widgets/controls",
      "model_module_version": "1.5.0",
      "model_name": "ButtonStyleModel",
      "state": {}
     },
     "e682006941b34cc694fa3a6fbfbd5dce": {
      "model_module": "@jupyter-widgets/controls",
      "model_module_version": "1.5.0",
      "model_name": "FloatSliderModel",
      "state": {
       "description": "b",
       "layout": "IPY_MODEL_d7d2b2368d354ecd93d499248ed7b704",
       "max": 4,
       "step": 0.1,
       "style": "IPY_MODEL_dc0338a9a00c4e4893adc8fc74da83f5",
       "value": 2.2
      }
     },
     "e6ee257e57ba418cba25b36904c5177f": {
      "model_module": "@jupyter-widgets/controls",
      "model_module_version": "1.5.0",
      "model_name": "ButtonStyleModel",
      "state": {}
     },
     "e6f29683de56445784b3ad177b67dc86": {
      "model_module": "@jupyter-widgets/base",
      "model_module_version": "1.2.0",
      "model_name": "LayoutModel",
      "state": {}
     },
     "e722b65541b04645a982b08ceaca98b2": {
      "model_module": "@jupyter-widgets/base",
      "model_module_version": "1.2.0",
      "model_name": "LayoutModel",
      "state": {}
     },
     "e728643fb6d8475c9993b8f538894e94": {
      "model_module": "@jupyter-widgets/controls",
      "model_module_version": "1.5.0",
      "model_name": "SliderStyleModel",
      "state": {
       "description_width": ""
      }
     },
     "e7637e3806d14ccdb3fa80684c0d7d5f": {
      "model_module": "@jupyter-widgets/controls",
      "model_module_version": "1.5.0",
      "model_name": "TextModel",
      "state": {
       "description": "String:",
       "layout": "IPY_MODEL_52843b971ab244bc8018ff192fda2829",
       "placeholder": "Type something",
       "style": "IPY_MODEL_f409410b2abc4d068a3d8a029bad1d82",
       "value": "Hello World"
      }
     },
     "e7dc20384c85457b82a2926fc91c040e": {
      "model_module": "@jupyter-widgets/base",
      "model_module_version": "1.2.0",
      "model_name": "LayoutModel",
      "state": {}
     },
     "e833e156ac1f47df96baa8e76ed99a14": {
      "model_module": "@jupyter-widgets/base",
      "model_module_version": "1.2.0",
      "model_name": "LayoutModel",
      "state": {}
     },
     "e8592be67ed440c58c6a815b509287f8": {
      "model_module": "@jupyter-widgets/base",
      "model_module_version": "1.2.0",
      "model_name": "LayoutModel",
      "state": {}
     },
     "e86468799d0246678ac76ca432a16824": {
      "model_module": "@jupyter-widgets/base",
      "model_module_version": "1.2.0",
      "model_name": "LayoutModel",
      "state": {}
     },
     "e8aa4351a7a04ca8a0140bed7e4f596c": {
      "model_module": "@jupyter-widgets/controls",
      "model_module_version": "1.5.0",
      "model_name": "DescriptionStyleModel",
      "state": {
       "description_width": ""
      }
     },
     "eaa94a44ef9b42e787689e5ae0741e12": {
      "model_module": "@jupyter-widgets/base",
      "model_module_version": "1.2.0",
      "model_name": "LayoutModel",
      "state": {}
     },
     "ead33a8337e54398a079891f0ac84e00": {
      "model_module": "@jupyter-widgets/controls",
      "model_module_version": "1.5.0",
      "model_name": "HBoxModel",
      "state": {
       "children": [
        "IPY_MODEL_06460d24fd2a4526936574c73968ff4e",
        "IPY_MODEL_5a87859a80db44adbaf0f1d00c223d5d",
        "IPY_MODEL_41cc849595824af0ace9c216abd346aa"
       ],
       "layout": "IPY_MODEL_6db9677808b240a6b53e7b042c3cb678"
      }
     },
     "eb00235de0264ee7b496e9f6c9680696": {
      "model_module": "@jupyter-widgets/controls",
      "model_module_version": "1.5.0",
      "model_name": "ButtonStyleModel",
      "state": {}
     },
     "eb1b6fedfdbc40e0982e9dd96b7e047e": {
      "model_module": "@jupyter-widgets/controls",
      "model_module_version": "1.5.0",
      "model_name": "ButtonStyleModel",
      "state": {}
     },
     "eb8dfe12daa0472aa2a643c1d412d7b5": {
      "model_module": "@jupyter-widgets/base",
      "model_module_version": "1.2.0",
      "model_name": "LayoutModel",
      "state": {}
     },
     "ec1162efc288451bbb3dffdb1cb74565": {
      "model_module": "@jupyter-widgets/output",
      "model_module_version": "1.0.0",
      "model_name": "OutputModel",
      "state": {
       "layout": "IPY_MODEL_e8592be67ed440c58c6a815b509287f8",
       "outputs": [
        {
         "data": {
          "text/latex": "\\[\n\\begin{aligned}\nr &= \\frac{ \\left( - b \\right) + \\sqrt { \\left( b \\right) ^{ 7 } - 4 \\cdot a \\cdot c } }{ 2 \\cdot a }  = \\frac{ \\left( - 7 \\right) + \\sqrt { \\left( 7 \\right) ^{ 7 } - 4 \\cdot 6 \\cdot -8 } }{ 2 \\cdot 6 } &= 75.05  \n\\end{aligned}\n\\]",
          "text/plain": "<IPython.core.display.Latex object>"
         },
         "metadata": {},
         "output_type": "display_data"
        }
       ]
      }
     },
     "eccad52476974de4b0f4365e13b7f2ad": {
      "model_module": "@jupyter-widgets/controls",
      "model_module_version": "1.5.0",
      "model_name": "IntSliderModel",
      "state": {
       "description": "freq",
       "layout": "IPY_MODEL_34813d7652444e9e9ffbfea3b07b4033",
       "max": 10,
       "style": "IPY_MODEL_702566ae205c494aa38c41e2f9e721ba",
       "value": 1
      }
     },
     "ed085fdf7bf1451c9f393a8a1ba48e4f": {
      "model_module": "@jupyter-widgets/base",
      "model_module_version": "1.2.0",
      "model_name": "LayoutModel",
      "state": {}
     },
     "ed198256190d4786bf844adf50ed7d12": {
      "model_module": "@jupyter-widgets/controls",
      "model_module_version": "1.5.0",
      "model_name": "ButtonModel",
      "state": {
       "layout": "IPY_MODEL_add72344033e4173908b41d6a83a7385",
       "style": "IPY_MODEL_cadeb32400f14cd9a97065e5c4958241"
      }
     },
     "edb439ce0ee742688483848fecff94c0": {
      "model_module": "@jupyter-widgets/controls",
      "model_module_version": "1.5.0",
      "model_name": "ButtonModel",
      "state": {
       "description": "button 3",
       "layout": "IPY_MODEL_c2bec14583c34ad5a6698d85b69aa844",
       "style": "IPY_MODEL_5c88ed2db7e54d83a580b6bf2ca3d878"
      }
     },
     "ee497a1cdc354111bfea5121700fe412": {
      "model_module": "@jupyter-widgets/controls",
      "model_module_version": "1.5.0",
      "model_name": "SliderStyleModel",
      "state": {
       "description_width": ""
      }
     },
     "ee7e7c82d6de4077b05220960e1a160c": {
      "model_module": "@jupyter-widgets/base",
      "model_module_version": "1.2.0",
      "model_name": "LayoutModel",
      "state": {}
     },
     "efc17ca2617f46a2b7a4168fc83cb097": {
      "model_module": "@jupyter-widgets/base",
      "model_module_version": "1.2.0",
      "model_name": "LayoutModel",
      "state": {}
     },
     "efd2d5354b864907a1e1d574c0b14bad": {
      "model_module": "@jupyter-widgets/controls",
      "model_module_version": "1.5.0",
      "model_name": "DescriptionStyleModel",
      "state": {
       "description_width": ""
      }
     },
     "eff41fffae254001af7e217b93cc3f6d": {
      "model_module": "@jupyter-widgets/base",
      "model_module_version": "1.2.0",
      "model_name": "LayoutModel",
      "state": {}
     },
     "f04c75d52878433f87b2496af930c707": {
      "model_module": "@jupyter-widgets/base",
      "model_module_version": "1.2.0",
      "model_name": "LayoutModel",
      "state": {}
     },
     "f0a106a9ea664172bbb0130c17dcbc30": {
      "model_module": "@jupyter-widgets/base",
      "model_module_version": "1.2.0",
      "model_name": "LayoutModel",
      "state": {}
     },
     "f138d5a641ff4c0dae8c833fcc1df211": {
      "model_module": "@jupyter-widgets/controls",
      "model_module_version": "1.5.0",
      "model_name": "ButtonModel",
      "state": {
       "description": "button 2",
       "layout": "IPY_MODEL_1e7f1a60c210479fb37c672c0a74b5d3",
       "style": "IPY_MODEL_db0e871e76b0437a992cec53927d58c2"
      }
     },
     "f191832517ca4435a0461caccf96d126": {
      "model_module": "@jupyter-widgets/base",
      "model_module_version": "1.2.0",
      "model_name": "LayoutModel",
      "state": {}
     },
     "f234e09b2515409a8b32ffe21dc4b25f": {
      "model_module": "@jupyter-widgets/base",
      "model_module_version": "1.2.0",
      "model_name": "LayoutModel",
      "state": {}
     },
     "f2d6500b3ad74c928ebd48d00caaec4f": {
      "model_module": "@jupyter-widgets/controls",
      "model_module_version": "1.5.0",
      "model_name": "SliderStyleModel",
      "state": {
       "description_width": ""
      }
     },
     "f3b50f7b1fc84b3d95c1930221e52fbc": {
      "model_module": "@jupyter-widgets/controls",
      "model_module_version": "1.5.0",
      "model_name": "SliderStyleModel",
      "state": {
       "description_width": ""
      }
     },
     "f409410b2abc4d068a3d8a029bad1d82": {
      "model_module": "@jupyter-widgets/controls",
      "model_module_version": "1.5.0",
      "model_name": "DescriptionStyleModel",
      "state": {
       "description_width": ""
      }
     },
     "f45de20831aa4e6f8b4482ee080bfe6e": {
      "model_module": "@jupyter-widgets/controls",
      "model_module_version": "1.5.0",
      "model_name": "FloatSliderModel",
      "state": {
       "description": "amp",
       "layout": "IPY_MODEL_050e33db2a944463b936867edb7e1d9e",
       "max": 4,
       "step": 0.1,
       "style": "IPY_MODEL_986e2d89d6714b6a8f7553f291cd7938",
       "value": 1
      }
     },
     "f4dcdea5e1ed4a51bf5628715f3b7cf1": {
      "model_module": "@jupyter-widgets/controls",
      "model_module_version": "1.5.0",
      "model_name": "ButtonModel",
      "state": {
       "description": "σ",
       "layout": "IPY_MODEL_a7bba9b7e4b14f93a840020eb69231df",
       "style": "IPY_MODEL_690ffbca2e22439f84bc196bd76981db"
      }
     },
     "f4f3a151a7f443fc8ec6ed5e2f1d5527": {
      "model_module": "@jupyter-widgets/base",
      "model_module_version": "1.2.0",
      "model_name": "LayoutModel",
      "state": {}
     },
     "f4f7cbc6016b41c794370d2875fc39db": {
      "model_module": "@jupyter-widgets/base",
      "model_module_version": "1.2.0",
      "model_name": "LayoutModel",
      "state": {}
     },
     "f5bd5cdea1a44d50bd0a349ebfdc76f5": {
      "model_module": "@jupyter-widgets/controls",
      "model_module_version": "1.5.0",
      "model_name": "VBoxModel",
      "state": {
       "_dom_classes": [
        "widget-interact"
       ],
       "children": [
        "IPY_MODEL_2fc4257d12604282a8456a27a32585b5",
        "IPY_MODEL_f45de20831aa4e6f8b4482ee080bfe6e",
        "IPY_MODEL_76228ece250241128847ad267840a975",
        "IPY_MODEL_e0785929c61b48fdb9d248eb768edc2c"
       ],
       "layout": "IPY_MODEL_0b621098c6094305ab73b5b1678217d1"
      }
     },
     "f5c93c8681fa4ab4922ae164c33f4b81": {
      "model_module": "@jupyter-widgets/controls",
      "model_module_version": "1.5.0",
      "model_name": "DescriptionStyleModel",
      "state": {
       "description_width": ""
      }
     },
     "f5dd96d03d7b402eba7c681f7ddb480d": {
      "model_module": "@jupyter-widgets/base",
      "model_module_version": "1.2.0",
      "model_name": "LayoutModel",
      "state": {}
     },
     "f6588285d68042e593a1afbd4ae858ce": {
      "model_module": "@jupyter-widgets/base",
      "model_module_version": "1.2.0",
      "model_name": "LayoutModel",
      "state": {}
     },
     "f6c777d0cba6456fba419071c81e4d61": {
      "model_module": "@jupyter-widgets/base",
      "model_module_version": "1.2.0",
      "model_name": "LayoutModel",
      "state": {}
     },
     "f8b2b4c019d14d51976ea164c2c0ee3c": {
      "model_module": "@jupyter-widgets/base",
      "model_module_version": "1.2.0",
      "model_name": "LayoutModel",
      "state": {}
     },
     "f91aa1faabb94cd98453364100a342ac": {
      "model_module": "@jupyter-widgets/controls",
      "model_module_version": "1.5.0",
      "model_name": "ButtonModel",
      "state": {
       "description": "k",
       "layout": "IPY_MODEL_95c6c588cb5c48d291eb97c17282b81e",
       "style": "IPY_MODEL_5e6669537871416a9e71bf2dd9855cca"
      }
     },
     "f98a41cab9044bfcac2bdfbac9d9416a": {
      "model_module": "@jupyter-widgets/controls",
      "model_module_version": "1.5.0",
      "model_name": "ButtonModel",
      "state": {
       "description": "\\[\begin{aligned}a &= 6 \\; \\[10pt]b &= 7 \\; \\[10pt]c &= -8 \\; \\[10pt]r &= \frac{ \\left( - b \right) + \\sqrt { \\left( b \right) ^{ 2 } - 4 \\cdot a \\cdot c } }{ 2 \\cdot a }  = \frac{ \\left( - 7 \right) + \\sqrt { \\left( 7 \right) ^{ 2 } - 4 \\cdot 6 \\cdot -8 } }{ 2 \\cdot 6 } &= 7.103 \times 10 ^ {-1 }  \\end{aligned}\\]",
       "layout": "IPY_MODEL_3f87c01a0c334d0eb5938eb088a7887f",
       "style": "IPY_MODEL_bc4fb56636c6473d93c68356276e7db3"
      }
     },
     "f99f347760d349b69ae526e735573cab": {
      "model_module": "@jupyter-widgets/controls",
      "model_module_version": "1.5.0",
      "model_name": "SliderStyleModel",
      "state": {
       "description_width": ""
      }
     },
     "f9b89e8c34fe416ea981e202fba66cfa": {
      "model_module": "@jupyter-widgets/base",
      "model_module_version": "1.2.0",
      "model_name": "LayoutModel",
      "state": {}
     },
     "fa35b718716c466eaa64018e9a41ee3a": {
      "model_module": "@jupyter-widgets/controls",
      "model_module_version": "1.5.0",
      "model_name": "HBoxModel",
      "state": {
       "children": [
        "IPY_MODEL_139473bc92b343a59c97b5e6f428f5a6",
        "IPY_MODEL_b070900c399d470eab7bd46d61fa239b",
        "IPY_MODEL_65653144acaf4ce69f5a959e3b90fe0f"
       ],
       "layout": "IPY_MODEL_cc917072aee54fc3bfda5fd16caab031"
      }
     },
     "fb1eb1e839f94bf8955e7461a62cd03c": {
      "model_module": "@jupyter-widgets/base",
      "model_module_version": "1.2.0",
      "model_name": "LayoutModel",
      "state": {}
     },
     "fb415becf4164d4ea506a9650b8df655": {
      "model_module": "@jupyter-widgets/controls",
      "model_module_version": "1.5.0",
      "model_name": "DescriptionStyleModel",
      "state": {
       "description_width": ""
      }
     },
     "fbcac18a0215454b88cf3cf89d5e5422": {
      "model_module": "@jupyter-widgets/base",
      "model_module_version": "1.2.0",
      "model_name": "LayoutModel",
      "state": {}
     },
     "fc5e6ce4cc3046b580c67c6a6eeadc94": {
      "model_module": "@jupyter-widgets/controls",
      "model_module_version": "1.5.0",
      "model_name": "DescriptionStyleModel",
      "state": {
       "description_width": ""
      }
     },
     "fc68da54fa994dfcbb422783d967d872": {
      "model_module": "@jupyter-widgets/base",
      "model_module_version": "1.2.0",
      "model_name": "LayoutModel",
      "state": {}
     },
     "fcc3c438d01d40248b57bff31eb9a092": {
      "model_module": "@jupyter-widgets/controls",
      "model_module_version": "1.5.0",
      "model_name": "IntSliderModel",
      "state": {
       "description": "freq",
       "layout": "IPY_MODEL_7e77f8f8b2a54c55a5e2d6bfe4b820c2",
       "max": 10,
       "style": "IPY_MODEL_4579dac024a74f6294707cb70c5a048e",
       "value": 1
      }
     },
     "fcdc7458e0db49dda309150da0127694": {
      "model_module": "@jupyter-widgets/controls",
      "model_module_version": "1.5.0",
      "model_name": "SliderStyleModel",
      "state": {
       "description_width": ""
      }
     },
     "fd01536380544940bd349602e1e9e431": {
      "model_module": "@jupyter-widgets/base",
      "model_module_version": "1.2.0",
      "model_name": "LayoutModel",
      "state": {}
     },
     "fd682c89319848999b33d4affdb9ae29": {
      "model_module": "@jupyter-widgets/base",
      "model_module_version": "1.2.0",
      "model_name": "LayoutModel",
      "state": {}
     },
     "fdd46377f51f4fd08f6fedba4c82f514": {
      "model_module": "@jupyter-widgets/controls",
      "model_module_version": "1.5.0",
      "model_name": "FloatSliderModel",
      "state": {
       "description": "amp",
       "layout": "IPY_MODEL_2ff6e95648ec40dfa02372c87bd661eb",
       "max": 4,
       "step": 0.1,
       "style": "IPY_MODEL_bfaf7f8b343d4743a96a5d428b49e3c5",
       "value": 1.9
      }
     },
     "fe2c15df6c8b4a0192f2f3445bf982bc": {
      "model_module": "@jupyter-widgets/base",
      "model_module_version": "1.2.0",
      "model_name": "LayoutModel",
      "state": {}
     },
     "fe58de4690b64704ae14d9f29b3417e7": {
      "model_module": "@jupyter-widgets/base",
      "model_module_version": "1.2.0",
      "model_name": "LayoutModel",
      "state": {}
     },
     "fe6216c813cc47f58355113a95643ca5": {
      "model_module": "@jupyter-widgets/base",
      "model_module_version": "1.2.0",
      "model_name": "LayoutModel",
      "state": {}
     },
     "ff36cab76eb048539724ef24337f292b": {
      "model_module": "@jupyter-widgets/controls",
      "model_module_version": "1.5.0",
      "model_name": "SliderStyleModel",
      "state": {
       "description_width": ""
      }
     },
     "ffa7c148827d47d69975f3bf855dabbe": {
      "model_module": "@jupyter-widgets/controls",
      "model_module_version": "1.5.0",
      "model_name": "DescriptionStyleModel",
      "state": {
       "description_width": ""
      }
     },
     "fff655ac8d0847aca68efc915fa79a80": {
      "model_module": "@jupyter-widgets/controls",
      "model_module_version": "1.5.0",
      "model_name": "SliderStyleModel",
      "state": {
       "description_width": ""
      }
     }
    },
    "version_major": 2,
    "version_minor": 0
   }
  }
 },
 "nbformat": 4,
 "nbformat_minor": 4
}
