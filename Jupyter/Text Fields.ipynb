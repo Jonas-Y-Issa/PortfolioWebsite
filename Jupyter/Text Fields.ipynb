{
 "cells": [
  {
   "cell_type": "code",
   "execution_count": 3,
   "metadata": {},
   "outputs": [
    {
     "data": {
      "application/vnd.jupyter.widget-view+json": {
       "model_id": "8e6eb5b878b843fbab7ff65937394660",
       "version_major": 2,
       "version_minor": 0
      },
      "text/plain": [
       "interactive(children=(Text(value='', description='Client List Name:', layout=Layout(width='400px'), placeholde…"
      ]
     },
     "metadata": {},
     "output_type": "display_data"
    }
   ],
   "source": [
    "from ipywidgets import *\n",
    "\n",
    "style = {'description_width': '150px'}\n",
    "layout = {'width': '400px'}\n",
    "\n",
    "def helper(a,b,c):\n",
    "            print (a)\n",
    "TextField1 = Text(value='', placeholder='Type client table name',description='Client List Name:',disabled=False, style=style, layout=layout)\n",
    "TextField2 = Text(value='', placeholder='Type flagged column name',description='Flagged column name:',disabled=False, style=style, layout=layout)\n",
    "TextField3 = Text(value='', placeholder='Type columns name',description='Columns name:',disabled=False, style=style, layout=layout)\n",
    "x=interactive(helper,a=TextField1,b=TextField2,c=TextField3)\n",
    "display(x)"
   ]
  },
  {
   "cell_type": "code",
   "execution_count": 2,
   "metadata": {
    "jupyter": {
     "source_hidden": true
    }
   },
   "outputs": [
    {
     "data": {
      "application/vnd.jupyter.widget-view+json": {
       "model_id": "611c0c0c9a2b473db21b9ede161491c8",
       "version_major": 2,
       "version_minor": 0
      },
      "text/plain": [
       "VBox(children=(HBox(children=(Button(disabled=True, layout=Layout(min_width='200px', width='200px'), style=But…"
      ]
     },
     "metadata": {},
     "output_type": "display_data"
    },
    {
     "data": {
      "application/vnd.jupyter.widget-view+json": {
       "model_id": "78acf80024a84ea1bc2d4288370604b7",
       "version_major": 2,
       "version_minor": 0
      },
      "text/plain": [
       "Output()"
      ]
     },
     "metadata": {},
     "output_type": "display_data"
    }
   ],
   "source": [
    "table_style = {'description_width': 'initial'}\n",
    "table_layout = {'width':'150px', 'min_width':'150px', 'height':'28px', 'min_height':'28px'}\n",
    "row_layout = {'width':'200px', 'min_width':'200px'}\n",
    "\n",
    "table_header_0_widget = Button(\n",
    "    description='',\n",
    "    disabled=True,\n",
    "    button_style='',\n",
    "    tooltip='',\n",
    "    icon='',\n",
    "    layout=row_layout,\n",
    "    style=table_style\n",
    ")\n",
    "\n",
    "table_header_1_widget = Button( description='header 1',\n",
    "                                disabled=True,\n",
    "                                button_style='',\n",
    "                                tooltip='',\n",
    "                                icon='',\n",
    "                                #layout=header_layout,\n",
    "                                #style=table_style\n",
    "                                layout=table_layout\n",
    "                               )\n",
    "table_header_2_widget = Button( description='header 2',\n",
    "                                disabled=True,\n",
    "                                button_style='',\n",
    "                                tooltip='',\n",
    "                                icon='',\n",
    "                                #layout=header_layout,\n",
    "                                #style=table_style\n",
    "                                layout=table_layout\n",
    "                               ) \n",
    "table_header_3_widget = Button( description='header 3',\n",
    "                                disabled=True,\n",
    "                                button_style='',\n",
    "                                tooltip='',\n",
    "                                icon='',\n",
    "                                #layout=header_layout,\n",
    "                                #style=table_style\n",
    "                                layout=table_layout\n",
    "                               )\n",
    "\n",
    "row_1_0_widget = Button(\n",
    "    description='row2 looooooooooooong:',\n",
    "    disabled=True,\n",
    "    button_style='',\n",
    "    tooltip='',\n",
    "    icon='',\n",
    "    layout=row_layout,\n",
    "    style=table_style\n",
    ")\n",
    "row_1_1_widget = BoundedFloatText(\n",
    "                                    value=70.0,\n",
    "                                    min=30.0,\n",
    "                                    max=300.0,\n",
    "                                    step=1.0,\n",
    "                                    layout=table_layout,\n",
    "                                    style=table_style,\n",
    "                                 )\n",
    "row_1_2_widget = BoundedFloatText(\n",
    "                                    value=80.0,\n",
    "                                    min=30.0,\n",
    "                                    max=300.0,\n",
    "                                    step=1.0,\n",
    "                                    description='',\n",
    "                                    layout=table_layout,\n",
    "                                    style=table_style\n",
    "                                 )\n",
    "row_1_3_widget = BoundedFloatText(\n",
    "                                    value=90.0,\n",
    "                                    min=30.0,\n",
    "                                    max=300.0,\n",
    "                                    step=1.0,\n",
    "                                    description='',\n",
    "                                    layout=table_layout,\n",
    "                                    style=table_style\n",
    "                                 )\n",
    "row_2_0_widget = Button(\n",
    "    description='row3:',\n",
    "    disabled=True,\n",
    "    button_style='',\n",
    "    tooltip='',\n",
    "    icon='',\n",
    "    layout=row_layout,\n",
    "    style=table_style\n",
    ")\n",
    "row_2_1_widget = BoundedFloatText(\n",
    "                                    value=20.0,\n",
    "                                    min=1.0,\n",
    "                                    max=100.0,\n",
    "                                    step=1.0,\n",
    "                                    layout=table_layout,\n",
    "                                    style=table_style\n",
    "                                 )\n",
    "row_2_2_widget = BoundedFloatText(\n",
    "                                    value=30.0,\n",
    "                                    min=1.0,\n",
    "                                    max=100.0,\n",
    "                                    step=1.0,\n",
    "                                    description='',\n",
    "                                    layout=table_layout,\n",
    "                                    style=table_style\n",
    "                                 )\n",
    "row_2_3_widget = BoundedFloatText(\n",
    "                                    value=40.0,\n",
    "                                    min=1.0,\n",
    "                                    max=100.0,\n",
    "                                    step=1.0,\n",
    "                                    description='',\n",
    "                                    layout=table_layout,\n",
    "                                    style=table_style\n",
    "                                 )\n",
    "\n",
    "hbox1 = HBox([table_header_0_widget, table_header_1_widget, table_header_2_widget, table_header_3_widget])\n",
    "hbox2 = HBox([row_1_0_widget, row_1_1_widget, row_1_2_widget, row_1_3_widget])\n",
    "hbox3 = HBox([row_2_0_widget, row_2_1_widget, row_2_2_widget, row_2_3_widget])\n",
    "ui = VBox([hbox1, hbox2, hbox3])\n",
    "\n",
    "def func(p1,p2,p3,p4,p5,p6):\n",
    "    print(p1,p2,p3,p4,p5,p6)\n",
    "    \n",
    "w = interactive_output(func,\n",
    "                       { \n",
    "                         \"p1\":row_1_1_widget,\n",
    "                         \"p2\":row_1_2_widget,\n",
    "                         \"p3\":row_1_3_widget,\n",
    "                         \"p4\":row_2_1_widget,\n",
    "                         \"p5\":row_2_2_widget,\n",
    "                         \"p6\":row_2_3_widget,\n",
    "                       })\n",
    "\n",
    "display(ui, w)"
   ]
  },
  {
   "cell_type": "code",
   "execution_count": null,
   "metadata": {},
   "outputs": [],
   "source": []
  },
  {
   "cell_type": "code",
   "execution_count": null,
   "metadata": {},
   "outputs": [],
   "source": []
  },
  {
   "cell_type": "code",
   "execution_count": null,
   "metadata": {},
   "outputs": [],
   "source": []
  },
  {
   "cell_type": "code",
   "execution_count": null,
   "metadata": {},
   "outputs": [],
   "source": []
  }
 ],
 "metadata": {
  "kernelspec": {
   "display_name": "Python 3",
   "language": "python",
   "name": "python3"
  },
  "language_info": {
   "codemirror_mode": {
    "name": "ipython",
    "version": 3
   },
   "file_extension": ".py",
   "mimetype": "text/x-python",
   "name": "python",
   "nbconvert_exporter": "python",
   "pygments_lexer": "ipython3",
   "version": "3.9.1"
  },
  "widgets": {
   "application/vnd.jupyter.widget-state+json": {
    "state": {
     "051c3e5ad3d74460832e96f5098b051e": {
      "model_module": "@jupyter-widgets/base",
      "model_module_version": "1.2.0",
      "model_name": "LayoutModel",
      "state": {}
     },
     "07890e3b9a1748bebc2e3937311d97a8": {
      "model_module": "@jupyter-widgets/controls",
      "model_module_version": "1.5.0",
      "model_name": "DescriptionStyleModel",
      "state": {
       "description_width": "150px"
      }
     },
     "07f2fdc4848a4f5180f16f457538a453": {
      "model_module": "@jupyter-widgets/controls",
      "model_module_version": "1.5.0",
      "model_name": "BoundedFloatTextModel",
      "state": {
       "layout": "IPY_MODEL_2b451c4baeae49d2b2a308c5cf1f697c",
       "min": 1,
       "step": 1,
       "style": "IPY_MODEL_1c719197ccaa49b39f4ee2176d85c4a1",
       "value": 30
      }
     },
     "0c612ca0d65f44e2b43e670971c8bd7c": {
      "model_module": "@jupyter-widgets/controls",
      "model_module_version": "1.5.0",
      "model_name": "VBoxModel",
      "state": {
       "_dom_classes": [
        "widget-interact"
       ],
       "children": [
        "IPY_MODEL_1a45880325074f88b5da0a861af10ef8",
        "IPY_MODEL_9487aca8ea374b519209b367cf14850a",
        "IPY_MODEL_84be088cc31345d1bc086c88c09382e2",
        "IPY_MODEL_46a0fb25b9174b7f9a52d470ef98bf30"
       ],
       "layout": "IPY_MODEL_bbfd2ff0aeb9466099dcd9047392fbbd"
      }
     },
     "1418fa2ad87b407fa5f22f560fc43172": {
      "model_module": "@jupyter-widgets/controls",
      "model_module_version": "1.5.0",
      "model_name": "BoundedFloatTextModel",
      "state": {
       "layout": "IPY_MODEL_6026ceaab43a47308ee0ee17fe77a10d",
       "max": 300,
       "min": 30,
       "step": 1,
       "style": "IPY_MODEL_e43244c06d1d40a99e7d6db3a22bc483",
       "value": 90
      }
     },
     "196655309eaf4870a0c188a5d557f1c7": {
      "model_module": "@jupyter-widgets/controls",
      "model_module_version": "1.5.0",
      "model_name": "ButtonModel",
      "state": {
       "description": "header 3",
       "disabled": true,
       "layout": "IPY_MODEL_e3a6df1f448140d08bd3dd59da1f67cf",
       "style": "IPY_MODEL_5dd0d32a0748411e9395d3c2b27e5b10"
      }
     },
     "1a45880325074f88b5da0a861af10ef8": {
      "model_module": "@jupyter-widgets/controls",
      "model_module_version": "1.5.0",
      "model_name": "TextModel",
      "state": {
       "description": "Client List Name:",
       "layout": "IPY_MODEL_e20ad12f8f424eca94bb57eb13c6dd12",
       "placeholder": "Type client table name",
       "style": "IPY_MODEL_07890e3b9a1748bebc2e3937311d97a8"
      }
     },
     "1c719197ccaa49b39f4ee2176d85c4a1": {
      "model_module": "@jupyter-widgets/controls",
      "model_module_version": "1.5.0",
      "model_name": "DescriptionStyleModel",
      "state": {
       "description_width": "initial"
      }
     },
     "22e3ddc241214d64a7d2c9e9bdd4b8fc": {
      "model_module": "@jupyter-widgets/controls",
      "model_module_version": "1.5.0",
      "model_name": "BoundedFloatTextModel",
      "state": {
       "layout": "IPY_MODEL_2daad65630ab418baf95a9f3337912dd",
       "max": 300,
       "min": 30,
       "step": 1,
       "style": "IPY_MODEL_75fcff9e11b44e6badd505fd96841224",
       "value": 70
      }
     },
     "243655a84db246d2a01020be3acfdc39": {
      "model_module": "@jupyter-widgets/controls",
      "model_module_version": "1.5.0",
      "model_name": "ButtonModel",
      "state": {
       "description": "row2 looooooooooooong:",
       "disabled": true,
       "layout": "IPY_MODEL_245c1cba760b4a36864787d5c247677e",
       "style": "IPY_MODEL_2ddd4e738c8b4cd7874242524081f7c8"
      }
     },
     "245c1cba760b4a36864787d5c247677e": {
      "model_module": "@jupyter-widgets/base",
      "model_module_version": "1.2.0",
      "model_name": "LayoutModel",
      "state": {
       "min_width": "200px",
       "width": "200px"
      }
     },
     "248b04b5b27442a48dcf9f2eacb66f3d": {
      "model_module": "@jupyter-widgets/controls",
      "model_module_version": "1.5.0",
      "model_name": "ButtonStyleModel",
      "state": {}
     },
     "2b451c4baeae49d2b2a308c5cf1f697c": {
      "model_module": "@jupyter-widgets/base",
      "model_module_version": "1.2.0",
      "model_name": "LayoutModel",
      "state": {
       "height": "28px",
       "min_height": "28px",
       "min_width": "150px",
       "width": "150px"
      }
     },
     "2b8ea5dd87604e56b5e7c74a78531473": {
      "model_module": "@jupyter-widgets/base",
      "model_module_version": "1.2.0",
      "model_name": "LayoutModel",
      "state": {}
     },
     "2c68a9b166ce4941955dbc6bc3202854": {
      "model_module": "@jupyter-widgets/controls",
      "model_module_version": "1.5.0",
      "model_name": "DescriptionStyleModel",
      "state": {
       "description_width": "150px"
      }
     },
     "2daad65630ab418baf95a9f3337912dd": {
      "model_module": "@jupyter-widgets/base",
      "model_module_version": "1.2.0",
      "model_name": "LayoutModel",
      "state": {
       "height": "28px",
       "min_height": "28px",
       "min_width": "150px",
       "width": "150px"
      }
     },
     "2ddd4e738c8b4cd7874242524081f7c8": {
      "model_module": "@jupyter-widgets/controls",
      "model_module_version": "1.5.0",
      "model_name": "ButtonStyleModel",
      "state": {}
     },
     "37e889abd9af4aa382d8602b9d60d06b": {
      "model_module": "@jupyter-widgets/controls",
      "model_module_version": "1.5.0",
      "model_name": "HBoxModel",
      "state": {
       "children": [
        "IPY_MODEL_4baab00867f74daaa3c161d9b8ef21a9",
        "IPY_MODEL_5347d74c641d42b1b43498642361ce21",
        "IPY_MODEL_07f2fdc4848a4f5180f16f457538a453",
        "IPY_MODEL_a3e6ee1e7f424038a1dfc06d36914f92"
       ],
       "layout": "IPY_MODEL_e69a39b079104b2ca5ef053d2d59a4bc"
      }
     },
     "389a1b3f370b457f9ad3ae7655d37b61": {
      "model_module": "@jupyter-widgets/base",
      "model_module_version": "1.2.0",
      "model_name": "LayoutModel",
      "state": {
       "width": "400px"
      }
     },
     "42446c48b2204d86b9eee782935342e4": {
      "model_module": "@jupyter-widgets/base",
      "model_module_version": "1.2.0",
      "model_name": "LayoutModel",
      "state": {
       "width": "400px"
      }
     },
     "46a0fb25b9174b7f9a52d470ef98bf30": {
      "model_module": "@jupyter-widgets/output",
      "model_module_version": "1.0.0",
      "model_name": "OutputModel",
      "state": {
       "layout": "IPY_MODEL_bc355d5aab62432394f4ebc759fc984b",
       "outputs": [
        {
         "name": "stdout",
         "output_type": "stream",
         "text": "\n"
        }
       ]
      }
     },
     "4982a160fa2b43659cf4aedf8246d68b": {
      "model_module": "@jupyter-widgets/output",
      "model_module_version": "1.0.0",
      "model_name": "OutputModel",
      "state": {
       "layout": "IPY_MODEL_051c3e5ad3d74460832e96f5098b051e",
       "outputs": [
        {
         "name": "stdout",
         "output_type": "stream",
         "text": "\n"
        }
       ]
      }
     },
     "4baab00867f74daaa3c161d9b8ef21a9": {
      "model_module": "@jupyter-widgets/controls",
      "model_module_version": "1.5.0",
      "model_name": "ButtonModel",
      "state": {
       "description": "row3:",
       "disabled": true,
       "layout": "IPY_MODEL_7f1ae672587747249678f4a564543778",
       "style": "IPY_MODEL_248b04b5b27442a48dcf9f2eacb66f3d"
      }
     },
     "4ca406626b114e9ab238cba58fcfb293": {
      "model_module": "@jupyter-widgets/controls",
      "model_module_version": "1.5.0",
      "model_name": "DescriptionStyleModel",
      "state": {
       "description_width": "initial"
      }
     },
     "4e417489c36f400fbe0b317eb9088e4e": {
      "model_module": "@jupyter-widgets/base",
      "model_module_version": "1.2.0",
      "model_name": "LayoutModel",
      "state": {
       "width": "400px"
      }
     },
     "50d38cd27d0742aba16572eb81aaf917": {
      "model_module": "@jupyter-widgets/base",
      "model_module_version": "1.2.0",
      "model_name": "LayoutModel",
      "state": {}
     },
     "5347d74c641d42b1b43498642361ce21": {
      "model_module": "@jupyter-widgets/controls",
      "model_module_version": "1.5.0",
      "model_name": "BoundedFloatTextModel",
      "state": {
       "layout": "IPY_MODEL_ffbf399d5f784bb89bfdb76417bc07a5",
       "min": 1,
       "step": 1,
       "style": "IPY_MODEL_4ca406626b114e9ab238cba58fcfb293",
       "value": 20
      }
     },
     "5410980f3d42493087b249499941eb33": {
      "model_module": "@jupyter-widgets/base",
      "model_module_version": "1.2.0",
      "model_name": "LayoutModel",
      "state": {
       "height": "28px",
       "min_height": "28px",
       "min_width": "150px",
       "width": "150px"
      }
     },
     "59d9eee47b2d4bd5b81e48d3c3dd80e9": {
      "model_module": "@jupyter-widgets/controls",
      "model_module_version": "1.5.0",
      "model_name": "ButtonStyleModel",
      "state": {}
     },
     "59ee0d9bce694f9d9c20ef1cac84b3ae": {
      "model_module": "@jupyter-widgets/controls",
      "model_module_version": "1.5.0",
      "model_name": "DescriptionStyleModel",
      "state": {
       "description_width": "initial"
      }
     },
     "5dd0d32a0748411e9395d3c2b27e5b10": {
      "model_module": "@jupyter-widgets/controls",
      "model_module_version": "1.5.0",
      "model_name": "ButtonStyleModel",
      "state": {}
     },
     "6026ceaab43a47308ee0ee17fe77a10d": {
      "model_module": "@jupyter-widgets/base",
      "model_module_version": "1.2.0",
      "model_name": "LayoutModel",
      "state": {
       "height": "28px",
       "min_height": "28px",
       "min_width": "150px",
       "width": "150px"
      }
     },
     "611c0c0c9a2b473db21b9ede161491c8": {
      "model_module": "@jupyter-widgets/controls",
      "model_module_version": "1.5.0",
      "model_name": "VBoxModel",
      "state": {
       "children": [
        "IPY_MODEL_dc606f23b17f431b83d1a23ab8dbb655",
        "IPY_MODEL_d359678073b348e891479851ef43e27e",
        "IPY_MODEL_37e889abd9af4aa382d8602b9d60d06b"
       ],
       "layout": "IPY_MODEL_71738f4163254bf99b80079b9c373915"
      }
     },
     "6497ea09ff96450e8792951b0b5bdc88": {
      "model_module": "@jupyter-widgets/controls",
      "model_module_version": "1.5.0",
      "model_name": "ButtonModel",
      "state": {
       "description": "header 1",
       "disabled": true,
       "layout": "IPY_MODEL_9e61e420a7ae4e35bbd781b7ba64f1d3",
       "style": "IPY_MODEL_59d9eee47b2d4bd5b81e48d3c3dd80e9"
      }
     },
     "6ed7b33078c646e698df877dfe9eb946": {
      "model_module": "@jupyter-widgets/controls",
      "model_module_version": "1.5.0",
      "model_name": "ButtonStyleModel",
      "state": {}
     },
     "71738f4163254bf99b80079b9c373915": {
      "model_module": "@jupyter-widgets/base",
      "model_module_version": "1.2.0",
      "model_name": "LayoutModel",
      "state": {}
     },
     "75fcff9e11b44e6badd505fd96841224": {
      "model_module": "@jupyter-widgets/controls",
      "model_module_version": "1.5.0",
      "model_name": "DescriptionStyleModel",
      "state": {
       "description_width": "initial"
      }
     },
     "78acf80024a84ea1bc2d4288370604b7": {
      "model_module": "@jupyter-widgets/output",
      "model_module_version": "1.0.0",
      "model_name": "OutputModel",
      "state": {
       "layout": "IPY_MODEL_b9f1ed4fa4a242a5b01f71af751127bb",
       "outputs": [
        {
         "name": "stdout",
         "output_type": "stream",
         "text": "70.0 80.0 90.0 20.0 30.0 40.0\n"
        }
       ]
      }
     },
     "7f1ae672587747249678f4a564543778": {
      "model_module": "@jupyter-widgets/base",
      "model_module_version": "1.2.0",
      "model_name": "LayoutModel",
      "state": {
       "min_width": "200px",
       "width": "200px"
      }
     },
     "84be088cc31345d1bc086c88c09382e2": {
      "model_module": "@jupyter-widgets/controls",
      "model_module_version": "1.5.0",
      "model_name": "TextModel",
      "state": {
       "description": "Columns name:",
       "layout": "IPY_MODEL_9a0214ea23c64f86a3d07cef2cfef424",
       "placeholder": "Type columns name",
       "style": "IPY_MODEL_2c68a9b166ce4941955dbc6bc3202854"
      }
     },
     "8883ef81cbd0422b8bbd06a91fb39775": {
      "model_module": "@jupyter-widgets/controls",
      "model_module_version": "1.5.0",
      "model_name": "ButtonModel",
      "state": {
       "description": "header 2",
       "disabled": true,
       "layout": "IPY_MODEL_5410980f3d42493087b249499941eb33",
       "style": "IPY_MODEL_ff3aef8774be4b70ab8145241cdf76d3"
      }
     },
     "8e6eb5b878b843fbab7ff65937394660": {
      "model_module": "@jupyter-widgets/controls",
      "model_module_version": "1.5.0",
      "model_name": "VBoxModel",
      "state": {
       "_dom_classes": [
        "widget-interact"
       ],
       "children": [
        "IPY_MODEL_ca56ac9985b3421ab32596df476f2364",
        "IPY_MODEL_df2627be50824463999b0076ec32018a",
        "IPY_MODEL_b2eb42165e624485a0e783bfa2f65e27",
        "IPY_MODEL_4982a160fa2b43659cf4aedf8246d68b"
       ],
       "layout": "IPY_MODEL_dc3eb1c3767649cfbb42257d901be857"
      }
     },
     "9487aca8ea374b519209b367cf14850a": {
      "model_module": "@jupyter-widgets/controls",
      "model_module_version": "1.5.0",
      "model_name": "TextModel",
      "state": {
       "description": "Flagged column name:",
       "layout": "IPY_MODEL_42446c48b2204d86b9eee782935342e4",
       "placeholder": "Type flagged column name",
       "style": "IPY_MODEL_b12f79d9700148bc9b5475b3f6430e78"
      }
     },
     "97a90384392f448fbd320bad320efb7d": {
      "model_module": "@jupyter-widgets/base",
      "model_module_version": "1.2.0",
      "model_name": "LayoutModel",
      "state": {
       "height": "28px",
       "min_height": "28px",
       "min_width": "150px",
       "width": "150px"
      }
     },
     "9a0214ea23c64f86a3d07cef2cfef424": {
      "model_module": "@jupyter-widgets/base",
      "model_module_version": "1.2.0",
      "model_name": "LayoutModel",
      "state": {
       "width": "400px"
      }
     },
     "9df6e7cc980a48e5b5da43432d70f167": {
      "model_module": "@jupyter-widgets/controls",
      "model_module_version": "1.5.0",
      "model_name": "DescriptionStyleModel",
      "state": {
       "description_width": "150px"
      }
     },
     "9e61e420a7ae4e35bbd781b7ba64f1d3": {
      "model_module": "@jupyter-widgets/base",
      "model_module_version": "1.2.0",
      "model_name": "LayoutModel",
      "state": {
       "height": "28px",
       "min_height": "28px",
       "min_width": "150px",
       "width": "150px"
      }
     },
     "a3e6ee1e7f424038a1dfc06d36914f92": {
      "model_module": "@jupyter-widgets/controls",
      "model_module_version": "1.5.0",
      "model_name": "BoundedFloatTextModel",
      "state": {
       "layout": "IPY_MODEL_97a90384392f448fbd320bad320efb7d",
       "min": 1,
       "step": 1,
       "style": "IPY_MODEL_d843ce5ef3c84d15b1c5f05430b86cbe",
       "value": 40
      }
     },
     "a4eac41d968345d694748459a9e38e5b": {
      "model_module": "@jupyter-widgets/base",
      "model_module_version": "1.2.0",
      "model_name": "LayoutModel",
      "state": {
       "width": "400px"
      }
     },
     "a7d55fee433545c9aa9e213dde369748": {
      "model_module": "@jupyter-widgets/controls",
      "model_module_version": "1.5.0",
      "model_name": "ButtonModel",
      "state": {
       "disabled": true,
       "layout": "IPY_MODEL_b3904b3b20294018a9a083bdb7dda137",
       "style": "IPY_MODEL_6ed7b33078c646e698df877dfe9eb946"
      }
     },
     "b12f79d9700148bc9b5475b3f6430e78": {
      "model_module": "@jupyter-widgets/controls",
      "model_module_version": "1.5.0",
      "model_name": "DescriptionStyleModel",
      "state": {
       "description_width": "150px"
      }
     },
     "b2eb42165e624485a0e783bfa2f65e27": {
      "model_module": "@jupyter-widgets/controls",
      "model_module_version": "1.5.0",
      "model_name": "TextModel",
      "state": {
       "description": "Columns name:",
       "layout": "IPY_MODEL_389a1b3f370b457f9ad3ae7655d37b61",
       "placeholder": "Type columns name",
       "style": "IPY_MODEL_9df6e7cc980a48e5b5da43432d70f167"
      }
     },
     "b3904b3b20294018a9a083bdb7dda137": {
      "model_module": "@jupyter-widgets/base",
      "model_module_version": "1.2.0",
      "model_name": "LayoutModel",
      "state": {
       "min_width": "200px",
       "width": "200px"
      }
     },
     "b4842646320f482d9c41366c16c0aab5": {
      "model_module": "@jupyter-widgets/controls",
      "model_module_version": "1.5.0",
      "model_name": "DescriptionStyleModel",
      "state": {
       "description_width": "150px"
      }
     },
     "b9f1ed4fa4a242a5b01f71af751127bb": {
      "model_module": "@jupyter-widgets/base",
      "model_module_version": "1.2.0",
      "model_name": "LayoutModel",
      "state": {}
     },
     "bbfd2ff0aeb9466099dcd9047392fbbd": {
      "model_module": "@jupyter-widgets/base",
      "model_module_version": "1.2.0",
      "model_name": "LayoutModel",
      "state": {}
     },
     "bc355d5aab62432394f4ebc759fc984b": {
      "model_module": "@jupyter-widgets/base",
      "model_module_version": "1.2.0",
      "model_name": "LayoutModel",
      "state": {}
     },
     "be43f78f581645f9a409a3dc6f6347f4": {
      "model_module": "@jupyter-widgets/controls",
      "model_module_version": "1.5.0",
      "model_name": "DescriptionStyleModel",
      "state": {
       "description_width": "150px"
      }
     },
     "ca56ac9985b3421ab32596df476f2364": {
      "model_module": "@jupyter-widgets/controls",
      "model_module_version": "1.5.0",
      "model_name": "TextModel",
      "state": {
       "description": "Client List Name:",
       "layout": "IPY_MODEL_4e417489c36f400fbe0b317eb9088e4e",
       "placeholder": "Type client table name",
       "style": "IPY_MODEL_be43f78f581645f9a409a3dc6f6347f4"
      }
     },
     "cc53c931b1e641d8b3f626a02c98a107": {
      "model_module": "@jupyter-widgets/controls",
      "model_module_version": "1.5.0",
      "model_name": "BoundedFloatTextModel",
      "state": {
       "layout": "IPY_MODEL_f17b8882af784cc4a2d2ab11466b5a78",
       "max": 300,
       "min": 30,
       "step": 1,
       "style": "IPY_MODEL_59ee0d9bce694f9d9c20ef1cac84b3ae",
       "value": 80
      }
     },
     "d359678073b348e891479851ef43e27e": {
      "model_module": "@jupyter-widgets/controls",
      "model_module_version": "1.5.0",
      "model_name": "HBoxModel",
      "state": {
       "children": [
        "IPY_MODEL_243655a84db246d2a01020be3acfdc39",
        "IPY_MODEL_22e3ddc241214d64a7d2c9e9bdd4b8fc",
        "IPY_MODEL_cc53c931b1e641d8b3f626a02c98a107",
        "IPY_MODEL_1418fa2ad87b407fa5f22f560fc43172"
       ],
       "layout": "IPY_MODEL_2b8ea5dd87604e56b5e7c74a78531473"
      }
     },
     "d843ce5ef3c84d15b1c5f05430b86cbe": {
      "model_module": "@jupyter-widgets/controls",
      "model_module_version": "1.5.0",
      "model_name": "DescriptionStyleModel",
      "state": {
       "description_width": "initial"
      }
     },
     "dc3eb1c3767649cfbb42257d901be857": {
      "model_module": "@jupyter-widgets/base",
      "model_module_version": "1.2.0",
      "model_name": "LayoutModel",
      "state": {}
     },
     "dc606f23b17f431b83d1a23ab8dbb655": {
      "model_module": "@jupyter-widgets/controls",
      "model_module_version": "1.5.0",
      "model_name": "HBoxModel",
      "state": {
       "children": [
        "IPY_MODEL_a7d55fee433545c9aa9e213dde369748",
        "IPY_MODEL_6497ea09ff96450e8792951b0b5bdc88",
        "IPY_MODEL_8883ef81cbd0422b8bbd06a91fb39775",
        "IPY_MODEL_196655309eaf4870a0c188a5d557f1c7"
       ],
       "layout": "IPY_MODEL_50d38cd27d0742aba16572eb81aaf917"
      }
     },
     "df2627be50824463999b0076ec32018a": {
      "model_module": "@jupyter-widgets/controls",
      "model_module_version": "1.5.0",
      "model_name": "TextModel",
      "state": {
       "description": "Flagged column name:",
       "layout": "IPY_MODEL_a4eac41d968345d694748459a9e38e5b",
       "placeholder": "Type flagged column name",
       "style": "IPY_MODEL_b4842646320f482d9c41366c16c0aab5"
      }
     },
     "e20ad12f8f424eca94bb57eb13c6dd12": {
      "model_module": "@jupyter-widgets/base",
      "model_module_version": "1.2.0",
      "model_name": "LayoutModel",
      "state": {
       "width": "400px"
      }
     },
     "e3a6df1f448140d08bd3dd59da1f67cf": {
      "model_module": "@jupyter-widgets/base",
      "model_module_version": "1.2.0",
      "model_name": "LayoutModel",
      "state": {
       "height": "28px",
       "min_height": "28px",
       "min_width": "150px",
       "width": "150px"
      }
     },
     "e43244c06d1d40a99e7d6db3a22bc483": {
      "model_module": "@jupyter-widgets/controls",
      "model_module_version": "1.5.0",
      "model_name": "DescriptionStyleModel",
      "state": {
       "description_width": "initial"
      }
     },
     "e69a39b079104b2ca5ef053d2d59a4bc": {
      "model_module": "@jupyter-widgets/base",
      "model_module_version": "1.2.0",
      "model_name": "LayoutModel",
      "state": {}
     },
     "f17b8882af784cc4a2d2ab11466b5a78": {
      "model_module": "@jupyter-widgets/base",
      "model_module_version": "1.2.0",
      "model_name": "LayoutModel",
      "state": {
       "height": "28px",
       "min_height": "28px",
       "min_width": "150px",
       "width": "150px"
      }
     },
     "ff3aef8774be4b70ab8145241cdf76d3": {
      "model_module": "@jupyter-widgets/controls",
      "model_module_version": "1.5.0",
      "model_name": "ButtonStyleModel",
      "state": {}
     },
     "ffbf399d5f784bb89bfdb76417bc07a5": {
      "model_module": "@jupyter-widgets/base",
      "model_module_version": "1.2.0",
      "model_name": "LayoutModel",
      "state": {
       "height": "28px",
       "min_height": "28px",
       "min_width": "150px",
       "width": "150px"
      }
     }
    },
    "version_major": 2,
    "version_minor": 0
   }
  }
 },
 "nbformat": 4,
 "nbformat_minor": 4
}
