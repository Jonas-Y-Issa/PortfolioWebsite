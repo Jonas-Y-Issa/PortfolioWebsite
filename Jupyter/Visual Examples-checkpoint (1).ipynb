{
 "cells": [
  {
   "cell_type": "code",
   "execution_count": 10,
   "metadata": {},
   "outputs": [],
   "source": [
    "import handcalcs.render\n",
    "import handcalcs.decorator\n",
    "from handcalcs import handcalc\n",
    "import numpy as np\n",
    "import sympy as sp\n",
    "from math import sqrt, sin, tan, cos\n",
    "\n",
    "import ipywidgets as widgets\n",
    "\n",
    "import time\n",
    "import pylab as pl\n",
    "from IPython import display\n",
    "\n",
    "import forallpeople\n",
    "forallpeople.environment('structural')"
   ]
  },
  {
   "cell_type": "code",
   "execution_count": 11,
   "metadata": {},
   "outputs": [
    {
     "data": {
      "application/vnd.jupyter.widget-view+json": {
       "model_id": "0bdbcf0288e140c596f0f5f531041232",
       "version_major": 2,
       "version_minor": 0
      },
      "text/plain": [
       "Sines(children=(VBox(children=(IntSlider(value=1, description='freq', max=10), ColorPicker(value='#FF00DD', de…"
      ]
     },
     "metadata": {},
     "output_type": "display_data"
    }
   ],
   "source": [
    "%matplotlib widget\n",
    "import ipywidgets as widgets\n",
    "import matplotlib.pyplot as plt\n",
    "import numpy as np\n",
    "\n",
    "def make_box_layout():\n",
    "     return widgets.Layout(\n",
    "        border='solid 1px black',\n",
    "        margin='0px 10px 10px 0px',\n",
    "        padding='5px 5px 5px 5px'\n",
    "     )\n",
    "\n",
    "\n",
    "class Sines(widgets.HBox):\n",
    "\n",
    "    def __init__(self):\n",
    "        super().__init__()\n",
    "        output = widgets.Output()\n",
    "\n",
    "        self.x = np.linspace(0, 2 * np.pi, 100)\n",
    "        initial_color = '#FF00DD'\n",
    "\n",
    "        with output:\n",
    "            self.fig, self.ax = plt.subplots(constrained_layout=True, figsize=(5, 3.5))\n",
    "        self.line, = self.ax.plot(self.x, np.sin(self.x), initial_color)\n",
    "\n",
    "        self.fig.canvas.toolbar_position = 'bottom'\n",
    "        self.ax.grid(True)\n",
    "\n",
    "        # define widgets\n",
    "        int_slider = widgets.IntSlider(\n",
    "            value=1, \n",
    "            min=0, \n",
    "            max=10, \n",
    "            step=1, \n",
    "            description='freq'\n",
    "        )\n",
    "        color_picker = widgets.ColorPicker(\n",
    "            value=initial_color, \n",
    "            description='pick a color'\n",
    "        )\n",
    "        text_xlabel = widgets.Text(\n",
    "            value='', \n",
    "            description='xlabel', \n",
    "            continuous_update=False\n",
    "        )\n",
    "        text_ylabel = widgets.Text(\n",
    "            value='', \n",
    "            description='ylabel', \n",
    "            continuous_update=False\n",
    "        )\n",
    " \n",
    "        controls = widgets.VBox([\n",
    "            int_slider, \n",
    "            color_picker, \n",
    "            text_xlabel, \n",
    "            text_ylabel\n",
    "        ])\n",
    "        controls.layout = make_box_layout()\n",
    "\n",
    "        out_box = widgets.Box([output])\n",
    "        output.layout = make_box_layout()\n",
    "\n",
    "        # observe stuff\n",
    "        int_slider.observe(self.update, 'value')\n",
    "        color_picker.observe(self.line_color, 'value')\n",
    "        text_xlabel.observe(self.update_xlabel, 'value')\n",
    "        text_ylabel.observe(self.update_ylabel, 'value')\n",
    "\n",
    "        text_xlabel.value = 'x'\n",
    "        text_ylabel.value = 'y'\n",
    "\n",
    "\n",
    "        # add to children\n",
    "        self.children = [controls, output]\n",
    "\n",
    "    def update(self, change):\n",
    "        \"\"\"Draw line in plot\"\"\"\n",
    "        self.line.set_ydata(np.sin(change.new * self.x))\n",
    "        self.fig.canvas.draw()\n",
    "\n",
    "    def line_color(self, change):\n",
    "        self.line.set_color(change.new)\n",
    "\n",
    "    def update_xlabel(self, change):\n",
    "        self.ax.set_xlabel(change.new)\n",
    "\n",
    "    def update_ylabel(self, change):\n",
    "        self.ax.set_ylabel(change.new)\n",
    "\n",
    "\n",
    "Sines()"
   ]
  },
  {
   "cell_type": "markdown",
   "metadata": {},
   "source": [
    "\n",
    "\\begin{equation}\n",
    "\\frac{\\Delta \\lambda}{\\lambda} \\approx \\frac{g \\Delta y}{c^{2}}\n",
    "\\end{equation}\n",
    "\n",
    "\\begin{equation}\n",
    "d s^{2}=-\\left(1-\\frac{2 V(r)}{c^{2}}\\right) c^{2} d t^{2}+d x^{2}+d y^{2}+d z^{2}\n",
    "\\end{equation}\n",
    "\n",
    "\\begin{equation}\n",
    "\\begin{array}{ll}\n",
    "\\text { GR } \\quad v_{\\text {rec }}(t, z)=\\frac{c}{R_{0}} \\dot{R}(t) \\int_{0}^{z} \\frac{d z^{\\prime}}{H\\left(z^{\\prime}\\right)} \\\\\n",
    "\\text { SR } \\quad v_{\\text {pec }}(z)=c \\frac{(1+z)^{2}-1}{(1+z)^{2}+1}\n",
    "\\end{array}\n",
    "\\end{equation}\n",
    "\n",
    "\\begin{equation}\n",
    "d_{M}(z)=\\left\\{\\begin{array}{ll}\n",
    "\\frac{d_{H}}{\\sqrt{\\Omega_{k}}} \\sinh \\left(\\sqrt{\\Omega_{k}} d_{C}(z) / d_{H}\\right) & \\text { for } \\Omega_{k}>0 \\\\\n",
    "d_{C}(z) & \\text { for } \\Omega_{k}=0 \\\\\n",
    "\\frac{d_{H}}{\\sqrt{\\Omega_{k} \\mid}} \\sin \\left(\\sqrt{\\left|\\Omega_{k}\\right|} d_{C}(z) / d_{H}\\right) & \\text { for } \\Omega_{k}<0\n",
    "\\end{array}\\right.\n",
    "\\end{equation}"
   ]
  },
  {
   "cell_type": "code",
   "execution_count": 12,
   "metadata": {},
   "outputs": [
    {
     "data": {
      "application/vnd.jupyter.widget-view+json": {
       "model_id": "3189cff0a5644717a733bdd249425f63",
       "version_major": 2,
       "version_minor": 0
      },
      "text/plain": [
       "VBox(children=(IntSlider(value=5, description='slider', max=10), IntRangeSlider(value=(20, 40), description='r…"
      ]
     },
     "metadata": {},
     "output_type": "display_data"
    }
   ],
   "source": [
    "int_slider = widgets.IntSlider(\n",
    "    value=5, \n",
    "    min=0, max=10, step=1, \n",
    "    description='slider'\n",
    ")\n",
    " \n",
    "int_range_slider = widgets.IntRangeSlider(\n",
    "    value=(20, 40), \n",
    "    min=0, max=100, step=2, \n",
    "    description='range slider'\n",
    ")\n",
    " \n",
    "dropdown = widgets.Dropdown(\n",
    "    value='feb', \n",
    "    options=['jan', 'feb', 'mar', 'apr'], \n",
    "    description='dropdown'\n",
    ")\n",
    " \n",
    "radiobuttons = widgets.RadioButtons(\n",
    "    value='feb', \n",
    "    options=['jan', 'feb', 'mar', 'apr'], \n",
    "    description='radio buttons'\n",
    ")\n",
    " \n",
    "combobox = widgets.Combobox(\n",
    "    placeholder='start typing... (e.g. L or o)',\n",
    "    options=['Amsterdam', 'Athens', 'Lisbon', 'London', 'Ljubljana'], \n",
    "    description='combo box'\n",
    ")\n",
    " \n",
    "checkbox = widgets.Checkbox(\n",
    "    description='checkbox',\n",
    "    value=True\n",
    ")\n",
    " \n",
    " \n",
    "# a VBox container to pack widgets vertically\n",
    "widgets.VBox(\n",
    "    [\n",
    "        int_slider, \n",
    "        int_range_slider, \n",
    "        dropdown, \n",
    "        radiobuttons,\n",
    "        checkbox,\n",
    "        combobox,\n",
    "    ]\n",
    ")"
   ]
  },
  {
   "cell_type": "code",
   "execution_count": 13,
   "metadata": {},
   "outputs": [
    {
     "data": {
      "application/vnd.jupyter.widget-view+json": {
       "model_id": "6093a8858a99473393a33f55c29fca1a",
       "version_major": 2,
       "version_minor": 0
      },
      "text/plain": [
       "VBox(children=(Label(value='A label'), HTML(value='<b>Formatted</b> <font color=\"red\">html</font>'), Text(valu…"
      ]
     },
     "metadata": {},
     "output_type": "display_data"
    }
   ],
   "source": [
    "label = widgets.Label(\n",
    "    value='A label')\n",
    " \n",
    "html = widgets.HTML(\n",
    "    value='<b>Formatted</b> <font color=\"red\">html</font>', \n",
    "    description=''\n",
    ")\n",
    " \n",
    "text = widgets.Text(\n",
    "    value='A text field', \n",
    "    description='text field'\n",
    ")\n",
    " \n",
    "textarea = widgets.Textarea(\n",
    "    value='A text area for longer texts', \n",
    "    description='text area'\n",
    ")\n",
    " \n",
    "# show the three together in a VBox (vertical box container)\n",
    "widgets.VBox([label, html, text, textarea])"
   ]
  },
  {
   "cell_type": "code",
   "execution_count": 4,
   "metadata": {},
   "outputs": [
    {
     "data": {
      "application/vnd.jupyter.widget-view+json": {
       "model_id": "de6b757a7b89474fa37904e2c0e77207",
       "version_major": 2,
       "version_minor": 0
      },
      "text/plain": [
       "Textarea(value='Accordion\\nAppLayout\\nAudio\\nBoundedFloatText\\nBoundedIntText\\nBox\\nButton\\nButtonStyle\\nCallb…"
      ]
     },
     "metadata": {},
     "output_type": "display_data"
    }
   ],
   "source": [
    "widgets.Textarea(\n",
    "    '\\n'.join([w for w in dir(widgets) if not w.islower()]),\n",
    "    layout=widgets.Layout(height='200px')\n",
    ")"
   ]
  },
  {
   "cell_type": "code",
   "execution_count": 5,
   "metadata": {},
   "outputs": [],
   "source": [
    "b1 = widgets.Button(description='button 1')\n",
    "b2 = widgets.Button(description='button 2')\n",
    "b3 = widgets.Button(description='button 3')"
   ]
  },
  {
   "cell_type": "code",
   "execution_count": 6,
   "metadata": {},
   "outputs": [
    {
     "data": {
      "application/vnd.jupyter.widget-view+json": {
       "model_id": "6710cc74c01e44c488e67442cafcf896",
       "version_major": 2,
       "version_minor": 0
      },
      "text/plain": [
       "HBox(children=(Button(description='button 1', style=ButtonStyle()), Button(description='button 2', style=Butto…"
      ]
     },
     "metadata": {},
     "output_type": "display_data"
    }
   ],
   "source": [
    "widgets.HBox([b1, b2, b3])"
   ]
  },
  {
   "cell_type": "code",
   "execution_count": 7,
   "metadata": {},
   "outputs": [
    {
     "data": {
      "application/vnd.jupyter.widget-view+json": {
       "model_id": "7588395df9c04e0181355b61f45e7f8e",
       "version_major": 2,
       "version_minor": 0
      },
      "text/plain": [
       "VBox(children=(Button(description='button 1', style=ButtonStyle()), Button(description='button 2', style=Butto…"
      ]
     },
     "metadata": {},
     "output_type": "display_data"
    }
   ],
   "source": [
    "widgets.VBox([b1, b2, b3])"
   ]
  },
  {
   "cell_type": "code",
   "execution_count": 8,
   "metadata": {},
   "outputs": [
    {
     "data": {
      "application/vnd.jupyter.widget-view+json": {
       "model_id": "19f2392c69c94383a59983d29df62a74",
       "version_major": 2,
       "version_minor": 0
      },
      "text/plain": [
       "HBox(children=(VBox(children=(Label(value='Left'), Button(description='button 1', style=ButtonStyle()), Button…"
      ]
     },
     "metadata": {},
     "output_type": "display_data"
    }
   ],
   "source": [
    "def make_boxes():\n",
    "    vbox1 = widgets.VBox([widgets.Label('Left'), b1, b2])\n",
    "    vbox2 = widgets.VBox([widgets.Label('Right'), dropdown, radiobuttons])\n",
    "    return vbox1, vbox2\n",
    " \n",
    "vbox1, vbox2 = make_boxes()\n",
    " \n",
    "widgets.HBox([vbox1, vbox2])"
   ]
  },
  {
   "cell_type": "code",
   "execution_count": 9,
   "metadata": {},
   "outputs": [
    {
     "data": {
      "application/vnd.jupyter.widget-view+json": {
       "model_id": "724204d729d140e1a4f6f549301bc642",
       "version_major": 2,
       "version_minor": 0
      },
      "text/plain": [
       "HBox(children=(VBox(children=(Label(value='Left'), Button(description='button 1', style=ButtonStyle()), Button…"
      ]
     },
     "metadata": {},
     "output_type": "display_data"
    }
   ],
   "source": [
    "def make_box_layout():\n",
    "     return widgets.Layout(\n",
    "        border='solid 1px red',\n",
    "        margin='0px 10px 10px 0px',\n",
    "        padding='5px 5px 5px 5px'\n",
    "     )\n",
    "     \n",
    "vbox1, vbox2 = make_boxes()\n",
    " \n",
    "vbox1.layout = make_box_layout()\n",
    "vbox2.layout = make_box_layout()\n",
    " \n",
    "# really change vbox1 only\n",
    "vbox1.layout.width = '400px'\n",
    "vbox1.layout.border = 'solid 2px green'\n",
    " \n",
    "widgets.HBox([vbox1, vbox2])"
   ]
  },
  {
   "cell_type": "code",
   "execution_count": null,
   "metadata": {},
   "outputs": [],
   "source": []
  }
 ],
 "metadata": {
  "kernelspec": {
   "display_name": "Python 3",
   "language": "python",
   "name": "python3"
  },
  "language_info": {
   "codemirror_mode": {
    "name": "ipython",
    "version": 3
   },
   "file_extension": ".py",
   "mimetype": "text/x-python",
   "name": "python",
   "nbconvert_exporter": "python",
   "pygments_lexer": "ipython3",
   "version": "3.7.3"
  }
 },
 "nbformat": 4,
 "nbformat_minor": 4
}
