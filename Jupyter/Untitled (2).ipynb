{
 "cells": [
  {
   "cell_type": "code",
   "execution_count": 38,
   "id": "bf91abae-9017-473d-9bb7-602ae6e0415d",
   "metadata": {},
   "outputs": [],
   "source": [
    "from IPython.display import display, HTML\n",
    "from IPython.core.magic import register_cell_magic\n",
    "from ipywidgets import interact, interactive, Layout, fixed, interact_manual\n",
    "import ipywidgets as widgets\n",
    "\n",
    "import handcalcs.render\n",
    "from handcalcs.decorator import handcalc\n",
    "\n",
    "from math import sqrt, sin, tan, cos, radians\n",
    "import time\n",
    "\n",
    "import collections\n",
    "\n",
    "from pint import UnitRegistry, set_application_registry\n",
    "ureg = UnitRegistry()\n",
    "set_application_registry(ureg)\n",
    "\n",
    "import pint\n",
    "u_pint = pint.UnitRegistry()\n",
    "u_pint.default_format = '~'\n",
    "#u_pint.load_definitions('my_def.txt') # doctest: +SKIP\n",
    "Q_pint = u_pint.Quantity"
   ]
  },
  {
   "cell_type": "code",
   "execution_count": 117,
   "id": "fee95855-7193-4e52-accb-0fb769238c5e",
   "metadata": {},
   "outputs": [],
   "source": [
    "box_layout = Layout(width='200px',\n",
    "                    height='',\n",
    "                    flex_flow='row',\n",
    "                    display='vertical-align')\n",
    "\n",
    "def fltxt(cons):\n",
    "    fWidg = widgets.FloatText(cons, layout=box_layout)\n",
    "    return fWidg\n",
    "\n",
    "_Mass= fltxt(5.972*10**24)\n",
    "Gravity = fltxt(6.67408*10**-11)\n",
    "SpeedofLight = fltxt(299792458)"
   ]
  },
  {
   "cell_type": "code",
   "execution_count": 118,
   "id": "5407706c-3d2c-47fb-b6af-fb83c3b6d943",
   "metadata": {},
   "outputs": [
    {
     "data": {
      "application/vnd.jupyter.widget-view+json": {
       "model_id": "9241bffacb9c434483260d6da2f77eb2",
       "version_major": 2,
       "version_minor": 0
      },
      "text/plain": [
       "interactive(children=(FloatText(value=5.972e+24, description='M', layout=Layout(display='vertical-align', flex…"
      ]
     },
     "metadata": {},
     "output_type": "display_data"
    }
   ],
   "source": [
    "@interact(M = _Mass,\n",
    "          G = Gravity,\n",
    "          c = SpeedofLight)\n",
    "@handcalc(override='long', jupyter_display=True)\n",
    "def f_Rs(M: float,G: float,c: float):\n",
    "    R_s = (2*G*M)/(c**2)\n",
    "    return R_s"
   ]
  },
  {
   "cell_type": "code",
   "execution_count": 108,
   "id": "7ba68734-12b1-409e-9214-81ad2cc6a4e5",
   "metadata": {},
   "outputs": [],
   "source": [
    "_Mass= fltxt(5.972*10**24)\n",
    "Gravity = fltxt(6.67408*10**-11)\n",
    "SpeedofLight = fltxt(299792458)\n",
    "Frequency = fltxt(1e-6)\n",
    "Radius = fltxt(13770606865)"
   ]
  },
  {
   "cell_type": "code",
   "execution_count": 130,
   "id": "7ebb9419-6f3d-44ca-8368-1231cb1e30df",
   "metadata": {
    "collapsed": true,
    "jupyter": {
     "outputs_hidden": true,
     "source_hidden": true
    },
    "tags": []
   },
   "outputs": [
    {
     "data": {
      "application/vnd.jupyter.widget-view+json": {
       "model_id": "fccece54f68b4e29ab6ac68b6f92cdb9",
       "version_major": 2,
       "version_minor": 0
      },
      "text/plain": [
       "interactive(children=(FloatText(value=1e-06, description='V', layout=Layout(display='vertical-align', flex_flo…"
      ]
     },
     "metadata": {},
     "output_type": "display_data"
    }
   ],
   "source": [
    "@interact(V = Frequency,\n",
    "          G = Gravity,\n",
    "          r = Radius,\n",
    "          c = SpeedofLight,\n",
    "          M = Mass)\n",
    "\n",
    "@handcalc(override='long', jupyter_display=True)\n",
    "def f_Rs(V: float, r: float, M: float,G: float,c: float):\n",
    "    V_1 = V*(1-((G*M)/(r*c**2)))\n",
    "    return V_1"
   ]
  },
  {
   "cell_type": "code",
   "execution_count": 140,
   "id": "65d71cb6-f42c-42d1-9768-bf054673a373",
   "metadata": {},
   "outputs": [
    {
     "data": {
      "application/vnd.jupyter.widget-view+json": {
       "model_id": "9be1698568e64728a9101f3f59048110",
       "version_major": 2,
       "version_minor": 0
      },
      "text/plain": [
       "interactive(children=(FloatText(value=1e-06, description='V', layout=Layout(display='vertical-align', flex_flo…"
      ]
     },
     "metadata": {},
     "output_type": "display_data"
    }
   ],
   "source": [
    "_Mass= fltxt(1.4)\n",
    "Gravity = fltxt(6.67408*10**-11)\n",
    "SpeedofLight = fltxt(299792458)\n",
    "Frequency = fltxt(1e-6)\n",
    "Radius = fltxt(13770606865)\n",
    "\n",
    "@interact(V = Frequency,\n",
    "          G = Gravity,\n",
    "          r = Radius,\n",
    "          c = SpeedofLight,\n",
    "          M = Mass)\n",
    "\n",
    "@handcalc(override='long', jupyter_display=True)\n",
    "def f_Rs(V: float, r: float, M: float,G: float,c: float):\n",
    "    V_1 = (G*M)/(r*c**2)\n",
    "    return 1+V_1"
   ]
  },
  {
   "cell_type": "code",
   "execution_count": 419,
   "id": "1b2b97b2-b730-44cf-a16d-3788acac3d45",
   "metadata": {},
   "outputs": [
    {
     "data": {
      "text/latex": [
       "\\[\n",
       "\\begin{aligned}\n",
       "V_{1} &= \\left( \\frac{ G \\cdot M }{ r \\cdot \\left( c \\right) ^{ 2 } } \\right) \\\\&= \\left( \\frac{ 6.674\\times 10^{-11}\\ \\frac{\\mathrm{m}^{3}}{\\left(\\mathrm{kg} \\cdot \\mathrm{s}^{2}\\right)} \\cdot 4\\times 10^{30}\\ \\mathrm{kg} }{ 10000\\ \\mathrm{m} \\cdot \\left( 299792458.0\\ \\frac{\\mathrm{m}}{\\mathrm{s}} \\right) ^{ 2 } } \\right) \\\\&= 0.29703305896407395\\  \\\\\n",
       "\\\\[10pt]\n",
       "V_{f} &= \\left( \\mathrm{Lam} \\cdot \\left( 1 + V_{1} \\right) \\right) \\\\&= \\left( 750\\ \\mathrm{nm} \\cdot \\left( 1 + 0.29703305896407395\\ \\right) \\right) \\\\&= 972.7747942230554\\ \\mathrm{nm}  \\\\\n",
       "\\end{aligned}\n",
       "\\]"
      ],
      "text/plain": [
       "<IPython.core.display.Latex object>"
      ]
     },
     "metadata": {},
     "output_type": "display_data"
    },
    {
     "data": {
      "text/html": [
       "972.7747942230554 nm"
      ],
      "text/latex": [
       "$972.7747942230554\\ \\mathrm{nm}$"
      ],
      "text/plain": [
       "972.7747942230554 <Unit('nanometer')>"
      ]
     },
     "execution_count": 419,
     "metadata": {},
     "output_type": "execute_result"
    }
   ],
   "source": [
    "c = 299792458*u_pint.meter/u_pint.s\n",
    "G = 6.674e-11*(u_pint.m**3)*(u_pint.kg**-1)*(u_pint.s**-2)\n",
    "M = 4e30*u_pint.kg\n",
    "r = 10000*u_pint.m\n",
    "Lam = 750*u_pint.nm\n",
    "\n",
    "\n",
    "@handcalc(override='long', jupyter_display=True)\n",
    "def t():\n",
    "    V_1 = ((G*M)/((r * c**2)))\n",
    "    V_f = (Lam*(1+V_1))\n",
    "    return V_f\n",
    "t()"
   ]
  },
  {
   "cell_type": "code",
   "execution_count": 420,
   "id": "1ea72f82-4077-4043-affc-659039f0e122",
   "metadata": {},
   "outputs": [
    {
     "data": {
      "text/latex": [
       "\\[\n",
       "\\begin{aligned}\n",
       "V_{1} &= \\left( \\frac{ G \\cdot M }{ r \\cdot \\left( c \\right) ^{ 2 } } \\right) \\\\&= \\left( \\frac{ 6.674\\times 10^{-11}\\ \\frac{\\mathrm{m}^{3}}{\\left(\\mathrm{kg} \\cdot \\mathrm{s}^{2}\\right)} \\cdot 4\\times 10^{30}\\ \\mathrm{kg} }{ 6\\ \\mathrm{m} \\cdot \\left( 299792458.0\\ \\frac{\\mathrm{m}}{\\mathrm{s}} \\right) ^{ 2 } } \\right) \\\\&= 495.05509827345657\\  \\\\\n",
       "\\\\[10pt]\n",
       "V_{f} &= \\left( \\mathrm{Lam} \\cdot \\left( 1 + V_{1} \\right) \\right) \\\\&= \\left( 750\\ \\mathrm{nm} \\cdot \\left( 1 + 495.05509827345657\\ \\right) \\right) \\\\&= 372041.3237050924\\ \\mathrm{nm}  \\\\\n",
       "\\end{aligned}\n",
       "\\]"
      ],
      "text/plain": [
       "<IPython.core.display.Latex object>"
      ]
     },
     "metadata": {},
     "output_type": "display_data"
    },
    {
     "data": {
      "text/html": [
       "372041.3237050924 nm"
      ],
      "text/latex": [
       "$372041.3237050924\\ \\mathrm{nm}$"
      ],
      "text/plain": [
       "372041.3237050924 <Unit('nanometer')>"
      ]
     },
     "execution_count": 420,
     "metadata": {},
     "output_type": "execute_result"
    }
   ],
   "source": [
    "c = 299792458*u_pint.meter/u_pint.s\n",
    "G = 6.674e-11*(u_pint.m**3)*(u_pint.kg**-1)*(u_pint.s**-2)\n",
    "M = 4e30*u_pint.kg\n",
    "r = 6*u_pint.m\n",
    "Lam = 750*u_pint.nm\n",
    "\n",
    "\n",
    "@handcalc(override='long', jupyter_display=True)\n",
    "def t():\n",
    "    V_1 = ((G*M)/((r * c**2)))\n",
    "    V_f = (Lam*(1+V_1))\n",
    "    return V_f\n",
    "t()"
   ]
  },
  {
   "cell_type": "code",
   "execution_count": 424,
   "id": "add11590-9f7d-45e3-8f10-13f900f016c4",
   "metadata": {},
   "outputs": [
    {
     "data": {
      "text/latex": [
       "\\[\n",
       "\\begin{aligned}\n",
       "V_{1} &= \\frac{ 100000 }{ 299792 } &= 3.336 \\times 10 ^ {-1 }  \n",
       "\\\\[10pt]\n",
       "V_{f} &= \\left( \\mathrm{Lam} \\cdot \\left( 1 + V_{1} \\right) \\right) \\\\&= \\left( 750\\ \\mathrm{nm} \\cdot \\left( 1 + 3.336 \\times 10 ^ {-1 } \\right) \\right) \\\\&= 1000.1734535944922\\ \\mathrm{nm}  \\\\\n",
       "\\end{aligned}\n",
       "\\]"
      ],
      "text/plain": [
       "<IPython.core.display.Latex object>"
      ]
     },
     "metadata": {},
     "output_type": "display_data"
    },
    {
     "data": {
      "text/html": [
       "1000.1734535944922 nm"
      ],
      "text/latex": [
       "$1000.1734535944922\\ \\mathrm{nm}$"
      ],
      "text/plain": [
       "1000.1734535944922 <Unit('nanometer')>"
      ]
     },
     "execution_count": 424,
     "metadata": {},
     "output_type": "execute_result"
    }
   ],
   "source": [
    "\n",
    "\n",
    "\n",
    "c = 299792458*u_pint.meter/u_pint.s\n",
    "G = 6.674e-11*(u_pint.m**3)*(u_pint.kg**-1)*(u_pint.s**-2)\n",
    "M = 4e30*u_pint.kg\n",
    "r = 6*u_pint.m\n",
    "Lam = 750*u_pint.nm\n",
    "\n",
    "\n",
    "@handcalc(override='long', jupyter_display=True)\n",
    "def t():\n",
    "    V_1 = 100000/299792\n",
    "    V_f = (Lam*(1+V_1))\n",
    "    return V_f\n",
    "t()"
   ]
  },
  {
   "cell_type": "code",
   "execution_count": 429,
   "id": "d3357ae7-770b-4f72-ad7e-fb0ee941a38d",
   "metadata": {},
   "outputs": [
    {
     "data": {
      "text/plain": [
       "1222.948247814492"
      ]
     },
     "execution_count": 429,
     "metadata": {},
     "output_type": "execute_result"
    }
   ],
   "source": [
    "v1 = 100000/299792\n",
    "v2 = 0.29703305896\n",
    "\n",
    "F = v1+v2\n",
    "V_f = (750*(1+F))\n",
    "V_f"
   ]
  },
  {
   "cell_type": "code",
   "execution_count": 431,
   "id": "2003b34c-0429-4193-8e34-7912ed68762e",
   "metadata": {},
   "outputs": [
    {
     "data": {
      "text/plain": [
       "4.1815718157181575e+21"
      ]
     },
     "execution_count": 431,
     "metadata": {},
     "output_type": "execute_result"
    }
   ],
   "source": [
    "(10000/73.8)*3.086e+19"
   ]
  },
  {
   "cell_type": "code",
   "execution_count": 433,
   "id": "f1586b75-dd30-4c54-ad34-bf3341a8013c",
   "metadata": {},
   "outputs": [
    {
     "data": {
      "text/plain": [
       "4.4e+26"
      ]
     },
     "execution_count": 433,
     "metadata": {},
     "output_type": "execute_result"
    }
   ],
   "source": [
    "(4.40e+26)"
   ]
  },
  {
   "cell_type": "code",
   "execution_count": null,
   "id": "ff2ef92a-8bc5-4fbc-bf30-b1860c1d0fa0",
   "metadata": {},
   "outputs": [],
   "source": []
  }
 ],
 "metadata": {
  "kernelspec": {
   "display_name": "Python 3",
   "language": "python",
   "name": "python3"
  },
  "language_info": {
   "codemirror_mode": {
    "name": "ipython",
    "version": 3
   },
   "file_extension": ".py",
   "mimetype": "text/x-python",
   "name": "python",
   "nbconvert_exporter": "python",
   "pygments_lexer": "ipython3",
   "version": "3.8.8"
  }
 },
 "nbformat": 4,
 "nbformat_minor": 5
}
