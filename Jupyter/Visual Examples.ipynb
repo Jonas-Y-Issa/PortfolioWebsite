{
 "cells": [
  {
   "cell_type": "code",
   "execution_count": 1,
   "metadata": {},
   "outputs": [],
   "source": [
    "import handcalcs.render\n",
    "import handcalcs.decorator\n",
    "from handcalcs import handcalc\n",
    "import numpy as np\n",
    "import sympy as sp\n",
    "from math import sqrt, sin, tan, cos\n",
    "\n",
    "import ipywidgets as widgets\n",
    "\n",
    "from ipywidgets import *\n",
    "\n",
    "import time\n",
    "import pylab as pl\n",
    "from IPython import display\n",
    "\n",
    "import forallpeople\n",
    "forallpeople.environment('structural')"
   ]
  },
  {
   "cell_type": "code",
   "execution_count": 2,
   "metadata": {
    "jupyter": {
     "source_hidden": true
    }
   },
   "outputs": [
    {
     "data": {
      "application/vnd.jupyter.widget-view+json": {
       "model_id": "854595852b8c4e61bd20adeed760bfb2",
       "version_major": 2,
       "version_minor": 0
      },
      "text/plain": [
       "Sines(children=(VBox(children=(IntSlider(value=1, description='freq', max=10), ColorPicker(value='#FF00DD', de…"
      ]
     },
     "metadata": {},
     "output_type": "display_data"
    }
   ],
   "source": [
    "%matplotlib widget\n",
    "import ipywidgets as widgets\n",
    "import matplotlib.pyplot as plt\n",
    "import numpy as np\n",
    "\n",
    "def make_box_layout():\n",
    "     return widgets.Layout(\n",
    "        border='solid 1px black',\n",
    "        margin='0px 10px 10px 0px',\n",
    "        padding='5px 5px 5px 5px'\n",
    "     )\n",
    "\n",
    "\n",
    "class Sines(widgets.HBox):\n",
    "\n",
    "    def __init__(self):\n",
    "        super().__init__()\n",
    "        output = widgets.Output()\n",
    "\n",
    "        self.x = np.linspace(0, 2 * np.pi, 100)\n",
    "        initial_color = '#FF00DD'\n",
    "\n",
    "        with output:\n",
    "            self.fig, self.ax = plt.subplots(constrained_layout=True, figsize=(5, 3.5))\n",
    "        self.line, = self.ax.plot(self.x, np.sin(self.x), initial_color)\n",
    "\n",
    "        self.fig.canvas.toolbar_position = 'bottom'\n",
    "        self.ax.grid(True)\n",
    "\n",
    "        # define widgets\n",
    "        int_slider = widgets.IntSlider(\n",
    "            value=1, \n",
    "            min=0, \n",
    "            max=10, \n",
    "            step=1, \n",
    "            description='freq'\n",
    "        )\n",
    "        color_picker = widgets.ColorPicker(\n",
    "            value=initial_color, \n",
    "            description='pick a color'\n",
    "        )\n",
    "        text_xlabel = widgets.Text(\n",
    "            value='', \n",
    "            description='xlabel', \n",
    "            continuous_update=False\n",
    "        )\n",
    "        text_ylabel = widgets.Text(\n",
    "            value='', \n",
    "            description='ylabel', \n",
    "            continuous_update=False\n",
    "        )\n",
    " \n",
    "        controls = widgets.VBox([\n",
    "            int_slider, \n",
    "            color_picker, \n",
    "            text_xlabel, \n",
    "            text_ylabel\n",
    "        ])\n",
    "        controls.layout = make_box_layout()\n",
    "\n",
    "        out_box = widgets.Box([output])\n",
    "        output.layout = make_box_layout()\n",
    "\n",
    "        # observe stuff\n",
    "        int_slider.observe(self.update, 'value')\n",
    "        color_picker.observe(self.line_color, 'value')\n",
    "        text_xlabel.observe(self.update_xlabel, 'value')\n",
    "        text_ylabel.observe(self.update_ylabel, 'value')\n",
    "\n",
    "        text_xlabel.value = 'x'\n",
    "        text_ylabel.value = 'y'\n",
    "\n",
    "\n",
    "        # add to children\n",
    "        self.children = [controls, output]\n",
    "\n",
    "    def update(self, change):\n",
    "        \"\"\"Draw line in plot\"\"\"\n",
    "        self.line.set_ydata(np.sin(change.new * self.x))\n",
    "        self.fig.canvas.draw()\n",
    "\n",
    "    def line_color(self, change):\n",
    "        self.line.set_color(change.new)\n",
    "\n",
    "    def update_xlabel(self, change):\n",
    "        self.ax.set_xlabel(change.new)\n",
    "\n",
    "    def update_ylabel(self, change):\n",
    "        self.ax.set_ylabel(change.new)\n",
    "\n",
    "\n",
    "Sines()"
   ]
  },
  {
   "cell_type": "code",
   "execution_count": 3,
   "metadata": {
    "jupyter": {
     "source_hidden": true
    }
   },
   "outputs": [
    {
     "data": {
      "application/vnd.jupyter.widget-view+json": {
       "model_id": "f814057a42d94e8b8a93e9379c8f0e56",
       "version_major": 2,
       "version_minor": 0
      },
      "text/plain": [
       "interactive(children=(IntSlider(value=1, description='a', max=10), FloatSlider(value=1.0, description='b', max…"
      ]
     },
     "metadata": {},
     "output_type": "display_data"
    }
   ],
   "source": [
    "@handcalc(jupyter_display=True)\n",
    "def my_calc(a: int, b: int, c: int):\n",
    "    r = (-b+sqrt(b**7-4*a*c))/(2*a)\n",
    "    return r\n",
    "\n",
    "\n",
    "@widgets.interact(a=(0, 10, 1), b=(0, 4, .1), c=(0, 2*np.pi+0.01, 0.01))\n",
    "def update(a=1.0, b=1, c=0):\n",
    "    \"\"\"Remove old lines from plot and plot new one\"\"\"\n",
    "    my_calc(a, b, c)"
   ]
  },
  {
   "cell_type": "code",
   "execution_count": 4,
   "metadata": {
    "jupyter": {
     "source_hidden": true
    }
   },
   "outputs": [
    {
     "data": {
      "application/vnd.jupyter.widget-view+json": {
       "model_id": "06ce724fda2946f18e4f49c4c594f76f",
       "version_major": 2,
       "version_minor": 0
      },
      "text/plain": [
       "Canvas(toolbar=Toolbar(toolitems=[('Home', 'Reset original view', 'home', 'home'), ('Back', 'Back to previous …"
      ]
     },
     "metadata": {},
     "output_type": "display_data"
    },
    {
     "data": {
      "application/vnd.jupyter.widget-view+json": {
       "model_id": "451da93bb0634b858b5555d656f43806",
       "version_major": 2,
       "version_minor": 0
      },
      "text/plain": [
       "interactive(children=(IntSlider(value=1, description='w', max=10), FloatSlider(value=1.0, description='amp', m…"
      ]
     },
     "metadata": {},
     "output_type": "display_data"
    }
   ],
   "source": [
    "# set up plot\n",
    "fig, ax = plt.subplots(figsize=(6, 4))\n",
    "ax.set_ylim([-4, 4])\n",
    "ax.grid(True)\n",
    " \n",
    "# generate x values\n",
    "x = np.linspace(0, 2 * np.pi, 100)\n",
    " \n",
    "\n",
    "def my_sine(x, w, amp, phi):\n",
    "    \"\"\"\n",
    "    Return a sine for x with angular frequeny w and amplitude amp.\n",
    "    \"\"\"\n",
    "    return amp*np.sin(w * (x-phi))\n",
    " \n",
    "\n",
    "@widgets.interact(w=(0, 10, 1), amp=(0, 4, .1), phi=(0, 2*np.pi+0.01, 0.01))\n",
    "def update(w = 1.0, amp=1, phi=0):\n",
    "    \"\"\"Remove old lines from plot and plot new one\"\"\"\n",
    "    [l.remove() for l in ax.lines]\n",
    "    ax.plot(x, my_sine(x, w, amp, phi), color='C0')"
   ]
  },
  {
   "cell_type": "markdown",
   "metadata": {},
   "source": [
    "\n",
    "\\begin{equation}\n",
    "\\frac{\\Delta \\lambda}{\\lambda} \\approx \\frac{g \\Delta y}{c^{2}}\n",
    "\\end{equation}\n",
    "\n",
    "\\begin{equation}\n",
    "d s^{2}=-\\left(1-\\frac{2 V(r)}{c^{2}}\\right) c^{2} d t^{2}+d x^{2}+d y^{2}+d z^{2}\n",
    "\\end{equation}\n",
    "\n",
    "\\begin{equation}\n",
    "\\begin{array}{ll}\n",
    "\\text { GR } \\quad v_{\\text {rec }}(t, z)=\\frac{c}{R_{0}} \\dot{R}(t) \\int_{0}^{z} \\frac{d z^{\\prime}}{H\\left(z^{\\prime}\\right)} \\\\\n",
    "\\text { SR } \\quad v_{\\text {pec }}(z)=c \\frac{(1+z)^{2}-1}{(1+z)^{2}+1}\n",
    "\\end{array}\n",
    "\\end{equation}\n",
    "\n",
    "\\begin{equation}\n",
    "d_{M}(z)=\\left\\{\\begin{array}{ll}\n",
    "\\frac{d_{H}}{\\sqrt{\\Omega_{k}}} \\sinh \\left(\\sqrt{\\Omega_{k}} d_{C}(z) / d_{H}\\right) & \\text { for } \\Omega_{k}>0 \\\\\n",
    "d_{C}(z) & \\text { for } \\Omega_{k}=0 \\\\\n",
    "\\frac{d_{H}}{\\sqrt{\\Omega_{k} \\mid}} \\sin \\left(\\sqrt{\\left|\\Omega_{k}\\right|} d_{C}(z) / d_{H}\\right) & \\text { for } \\Omega_{k}<0\n",
    "\\end{array}\\right.\n",
    "\\end{equation}"
   ]
  },
  {
   "cell_type": "code",
   "execution_count": 5,
   "metadata": {
    "jupyter": {
     "source_hidden": true
    }
   },
   "outputs": [
    {
     "data": {
      "application/vnd.jupyter.widget-view+json": {
       "model_id": "27925b31b88c407981277c78d04f47ac",
       "version_major": 2,
       "version_minor": 0
      },
      "text/plain": [
       "VBox(children=(IntSlider(value=5, description='slider', max=10), IntRangeSlider(value=(20, 40), description='r…"
      ]
     },
     "metadata": {},
     "output_type": "display_data"
    }
   ],
   "source": [
    "int_slider = widgets.IntSlider(\n",
    "    value=5, \n",
    "    min=0, max=10, step=1, \n",
    "    description='slider'\n",
    ")\n",
    " \n",
    "int_range_slider = widgets.IntRangeSlider(\n",
    "    value=(20, 40), \n",
    "    min=0, max=100, step=2, \n",
    "    description='range slider'\n",
    ")\n",
    " \n",
    "dropdown = widgets.Dropdown(\n",
    "    value='feb', \n",
    "    options=['jan', 'feb', 'mar', 'apr'], \n",
    "    description='dropdown'\n",
    ")\n",
    " \n",
    "radiobuttons = widgets.RadioButtons(\n",
    "    value='feb', \n",
    "    options=['jan', 'feb', 'mar', 'apr'], \n",
    "    description='radio buttons'\n",
    ")\n",
    " \n",
    "combobox = widgets.Combobox(\n",
    "    placeholder='start typing... (e.g. L or o)',\n",
    "    options=['Amsterdam', 'Athens', 'Lisbon', 'London', 'Ljubljana'], \n",
    "    description='combo box'\n",
    ")\n",
    " \n",
    "checkbox = widgets.Checkbox(\n",
    "    description='checkbox',\n",
    "    value=True\n",
    ")\n",
    " \n",
    " \n",
    "# a VBox container to pack widgets vertically\n",
    "widgets.VBox(\n",
    "    [\n",
    "        int_slider, \n",
    "        int_range_slider, \n",
    "        dropdown, \n",
    "        radiobuttons,\n",
    "        checkbox,\n",
    "        combobox,\n",
    "    ]\n",
    ")"
   ]
  },
  {
   "cell_type": "code",
   "execution_count": 6,
   "metadata": {
    "jupyter": {
     "source_hidden": true
    }
   },
   "outputs": [
    {
     "data": {
      "application/vnd.jupyter.widget-view+json": {
       "model_id": "bdbbd1941880487a8cff466c951c5400",
       "version_major": 2,
       "version_minor": 0
      },
      "text/plain": [
       "VBox(children=(Label(value='A label'), HTML(value='<b>Formatted</b> <font color=\"red\">html</font>'), Text(valu…"
      ]
     },
     "metadata": {},
     "output_type": "display_data"
    }
   ],
   "source": [
    "label = widgets.Label(\n",
    "    value='A label')\n",
    " \n",
    "html = widgets.HTML(\n",
    "    value='<b>Formatted</b> <font color=\"red\">html</font>', \n",
    "    description=''\n",
    ")\n",
    " \n",
    "text = widgets.Text(\n",
    "    value='A text field', \n",
    "    description='text field'\n",
    ")\n",
    " \n",
    "textarea = widgets.Textarea(\n",
    "    value='A text area for longer texts', \n",
    "    description='text area'\n",
    ")\n",
    " \n",
    "# show the three together in a VBox (vertical box container)\n",
    "widgets.VBox([label, html, text, textarea])"
   ]
  },
  {
   "cell_type": "code",
   "execution_count": 7,
   "metadata": {
    "jupyter": {
     "source_hidden": true
    }
   },
   "outputs": [
    {
     "data": {
      "application/vnd.jupyter.widget-view+json": {
       "model_id": "7c9b4b624c2c4b098ed648979e60453b",
       "version_major": 2,
       "version_minor": 0
      },
      "text/plain": [
       "Textarea(value='Accordion\\nAppLayout\\nAudio\\nBoundedFloatText\\nBoundedIntText\\nBox\\nButton\\nButtonStyle\\nCallb…"
      ]
     },
     "metadata": {},
     "output_type": "display_data"
    }
   ],
   "source": [
    "widgets.Textarea(\n",
    "    '\\n'.join([w for w in dir(widgets) if not w.islower()]),\n",
    "    layout=widgets.Layout(height='200px')\n",
    ")"
   ]
  },
  {
   "cell_type": "code",
   "execution_count": 8,
   "metadata": {
    "jupyter": {
     "source_hidden": true
    }
   },
   "outputs": [],
   "source": [
    "b1 = widgets.Button(description='button 1')\n",
    "b2 = widgets.Button(description='button 2')\n",
    "b3 = widgets.Button(description='button 3')"
   ]
  },
  {
   "cell_type": "code",
   "execution_count": 9,
   "metadata": {
    "jupyter": {
     "source_hidden": true
    }
   },
   "outputs": [
    {
     "data": {
      "application/vnd.jupyter.widget-view+json": {
       "model_id": "86b651f5aea9459c8acf6eedf2c36b27",
       "version_major": 2,
       "version_minor": 0
      },
      "text/plain": [
       "HBox(children=(Button(description='button 1', style=ButtonStyle()), Button(description='button 2', style=Butto…"
      ]
     },
     "metadata": {},
     "output_type": "display_data"
    }
   ],
   "source": [
    "widgets.HBox([b1, b2, b3])"
   ]
  },
  {
   "cell_type": "code",
   "execution_count": 10,
   "metadata": {
    "jupyter": {
     "source_hidden": true
    }
   },
   "outputs": [
    {
     "data": {
      "application/vnd.jupyter.widget-view+json": {
       "model_id": "cd67b6c711c64dd6bb544545f383c1c9",
       "version_major": 2,
       "version_minor": 0
      },
      "text/plain": [
       "VBox(children=(Button(description='button 1', style=ButtonStyle()), Button(description='button 2', style=Butto…"
      ]
     },
     "metadata": {},
     "output_type": "display_data"
    }
   ],
   "source": [
    "widgets.VBox([b1, b2, b3])"
   ]
  },
  {
   "cell_type": "code",
   "execution_count": 11,
   "metadata": {
    "jupyter": {
     "source_hidden": true
    }
   },
   "outputs": [
    {
     "data": {
      "application/vnd.jupyter.widget-view+json": {
       "model_id": "936238a4cb934ad9b78b23303ebcee9b",
       "version_major": 2,
       "version_minor": 0
      },
      "text/plain": [
       "HBox(children=(VBox(children=(Label(value='Left'), Button(description='button 1', style=ButtonStyle()), Button…"
      ]
     },
     "metadata": {},
     "output_type": "display_data"
    }
   ],
   "source": [
    "def make_boxes():\n",
    "    vbox1 = widgets.VBox([widgets.Label('Left'), b1, b2])\n",
    "    vbox2 = widgets.VBox([widgets.Label('Right'), dropdown, radiobuttons])\n",
    "    return vbox1, vbox2\n",
    " \n",
    "vbox1, vbox2 = make_boxes()\n",
    " \n",
    "widgets.HBox([vbox1, vbox2])"
   ]
  },
  {
   "cell_type": "code",
   "execution_count": 12,
   "metadata": {},
   "outputs": [
    {
     "data": {
      "application/vnd.jupyter.widget-view+json": {
       "model_id": "bb2b947b9e5e4e67b0b577a85280949c",
       "version_major": 2,
       "version_minor": 0
      },
      "text/plain": [
       "HBox(children=(VBox(children=(Label(value='Left'), Button(description='button 1', style=ButtonStyle()), Button…"
      ]
     },
     "metadata": {},
     "output_type": "display_data"
    }
   ],
   "source": [
    "def make_box_layout():\n",
    "     return widgets.Layout(\n",
    "        border='solid 1px red',\n",
    "        margin='0px 10px 10px 0px',\n",
    "        padding='5px 5px 5px 5px'\n",
    "     )\n",
    "     \n",
    "vbox1, vbox2 = make_boxes()\n",
    " \n",
    "vbox1.layout = make_box_layout()\n",
    "vbox2.layout = make_box_layout()\n",
    " \n",
    "# really change vbox1 only\n",
    "vbox1.layout.width = '400px'\n",
    "vbox1.layout.border = 'solid 2px green'\n",
    " \n",
    "widgets.HBox([vbox1, vbox2])"
   ]
  },
  {
   "cell_type": "code",
   "execution_count": 13,
   "metadata": {
    "jupyter": {
     "source_hidden": true
    }
   },
   "outputs": [
    {
     "data": {
      "application/vnd.jupyter.widget-view+json": {
       "model_id": "5203ec73bf734447ba8b996f79022dbe",
       "version_major": 2,
       "version_minor": 0
      },
      "text/plain": [
       "FloatProgress(value=0.0, max=1.0)"
      ]
     },
     "metadata": {},
     "output_type": "display_data"
    }
   ],
   "source": [
    "import threading\n",
    "from IPython.display import display\n",
    "import ipywidgets as widgets\n",
    "import time\n",
    "progress = widgets.FloatProgress(value=0.0, min=0.0, max=1.0)\n",
    "\n",
    "def work(progress):\n",
    "    total = 100\n",
    "    for i in range(total):\n",
    "        time.sleep(0.2)\n",
    "        progress.value = float(i+1)/total\n",
    "\n",
    "thread = threading.Thread(target=work, args=(progress,))\n",
    "display(progress)\n",
    "thread.start()"
   ]
  },
  {
   "cell_type": "code",
   "execution_count": null,
   "metadata": {
    "jupyter": {
     "source_hidden": true
    }
   },
   "outputs": [],
   "source": []
  },
  {
   "cell_type": "code",
   "execution_count": 14,
   "metadata": {},
   "outputs": [
    {
     "data": {
      "application/vnd.jupyter.widget-view+json": {
       "model_id": "a6b38fa341bf4066a1993cf8b45e7cc1",
       "version_major": 2,
       "version_minor": 0
      },
      "text/plain": [
       "Tab(children=(FloatText(value=0.0), IntSlider(value=0)), _titles={0: 'Text', 1: 'Slider'})"
      ]
     },
     "metadata": {},
     "output_type": "display_data"
    }
   ],
   "source": [
    "Tab(children=[FloatText(), IntSlider()], _titles={0: 'Text', 1: 'Slider'})"
   ]
  },
  {
   "cell_type": "code",
   "execution_count": 15,
   "metadata": {},
   "outputs": [
    {
     "data": {
      "application/vnd.jupyter.widget-view+json": {
       "model_id": "009f7f616fdb4b4992bee8a60b311ded",
       "version_major": 2,
       "version_minor": 0
      },
      "text/plain": [
       "interactive(children=(FloatText(value=0.0, description='x'), FloatText(value=0.5, description='y'), Output()),…"
      ]
     },
     "metadata": {},
     "output_type": "display_data"
    }
   ],
   "source": [
    "x_widget = widgets.FloatText(0.0)\n",
    "y_widget = widgets.FloatText(0.5)\n",
    "\n",
    "\n",
    "def update_x_range(*args):\n",
    "    x_widget.value = 2.0 * y_widget.value\n",
    "\n",
    "\n",
    "y_widget.observe(update_x_range, 'value')\n",
    "\n",
    "\n",
    "def printer(x, y):\n",
    "    print(x, y)\n",
    "\n",
    "\n",
    "interact(printer, x=x_widget, y=y_widget);"
   ]
  },
  {
   "cell_type": "code",
   "execution_count": null,
   "metadata": {},
   "outputs": [],
   "source": []
  }
 ],
 "metadata": {
  "autoplay": {
   "autoRun": true,
   "hideCodeCells": false
  },
  "kernelspec": {
   "display_name": "Python 3",
   "language": "python",
   "name": "python3"
  },
  "language_info": {
   "codemirror_mode": {
    "name": "ipython",
    "version": 3
   },
   "file_extension": ".py",
   "mimetype": "text/x-python",
   "name": "python",
   "nbconvert_exporter": "python",
   "pygments_lexer": "ipython3",
   "version": "3.9.1"
  },
  "widgets": {
   "application/vnd.jupyter.widget-state+json": {
    "state": {
     "0096617b211b4da9882154403f7ab25d": {
      "model_module": "@jupyter-widgets/controls",
      "model_module_version": "1.5.0",
      "model_name": "DescriptionStyleModel",
      "state": {
       "description_width": ""
      }
     },
     "009f7f616fdb4b4992bee8a60b311ded": {
      "model_module": "@jupyter-widgets/controls",
      "model_module_version": "1.5.0",
      "model_name": "VBoxModel",
      "state": {
       "_dom_classes": [
        "widget-interact"
       ],
       "children": [
        "IPY_MODEL_d4a63f3d1fd04dcd86158347cef98848",
        "IPY_MODEL_339724ef14464eb5bef831bb1715f380",
        "IPY_MODEL_725d207ab53746deb7a2389095443298"
       ],
       "layout": "IPY_MODEL_9046a9e07cb84582a58dffec2d4f081d"
      }
     },
     "014df0035a944d2aa2efce697d5164d3": {
      "model_module": "@jupyter-widgets/base",
      "model_module_version": "1.2.0",
      "model_name": "LayoutModel",
      "state": {}
     },
     "0559b912194342139e0c9bc2b8e96d22": {
      "model_module": "@jupyter-widgets/base",
      "model_module_version": "1.2.0",
      "model_name": "LayoutModel",
      "state": {}
     },
     "0661ef148729436ba19d8ece10dac890": {
      "model_module": "@jupyter-widgets/base",
      "model_module_version": "1.2.0",
      "model_name": "LayoutModel",
      "state": {}
     },
     "0674c51483774ca7bc2934efa9837364": {
      "model_module": "@jupyter-widgets/controls",
      "model_module_version": "1.5.0",
      "model_name": "TextModel",
      "state": {
       "continuous_update": false,
       "description": "xlabel",
       "layout": "IPY_MODEL_acf99cfb31934b098362bb7f33417e27",
       "style": "IPY_MODEL_ef5ec4d54e714aad8a2d7367251d313d",
       "value": "x"
      }
     },
     "067551cdaea44a929e43d82e834b995e": {
      "model_module": "@jupyter-widgets/base",
      "model_module_version": "1.2.0",
      "model_name": "LayoutModel",
      "state": {}
     },
     "06ce724fda2946f18e4f49c4c594f76f": {
      "model_module": "jupyter-matplotlib",
      "model_module_version": "^0.7.4",
      "model_name": "MPLCanvasModel",
      "state": {
       "_cursor": "default",
       "_figure_label": "Figure 2",
       "_height": 400,
       "_width": 600,
       "layout": "IPY_MODEL_feadcdd051ab428b8cb9cf2c82fa1de0",
       "toolbar": "IPY_MODEL_539e21a7aa8044679bdf3115e3cdb505",
       "toolbar_position": "left"
      }
     },
     "078f9db63df243d0b0009d79fb7c9c7a": {
      "model_module": "@jupyter-widgets/controls",
      "model_module_version": "1.5.0",
      "model_name": "VBoxModel",
      "state": {
       "children": [
        "IPY_MODEL_bd99fa8fa83942128dd6b3539fa29197",
        "IPY_MODEL_0f174aa865554204968d24fc3cc106d8",
        "IPY_MODEL_e361d6ec10e94b22bd0abffe33a198e8"
       ],
       "layout": "IPY_MODEL_36ca64e109fc4e258d6011c69f2aa5aa"
      }
     },
     "07f689af31fe4bd49dd27fea4d3b27c3": {
      "model_module": "@jupyter-widgets/controls",
      "model_module_version": "1.5.0",
      "model_name": "ComboboxModel",
      "state": {
       "description": "combo box",
       "ensure_option": false,
       "layout": "IPY_MODEL_43aca23b4f614dcb9898fbebd2334c3a",
       "options": [
        "Amsterdam",
        "Athens",
        "Lisbon",
        "London",
        "Ljubljana"
       ],
       "placeholder": "start typing... (e.g. L or o)",
       "style": "IPY_MODEL_b326646d14ca43dfae9a1ed4a6ba9fb3"
      }
     },
     "0840876ab62e4f759172cebb2d62063e": {
      "model_module": "@jupyter-widgets/base",
      "model_module_version": "1.2.0",
      "model_name": "LayoutModel",
      "state": {}
     },
     "099ee64fd8f04d8dbbfad5d44e2f98e6": {
      "model_module": "@jupyter-widgets/controls",
      "model_module_version": "1.5.0",
      "model_name": "FloatSliderModel",
      "state": {
       "description": "amp",
       "layout": "IPY_MODEL_907753e497a34f2990f7739c98933eff",
       "max": 4,
       "step": 0.1,
       "style": "IPY_MODEL_9e40c81a5e9542948fdf3ab9e5724b2e",
       "value": 1
      }
     },
     "0a90cfac82b84b8682bee293f4f7837c": {
      "model_module": "@jupyter-widgets/controls",
      "model_module_version": "1.5.0",
      "model_name": "VBoxModel",
      "state": {
       "children": [
        "IPY_MODEL_98d7b32b8fd1444ab89677aa38d1a1d1",
        "IPY_MODEL_0f174aa865554204968d24fc3cc106d8",
        "IPY_MODEL_e361d6ec10e94b22bd0abffe33a198e8"
       ],
       "layout": "IPY_MODEL_43294a237d9b4f9ab2964896a8ac984a"
      }
     },
     "0eed7e7cba324c19943895021056ae1a": {
      "model_module": "@jupyter-widgets/controls",
      "model_module_version": "1.5.0",
      "model_name": "TextareaModel",
      "state": {
       "description": "text area",
       "layout": "IPY_MODEL_ab66061b63e945ae8dab56cc80b883fd",
       "style": "IPY_MODEL_4dc66a2b56ef4608ab66c2c29bc902b7",
       "value": "A text area for longer texts"
      }
     },
     "0f174aa865554204968d24fc3cc106d8": {
      "model_module": "@jupyter-widgets/controls",
      "model_module_version": "1.5.0",
      "model_name": "DropdownModel",
      "state": {
       "_options_labels": [
        "jan",
        "feb",
        "mar",
        "apr"
       ],
       "description": "dropdown",
       "index": 1,
       "layout": "IPY_MODEL_2bdd6aadd9a242a9ae4ad4445399f23e",
       "style": "IPY_MODEL_8e341e63af8d4ecea417718ce795925c"
      }
     },
     "10589ea2ebcb42c0b3088e0b96f77d20": {
      "model_module": "@jupyter-widgets/base",
      "model_module_version": "1.2.0",
      "model_name": "LayoutModel",
      "state": {}
     },
     "1788ed4ce3b84c81af156ae5a2c37033": {
      "model_module": "@jupyter-widgets/controls",
      "model_module_version": "1.5.0",
      "model_name": "ButtonStyleModel",
      "state": {}
     },
     "17a3259d0ec54ef1be9732f0319688fd": {
      "model_module": "@jupyter-widgets/base",
      "model_module_version": "1.2.0",
      "model_name": "LayoutModel",
      "state": {}
     },
     "1935608afd7b4d388cc348b572c6174b": {
      "model_module": "@jupyter-widgets/base",
      "model_module_version": "1.2.0",
      "model_name": "LayoutModel",
      "state": {}
     },
     "1975e4cb17db4e338c8100a3bf28c4f7": {
      "model_module": "@jupyter-widgets/controls",
      "model_module_version": "1.5.0",
      "model_name": "DescriptionStyleModel",
      "state": {
       "description_width": ""
      }
     },
     "1a8e6dded8de4f7ea0bd09791b2e163a": {
      "model_module": "@jupyter-widgets/controls",
      "model_module_version": "1.5.0",
      "model_name": "SliderStyleModel",
      "state": {
       "description_width": ""
      }
     },
     "20f547d314fa407f98f7cb0574ae1269": {
      "model_module": "@jupyter-widgets/base",
      "model_module_version": "1.2.0",
      "model_name": "LayoutModel",
      "state": {
       "border": "solid 1px black",
       "margin": "0px 10px 10px 0px",
       "padding": "5px 5px 5px 5px"
      }
     },
     "24aa78d0c5df4946b2d88f7d0b185c62": {
      "model_module": "@jupyter-widgets/controls",
      "model_module_version": "1.5.0",
      "model_name": "VBoxModel",
      "state": {
       "children": [
        "IPY_MODEL_7e510ae452464bcdb28adaa68687a082",
        "IPY_MODEL_b92b14524f2c424eb3bd8d7f8f22ce48",
        "IPY_MODEL_d3d42e5b072b4812b35482010fbcb2e0"
       ],
       "layout": "IPY_MODEL_953dc341547345a881478febd94e238e"
      }
     },
     "25579d83189d40f8ae681f2132105e77": {
      "model_module": "@jupyter-widgets/base",
      "model_module_version": "1.2.0",
      "model_name": "LayoutModel",
      "state": {}
     },
     "270b16fa2c18400ca780447b3e419e7b": {
      "model_module": "@jupyter-widgets/controls",
      "model_module_version": "1.5.0",
      "model_name": "DescriptionStyleModel",
      "state": {
       "description_width": ""
      }
     },
     "27925b31b88c407981277c78d04f47ac": {
      "model_module": "@jupyter-widgets/controls",
      "model_module_version": "1.5.0",
      "model_name": "VBoxModel",
      "state": {
       "children": [
        "IPY_MODEL_e8db3d989f5d4a538815df700f745222",
        "IPY_MODEL_6ae3c27d23864f8c809e9440a535b9dc",
        "IPY_MODEL_0f174aa865554204968d24fc3cc106d8",
        "IPY_MODEL_e361d6ec10e94b22bd0abffe33a198e8",
        "IPY_MODEL_8d12a54289cf46fe8354955ca0405eaa",
        "IPY_MODEL_07f689af31fe4bd49dd27fea4d3b27c3"
       ],
       "layout": "IPY_MODEL_fd359bbf2df74cceb108d57ca0d1b2e2"
      }
     },
     "28655c57dd524c8f9731fdf19eda2bd8": {
      "model_module": "@jupyter-widgets/base",
      "model_module_version": "1.2.0",
      "model_name": "LayoutModel",
      "state": {}
     },
     "2bdd6aadd9a242a9ae4ad4445399f23e": {
      "model_module": "@jupyter-widgets/base",
      "model_module_version": "1.2.0",
      "model_name": "LayoutModel",
      "state": {}
     },
     "2d39b1228f174c59989f33d372defefb": {
      "model_module": "@jupyter-widgets/controls",
      "model_module_version": "1.5.0",
      "model_name": "VBoxModel",
      "state": {
       "children": [
        "IPY_MODEL_f763edfac24c4539a2242ad0a396e095",
        "IPY_MODEL_6a53fe5f52b24266b9a3055204636a3a",
        "IPY_MODEL_0674c51483774ca7bc2934efa9837364",
        "IPY_MODEL_e1c38c37b6a549dea94b7675208e6bb3"
       ],
       "layout": "IPY_MODEL_3200a0e7deb1487b8cb5e8d59b78d61a"
      }
     },
     "2d49259c07104d3a8b5ad3c4993d277f": {
      "model_module": "@jupyter-widgets/controls",
      "model_module_version": "1.5.0",
      "model_name": "ButtonStyleModel",
      "state": {}
     },
     "2d4a2e8ff10b4448a70e770e3ecbb45c": {
      "model_module": "@jupyter-widgets/controls",
      "model_module_version": "1.5.0",
      "model_name": "FloatSliderModel",
      "state": {
       "description": "phi",
       "layout": "IPY_MODEL_c5d5cc9d3b2d44b0864a80eff6ffbad1",
       "max": 6.293185307179586,
       "step": 0.01,
       "style": "IPY_MODEL_829cca53961346cb9a5ce2625f221cc5"
      }
     },
     "2d6a9286fb1b450d810d594b42aa3cf9": {
      "model_module": "@jupyter-widgets/controls",
      "model_module_version": "1.5.0",
      "model_name": "LabelModel",
      "state": {
       "layout": "IPY_MODEL_067551cdaea44a929e43d82e834b995e",
       "style": "IPY_MODEL_e1cccd6d318d4ab49cbb471a38a5fd4e",
       "value": "Left"
      }
     },
     "2dbe58e92412490eb9d84643bc42270c": {
      "model_module": "@jupyter-widgets/base",
      "model_module_version": "1.2.0",
      "model_name": "LayoutModel",
      "state": {}
     },
     "2eee7f500df8449d88965fa0b6a987eb": {
      "model_module": "@jupyter-widgets/controls",
      "model_module_version": "1.5.0",
      "model_name": "DescriptionStyleModel",
      "state": {
       "description_width": ""
      }
     },
     "3200a0e7deb1487b8cb5e8d59b78d61a": {
      "model_module": "@jupyter-widgets/base",
      "model_module_version": "1.2.0",
      "model_name": "LayoutModel",
      "state": {
       "border": "solid 1px black",
       "margin": "0px 10px 10px 0px",
       "padding": "5px 5px 5px 5px"
      }
     },
     "339724ef14464eb5bef831bb1715f380": {
      "model_module": "@jupyter-widgets/controls",
      "model_module_version": "1.5.0",
      "model_name": "FloatTextModel",
      "state": {
       "description": "y",
       "layout": "IPY_MODEL_46bcaeb4c81142f2b60af3f0a740fd06",
       "step": null,
       "style": "IPY_MODEL_b4d913268a684e48b822744de50b4603",
       "value": 0.5
      }
     },
     "33d49234d0134b15b72cd703f4c400bd": {
      "model_module": "@jupyter-widgets/controls",
      "model_module_version": "1.5.0",
      "model_name": "DescriptionStyleModel",
      "state": {
       "description_width": ""
      }
     },
     "341135a1af1443e18cd5bb7281f9d794": {
      "model_module": "@jupyter-widgets/base",
      "model_module_version": "1.2.0",
      "model_name": "LayoutModel",
      "state": {}
     },
     "36a72fa9f76a44318a118cf377257115": {
      "model_module": "@jupyter-widgets/base",
      "model_module_version": "1.2.0",
      "model_name": "LayoutModel",
      "state": {}
     },
     "36ca64e109fc4e258d6011c69f2aa5aa": {
      "model_module": "@jupyter-widgets/base",
      "model_module_version": "1.2.0",
      "model_name": "LayoutModel",
      "state": {}
     },
     "39cca22abdcb4143b9adbb43570f3538": {
      "model_module": "@jupyter-widgets/controls",
      "model_module_version": "1.5.0",
      "model_name": "FloatSliderModel",
      "state": {
       "description": "b",
       "layout": "IPY_MODEL_2dbe58e92412490eb9d84643bc42270c",
       "max": 4,
       "step": 0.1,
       "style": "IPY_MODEL_68f19889e512433581d70417dd225a3e",
       "value": 1
      }
     },
     "3a902c26e11f425aa74529ad97648020": {
      "model_module": "@jupyter-widgets/controls",
      "model_module_version": "1.5.0",
      "model_name": "SliderStyleModel",
      "state": {
       "description_width": ""
      }
     },
     "3a9e559c1af549bcb02656be08c8b889": {
      "model_module": "@jupyter-widgets/base",
      "model_module_version": "1.2.0",
      "model_name": "LayoutModel",
      "state": {}
     },
     "3d2b4a8742b74062999bc042c8decc20": {
      "model_module": "@jupyter-widgets/base",
      "model_module_version": "1.2.0",
      "model_name": "LayoutModel",
      "state": {}
     },
     "414a498053d94d1eb9bcc995db2bff49": {
      "model_module": "@jupyter-widgets/output",
      "model_module_version": "1.0.0",
      "model_name": "OutputModel",
      "state": {
       "layout": "IPY_MODEL_65b387ffd46347f39a68398f2bce8215",
       "outputs": [
        {
         "data": {
          "text/latex": "\\[\n\\begin{aligned}\nr &= \\frac{ \\left( - b \\right) + \\sqrt { \\left( b \\right) ^{ 7 } - 4 \\cdot a \\cdot c } }{ 2 \\cdot a }  = \\frac{ \\left( - 1.0 \\right) + \\sqrt { \\left( 1.0 \\right) ^{ 7 } - 4 \\cdot 1 \\cdot 0.0 } }{ 2 \\cdot 1 } &= 0.0  \n\\end{aligned}\n\\]",
          "text/plain": "<IPython.core.display.Latex object>"
         },
         "metadata": {},
         "output_type": "display_data"
        }
       ]
      }
     },
     "42ab08a8d3494155b262908fd10743c7": {
      "model_module": "@jupyter-widgets/controls",
      "model_module_version": "1.5.0",
      "model_name": "IntSliderModel",
      "state": {
       "description": "a",
       "layout": "IPY_MODEL_f4be81bf9fef4c62a0e85bd3b088ab91",
       "max": 10,
       "style": "IPY_MODEL_57d5e4b7bf2e4da9b08b983e394b3402",
       "value": 1
      }
     },
     "43294a237d9b4f9ab2964896a8ac984a": {
      "model_module": "@jupyter-widgets/base",
      "model_module_version": "1.2.0",
      "model_name": "LayoutModel",
      "state": {
       "border": "solid 1px red",
       "margin": "0px 10px 10px 0px",
       "padding": "5px 5px 5px 5px"
      }
     },
     "43aca23b4f614dcb9898fbebd2334c3a": {
      "model_module": "@jupyter-widgets/base",
      "model_module_version": "1.2.0",
      "model_name": "LayoutModel",
      "state": {}
     },
     "4506c3d3784f4a778838fe0b83fe8603": {
      "model_module": "@jupyter-widgets/base",
      "model_module_version": "1.2.0",
      "model_name": "LayoutModel",
      "state": {}
     },
     "451da93bb0634b858b5555d656f43806": {
      "model_module": "@jupyter-widgets/controls",
      "model_module_version": "1.5.0",
      "model_name": "VBoxModel",
      "state": {
       "_dom_classes": [
        "widget-interact"
       ],
       "children": [
        "IPY_MODEL_63c64f9482bf491c8606b1f37894141b",
        "IPY_MODEL_099ee64fd8f04d8dbbfad5d44e2f98e6",
        "IPY_MODEL_2d4a2e8ff10b4448a70e770e3ecbb45c",
        "IPY_MODEL_babe60b73e56418c800a150fbf2e0fe5"
       ],
       "layout": "IPY_MODEL_10589ea2ebcb42c0b3088e0b96f77d20"
      }
     },
     "45cb901e35314dd2a3f2ae6a4f90961b": {
      "model_module": "@jupyter-widgets/controls",
      "model_module_version": "1.5.0",
      "model_name": "DescriptionStyleModel",
      "state": {
       "description_width": ""
      }
     },
     "46bcaeb4c81142f2b60af3f0a740fd06": {
      "model_module": "@jupyter-widgets/base",
      "model_module_version": "1.2.0",
      "model_name": "LayoutModel",
      "state": {}
     },
     "48e8406ba16040bc97d6d80fe0dc46da": {
      "model_module": "@jupyter-widgets/controls",
      "model_module_version": "1.5.0",
      "model_name": "LabelModel",
      "state": {
       "layout": "IPY_MODEL_c8764799c8ab4f5885fa5ee7e789f4d9",
       "style": "IPY_MODEL_0096617b211b4da9882154403f7ab25d",
       "value": "A label"
      }
     },
     "4b3a344e67cc4b1e8490a1c5f53f7310": {
      "model_module": "@jupyter-widgets/controls",
      "model_module_version": "1.5.0",
      "model_name": "SliderStyleModel",
      "state": {
       "description_width": ""
      }
     },
     "4dc66a2b56ef4608ab66c2c29bc902b7": {
      "model_module": "@jupyter-widgets/controls",
      "model_module_version": "1.5.0",
      "model_name": "DescriptionStyleModel",
      "state": {
       "description_width": ""
      }
     },
     "4f0f3ad317514f1998d6fdd60d9ed96d": {
      "model_module": "@jupyter-widgets/base",
      "model_module_version": "1.2.0",
      "model_name": "LayoutModel",
      "state": {}
     },
     "50c3cceb054f47e18ff4eae636e3ade5": {
      "model_module": "@jupyter-widgets/base",
      "model_module_version": "1.2.0",
      "model_name": "LayoutModel",
      "state": {}
     },
     "5203ec73bf734447ba8b996f79022dbe": {
      "model_module": "@jupyter-widgets/controls",
      "model_module_version": "1.5.0",
      "model_name": "FloatProgressModel",
      "state": {
       "layout": "IPY_MODEL_28655c57dd524c8f9731fdf19eda2bd8",
       "max": 1,
       "style": "IPY_MODEL_82cbdd939e024917bff869434fff0259",
       "value": 1
      }
     },
     "52b0e5a2191d409eb41d2527f53aa5f9": {
      "model_module": "@jupyter-widgets/output",
      "model_module_version": "1.0.0",
      "model_name": "OutputModel",
      "state": {
       "layout": "IPY_MODEL_20f547d314fa407f98f7cb0574ae1269",
       "outputs": [
        {
         "data": {
          "application/vnd.jupyter.widget-view+json": {
           "model_id": "ad90d130b7d746b783cc6fd526f4f293",
           "version_major": 2,
           "version_minor": 0
          },
          "text/plain": "Canvas(toolbar=Toolbar(toolitems=[('Home', 'Reset original view', 'home', 'home'), ('Back', 'Back to previous …"
         },
         "metadata": {},
         "output_type": "display_data"
        }
       ]
      }
     },
     "5314319479c445a397931e51da647fe7": {
      "model_module": "@jupyter-widgets/controls",
      "model_module_version": "1.5.0",
      "model_name": "ButtonModel",
      "state": {
       "description": "button 3",
       "layout": "IPY_MODEL_1935608afd7b4d388cc348b572c6174b",
       "style": "IPY_MODEL_68900d7b879b4c23b1dbda93c4919c23"
      }
     },
     "539e21a7aa8044679bdf3115e3cdb505": {
      "model_module": "jupyter-matplotlib",
      "model_module_version": "^0.7.4",
      "model_name": "ToolbarModel",
      "state": {
       "layout": "IPY_MODEL_a93efcd70d504eccae2e9a1a22e9793e",
       "toolitems": [
        [
         "Home",
         "Reset original view",
         "home",
         "home"
        ],
        [
         "Back",
         "Back to previous view",
         "arrow-left",
         "back"
        ],
        [
         "Forward",
         "Forward to next view",
         "arrow-right",
         "forward"
        ],
        [
         "Pan",
         "Left button pans, Right button zooms\nx/y fixes axis, CTRL fixes aspect",
         "arrows",
         "pan"
        ],
        [
         "Zoom",
         "Zoom to rectangle\nx/y fixes axis, CTRL fixes aspect",
         "square-o",
         "zoom"
        ],
        [
         "Download",
         "Download plot",
         "floppy-o",
         "save_figure"
        ]
       ]
      }
     },
     "56dd44f2882e4dbbb68715444b70ce07": {
      "model_module": "@jupyter-widgets/base",
      "model_module_version": "1.2.0",
      "model_name": "LayoutModel",
      "state": {}
     },
     "57d5e4b7bf2e4da9b08b983e394b3402": {
      "model_module": "@jupyter-widgets/controls",
      "model_module_version": "1.5.0",
      "model_name": "SliderStyleModel",
      "state": {
       "description_width": ""
      }
     },
     "5bc5816712ed49fda02beb561fb5c38c": {
      "model_module": "@jupyter-widgets/base",
      "model_module_version": "1.2.0",
      "model_name": "LayoutModel",
      "state": {}
     },
     "62fe99094824435f88468833fb131da1": {
      "model_module": "@jupyter-widgets/base",
      "model_module_version": "1.2.0",
      "model_name": "LayoutModel",
      "state": {}
     },
     "63c64f9482bf491c8606b1f37894141b": {
      "model_module": "@jupyter-widgets/controls",
      "model_module_version": "1.5.0",
      "model_name": "IntSliderModel",
      "state": {
       "description": "w",
       "layout": "IPY_MODEL_6bde8c1a086d4661ae5c235374787e31",
       "max": 10,
       "style": "IPY_MODEL_9dacaa6e787c483c8c2ccb982804b6c5",
       "value": 1
      }
     },
     "65b387ffd46347f39a68398f2bce8215": {
      "model_module": "@jupyter-widgets/base",
      "model_module_version": "1.2.0",
      "model_name": "LayoutModel",
      "state": {}
     },
     "6858710a07d94a09b9680ef889cbb2d6": {
      "model_module": "@jupyter-widgets/base",
      "model_module_version": "1.2.0",
      "model_name": "LayoutModel",
      "state": {}
     },
     "68900d7b879b4c23b1dbda93c4919c23": {
      "model_module": "@jupyter-widgets/controls",
      "model_module_version": "1.5.0",
      "model_name": "ButtonStyleModel",
      "state": {}
     },
     "68f19889e512433581d70417dd225a3e": {
      "model_module": "@jupyter-widgets/controls",
      "model_module_version": "1.5.0",
      "model_name": "SliderStyleModel",
      "state": {
       "description_width": ""
      }
     },
     "6a53fe5f52b24266b9a3055204636a3a": {
      "model_module": "@jupyter-widgets/controls",
      "model_module_version": "1.5.0",
      "model_name": "ColorPickerModel",
      "state": {
       "description": "pick a color",
       "disabled": false,
       "layout": "IPY_MODEL_913c0fd19a52471a94b8dd2e7da1de9d",
       "style": "IPY_MODEL_270b16fa2c18400ca780447b3e419e7b",
       "value": "#FF00DD"
      }
     },
     "6ae3c27d23864f8c809e9440a535b9dc": {
      "model_module": "@jupyter-widgets/controls",
      "model_module_version": "1.5.0",
      "model_name": "IntRangeSliderModel",
      "state": {
       "_model_name": "IntRangeSliderModel",
       "_view_name": "IntRangeSliderView",
       "description": "range slider",
       "layout": "IPY_MODEL_50c3cceb054f47e18ff4eae636e3ade5",
       "step": 2,
       "style": "IPY_MODEL_1a8e6dded8de4f7ea0bd09791b2e163a",
       "value": [
        20,
        40
       ]
      }
     },
     "6ba90c6842de48d68f9b1a3a3ece51ed": {
      "model_module": "@jupyter-widgets/base",
      "model_module_version": "1.2.0",
      "model_name": "LayoutModel",
      "state": {}
     },
     "6bde8c1a086d4661ae5c235374787e31": {
      "model_module": "@jupyter-widgets/base",
      "model_module_version": "1.2.0",
      "model_name": "LayoutModel",
      "state": {}
     },
     "6fe9a586153c45c5a666135391f94968": {
      "model_module": "@jupyter-widgets/controls",
      "model_module_version": "1.5.0",
      "model_name": "DescriptionStyleModel",
      "state": {
       "description_width": ""
      }
     },
     "708c6167bd864a1cbc62a30db1631122": {
      "model_module": "@jupyter-widgets/controls",
      "model_module_version": "1.5.0",
      "model_name": "FloatTextModel",
      "state": {
       "layout": "IPY_MODEL_f6d6529690d340feabde8566494b0a47",
       "step": null,
       "style": "IPY_MODEL_db4ce9069df24fe5b8475dbf6bf7afba"
      }
     },
     "71d5fec8a8274f72b4713832dae63050": {
      "model_module": "@jupyter-widgets/controls",
      "model_module_version": "1.5.0",
      "model_name": "DescriptionStyleModel",
      "state": {
       "description_width": ""
      }
     },
     "725d207ab53746deb7a2389095443298": {
      "model_module": "@jupyter-widgets/output",
      "model_module_version": "1.0.0",
      "model_name": "OutputModel",
      "state": {
       "layout": "IPY_MODEL_ed691d79ea234f6285e5bb93da550168",
       "outputs": [
        {
         "name": "stdout",
         "output_type": "stream",
         "text": "0.0 0.5\n"
        }
       ]
      }
     },
     "7482f2631948493b8a179b0a07474273": {
      "model_module": "@jupyter-widgets/base",
      "model_module_version": "1.2.0",
      "model_name": "LayoutModel",
      "state": {}
     },
     "766499a8c55d4233bd94258e3806e857": {
      "model_module": "@jupyter-widgets/base",
      "model_module_version": "1.2.0",
      "model_name": "LayoutModel",
      "state": {}
     },
     "7c9b4b624c2c4b098ed648979e60453b": {
      "model_module": "@jupyter-widgets/controls",
      "model_module_version": "1.5.0",
      "model_name": "TextareaModel",
      "state": {
       "layout": "IPY_MODEL_8dd9dfe93a1940f0b47f493471de49ab",
       "style": "IPY_MODEL_6fe9a586153c45c5a666135391f94968",
       "value": "Accordion\nAppLayout\nAudio\nBoundedFloatText\nBoundedIntText\nBox\nButton\nButtonStyle\nCallbackDispatcher\nCheckbox\nColor\nColorPicker\nCombobox\nController\nCoreWidget\nDOMWidget\nDatePicker\nDatetime\nDropdown\nFileUpload\nFloatLogSlider\nFloatProgress\nFloatRangeSlider\nFloatSlider\nFloatText\nGridBox\nGridspecLayout\nHBox\nHTML\nHTMLMath\nImage\nIntProgress\nIntRangeSlider\nIntSlider\nIntText\nLabel\nLayout\nNumberFormat\nOutput\nPassword\nPlay\nRadioButtons\nSelect\nSelectMultiple\nSelectionRangeSlider\nSelectionSlider\nSliderStyle\nStyle\nTab\nText\nTextarea\nToggleButton\nToggleButtons\nToggleButtonsStyle\nTwoByTwoLayout\nVBox\nValid\nValueWidget\nVideo\nWidget"
      }
     },
     "7e510ae452464bcdb28adaa68687a082": {
      "model_module": "@jupyter-widgets/controls",
      "model_module_version": "1.5.0",
      "model_name": "LabelModel",
      "state": {
       "layout": "IPY_MODEL_d4d196a3266f4a19841571f1327ee500",
       "style": "IPY_MODEL_1975e4cb17db4e338c8100a3bf28c4f7",
       "value": "Left"
      }
     },
     "829cca53961346cb9a5ce2625f221cc5": {
      "model_module": "@jupyter-widgets/controls",
      "model_module_version": "1.5.0",
      "model_name": "SliderStyleModel",
      "state": {
       "description_width": ""
      }
     },
     "82cbdd939e024917bff869434fff0259": {
      "model_module": "@jupyter-widgets/controls",
      "model_module_version": "1.5.0",
      "model_name": "ProgressStyleModel",
      "state": {
       "description_width": ""
      }
     },
     "84800a17331343fe95dbaa1510a43fa4": {
      "model_module": "@jupyter-widgets/base",
      "model_module_version": "1.2.0",
      "model_name": "LayoutModel",
      "state": {}
     },
     "854595852b8c4e61bd20adeed760bfb2": {
      "model_module": "@jupyter-widgets/controls",
      "model_module_version": "1.5.0",
      "model_name": "HBoxModel",
      "state": {
       "children": [
        "IPY_MODEL_2d39b1228f174c59989f33d372defefb",
        "IPY_MODEL_52b0e5a2191d409eb41d2527f53aa5f9"
       ],
       "layout": "IPY_MODEL_b78a5af261a6421a8999f51eddf7b918"
      }
     },
     "86b651f5aea9459c8acf6eedf2c36b27": {
      "model_module": "@jupyter-widgets/controls",
      "model_module_version": "1.5.0",
      "model_name": "HBoxModel",
      "state": {
       "children": [
        "IPY_MODEL_b92b14524f2c424eb3bd8d7f8f22ce48",
        "IPY_MODEL_d3d42e5b072b4812b35482010fbcb2e0",
        "IPY_MODEL_5314319479c445a397931e51da647fe7"
       ],
       "layout": "IPY_MODEL_62fe99094824435f88468833fb131da1"
      }
     },
     "8a8041dc78bf4fff8fb586d6b0caabde": {
      "model_module": "@jupyter-widgets/controls",
      "model_module_version": "1.5.0",
      "model_name": "DescriptionStyleModel",
      "state": {
       "description_width": ""
      }
     },
     "8cdef323e66a48868df6957fadbc8eae": {
      "model_module": "@jupyter-widgets/controls",
      "model_module_version": "1.5.0",
      "model_name": "IntSliderModel",
      "state": {
       "layout": "IPY_MODEL_da571dd8815343ddad4f24c23487a6ab",
       "style": "IPY_MODEL_3a902c26e11f425aa74529ad97648020"
      }
     },
     "8d12a54289cf46fe8354955ca0405eaa": {
      "model_module": "@jupyter-widgets/controls",
      "model_module_version": "1.5.0",
      "model_name": "CheckboxModel",
      "state": {
       "description": "checkbox",
       "disabled": false,
       "layout": "IPY_MODEL_5bc5816712ed49fda02beb561fb5c38c",
       "style": "IPY_MODEL_33d49234d0134b15b72cd703f4c400bd",
       "value": true
      }
     },
     "8dd9dfe93a1940f0b47f493471de49ab": {
      "model_module": "@jupyter-widgets/base",
      "model_module_version": "1.2.0",
      "model_name": "LayoutModel",
      "state": {
       "height": "200px"
      }
     },
     "8e341e63af8d4ecea417718ce795925c": {
      "model_module": "@jupyter-widgets/controls",
      "model_module_version": "1.5.0",
      "model_name": "DescriptionStyleModel",
      "state": {
       "description_width": ""
      }
     },
     "9046a9e07cb84582a58dffec2d4f081d": {
      "model_module": "@jupyter-widgets/base",
      "model_module_version": "1.2.0",
      "model_name": "LayoutModel",
      "state": {}
     },
     "907753e497a34f2990f7739c98933eff": {
      "model_module": "@jupyter-widgets/base",
      "model_module_version": "1.2.0",
      "model_name": "LayoutModel",
      "state": {}
     },
     "913c0fd19a52471a94b8dd2e7da1de9d": {
      "model_module": "@jupyter-widgets/base",
      "model_module_version": "1.2.0",
      "model_name": "LayoutModel",
      "state": {}
     },
     "936238a4cb934ad9b78b23303ebcee9b": {
      "model_module": "@jupyter-widgets/controls",
      "model_module_version": "1.5.0",
      "model_name": "HBoxModel",
      "state": {
       "children": [
        "IPY_MODEL_24aa78d0c5df4946b2d88f7d0b185c62",
        "IPY_MODEL_078f9db63df243d0b0009d79fb7c9c7a"
       ],
       "layout": "IPY_MODEL_3d2b4a8742b74062999bc042c8decc20"
      }
     },
     "953dc341547345a881478febd94e238e": {
      "model_module": "@jupyter-widgets/base",
      "model_module_version": "1.2.0",
      "model_name": "LayoutModel",
      "state": {}
     },
     "95eb59e9996f4520acf1eb8253a6f212": {
      "model_module": "@jupyter-widgets/controls",
      "model_module_version": "1.5.0",
      "model_name": "FloatSliderModel",
      "state": {
       "description": "c",
       "layout": "IPY_MODEL_56dd44f2882e4dbbb68715444b70ce07",
       "max": 6.293185307179586,
       "step": 0.01,
       "style": "IPY_MODEL_cb09a3cad2164fec82ea2e7d961ae7df"
      }
     },
     "9818dd7ca39f446d8193523d28ed3d2e": {
      "model_module": "@jupyter-widgets/controls",
      "model_module_version": "1.5.0",
      "model_name": "HTMLModel",
      "state": {
       "layout": "IPY_MODEL_4506c3d3784f4a778838fe0b83fe8603",
       "style": "IPY_MODEL_71d5fec8a8274f72b4713832dae63050",
       "value": "<b>Formatted</b> <font color=\"red\">html</font>"
      }
     },
     "98d7b32b8fd1444ab89677aa38d1a1d1": {
      "model_module": "@jupyter-widgets/controls",
      "model_module_version": "1.5.0",
      "model_name": "LabelModel",
      "state": {
       "layout": "IPY_MODEL_e55d6096c0294e86b0de40d714a02a4e",
       "style": "IPY_MODEL_e5b56880cfca48b781332deeb90ac46b",
       "value": "Right"
      }
     },
     "9dacaa6e787c483c8c2ccb982804b6c5": {
      "model_module": "@jupyter-widgets/controls",
      "model_module_version": "1.5.0",
      "model_name": "SliderStyleModel",
      "state": {
       "description_width": ""
      }
     },
     "9e40c81a5e9542948fdf3ab9e5724b2e": {
      "model_module": "@jupyter-widgets/controls",
      "model_module_version": "1.5.0",
      "model_name": "SliderStyleModel",
      "state": {
       "description_width": ""
      }
     },
     "9e64ce5cb4f04d48bd7ce092d72ffeae": {
      "model_module": "@jupyter-widgets/base",
      "model_module_version": "1.2.0",
      "model_name": "LayoutModel",
      "state": {}
     },
     "a19a0d3fcf1b4c60a995388448317b9b": {
      "model_module": "@jupyter-widgets/base",
      "model_module_version": "1.2.0",
      "model_name": "LayoutModel",
      "state": {}
     },
     "a324ef2488fd47599cdb3d32225568ba": {
      "model_module": "@jupyter-widgets/base",
      "model_module_version": "1.2.0",
      "model_name": "LayoutModel",
      "state": {
       "border": "solid 2px green",
       "margin": "0px 10px 10px 0px",
       "padding": "5px 5px 5px 5px",
       "width": "400px"
      }
     },
     "a6b38fa341bf4066a1993cf8b45e7cc1": {
      "model_module": "@jupyter-widgets/controls",
      "model_module_version": "1.5.0",
      "model_name": "TabModel",
      "state": {
       "_titles": {
        "0": "Text",
        "1": "Slider"
       },
       "children": [
        "IPY_MODEL_708c6167bd864a1cbc62a30db1631122",
        "IPY_MODEL_8cdef323e66a48868df6957fadbc8eae"
       ],
       "layout": "IPY_MODEL_17a3259d0ec54ef1be9732f0319688fd"
      }
     },
     "a93efcd70d504eccae2e9a1a22e9793e": {
      "model_module": "@jupyter-widgets/base",
      "model_module_version": "1.2.0",
      "model_name": "LayoutModel",
      "state": {}
     },
     "ab66061b63e945ae8dab56cc80b883fd": {
      "model_module": "@jupyter-widgets/base",
      "model_module_version": "1.2.0",
      "model_name": "LayoutModel",
      "state": {}
     },
     "acf99cfb31934b098362bb7f33417e27": {
      "model_module": "@jupyter-widgets/base",
      "model_module_version": "1.2.0",
      "model_name": "LayoutModel",
      "state": {}
     },
     "ad568354bac6420d91f9e982be401198": {
      "model_module": "@jupyter-widgets/base",
      "model_module_version": "1.2.0",
      "model_name": "LayoutModel",
      "state": {}
     },
     "ad90d130b7d746b783cc6fd526f4f293": {
      "model_module": "jupyter-matplotlib",
      "model_module_version": "^0.7.4",
      "model_name": "MPLCanvasModel",
      "state": {
       "_cursor": "default",
       "_figure_label": "Figure 1",
       "_height": 350,
       "_width": 500,
       "layout": "IPY_MODEL_0661ef148729436ba19d8ece10dac890",
       "toolbar": "IPY_MODEL_e5532f1ca1254798989cd20c0cd9d611",
       "toolbar_position": "bottom"
      }
     },
     "b0e82b7e794d408989e5ff6412efec28": {
      "model_module": "@jupyter-widgets/base",
      "model_module_version": "1.2.0",
      "model_name": "LayoutModel",
      "state": {}
     },
     "b326646d14ca43dfae9a1ed4a6ba9fb3": {
      "model_module": "@jupyter-widgets/controls",
      "model_module_version": "1.5.0",
      "model_name": "DescriptionStyleModel",
      "state": {
       "description_width": ""
      }
     },
     "b4d913268a684e48b822744de50b4603": {
      "model_module": "@jupyter-widgets/controls",
      "model_module_version": "1.5.0",
      "model_name": "DescriptionStyleModel",
      "state": {
       "description_width": ""
      }
     },
     "b78a5af261a6421a8999f51eddf7b918": {
      "model_module": "@jupyter-widgets/base",
      "model_module_version": "1.2.0",
      "model_name": "LayoutModel",
      "state": {}
     },
     "b92b14524f2c424eb3bd8d7f8f22ce48": {
      "model_module": "@jupyter-widgets/controls",
      "model_module_version": "1.5.0",
      "model_name": "ButtonModel",
      "state": {
       "description": "button 1",
       "layout": "IPY_MODEL_7482f2631948493b8a179b0a07474273",
       "style": "IPY_MODEL_1788ed4ce3b84c81af156ae5a2c37033"
      }
     },
     "babe60b73e56418c800a150fbf2e0fe5": {
      "model_module": "@jupyter-widgets/output",
      "model_module_version": "1.0.0",
      "model_name": "OutputModel",
      "state": {
       "layout": "IPY_MODEL_0840876ab62e4f759172cebb2d62063e"
      }
     },
     "bb2b947b9e5e4e67b0b577a85280949c": {
      "model_module": "@jupyter-widgets/controls",
      "model_module_version": "1.5.0",
      "model_name": "HBoxModel",
      "state": {
       "children": [
        "IPY_MODEL_bba8db6006404bac83703be6aa4abbcb",
        "IPY_MODEL_0a90cfac82b84b8682bee293f4f7837c"
       ],
       "layout": "IPY_MODEL_3a9e559c1af549bcb02656be08c8b889"
      }
     },
     "bba8db6006404bac83703be6aa4abbcb": {
      "model_module": "@jupyter-widgets/controls",
      "model_module_version": "1.5.0",
      "model_name": "VBoxModel",
      "state": {
       "children": [
        "IPY_MODEL_2d6a9286fb1b450d810d594b42aa3cf9",
        "IPY_MODEL_b92b14524f2c424eb3bd8d7f8f22ce48",
        "IPY_MODEL_d3d42e5b072b4812b35482010fbcb2e0"
       ],
       "layout": "IPY_MODEL_a324ef2488fd47599cdb3d32225568ba"
      }
     },
     "bd99fa8fa83942128dd6b3539fa29197": {
      "model_module": "@jupyter-widgets/controls",
      "model_module_version": "1.5.0",
      "model_name": "LabelModel",
      "state": {
       "layout": "IPY_MODEL_9e64ce5cb4f04d48bd7ce092d72ffeae",
       "style": "IPY_MODEL_f67eda42d0c74765a17087fbd2e54705",
       "value": "Right"
      }
     },
     "bdbbd1941880487a8cff466c951c5400": {
      "model_module": "@jupyter-widgets/controls",
      "model_module_version": "1.5.0",
      "model_name": "VBoxModel",
      "state": {
       "children": [
        "IPY_MODEL_48e8406ba16040bc97d6d80fe0dc46da",
        "IPY_MODEL_9818dd7ca39f446d8193523d28ed3d2e",
        "IPY_MODEL_f3366766835c413c944ffa8588b5f0d1",
        "IPY_MODEL_0eed7e7cba324c19943895021056ae1a"
       ],
       "layout": "IPY_MODEL_6858710a07d94a09b9680ef889cbb2d6"
      }
     },
     "c5d5cc9d3b2d44b0864a80eff6ffbad1": {
      "model_module": "@jupyter-widgets/base",
      "model_module_version": "1.2.0",
      "model_name": "LayoutModel",
      "state": {}
     },
     "c8764799c8ab4f5885fa5ee7e789f4d9": {
      "model_module": "@jupyter-widgets/base",
      "model_module_version": "1.2.0",
      "model_name": "LayoutModel",
      "state": {}
     },
     "cb09a3cad2164fec82ea2e7d961ae7df": {
      "model_module": "@jupyter-widgets/controls",
      "model_module_version": "1.5.0",
      "model_name": "SliderStyleModel",
      "state": {
       "description_width": ""
      }
     },
     "cd67b6c711c64dd6bb544545f383c1c9": {
      "model_module": "@jupyter-widgets/controls",
      "model_module_version": "1.5.0",
      "model_name": "VBoxModel",
      "state": {
       "children": [
        "IPY_MODEL_b92b14524f2c424eb3bd8d7f8f22ce48",
        "IPY_MODEL_d3d42e5b072b4812b35482010fbcb2e0",
        "IPY_MODEL_5314319479c445a397931e51da647fe7"
       ],
       "layout": "IPY_MODEL_014df0035a944d2aa2efce697d5164d3"
      }
     },
     "cf2d377a8d69425f95f33205f69fe63a": {
      "model_module": "@jupyter-widgets/controls",
      "model_module_version": "1.5.0",
      "model_name": "SliderStyleModel",
      "state": {
       "description_width": ""
      }
     },
     "cf552d1ebcf445b6930472b2f6a9976b": {
      "model_module": "@jupyter-widgets/base",
      "model_module_version": "1.2.0",
      "model_name": "LayoutModel",
      "state": {}
     },
     "d3d42e5b072b4812b35482010fbcb2e0": {
      "model_module": "@jupyter-widgets/controls",
      "model_module_version": "1.5.0",
      "model_name": "ButtonModel",
      "state": {
       "description": "button 2",
       "layout": "IPY_MODEL_36a72fa9f76a44318a118cf377257115",
       "style": "IPY_MODEL_2d49259c07104d3a8b5ad3c4993d277f"
      }
     },
     "d4a63f3d1fd04dcd86158347cef98848": {
      "model_module": "@jupyter-widgets/controls",
      "model_module_version": "1.5.0",
      "model_name": "FloatTextModel",
      "state": {
       "description": "x",
       "layout": "IPY_MODEL_0559b912194342139e0c9bc2b8e96d22",
       "step": null,
       "style": "IPY_MODEL_45cb901e35314dd2a3f2ae6a4f90961b"
      }
     },
     "d4d196a3266f4a19841571f1327ee500": {
      "model_module": "@jupyter-widgets/base",
      "model_module_version": "1.2.0",
      "model_name": "LayoutModel",
      "state": {}
     },
     "d72856de971f4f71a976b45a55429592": {
      "model_module": "@jupyter-widgets/base",
      "model_module_version": "1.2.0",
      "model_name": "LayoutModel",
      "state": {}
     },
     "da571dd8815343ddad4f24c23487a6ab": {
      "model_module": "@jupyter-widgets/base",
      "model_module_version": "1.2.0",
      "model_name": "LayoutModel",
      "state": {}
     },
     "db4ce9069df24fe5b8475dbf6bf7afba": {
      "model_module": "@jupyter-widgets/controls",
      "model_module_version": "1.5.0",
      "model_name": "DescriptionStyleModel",
      "state": {
       "description_width": ""
      }
     },
     "dd76ba5780a64223a7a0b72950d39f05": {
      "model_module": "@jupyter-widgets/controls",
      "model_module_version": "1.5.0",
      "model_name": "DescriptionStyleModel",
      "state": {
       "description_width": ""
      }
     },
     "e1c38c37b6a549dea94b7675208e6bb3": {
      "model_module": "@jupyter-widgets/controls",
      "model_module_version": "1.5.0",
      "model_name": "TextModel",
      "state": {
       "continuous_update": false,
       "description": "ylabel",
       "layout": "IPY_MODEL_d72856de971f4f71a976b45a55429592",
       "style": "IPY_MODEL_8a8041dc78bf4fff8fb586d6b0caabde",
       "value": "y"
      }
     },
     "e1cccd6d318d4ab49cbb471a38a5fd4e": {
      "model_module": "@jupyter-widgets/controls",
      "model_module_version": "1.5.0",
      "model_name": "DescriptionStyleModel",
      "state": {
       "description_width": ""
      }
     },
     "e24b00df60194fb6bbb1ad7ba24b8fe8": {
      "model_module": "@jupyter-widgets/base",
      "model_module_version": "1.2.0",
      "model_name": "LayoutModel",
      "state": {}
     },
     "e361d6ec10e94b22bd0abffe33a198e8": {
      "model_module": "@jupyter-widgets/controls",
      "model_module_version": "1.5.0",
      "model_name": "RadioButtonsModel",
      "state": {
       "_options_labels": [
        "jan",
        "feb",
        "mar",
        "apr"
       ],
       "description": "radio buttons",
       "index": 1,
       "layout": "IPY_MODEL_4f0f3ad317514f1998d6fdd60d9ed96d",
       "style": "IPY_MODEL_2eee7f500df8449d88965fa0b6a987eb"
      }
     },
     "e5532f1ca1254798989cd20c0cd9d611": {
      "model_module": "jupyter-matplotlib",
      "model_module_version": "^0.7.4",
      "model_name": "ToolbarModel",
      "state": {
       "layout": "IPY_MODEL_e24b00df60194fb6bbb1ad7ba24b8fe8",
       "orientation": "horizontal",
       "toolitems": [
        [
         "Home",
         "Reset original view",
         "home",
         "home"
        ],
        [
         "Back",
         "Back to previous view",
         "arrow-left",
         "back"
        ],
        [
         "Forward",
         "Forward to next view",
         "arrow-right",
         "forward"
        ],
        [
         "Pan",
         "Left button pans, Right button zooms\nx/y fixes axis, CTRL fixes aspect",
         "arrows",
         "pan"
        ],
        [
         "Zoom",
         "Zoom to rectangle\nx/y fixes axis, CTRL fixes aspect",
         "square-o",
         "zoom"
        ],
        [
         "Download",
         "Download plot",
         "floppy-o",
         "save_figure"
        ]
       ]
      }
     },
     "e55d6096c0294e86b0de40d714a02a4e": {
      "model_module": "@jupyter-widgets/base",
      "model_module_version": "1.2.0",
      "model_name": "LayoutModel",
      "state": {}
     },
     "e5b56880cfca48b781332deeb90ac46b": {
      "model_module": "@jupyter-widgets/controls",
      "model_module_version": "1.5.0",
      "model_name": "DescriptionStyleModel",
      "state": {
       "description_width": ""
      }
     },
     "e8db3d989f5d4a538815df700f745222": {
      "model_module": "@jupyter-widgets/controls",
      "model_module_version": "1.5.0",
      "model_name": "IntSliderModel",
      "state": {
       "description": "slider",
       "layout": "IPY_MODEL_6ba90c6842de48d68f9b1a3a3ece51ed",
       "max": 10,
       "style": "IPY_MODEL_4b3a344e67cc4b1e8490a1c5f53f7310",
       "value": 5
      }
     },
     "eaadec86e997417c9cf258e0cd25a2f9": {
      "model_module": "@jupyter-widgets/controls",
      "model_module_version": "1.5.0",
      "model_name": "BoxModel",
      "state": {
       "children": [
        "IPY_MODEL_52b0e5a2191d409eb41d2527f53aa5f9"
       ],
       "layout": "IPY_MODEL_ad568354bac6420d91f9e982be401198"
      }
     },
     "ed691d79ea234f6285e5bb93da550168": {
      "model_module": "@jupyter-widgets/base",
      "model_module_version": "1.2.0",
      "model_name": "LayoutModel",
      "state": {}
     },
     "ef5ec4d54e714aad8a2d7367251d313d": {
      "model_module": "@jupyter-widgets/controls",
      "model_module_version": "1.5.0",
      "model_name": "DescriptionStyleModel",
      "state": {
       "description_width": ""
      }
     },
     "f3366766835c413c944ffa8588b5f0d1": {
      "model_module": "@jupyter-widgets/controls",
      "model_module_version": "1.5.0",
      "model_name": "TextModel",
      "state": {
       "description": "text field",
       "layout": "IPY_MODEL_341135a1af1443e18cd5bb7281f9d794",
       "style": "IPY_MODEL_dd76ba5780a64223a7a0b72950d39f05",
       "value": "A text field"
      }
     },
     "f4be81bf9fef4c62a0e85bd3b088ab91": {
      "model_module": "@jupyter-widgets/base",
      "model_module_version": "1.2.0",
      "model_name": "LayoutModel",
      "state": {}
     },
     "f67eda42d0c74765a17087fbd2e54705": {
      "model_module": "@jupyter-widgets/controls",
      "model_module_version": "1.5.0",
      "model_name": "DescriptionStyleModel",
      "state": {
       "description_width": ""
      }
     },
     "f6d6529690d340feabde8566494b0a47": {
      "model_module": "@jupyter-widgets/base",
      "model_module_version": "1.2.0",
      "model_name": "LayoutModel",
      "state": {}
     },
     "f763edfac24c4539a2242ad0a396e095": {
      "model_module": "@jupyter-widgets/controls",
      "model_module_version": "1.5.0",
      "model_name": "IntSliderModel",
      "state": {
       "description": "freq",
       "layout": "IPY_MODEL_a19a0d3fcf1b4c60a995388448317b9b",
       "max": 10,
       "style": "IPY_MODEL_cf2d377a8d69425f95f33205f69fe63a",
       "value": 1
      }
     },
     "f814057a42d94e8b8a93e9379c8f0e56": {
      "model_module": "@jupyter-widgets/controls",
      "model_module_version": "1.5.0",
      "model_name": "VBoxModel",
      "state": {
       "_dom_classes": [
        "widget-interact"
       ],
       "children": [
        "IPY_MODEL_42ab08a8d3494155b262908fd10743c7",
        "IPY_MODEL_39cca22abdcb4143b9adbb43570f3538",
        "IPY_MODEL_95eb59e9996f4520acf1eb8253a6f212",
        "IPY_MODEL_414a498053d94d1eb9bcc995db2bff49"
       ],
       "layout": "IPY_MODEL_cf552d1ebcf445b6930472b2f6a9976b"
      }
     },
     "fd359bbf2df74cceb108d57ca0d1b2e2": {
      "model_module": "@jupyter-widgets/base",
      "model_module_version": "1.2.0",
      "model_name": "LayoutModel",
      "state": {}
     },
     "feadcdd051ab428b8cb9cf2c82fa1de0": {
      "model_module": "@jupyter-widgets/base",
      "model_module_version": "1.2.0",
      "model_name": "LayoutModel",
      "state": {}
     }
    },
    "version_major": 2,
    "version_minor": 0
   }
  }
 },
 "nbformat": 4,
 "nbformat_minor": 4
}
