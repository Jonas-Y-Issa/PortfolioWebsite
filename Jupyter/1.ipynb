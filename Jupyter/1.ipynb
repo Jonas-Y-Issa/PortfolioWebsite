{
 "cells": [
  {
   "cell_type": "code",
   "execution_count": 1,
   "metadata": {},
   "outputs": [],
   "source": [
    "import chart_studio.plotly as py\n",
    "import plotly.graph_objects as go\n",
    "import plotly.io as pio\n",
    "import numpy as np\n",
    "import forallpeople\n",
    "import matplotlib.pyplot as plt\n",
    "import sympy as sp\n",
    "import handcalcs.render\n",
    "\n",
    "from handcalcs.decorator import handcalc\n",
    "from math import sqrt, sin, tan, cos, radians\n",
    "from scipy.integrate import quad"
   ]
  },
  {
   "cell_type": "code",
   "execution_count": 3,
   "metadata": {},
   "outputs": [],
   "source": [
    "a = 6\n",
    "b = 7\n",
    "c = -8"
   ]
  },
  {
   "cell_type": "code",
   "execution_count": 4,
   "metadata": {},
   "outputs": [
    {
     "data": {
      "text/latex": [
       "\\[\n",
       "\\begin{aligned}\n",
       "r &= \\frac{ \\left( - b \\right) + \\sqrt { \\left( b \\right) ^{ 2 } - 4 \\cdot a \\cdot c } }{ 2 \\cdot a }  = \\frac{ \\left( - 7 \\right) + \\sqrt { \\left( 7 \\right) ^{ 2 } - 4 \\cdot 6 \\cdot -8 } }{ 2 \\cdot 6 } &= 7.103 \\times 10 ^ {-1 }  \n",
       "\\end{aligned}\n",
       "\\]"
      ],
      "text/plain": [
       "<IPython.core.display.Latex object>"
      ]
     },
     "metadata": {},
     "output_type": "display_data"
    }
   ],
   "source": [
    "%%render \n",
    "r = (-b + sqrt(b ** 2 - 4 * a * c)) / (2 * a)"
   ]
  },
  {
   "cell_type": "code",
   "execution_count": 19,
   "metadata": {},
   "outputs": [
    {
     "data": {
      "text/latex": [
       "\\[\n",
       "\\begin{aligned}\n",
       "a &= 6 \\; \n",
       " &b &= 7 \\; \n",
       " &c &= -8 \\; \n",
       "\\\\[10pt]\n",
       " p_{v_{a_{d_{F}}}} &= 54 \\; \n",
       " &q &= 4 \\; \n",
       " &r &= 3 \\; \n",
       "\\\\[10pt]\n",
       " s &= 2 \\; \n",
       " &t &= 1 \\; \n",
       " &y &= 10 \\; \n",
       "\\\\[10pt]\\end{aligned}\n",
       "\\]"
      ],
      "text/plain": [
       "<IPython.core.display.Latex object>"
      ]
     },
     "metadata": {},
     "output_type": "display_data"
    }
   ],
   "source": [
    "%%render param\n",
    "a = 6\n",
    "b = 7\n",
    "c = -8\n",
    "p_v_a_d_F= 54\n",
    "q = 4\n",
    "r = 3\n",
    "s = 2\n",
    "t = 1\n",
    "y=10"
   ]
  },
  {
   "cell_type": "code",
   "execution_count": 20,
   "metadata": {},
   "outputs": [
    {
     "data": {
      "text/latex": [
       "\\[\n",
       "\\begin{aligned}\n",
       "x &= \\left( b \\right) ^{ 2 } - 4 \\cdot a \\cdot c  = \\left( 7 \\right) ^{ 2 } - 4 \\cdot 6 \\cdot -8 &= 241  \n",
       "\\\\[10pt]\n",
       "d &= \\sqrt { x }  = \\sqrt { 241 } &= 15.524  \n",
       "\\\\[10pt]\n",
       "\\mathrm{r1} &= \\frac{ \\left( - b \\right) + d }{ 2 \\cdot a }  = \\frac{ \\left( - 7 \\right) + 15.524 }{ 2 \\cdot 6 } &= 7.103 \\times 10 ^ {-1 }  \n",
       "\\\\[10pt]\n",
       "\\mathrm{r2} &= \\frac{ \\left( - b \\right) - d }{ 2 \\cdot a }  = \\frac{ \\left( - 7 \\right) - 15.524 }{ 2 \\cdot 6 } &= -1.877  \n",
       "\\end{aligned}\n",
       "\\]"
      ],
      "text/plain": [
       "<IPython.core.display.Latex object>"
      ]
     },
     "metadata": {},
     "output_type": "display_data"
    }
   ],
   "source": [
    "%%render short\n",
    "\n",
    "x = b ** 2 - 4 * a * c \n",
    "d = sqrt(x) \n",
    "r1 = (-b + d) / (2 * a)  \n",
    "r2 = (-b - d) / (2 * a)"
   ]
  },
  {
   "cell_type": "code",
   "execution_count": 21,
   "metadata": {},
   "outputs": [
    {
     "data": {
      "text/latex": [
       "\\[\n",
       "\\begin{aligned}\n",
       "x &= \\left( b \\right) ^{ 2 } - 4 \\cdot a \\cdot c \\\\&= \\left( 7 \\right) ^{ 2 } - 4 \\cdot 6 \\cdot -8 \\\\&= 241  \\\\\n",
       "\\\\[10pt]\n",
       "d &= \\sqrt { x } \\\\&= \\sqrt { 241 } \\\\&= 15.524  \\\\\n",
       "\\\\[10pt]\n",
       "\\mathrm{r1} &= \\frac{ \\left( - b \\right) + d }{ 2 \\cdot a } \\\\&= \\frac{ \\left( - 7 \\right) + 15.524 }{ 2 \\cdot 6 } \\\\&= 7.103 \\times 10 ^ {-1 }  \\\\\n",
       "\\\\[10pt]\n",
       "\\mathrm{r2} &= \\frac{ \\left( - b \\right) - d }{ 2 \\cdot a } \\\\&= \\frac{ \\left( - 7 \\right) - 15.524 }{ 2 \\cdot 6 } \\\\&= -1.877  \\\\\n",
       "\\\\[10pt]\n",
       "\\mathrm{r3} &= \\left( \\frac{ \\left( - b \\right) - d }{ 2 \\cdot a } \\right) \\\\&= \\left( \\frac{ \\left( - 7 \\right) - 15.524 }{ 2 \\cdot 6 } \\right) \\\\&= -1.877  \\\\\n",
       "\\end{aligned}\n",
       "\\]"
      ],
      "text/plain": [
       "<IPython.core.display.Latex object>"
      ]
     },
     "metadata": {},
     "output_type": "display_data"
    }
   ],
   "source": [
    "%%render long\n",
    "\n",
    "x = b ** 2 - 4 * a * c \n",
    "d = sqrt(x) \n",
    "r1 = (-b + d) / (2 * a)  \n",
    "r2 = (-b - d) / (2 * a)\n",
    "r3 = ((-b - d) / (2 * a))"
   ]
  },
  {
   "cell_type": "code",
   "execution_count": 22,
   "metadata": {},
   "outputs": [],
   "source": [
    "def f(x):\n",
    "    return x**3/2+5*x**2+3*x"
   ]
  },
  {
   "cell_type": "code",
   "execution_count": 23,
   "metadata": {},
   "outputs": [
    {
     "data": {
      "text/latex": [
       "\\[\n",
       "\\begin{aligned}\n",
       "a &= 2 \\; \n",
       "\\\\[10pt]\n",
       "b &= 6 \\; \n",
       "\\\\[10pt]\n",
       "z &= \\int_{ a } ^ { b } \\frac{ \\left( x \\right) ^{ 3 } }{ 2 } + 5 \\cdot \\left( x \\right) ^{ 2 } + 3 \\cdot x \\; dx  = \\int_{ 2 } ^ { 6 } \\frac{ \\left( 241 \\right) ^{ 3 } }{ 2 } + 5 \\cdot \\left( 241 \\right) ^{ 2 } + 3 \\cdot 241 \\; dx &= [554.667,\\ 0.0]  \n",
       "\\\\[10pt]\n",
       "z &= [554.667,\\ 0.0] \\; \n",
       "\\end{aligned}\n",
       "\\]"
      ],
      "text/plain": [
       "<IPython.core.display.Latex object>"
      ]
     },
     "metadata": {},
     "output_type": "display_data"
    }
   ],
   "source": [
    "%%render\n",
    "a=2\n",
    "b=6\n",
    "z=quad(f, a, b)\n",
    "z=quad(f,a,b)"
   ]
  },
  {
   "cell_type": "code",
   "execution_count": 24,
   "metadata": {},
   "outputs": [
    {
     "data": {
      "text/latex": [
       "\\[\n",
       "\\begin{aligned}\n",
       "a &= 0.001 \\; \n",
       "\\\\[10pt]\n",
       "b &= 345 \\; \n",
       "\\end{aligned}\n",
       "\\]"
      ],
      "text/plain": [
       "<IPython.core.display.Latex object>"
      ]
     },
     "metadata": {},
     "output_type": "display_data"
    }
   ],
   "source": [
    "%%render\n",
    "a = 1e-3\n",
    "b = 345"
   ]
  },
  {
   "cell_type": "code",
   "execution_count": 25,
   "metadata": {},
   "outputs": [
    {
     "data": {
      "text/latex": [
       "\\[\n",
       "\\begin{aligned}\n",
       "d'_{c} &= a \\cdot \\frac{ b }{ 2 }  = 0.001 \\cdot \\frac{ 345 }{ 2 } &= 1.725 \\times 10 ^ {-1 }  \n",
       "\\\\[10pt]\n",
       "f'''_{k} &= \\left( d'_{c} \\right) ^{ 2 }  = \\left( 1.725 \\times 10 ^ {-1 } \\right) ^{ 2 } &= 2.976 \\times 10 ^ {-2 }  \n",
       "\\end{aligned}\n",
       "\\]"
      ],
      "text/plain": [
       "<IPython.core.display.Latex object>"
      ]
     },
     "metadata": {},
     "output_type": "display_data"
    }
   ],
   "source": [
    "%%render\n",
    "d_prime_c = a * b / 2\n",
    "f_prime_prime_prime_k = d_prime_c **2"
   ]
  },
  {
   "cell_type": "code",
   "execution_count": 26,
   "metadata": {},
   "outputs": [
    {
     "data": {
      "text/latex": [
       "\\[\n",
       "\\begin{aligned}\n",
       "r &= \\frac{ \\left( - b \\right) + \\sqrt { \\left( b \\right) ^{ 2 } - 4 \\cdot a \\cdot c } }{ 2 \\cdot a } \\; \n",
       "\\\\[10pt]\n",
       "z &= \\tan \\left( \\left( x \\right) ^{ y } + \\frac{ y }{ x } \\right) \\; \n",
       "\\end{aligned}\n",
       "\\]"
      ],
      "text/plain": [
       "<IPython.core.display.Latex object>"
      ]
     },
     "metadata": {},
     "output_type": "display_data"
    }
   ],
   "source": [
    "%%render symbolic\n",
    "\n",
    "r = (-b + sqrt(b ** 2 -4 * a * c)) / (2 * a) \n",
    "z = tan(x ** y + y / x)"
   ]
  },
  {
   "cell_type": "markdown",
   "metadata": {},
   "source": [
    "***\n",
    "$\\mathbf{\\text{Gradient Tree Boosting Algorithm}}$<br>\n",
    "***\n",
    "1.&emsp;Initialize model with a constant value $$f_{0}(x) = \\textrm{arg min}_{\\gamma} \\sum \\limits _{i=1} ^{N} L(y_{i}, \\gamma)$$\n",
    "2.&emsp;For m = 1 to M:<br>\n",
    "&emsp;&emsp;(a)&emsp;For $i = 1,2,...,N$ compute<br>\n",
    "    $$r_{im} = - \\displaystyle \\Bigg[\\frac{\\partial L(y_{i}, f(x_{i}))}{\\partial f(x_{i})}\\Bigg]_{f=f_{m−1}}$$\n",
    "&emsp;&emsp;(b)&emsp;Fit a regression tree to the targets $r_{im}$ giving terminal regions<br>\n",
    "&emsp;&emsp;&emsp;&emsp;$R_{jm}, j = 1, 2, . . . , J_{m}.$<br><br>\n",
    "&emsp;&emsp;(c)&emsp;For $j = 1, 2, . . . , J_{m}$ compute<br>\n",
    "$$\\gamma_{jm} = \\underset{\\gamma}{\\textrm{arg min}} \\sum \\limits _{x_{i} \\in R_{jm}} L(y_{i}, f_{m−1}(x_{i}) + \\gamma)$$\n",
    "<br>\n",
    "&emsp;&emsp;(d)&emsp;Update $f_{m}(x) = f_{m−1}(x) + \\sum _{j=1} ^{J_{m}} \\gamma_{jm} I(x \\in R_{jm})$<br><br>\n",
    "3. Output $\\hat{f}(x) = f_{M}(x)$\n",
    "***"
   ]
  },
  {
   "cell_type": "markdown",
   "metadata": {},
   "source": [
    "$\\hat{Y} = \\hat{\\beta}_{0} + \\sum \\limits _{j=1} ^{p} X_{j}\\hat{\\beta}_{j} $"
   ]
  },
  {
   "cell_type": "markdown",
   "metadata": {},
   "source": [
    "Output $\\hat{f}(x) = f_{M}(x)$"
   ]
  },
  {
   "cell_type": "code",
   "execution_count": null,
   "metadata": {},
   "outputs": [],
   "source": [
    "%%render symbolic\n",
    "v_rec = 0\n",
    "t_o = 0\n",
    "z = 0\n",
    "R_0 =9\n",
    "GR = v_rec*t_o*z \n",
    "\n",
    "= (c / R_0) "
   ]
  }
 ],
 "metadata": {
  "kernelspec": {
   "display_name": "Python 3",
   "language": "python",
   "name": "python3"
  },
  "language_info": {
   "codemirror_mode": {
    "name": "ipython",
    "version": 3
   },
   "file_extension": ".py",
   "mimetype": "text/x-python",
   "name": "python",
   "nbconvert_exporter": "python",
   "pygments_lexer": "ipython3",
   "version": "3.7.3"
  }
 },
 "nbformat": 4,
 "nbformat_minor": 4
}
